{
 "cells": [
  {
   "cell_type": "markdown",
   "metadata": {},
   "source": [
    "# Lead Scoring Case Study"
   ]
  },
  {
   "cell_type": "markdown",
   "metadata": {},
   "source": [
    "#### Problem Statement\n",
    "An education company named X Education sells online courses to industry professionals. On any given day, many professionals who are interested in the courses land on their website and browse for courses. <br>\n",
    "The company markets its courses on several websites and search engines like Google. Once these people land on the website, they might browse the courses or fill up a form for the course or watch some videos. When these people fill up a form providing their email address or phone number, they are classified to be a lead. Moreover, the company also gets leads through past referrals. Once these leads are acquired, employees from the sales team start making calls, writing emails, etc. Through this process, some of the leads get converted while most do not. The typical lead conversion rate at X education is around 30%. <br>\n",
    "Now, although X Education gets a lot of leads, its lead conversion rate is very poor. For example, if, say, they acquire 100 leads in a day, only about 30 of them are converted. To make this process more efficient, the company wishes to identify the most potential leads, also known as ‘Hot Leads’. If they successfully identify this set of leads, the lead conversion rate should go up as the sales team will now be focusing more on communicating with the potential leads rather than making calls to everyone. "
   ]
  },
  {
   "cell_type": "markdown",
   "metadata": {},
   "source": [
    "#### Business Problem\n",
    "X Education has appointed you to help them select the most promising leads, i.e. the leads that are most likely to convert into paying customers. The company requires you to build a model wherein you need to assign a lead score to each of the leads such that the customers with higher lead score have a higher conversion chance and the customers with lower lead score have a lower conversion chance. <br> The CEO, in particular, has given a ballpark of the target lead conversion rate to be around `80%.`"
   ]
  },
  {
   "cell_type": "markdown",
   "metadata": {},
   "source": [
    "#### Data Analysis Goals\n",
    "1. Build a logistic regression model to assign a lead score between 0 and 100 to each of the leads which can be used by the company to target potential leads. A higher score would mean that the lead is hot, i.e. is most likely to convert whereas a lower score would mean that the lead is cold and will mostly not get converted.\n",
    "\n",
    "2. There are some more problems presented by the company which your model should be able to adjust to if the company's requirement changes in the future so you will need to handle these as well."
   ]
  },
  {
   "cell_type": "code",
   "execution_count": null,
   "metadata": {},
   "outputs": [],
   "source": []
  },
  {
   "cell_type": "markdown",
   "metadata": {},
   "source": [
    "## 1. Package and Data Import"
   ]
  },
  {
   "cell_type": "code",
   "execution_count": 542,
   "metadata": {},
   "outputs": [],
   "source": [
    "# Importing the required packages\n",
    "\n",
    "import numpy as np\n",
    "import pandas as pd\n",
    "\n",
    "import matplotlib.pyplot as plt\n",
    "import seaborn as sns\n",
    "\n",
    "import warnings\n",
    "warnings.filterwarnings('ignore')"
   ]
  },
  {
   "cell_type": "code",
   "execution_count": 543,
   "metadata": {},
   "outputs": [
    {
     "data": {
      "text/html": [
       "<div>\n",
       "<style scoped>\n",
       "    .dataframe tbody tr th:only-of-type {\n",
       "        vertical-align: middle;\n",
       "    }\n",
       "\n",
       "    .dataframe tbody tr th {\n",
       "        vertical-align: top;\n",
       "    }\n",
       "\n",
       "    .dataframe thead th {\n",
       "        text-align: right;\n",
       "    }\n",
       "</style>\n",
       "<table border=\"1\" class=\"dataframe\">\n",
       "  <thead>\n",
       "    <tr style=\"text-align: right;\">\n",
       "      <th></th>\n",
       "      <th>Prospect ID</th>\n",
       "      <th>Lead Number</th>\n",
       "      <th>Lead Origin</th>\n",
       "      <th>Lead Source</th>\n",
       "      <th>Do Not Email</th>\n",
       "      <th>Do Not Call</th>\n",
       "      <th>Converted</th>\n",
       "      <th>TotalVisits</th>\n",
       "      <th>Total Time Spent on Website</th>\n",
       "      <th>Page Views Per Visit</th>\n",
       "      <th>...</th>\n",
       "      <th>Get updates on DM Content</th>\n",
       "      <th>Lead Profile</th>\n",
       "      <th>City</th>\n",
       "      <th>Asymmetrique Activity Index</th>\n",
       "      <th>Asymmetrique Profile Index</th>\n",
       "      <th>Asymmetrique Activity Score</th>\n",
       "      <th>Asymmetrique Profile Score</th>\n",
       "      <th>I agree to pay the amount through cheque</th>\n",
       "      <th>A free copy of Mastering The Interview</th>\n",
       "      <th>Last Notable Activity</th>\n",
       "    </tr>\n",
       "  </thead>\n",
       "  <tbody>\n",
       "    <tr>\n",
       "      <th>0</th>\n",
       "      <td>7927b2df-8bba-4d29-b9a2-b6e0beafe620</td>\n",
       "      <td>660737</td>\n",
       "      <td>API</td>\n",
       "      <td>Olark Chat</td>\n",
       "      <td>No</td>\n",
       "      <td>No</td>\n",
       "      <td>0</td>\n",
       "      <td>0.0</td>\n",
       "      <td>0</td>\n",
       "      <td>0.0</td>\n",
       "      <td>...</td>\n",
       "      <td>No</td>\n",
       "      <td>Select</td>\n",
       "      <td>Select</td>\n",
       "      <td>02.Medium</td>\n",
       "      <td>02.Medium</td>\n",
       "      <td>15.0</td>\n",
       "      <td>15.0</td>\n",
       "      <td>No</td>\n",
       "      <td>No</td>\n",
       "      <td>Modified</td>\n",
       "    </tr>\n",
       "    <tr>\n",
       "      <th>1</th>\n",
       "      <td>2a272436-5132-4136-86fa-dcc88c88f482</td>\n",
       "      <td>660728</td>\n",
       "      <td>API</td>\n",
       "      <td>Organic Search</td>\n",
       "      <td>No</td>\n",
       "      <td>No</td>\n",
       "      <td>0</td>\n",
       "      <td>5.0</td>\n",
       "      <td>674</td>\n",
       "      <td>2.5</td>\n",
       "      <td>...</td>\n",
       "      <td>No</td>\n",
       "      <td>Select</td>\n",
       "      <td>Select</td>\n",
       "      <td>02.Medium</td>\n",
       "      <td>02.Medium</td>\n",
       "      <td>15.0</td>\n",
       "      <td>15.0</td>\n",
       "      <td>No</td>\n",
       "      <td>No</td>\n",
       "      <td>Email Opened</td>\n",
       "    </tr>\n",
       "    <tr>\n",
       "      <th>2</th>\n",
       "      <td>8cc8c611-a219-4f35-ad23-fdfd2656bd8a</td>\n",
       "      <td>660727</td>\n",
       "      <td>Landing Page Submission</td>\n",
       "      <td>Direct Traffic</td>\n",
       "      <td>No</td>\n",
       "      <td>No</td>\n",
       "      <td>1</td>\n",
       "      <td>2.0</td>\n",
       "      <td>1532</td>\n",
       "      <td>2.0</td>\n",
       "      <td>...</td>\n",
       "      <td>No</td>\n",
       "      <td>Potential Lead</td>\n",
       "      <td>Mumbai</td>\n",
       "      <td>02.Medium</td>\n",
       "      <td>01.High</td>\n",
       "      <td>14.0</td>\n",
       "      <td>20.0</td>\n",
       "      <td>No</td>\n",
       "      <td>Yes</td>\n",
       "      <td>Email Opened</td>\n",
       "    </tr>\n",
       "    <tr>\n",
       "      <th>3</th>\n",
       "      <td>0cc2df48-7cf4-4e39-9de9-19797f9b38cc</td>\n",
       "      <td>660719</td>\n",
       "      <td>Landing Page Submission</td>\n",
       "      <td>Direct Traffic</td>\n",
       "      <td>No</td>\n",
       "      <td>No</td>\n",
       "      <td>0</td>\n",
       "      <td>1.0</td>\n",
       "      <td>305</td>\n",
       "      <td>1.0</td>\n",
       "      <td>...</td>\n",
       "      <td>No</td>\n",
       "      <td>Select</td>\n",
       "      <td>Mumbai</td>\n",
       "      <td>02.Medium</td>\n",
       "      <td>01.High</td>\n",
       "      <td>13.0</td>\n",
       "      <td>17.0</td>\n",
       "      <td>No</td>\n",
       "      <td>No</td>\n",
       "      <td>Modified</td>\n",
       "    </tr>\n",
       "    <tr>\n",
       "      <th>4</th>\n",
       "      <td>3256f628-e534-4826-9d63-4a8b88782852</td>\n",
       "      <td>660681</td>\n",
       "      <td>Landing Page Submission</td>\n",
       "      <td>Google</td>\n",
       "      <td>No</td>\n",
       "      <td>No</td>\n",
       "      <td>1</td>\n",
       "      <td>2.0</td>\n",
       "      <td>1428</td>\n",
       "      <td>1.0</td>\n",
       "      <td>...</td>\n",
       "      <td>No</td>\n",
       "      <td>Select</td>\n",
       "      <td>Mumbai</td>\n",
       "      <td>02.Medium</td>\n",
       "      <td>01.High</td>\n",
       "      <td>15.0</td>\n",
       "      <td>18.0</td>\n",
       "      <td>No</td>\n",
       "      <td>No</td>\n",
       "      <td>Modified</td>\n",
       "    </tr>\n",
       "  </tbody>\n",
       "</table>\n",
       "<p>5 rows × 37 columns</p>\n",
       "</div>"
      ],
      "text/plain": [
       "                            Prospect ID  Lead Number              Lead Origin  \\\n",
       "0  7927b2df-8bba-4d29-b9a2-b6e0beafe620       660737                      API   \n",
       "1  2a272436-5132-4136-86fa-dcc88c88f482       660728                      API   \n",
       "2  8cc8c611-a219-4f35-ad23-fdfd2656bd8a       660727  Landing Page Submission   \n",
       "3  0cc2df48-7cf4-4e39-9de9-19797f9b38cc       660719  Landing Page Submission   \n",
       "4  3256f628-e534-4826-9d63-4a8b88782852       660681  Landing Page Submission   \n",
       "\n",
       "      Lead Source Do Not Email Do Not Call  Converted  TotalVisits  \\\n",
       "0      Olark Chat           No          No          0          0.0   \n",
       "1  Organic Search           No          No          0          5.0   \n",
       "2  Direct Traffic           No          No          1          2.0   \n",
       "3  Direct Traffic           No          No          0          1.0   \n",
       "4          Google           No          No          1          2.0   \n",
       "\n",
       "   Total Time Spent on Website  Page Views Per Visit  ...  \\\n",
       "0                            0                   0.0  ...   \n",
       "1                          674                   2.5  ...   \n",
       "2                         1532                   2.0  ...   \n",
       "3                          305                   1.0  ...   \n",
       "4                         1428                   1.0  ...   \n",
       "\n",
       "  Get updates on DM Content    Lead Profile    City  \\\n",
       "0                        No          Select  Select   \n",
       "1                        No          Select  Select   \n",
       "2                        No  Potential Lead  Mumbai   \n",
       "3                        No          Select  Mumbai   \n",
       "4                        No          Select  Mumbai   \n",
       "\n",
       "  Asymmetrique Activity Index Asymmetrique Profile Index  \\\n",
       "0                   02.Medium                  02.Medium   \n",
       "1                   02.Medium                  02.Medium   \n",
       "2                   02.Medium                    01.High   \n",
       "3                   02.Medium                    01.High   \n",
       "4                   02.Medium                    01.High   \n",
       "\n",
       "  Asymmetrique Activity Score Asymmetrique Profile Score  \\\n",
       "0                        15.0                       15.0   \n",
       "1                        15.0                       15.0   \n",
       "2                        14.0                       20.0   \n",
       "3                        13.0                       17.0   \n",
       "4                        15.0                       18.0   \n",
       "\n",
       "  I agree to pay the amount through cheque  \\\n",
       "0                                       No   \n",
       "1                                       No   \n",
       "2                                       No   \n",
       "3                                       No   \n",
       "4                                       No   \n",
       "\n",
       "  A free copy of Mastering The Interview Last Notable Activity  \n",
       "0                                     No              Modified  \n",
       "1                                     No          Email Opened  \n",
       "2                                    Yes          Email Opened  \n",
       "3                                     No              Modified  \n",
       "4                                     No              Modified  \n",
       "\n",
       "[5 rows x 37 columns]"
      ]
     },
     "execution_count": 543,
     "metadata": {},
     "output_type": "execute_result"
    }
   ],
   "source": [
    "# Importing the data\n",
    "\n",
    "leads = pd.read_csv('Leads.csv')\n",
    "leads.head()"
   ]
  },
  {
   "cell_type": "code",
   "execution_count": null,
   "metadata": {},
   "outputs": [],
   "source": []
  },
  {
   "cell_type": "markdown",
   "metadata": {},
   "source": [
    "## 2. Inspecting the Data"
   ]
  },
  {
   "cell_type": "code",
   "execution_count": 544,
   "metadata": {},
   "outputs": [
    {
     "data": {
      "text/plain": [
       "(9240, 37)"
      ]
     },
     "execution_count": 544,
     "metadata": {},
     "output_type": "execute_result"
    }
   ],
   "source": [
    "# Shape\n",
    "\n",
    "leads.shape"
   ]
  },
  {
   "cell_type": "code",
   "execution_count": 545,
   "metadata": {},
   "outputs": [
    {
     "name": "stdout",
     "output_type": "stream",
     "text": [
      "<class 'pandas.core.frame.DataFrame'>\n",
      "RangeIndex: 9240 entries, 0 to 9239\n",
      "Data columns (total 37 columns):\n",
      " #   Column                                         Non-Null Count  Dtype  \n",
      "---  ------                                         --------------  -----  \n",
      " 0   Prospect ID                                    9240 non-null   object \n",
      " 1   Lead Number                                    9240 non-null   int64  \n",
      " 2   Lead Origin                                    9240 non-null   object \n",
      " 3   Lead Source                                    9204 non-null   object \n",
      " 4   Do Not Email                                   9240 non-null   object \n",
      " 5   Do Not Call                                    9240 non-null   object \n",
      " 6   Converted                                      9240 non-null   int64  \n",
      " 7   TotalVisits                                    9103 non-null   float64\n",
      " 8   Total Time Spent on Website                    9240 non-null   int64  \n",
      " 9   Page Views Per Visit                           9103 non-null   float64\n",
      " 10  Last Activity                                  9137 non-null   object \n",
      " 11  Country                                        6779 non-null   object \n",
      " 12  Specialization                                 7802 non-null   object \n",
      " 13  How did you hear about X Education             7033 non-null   object \n",
      " 14  What is your current occupation                6550 non-null   object \n",
      " 15  What matters most to you in choosing a course  6531 non-null   object \n",
      " 16  Search                                         9240 non-null   object \n",
      " 17  Magazine                                       9240 non-null   object \n",
      " 18  Newspaper Article                              9240 non-null   object \n",
      " 19  X Education Forums                             9240 non-null   object \n",
      " 20  Newspaper                                      9240 non-null   object \n",
      " 21  Digital Advertisement                          9240 non-null   object \n",
      " 22  Through Recommendations                        9240 non-null   object \n",
      " 23  Receive More Updates About Our Courses         9240 non-null   object \n",
      " 24  Tags                                           5887 non-null   object \n",
      " 25  Lead Quality                                   4473 non-null   object \n",
      " 26  Update me on Supply Chain Content              9240 non-null   object \n",
      " 27  Get updates on DM Content                      9240 non-null   object \n",
      " 28  Lead Profile                                   6531 non-null   object \n",
      " 29  City                                           7820 non-null   object \n",
      " 30  Asymmetrique Activity Index                    5022 non-null   object \n",
      " 31  Asymmetrique Profile Index                     5022 non-null   object \n",
      " 32  Asymmetrique Activity Score                    5022 non-null   float64\n",
      " 33  Asymmetrique Profile Score                     5022 non-null   float64\n",
      " 34  I agree to pay the amount through cheque       9240 non-null   object \n",
      " 35  A free copy of Mastering The Interview         9240 non-null   object \n",
      " 36  Last Notable Activity                          9240 non-null   object \n",
      "dtypes: float64(4), int64(3), object(30)\n",
      "memory usage: 2.6+ MB\n"
     ]
    }
   ],
   "source": [
    "# Info\n",
    "\n",
    "leads.info()"
   ]
  },
  {
   "cell_type": "markdown",
   "metadata": {},
   "source": [
    "Many of the variables have data missing."
   ]
  },
  {
   "cell_type": "code",
   "execution_count": 546,
   "metadata": {},
   "outputs": [
    {
     "data": {
      "text/html": [
       "<div>\n",
       "<style scoped>\n",
       "    .dataframe tbody tr th:only-of-type {\n",
       "        vertical-align: middle;\n",
       "    }\n",
       "\n",
       "    .dataframe tbody tr th {\n",
       "        vertical-align: top;\n",
       "    }\n",
       "\n",
       "    .dataframe thead th {\n",
       "        text-align: right;\n",
       "    }\n",
       "</style>\n",
       "<table border=\"1\" class=\"dataframe\">\n",
       "  <thead>\n",
       "    <tr style=\"text-align: right;\">\n",
       "      <th></th>\n",
       "      <th>Lead Number</th>\n",
       "      <th>Converted</th>\n",
       "      <th>TotalVisits</th>\n",
       "      <th>Total Time Spent on Website</th>\n",
       "      <th>Page Views Per Visit</th>\n",
       "      <th>Asymmetrique Activity Score</th>\n",
       "      <th>Asymmetrique Profile Score</th>\n",
       "    </tr>\n",
       "  </thead>\n",
       "  <tbody>\n",
       "    <tr>\n",
       "      <th>count</th>\n",
       "      <td>9240.000000</td>\n",
       "      <td>9240.000000</td>\n",
       "      <td>9103.000000</td>\n",
       "      <td>9240.000000</td>\n",
       "      <td>9103.000000</td>\n",
       "      <td>5022.000000</td>\n",
       "      <td>5022.000000</td>\n",
       "    </tr>\n",
       "    <tr>\n",
       "      <th>mean</th>\n",
       "      <td>617188.435606</td>\n",
       "      <td>0.385390</td>\n",
       "      <td>3.445238</td>\n",
       "      <td>487.698268</td>\n",
       "      <td>2.362820</td>\n",
       "      <td>14.306252</td>\n",
       "      <td>16.344883</td>\n",
       "    </tr>\n",
       "    <tr>\n",
       "      <th>std</th>\n",
       "      <td>23405.995698</td>\n",
       "      <td>0.486714</td>\n",
       "      <td>4.854853</td>\n",
       "      <td>548.021466</td>\n",
       "      <td>2.161418</td>\n",
       "      <td>1.386694</td>\n",
       "      <td>1.811395</td>\n",
       "    </tr>\n",
       "    <tr>\n",
       "      <th>min</th>\n",
       "      <td>579533.000000</td>\n",
       "      <td>0.000000</td>\n",
       "      <td>0.000000</td>\n",
       "      <td>0.000000</td>\n",
       "      <td>0.000000</td>\n",
       "      <td>7.000000</td>\n",
       "      <td>11.000000</td>\n",
       "    </tr>\n",
       "    <tr>\n",
       "      <th>25%</th>\n",
       "      <td>596484.500000</td>\n",
       "      <td>0.000000</td>\n",
       "      <td>1.000000</td>\n",
       "      <td>12.000000</td>\n",
       "      <td>1.000000</td>\n",
       "      <td>14.000000</td>\n",
       "      <td>15.000000</td>\n",
       "    </tr>\n",
       "    <tr>\n",
       "      <th>50%</th>\n",
       "      <td>615479.000000</td>\n",
       "      <td>0.000000</td>\n",
       "      <td>3.000000</td>\n",
       "      <td>248.000000</td>\n",
       "      <td>2.000000</td>\n",
       "      <td>14.000000</td>\n",
       "      <td>16.000000</td>\n",
       "    </tr>\n",
       "    <tr>\n",
       "      <th>75%</th>\n",
       "      <td>637387.250000</td>\n",
       "      <td>1.000000</td>\n",
       "      <td>5.000000</td>\n",
       "      <td>936.000000</td>\n",
       "      <td>3.000000</td>\n",
       "      <td>15.000000</td>\n",
       "      <td>18.000000</td>\n",
       "    </tr>\n",
       "    <tr>\n",
       "      <th>max</th>\n",
       "      <td>660737.000000</td>\n",
       "      <td>1.000000</td>\n",
       "      <td>251.000000</td>\n",
       "      <td>2272.000000</td>\n",
       "      <td>55.000000</td>\n",
       "      <td>18.000000</td>\n",
       "      <td>20.000000</td>\n",
       "    </tr>\n",
       "  </tbody>\n",
       "</table>\n",
       "</div>"
      ],
      "text/plain": [
       "         Lead Number    Converted  TotalVisits  Total Time Spent on Website  \\\n",
       "count    9240.000000  9240.000000  9103.000000                  9240.000000   \n",
       "mean   617188.435606     0.385390     3.445238                   487.698268   \n",
       "std     23405.995698     0.486714     4.854853                   548.021466   \n",
       "min    579533.000000     0.000000     0.000000                     0.000000   \n",
       "25%    596484.500000     0.000000     1.000000                    12.000000   \n",
       "50%    615479.000000     0.000000     3.000000                   248.000000   \n",
       "75%    637387.250000     1.000000     5.000000                   936.000000   \n",
       "max    660737.000000     1.000000   251.000000                  2272.000000   \n",
       "\n",
       "       Page Views Per Visit  Asymmetrique Activity Score  \\\n",
       "count           9103.000000                  5022.000000   \n",
       "mean               2.362820                    14.306252   \n",
       "std                2.161418                     1.386694   \n",
       "min                0.000000                     7.000000   \n",
       "25%                1.000000                    14.000000   \n",
       "50%                2.000000                    14.000000   \n",
       "75%                3.000000                    15.000000   \n",
       "max               55.000000                    18.000000   \n",
       "\n",
       "       Asymmetrique Profile Score  \n",
       "count                 5022.000000  \n",
       "mean                    16.344883  \n",
       "std                      1.811395  \n",
       "min                     11.000000  \n",
       "25%                     15.000000  \n",
       "50%                     16.000000  \n",
       "75%                     18.000000  \n",
       "max                     20.000000  "
      ]
     },
     "execution_count": 546,
     "metadata": {},
     "output_type": "execute_result"
    }
   ],
   "source": [
    "# Description\n",
    "\n",
    "leads.describe()"
   ]
  },
  {
   "cell_type": "code",
   "execution_count": null,
   "metadata": {},
   "outputs": [],
   "source": []
  },
  {
   "cell_type": "markdown",
   "metadata": {},
   "source": [
    "## 3. Understanding the Data"
   ]
  },
  {
   "cell_type": "code",
   "execution_count": 547,
   "metadata": {},
   "outputs": [
    {
     "data": {
      "text/plain": [
       "Index(['Prospect ID', 'Lead Number', 'Lead Origin', 'Lead Source',\n",
       "       'Do Not Email', 'Do Not Call', 'Converted', 'TotalVisits',\n",
       "       'Total Time Spent on Website', 'Page Views Per Visit', 'Last Activity',\n",
       "       'Country', 'Specialization', 'How did you hear about X Education',\n",
       "       'What is your current occupation',\n",
       "       'What matters most to you in choosing a course', 'Search', 'Magazine',\n",
       "       'Newspaper Article', 'X Education Forums', 'Newspaper',\n",
       "       'Digital Advertisement', 'Through Recommendations',\n",
       "       'Receive More Updates About Our Courses', 'Tags', 'Lead Quality',\n",
       "       'Update me on Supply Chain Content', 'Get updates on DM Content',\n",
       "       'Lead Profile', 'City', 'Asymmetrique Activity Index',\n",
       "       'Asymmetrique Profile Index', 'Asymmetrique Activity Score',\n",
       "       'Asymmetrique Profile Score',\n",
       "       'I agree to pay the amount through cheque',\n",
       "       'A free copy of Mastering The Interview', 'Last Notable Activity'],\n",
       "      dtype='object')"
      ]
     },
     "execution_count": 547,
     "metadata": {},
     "output_type": "execute_result"
    }
   ],
   "source": [
    "# Columns \n",
    "\n",
    "leads.columns"
   ]
  },
  {
   "cell_type": "markdown",
   "metadata": {},
   "source": [
    "`Converted` is our target variable. 1 means it was converted and 0 means it wasn't converted."
   ]
  },
  {
   "cell_type": "markdown",
   "metadata": {},
   "source": [
    "## 4. Data Cleaning"
   ]
  },
  {
   "cell_type": "markdown",
   "metadata": {},
   "source": [
    "### 4.1 Check for Duplicates\n",
    "Prospect ID is the unique identifier for each customers and we will use this feature to check for duplicates."
   ]
  },
  {
   "cell_type": "code",
   "execution_count": 548,
   "metadata": {},
   "outputs": [
    {
     "data": {
      "text/html": [
       "<div>\n",
       "<style scoped>\n",
       "    .dataframe tbody tr th:only-of-type {\n",
       "        vertical-align: middle;\n",
       "    }\n",
       "\n",
       "    .dataframe tbody tr th {\n",
       "        vertical-align: top;\n",
       "    }\n",
       "\n",
       "    .dataframe thead th {\n",
       "        text-align: right;\n",
       "    }\n",
       "</style>\n",
       "<table border=\"1\" class=\"dataframe\">\n",
       "  <thead>\n",
       "    <tr style=\"text-align: right;\">\n",
       "      <th></th>\n",
       "      <th>Prospect ID</th>\n",
       "      <th>Lead Number</th>\n",
       "      <th>Lead Origin</th>\n",
       "      <th>Lead Source</th>\n",
       "      <th>Do Not Email</th>\n",
       "      <th>Do Not Call</th>\n",
       "      <th>Converted</th>\n",
       "      <th>TotalVisits</th>\n",
       "      <th>Total Time Spent on Website</th>\n",
       "      <th>Page Views Per Visit</th>\n",
       "      <th>...</th>\n",
       "      <th>Get updates on DM Content</th>\n",
       "      <th>Lead Profile</th>\n",
       "      <th>City</th>\n",
       "      <th>Asymmetrique Activity Index</th>\n",
       "      <th>Asymmetrique Profile Index</th>\n",
       "      <th>Asymmetrique Activity Score</th>\n",
       "      <th>Asymmetrique Profile Score</th>\n",
       "      <th>I agree to pay the amount through cheque</th>\n",
       "      <th>A free copy of Mastering The Interview</th>\n",
       "      <th>Last Notable Activity</th>\n",
       "    </tr>\n",
       "  </thead>\n",
       "  <tbody>\n",
       "  </tbody>\n",
       "</table>\n",
       "<p>0 rows × 37 columns</p>\n",
       "</div>"
      ],
      "text/plain": [
       "Empty DataFrame\n",
       "Columns: [Prospect ID, Lead Number, Lead Origin, Lead Source, Do Not Email, Do Not Call, Converted, TotalVisits, Total Time Spent on Website, Page Views Per Visit, Last Activity, Country, Specialization, How did you hear about X Education, What is your current occupation, What matters most to you in choosing a course, Search, Magazine, Newspaper Article, X Education Forums, Newspaper, Digital Advertisement, Through Recommendations, Receive More Updates About Our Courses, Tags, Lead Quality, Update me on Supply Chain Content, Get updates on DM Content, Lead Profile, City, Asymmetrique Activity Index, Asymmetrique Profile Index, Asymmetrique Activity Score, Asymmetrique Profile Score, I agree to pay the amount through cheque, A free copy of Mastering The Interview, Last Notable Activity]\n",
       "Index: []\n",
       "\n",
       "[0 rows x 37 columns]"
      ]
     },
     "execution_count": 548,
     "metadata": {},
     "output_type": "execute_result"
    }
   ],
   "source": [
    "# Checking for duplicates\n",
    "\n",
    "leads[leads.duplicated(subset= 'Prospect ID')]"
   ]
  },
  {
   "cell_type": "markdown",
   "metadata": {},
   "source": [
    "There are no duplicates present."
   ]
  },
  {
   "cell_type": "markdown",
   "metadata": {},
   "source": [
    "### 4.2 Wrong Values\n",
    "\n",
    "*Another thing that you also need to check out for are the levels present in the categorical variables. Many of the categorical variables have a level called 'Select' which needs to be handled because it is as good as a null value* \n",
    "\n",
    "There are some categorical variables that have a level called 'Select'. Very often, in forms displayed on websites, Select is the default option. And when the user submits the form without selecting anything else, the value that gets submitted is 'Select'. <br>\n",
    "\n",
    "`Impute these values with NaN`"
   ]
  },
  {
   "cell_type": "code",
   "execution_count": 549,
   "metadata": {},
   "outputs": [],
   "source": [
    "# Imputation\n",
    "\n",
    "leads = leads.replace('Select', np.nan)"
   ]
  },
  {
   "cell_type": "markdown",
   "metadata": {},
   "source": [
    "### 4.3 Missing Values"
   ]
  },
  {
   "cell_type": "code",
   "execution_count": 550,
   "metadata": {},
   "outputs": [],
   "source": [
    "# Defining a function\n",
    "\n",
    "def nan_values(df, threshold=0):\n",
    "    x = round(df.isna().mean()*100, 2).sort_values(ascending=False)\n",
    "    return x[x>threshold]\n"
   ]
  },
  {
   "cell_type": "code",
   "execution_count": 551,
   "metadata": {},
   "outputs": [
    {
     "name": "stdout",
     "output_type": "stream",
     "text": [
      "\n",
      "The following columns have more than 15% of their values missing:\n"
     ]
    },
    {
     "data": {
      "text/plain": [
       "How did you hear about X Education               78.46\n",
       "Lead Profile                                     74.19\n",
       "Lead Quality                                     51.59\n",
       "Asymmetrique Profile Score                       45.65\n",
       "Asymmetrique Activity Score                      45.65\n",
       "Asymmetrique Profile Index                       45.65\n",
       "Asymmetrique Activity Index                      45.65\n",
       "City                                             39.71\n",
       "Specialization                                   36.58\n",
       "Tags                                             36.29\n",
       "What matters most to you in choosing a course    29.32\n",
       "What is your current occupation                  29.11\n",
       "Country                                          26.63\n",
       "dtype: float64"
      ]
     },
     "execution_count": 551,
     "metadata": {},
     "output_type": "execute_result"
    }
   ],
   "source": [
    "# Running the function\n",
    "\n",
    "# Columns with more than 15% of their values missing\n",
    "\n",
    "print(\"\")\n",
    "print('The following columns have more than 15% of their values missing:')\n",
    "nan_values(leads, 15)"
   ]
  },
  {
   "cell_type": "markdown",
   "metadata": {},
   "source": [
    "##### How did you hear about X Education & Lead Profile\n",
    "These two variables have more than 70% of their data missing. They won't help us in our analysis in anyway. Therefore, we can drop them. `Drop`"
   ]
  },
  {
   "cell_type": "code",
   "execution_count": 552,
   "metadata": {},
   "outputs": [
    {
     "name": "stdout",
     "output_type": "stream",
     "text": [
      "(9240, 37)\n",
      "(9240, 35)\n"
     ]
    }
   ],
   "source": [
    "# Drop\n",
    "\n",
    "drop_list = ['How did you hear about X Education', 'Lead Profile']\n",
    "\n",
    "print(leads.shape)\n",
    "leads.drop(drop_list, axis=1, inplace=True)\n",
    "print(leads.shape)"
   ]
  },
  {
   "cell_type": "markdown",
   "metadata": {},
   "source": [
    "#####  Lead Quality\n",
    "\n",
    "Indicates the quality of lead based on the data and intuition the the employee who has been assigned to the lead. This column has more than 50% of it's values missing."
   ]
  },
  {
   "cell_type": "code",
   "execution_count": 553,
   "metadata": {},
   "outputs": [
    {
     "data": {
      "text/plain": [
       "Might be             1560\n",
       "Not Sure             1092\n",
       "High in Relevance     637\n",
       "Worst                 601\n",
       "Low in Relevance      583\n",
       "Name: Lead Quality, dtype: int64"
      ]
     },
     "execution_count": 553,
     "metadata": {},
     "output_type": "execute_result"
    }
   ],
   "source": [
    "# Lead Quality\n",
    "\n",
    "leads['Lead Quality'].value_counts()"
   ]
  },
  {
   "cell_type": "code",
   "execution_count": 554,
   "metadata": {},
   "outputs": [
    {
     "data": {
      "text/plain": [
       "1    94.66248\n",
       "0     5.33752\n",
       "Name: Converted, dtype: float64"
      ]
     },
     "execution_count": 554,
     "metadata": {},
     "output_type": "execute_result"
    }
   ],
   "source": [
    "# \n",
    "\n",
    "leads[leads['Lead Quality'] == 'High in Relevance'].Converted.value_counts(normalize=True)*100"
   ]
  },
  {
   "cell_type": "markdown",
   "metadata": {},
   "source": [
    "Close to 95% of all the leads that were categorised as 'High in Relevance' eventually converted. This could be a good feature to help classify hot leads."
   ]
  },
  {
   "cell_type": "code",
   "execution_count": 555,
   "metadata": {},
   "outputs": [
    {
     "data": {
      "text/plain": [
       "0    98.003328\n",
       "1     1.996672\n",
       "Name: Converted, dtype: float64"
      ]
     },
     "execution_count": 555,
     "metadata": {},
     "output_type": "execute_result"
    }
   ],
   "source": [
    "#\n",
    "\n",
    "\n",
    "leads[leads['Lead Quality'] == 'Worst'].Converted.value_counts(normalize=True)*100"
   ]
  },
  {
   "cell_type": "markdown",
   "metadata": {},
   "source": [
    "98% of the leads that were categorised as 'Worst' eventually didn't convert. "
   ]
  },
  {
   "cell_type": "code",
   "execution_count": 556,
   "metadata": {},
   "outputs": [
    {
     "data": {
      "text/plain": [
       "Might be             1560\n",
       "Not Sure             1092\n",
       "High in Relevance     637\n",
       "Worst                 601\n",
       "Low in Relevance      583\n",
       "Name: Lead Quality, dtype: int64"
      ]
     },
     "execution_count": 556,
     "metadata": {},
     "output_type": "execute_result"
    }
   ],
   "source": [
    "# \n",
    "\n",
    "leads['Lead Quality'].value_counts()"
   ]
  },
  {
   "cell_type": "markdown",
   "metadata": {},
   "source": [
    "As we see above, we can't drop this feature as it could have some relevance in our model. As this column is based off the intuition of the employee, we can impute the value 'Not Sure' in place of missing values as it already exists in the feature."
   ]
  },
  {
   "cell_type": "code",
   "execution_count": 557,
   "metadata": {},
   "outputs": [
    {
     "data": {
      "text/plain": [
       "Not Sure             5859\n",
       "Might be             1560\n",
       "High in Relevance     637\n",
       "Worst                 601\n",
       "Low in Relevance      583\n",
       "Name: Lead Quality, dtype: int64"
      ]
     },
     "execution_count": 557,
     "metadata": {},
     "output_type": "execute_result"
    }
   ],
   "source": [
    "# Imputation\n",
    "\n",
    "leads['Lead Quality'].fillna('Not Sure', inplace=True)\n",
    "leads['Lead Quality'].value_counts()"
   ]
  },
  {
   "cell_type": "code",
   "execution_count": null,
   "metadata": {},
   "outputs": [],
   "source": []
  },
  {
   "cell_type": "markdown",
   "metadata": {},
   "source": [
    "##### Asymmetrique Profile Score\n",
    "An index and score assigned to each customer based on their activity and their profile"
   ]
  },
  {
   "cell_type": "code",
   "execution_count": 558,
   "metadata": {},
   "outputs": [
    {
     "data": {
      "text/plain": [
       "dtype('float64')"
      ]
     },
     "execution_count": 558,
     "metadata": {},
     "output_type": "execute_result"
    }
   ],
   "source": [
    "# Checking the dtype\n",
    "\n",
    "\n",
    "leads['Asymmetrique Profile Score'].dtypes"
   ]
  },
  {
   "cell_type": "code",
   "execution_count": 559,
   "metadata": {},
   "outputs": [
    {
     "data": {
      "text/plain": [
       "count    5022.000000\n",
       "mean       16.344883\n",
       "std         1.811395\n",
       "min        11.000000\n",
       "25%        15.000000\n",
       "50%        16.000000\n",
       "75%        18.000000\n",
       "max        20.000000\n",
       "Name: Asymmetrique Profile Score, dtype: float64"
      ]
     },
     "execution_count": 559,
     "metadata": {},
     "output_type": "execute_result"
    }
   ],
   "source": [
    "# \n",
    "\n",
    "leads['Asymmetrique Profile Score'].describe()"
   ]
  },
  {
   "cell_type": "code",
   "execution_count": 560,
   "metadata": {},
   "outputs": [
    {
     "data": {
      "text/plain": [
       "4218"
      ]
     },
     "execution_count": 560,
     "metadata": {},
     "output_type": "execute_result"
    }
   ],
   "source": [
    "len(leads[leads['Asymmetrique Profile Score'].isna()])"
   ]
  },
  {
   "cell_type": "code",
   "execution_count": 561,
   "metadata": {},
   "outputs": [
    {
     "data": {
      "text/html": [
       "<div>\n",
       "<style scoped>\n",
       "    .dataframe tbody tr th:only-of-type {\n",
       "        vertical-align: middle;\n",
       "    }\n",
       "\n",
       "    .dataframe tbody tr th {\n",
       "        vertical-align: top;\n",
       "    }\n",
       "\n",
       "    .dataframe thead th {\n",
       "        text-align: right;\n",
       "    }\n",
       "</style>\n",
       "<table border=\"1\" class=\"dataframe\">\n",
       "  <thead>\n",
       "    <tr style=\"text-align: right;\">\n",
       "      <th></th>\n",
       "      <th>Prospect ID</th>\n",
       "      <th>Lead Number</th>\n",
       "      <th>Lead Origin</th>\n",
       "      <th>Lead Source</th>\n",
       "      <th>Do Not Email</th>\n",
       "      <th>Do Not Call</th>\n",
       "      <th>Converted</th>\n",
       "      <th>TotalVisits</th>\n",
       "      <th>Total Time Spent on Website</th>\n",
       "      <th>Page Views Per Visit</th>\n",
       "      <th>...</th>\n",
       "      <th>Update me on Supply Chain Content</th>\n",
       "      <th>Get updates on DM Content</th>\n",
       "      <th>City</th>\n",
       "      <th>Asymmetrique Activity Index</th>\n",
       "      <th>Asymmetrique Profile Index</th>\n",
       "      <th>Asymmetrique Activity Score</th>\n",
       "      <th>Asymmetrique Profile Score</th>\n",
       "      <th>I agree to pay the amount through cheque</th>\n",
       "      <th>A free copy of Mastering The Interview</th>\n",
       "      <th>Last Notable Activity</th>\n",
       "    </tr>\n",
       "  </thead>\n",
       "  <tbody>\n",
       "    <tr>\n",
       "      <th>963</th>\n",
       "      <td>59718980-d656-4415-baeb-c223ed6abe3a</td>\n",
       "      <td>649981</td>\n",
       "      <td>API</td>\n",
       "      <td>Organic Search</td>\n",
       "      <td>No</td>\n",
       "      <td>No</td>\n",
       "      <td>0</td>\n",
       "      <td>11.0</td>\n",
       "      <td>1166</td>\n",
       "      <td>2.20</td>\n",
       "      <td>...</td>\n",
       "      <td>No</td>\n",
       "      <td>No</td>\n",
       "      <td>NaN</td>\n",
       "      <td>NaN</td>\n",
       "      <td>NaN</td>\n",
       "      <td>NaN</td>\n",
       "      <td>NaN</td>\n",
       "      <td>No</td>\n",
       "      <td>No</td>\n",
       "      <td>Page Visited on Website</td>\n",
       "    </tr>\n",
       "    <tr>\n",
       "      <th>1363</th>\n",
       "      <td>a8a1c41c-a21e-43bb-9120-444d79efff06</td>\n",
       "      <td>645610</td>\n",
       "      <td>API</td>\n",
       "      <td>Direct Traffic</td>\n",
       "      <td>No</td>\n",
       "      <td>No</td>\n",
       "      <td>0</td>\n",
       "      <td>4.0</td>\n",
       "      <td>446</td>\n",
       "      <td>1.33</td>\n",
       "      <td>...</td>\n",
       "      <td>No</td>\n",
       "      <td>No</td>\n",
       "      <td>NaN</td>\n",
       "      <td>NaN</td>\n",
       "      <td>NaN</td>\n",
       "      <td>NaN</td>\n",
       "      <td>NaN</td>\n",
       "      <td>No</td>\n",
       "      <td>No</td>\n",
       "      <td>Email Opened</td>\n",
       "    </tr>\n",
       "    <tr>\n",
       "      <th>1388</th>\n",
       "      <td>a69a81be-f69a-45e0-9857-1f75ec740108</td>\n",
       "      <td>645388</td>\n",
       "      <td>API</td>\n",
       "      <td>Google</td>\n",
       "      <td>No</td>\n",
       "      <td>No</td>\n",
       "      <td>1</td>\n",
       "      <td>2.0</td>\n",
       "      <td>2020</td>\n",
       "      <td>2.00</td>\n",
       "      <td>...</td>\n",
       "      <td>No</td>\n",
       "      <td>No</td>\n",
       "      <td>NaN</td>\n",
       "      <td>NaN</td>\n",
       "      <td>NaN</td>\n",
       "      <td>NaN</td>\n",
       "      <td>NaN</td>\n",
       "      <td>No</td>\n",
       "      <td>No</td>\n",
       "      <td>Email Opened</td>\n",
       "    </tr>\n",
       "    <tr>\n",
       "      <th>1401</th>\n",
       "      <td>4e5cae69-5632-4db3-af8f-7e1b2c9b552e</td>\n",
       "      <td>645333</td>\n",
       "      <td>API</td>\n",
       "      <td>Google</td>\n",
       "      <td>No</td>\n",
       "      <td>No</td>\n",
       "      <td>1</td>\n",
       "      <td>3.0</td>\n",
       "      <td>1459</td>\n",
       "      <td>3.00</td>\n",
       "      <td>...</td>\n",
       "      <td>No</td>\n",
       "      <td>No</td>\n",
       "      <td>NaN</td>\n",
       "      <td>NaN</td>\n",
       "      <td>NaN</td>\n",
       "      <td>NaN</td>\n",
       "      <td>NaN</td>\n",
       "      <td>No</td>\n",
       "      <td>No</td>\n",
       "      <td>Email Opened</td>\n",
       "    </tr>\n",
       "    <tr>\n",
       "      <th>1513</th>\n",
       "      <td>14f31910-89a3-4f38-b803-dbb57999ae44</td>\n",
       "      <td>644225</td>\n",
       "      <td>API</td>\n",
       "      <td>Google</td>\n",
       "      <td>No</td>\n",
       "      <td>No</td>\n",
       "      <td>0</td>\n",
       "      <td>6.0</td>\n",
       "      <td>481</td>\n",
       "      <td>6.00</td>\n",
       "      <td>...</td>\n",
       "      <td>No</td>\n",
       "      <td>No</td>\n",
       "      <td>NaN</td>\n",
       "      <td>NaN</td>\n",
       "      <td>NaN</td>\n",
       "      <td>NaN</td>\n",
       "      <td>NaN</td>\n",
       "      <td>No</td>\n",
       "      <td>No</td>\n",
       "      <td>Modified</td>\n",
       "    </tr>\n",
       "  </tbody>\n",
       "</table>\n",
       "<p>5 rows × 35 columns</p>\n",
       "</div>"
      ],
      "text/plain": [
       "                               Prospect ID  Lead Number Lead Origin  \\\n",
       "963   59718980-d656-4415-baeb-c223ed6abe3a       649981         API   \n",
       "1363  a8a1c41c-a21e-43bb-9120-444d79efff06       645610         API   \n",
       "1388  a69a81be-f69a-45e0-9857-1f75ec740108       645388         API   \n",
       "1401  4e5cae69-5632-4db3-af8f-7e1b2c9b552e       645333         API   \n",
       "1513  14f31910-89a3-4f38-b803-dbb57999ae44       644225         API   \n",
       "\n",
       "         Lead Source Do Not Email Do Not Call  Converted  TotalVisits  \\\n",
       "963   Organic Search           No          No          0         11.0   \n",
       "1363  Direct Traffic           No          No          0          4.0   \n",
       "1388          Google           No          No          1          2.0   \n",
       "1401          Google           No          No          1          3.0   \n",
       "1513          Google           No          No          0          6.0   \n",
       "\n",
       "      Total Time Spent on Website  Page Views Per Visit  ...  \\\n",
       "963                          1166                  2.20  ...   \n",
       "1363                          446                  1.33  ...   \n",
       "1388                         2020                  2.00  ...   \n",
       "1401                         1459                  3.00  ...   \n",
       "1513                          481                  6.00  ...   \n",
       "\n",
       "     Update me on Supply Chain Content Get updates on DM Content City  \\\n",
       "963                                 No                        No  NaN   \n",
       "1363                                No                        No  NaN   \n",
       "1388                                No                        No  NaN   \n",
       "1401                                No                        No  NaN   \n",
       "1513                                No                        No  NaN   \n",
       "\n",
       "     Asymmetrique Activity Index Asymmetrique Profile Index  \\\n",
       "963                          NaN                        NaN   \n",
       "1363                         NaN                        NaN   \n",
       "1388                         NaN                        NaN   \n",
       "1401                         NaN                        NaN   \n",
       "1513                         NaN                        NaN   \n",
       "\n",
       "     Asymmetrique Activity Score Asymmetrique Profile Score  \\\n",
       "963                          NaN                        NaN   \n",
       "1363                         NaN                        NaN   \n",
       "1388                         NaN                        NaN   \n",
       "1401                         NaN                        NaN   \n",
       "1513                         NaN                        NaN   \n",
       "\n",
       "     I agree to pay the amount through cheque  \\\n",
       "963                                        No   \n",
       "1363                                       No   \n",
       "1388                                       No   \n",
       "1401                                       No   \n",
       "1513                                       No   \n",
       "\n",
       "     A free copy of Mastering The Interview    Last Notable Activity  \n",
       "963                                      No  Page Visited on Website  \n",
       "1363                                     No             Email Opened  \n",
       "1388                                     No             Email Opened  \n",
       "1401                                     No             Email Opened  \n",
       "1513                                     No                 Modified  \n",
       "\n",
       "[5 rows x 35 columns]"
      ]
     },
     "execution_count": 561,
     "metadata": {},
     "output_type": "execute_result"
    }
   ],
   "source": [
    "# Checking the rows missing these values\n",
    "\n",
    "leads[leads['Asymmetrique Profile Score'].isna() & leads['Asymmetrique Activity Score'].isna() & leads['Asymmetrique Profile Index'].isna() & leads['Asymmetrique Activity Index'].isna()].head()"
   ]
  },
  {
   "cell_type": "markdown",
   "metadata": {},
   "source": [
    "The rows missing values for Asymmetrique Profile Score are the same rows missing values for:\n",
    "- Asymmetrique Activity Score\n",
    "- Asymmetrique Profile Index  \n",
    "- Asymmetrique Activity Index "
   ]
  },
  {
   "cell_type": "code",
   "execution_count": 562,
   "metadata": {},
   "outputs": [
    {
     "data": {
      "image/png": "[encoded data removed]",
      "text/plain": [
       "<Figure size 1080x720 with 4 Axes>"
      ]
     },
     "metadata": {
      "needs_background": "light"
     },
     "output_type": "display_data"
    }
   ],
   "source": [
    "# Checking the distribution and variation of these features\n",
    "\n",
    "fig, axes = plt.subplots(2, 2, figsize=(15, 10))\n",
    "\n",
    "# Variation of Asymmetrique Profile Score\n",
    "sns.boxplot(leads['Asymmetrique Profile Score'], ax = axes[0,0])\n",
    "\n",
    "# Distribution of Asymmetrique Profile Index\n",
    "sns.countplot(leads['Asymmetrique Profile Index'], ax=axes[0,1])\n",
    "\n",
    "# Variation of Asymmetrique Activity Score\n",
    "sns.boxplot(leads['Asymmetrique Activity Score'], ax=axes[1, 0])\n",
    "\n",
    "# Variation of Asymmetrique Activity Index\n",
    "sns.countplot(leads['Asymmetrique Activity Index'], ax=axes[1, 1])\n",
    "\n",
    "plt.show()"
   ]
  },
  {
   "cell_type": "markdown",
   "metadata": {},
   "source": [
    "- Asymmetrique Profile Score shows a lot of variation so it would not make sense to impute any data. `Drop`\n",
    "- Asymmetrique Profile Index has most values in Medium and High buckets. Imputing the mode in this case will skew that data in favour of Medium when the difference between number of Medium and High is not all that much. We won't impute the mode data. `Drop`\n",
    "- Asymmetrique Activity Score has a lot of outliers present however the data does not show a lot of variation. However, imputing close to 50% of values as the median will greatly skew the data. `Drop`\n",
    "- Asymmetrique Activity Index has most values in Medium and it is significantly higher than the number of observations in High. However, imputing close to 50% of the values as the mode will greatly skew the data. `Drop`"
   ]
  },
  {
   "cell_type": "code",
   "execution_count": 563,
   "metadata": {},
   "outputs": [
    {
     "name": "stdout",
     "output_type": "stream",
     "text": [
      "(9240, 35)\n",
      "(9240, 31)\n"
     ]
    }
   ],
   "source": [
    "# Drop\n",
    "\n",
    "drop_list = ['Asymmetrique Profile Score', 'Asymmetrique Profile Index', 'Asymmetrique Activity Score', 'Asymmetrique Activity Index']\n",
    "\n",
    "print(leads.shape)\n",
    "leads.drop(drop_list, axis=1, inplace=True)\n",
    "print(leads.shape)"
   ]
  },
  {
   "cell_type": "code",
   "execution_count": null,
   "metadata": {},
   "outputs": [],
   "source": []
  },
  {
   "cell_type": "markdown",
   "metadata": {},
   "source": [
    "##### Tags\n",
    "Tags assigned to customers indicating the current status of the lead. This column has more than 35% of its values missing."
   ]
  },
  {
   "cell_type": "code",
   "execution_count": 564,
   "metadata": {},
   "outputs": [
    {
     "data": {
      "text/plain": [
       "Will revert after reading the email                  35.196195\n",
       "Ringing                                              20.434856\n",
       "Interested in other courses                           8.714116\n",
       "Already a student                                     7.898760\n",
       "Closed by Horizzon                                    6.081196\n",
       "switched off                                          4.076779\n",
       "Busy                                                  3.159504\n",
       "Lost to EINS                                          2.972652\n",
       "Not doing further education                           2.463054\n",
       "Interested  in full time MBA                          1.987430\n",
       "Graduation in progress                                1.885510\n",
       "invalid number                                        1.409886\n",
       "Diploma holder (Not Eligible)                         1.070155\n",
       "wrong number given                                    0.798369\n",
       "opp hangup                                            0.560557\n",
       "number not provided                                   0.458638\n",
       "in touch with EINS                                    0.203839\n",
       "Lost to Others                                        0.118906\n",
       "Still Thinking                                        0.101919\n",
       "Want to take admission but has financial problems     0.101919\n",
       "In confusion whether part time or DLP                 0.084933\n",
       "Interested in Next batch                              0.084933\n",
       "Lateral student                                       0.050960\n",
       "Shall take in the next coming month                   0.033973\n",
       "University not recognized                             0.033973\n",
       "Recognition issue (DEC approval)                      0.016987\n",
       "Name: Tags, dtype: float64"
      ]
     },
     "execution_count": 564,
     "metadata": {},
     "output_type": "execute_result"
    }
   ],
   "source": [
    "# Distribution\n",
    "\n",
    "leads['Tags'].value_counts(normalize=True)*100"
   ]
  },
  {
   "cell_type": "markdown",
   "metadata": {},
   "source": [
    "There is already a level in the column called - Will revert after reading the email. However, there is a significant distribution of leads among other categories in this feature and imputing a value could skew the data.  Therefore, `Drop`"
   ]
  },
  {
   "cell_type": "code",
   "execution_count": 565,
   "metadata": {},
   "outputs": [
    {
     "data": {
      "text/plain": [
       "Index(['Prospect ID', 'Lead Number', 'Lead Origin', 'Lead Source',\n",
       "       'Do Not Email', 'Do Not Call', 'Converted', 'TotalVisits',\n",
       "       'Total Time Spent on Website', 'Page Views Per Visit', 'Last Activity',\n",
       "       'Country', 'Specialization', 'What is your current occupation',\n",
       "       'What matters most to you in choosing a course', 'Search', 'Magazine',\n",
       "       'Newspaper Article', 'X Education Forums', 'Newspaper',\n",
       "       'Digital Advertisement', 'Through Recommendations',\n",
       "       'Receive More Updates About Our Courses', 'Lead Quality',\n",
       "       'Update me on Supply Chain Content', 'Get updates on DM Content',\n",
       "       'City', 'I agree to pay the amount through cheque',\n",
       "       'A free copy of Mastering The Interview', 'Last Notable Activity'],\n",
       "      dtype='object')"
      ]
     },
     "execution_count": 565,
     "metadata": {},
     "output_type": "execute_result"
    }
   ],
   "source": [
    "# Drop\n",
    "\n",
    "leads.drop(['Tags'], axis=1, inplace=True)\n",
    "leads.columns"
   ]
  },
  {
   "cell_type": "code",
   "execution_count": null,
   "metadata": {},
   "outputs": [],
   "source": []
  },
  {
   "cell_type": "markdown",
   "metadata": {},
   "source": [
    "##### What matters most to you in choosing a course\n",
    "An option selected by the customer indicating what is their main motto behind doing this course. Close to 40% of the data in this column is missing."
   ]
  },
  {
   "cell_type": "code",
   "execution_count": 566,
   "metadata": {},
   "outputs": [
    {
     "data": {
      "text/plain": [
       "Better Career Prospects      99.954065\n",
       "Flexibility & Convenience     0.030623\n",
       "Other                         0.015312\n",
       "Name: What matters most to you in choosing a course, dtype: float64"
      ]
     },
     "execution_count": 566,
     "metadata": {},
     "output_type": "execute_result"
    }
   ],
   "source": [
    "# Distribution\n",
    "\n",
    "leads['What matters most to you in choosing a course'].value_counts(normalize=True)*100"
   ]
  },
  {
   "cell_type": "markdown",
   "metadata": {},
   "source": [
    "Almost all the leads have selected - 'Better Career Prospects' as what matters to them the most in choosing this course. This feature brings little information because it is almost constant. Therefore, `Drop`"
   ]
  },
  {
   "cell_type": "code",
   "execution_count": 567,
   "metadata": {},
   "outputs": [
    {
     "data": {
      "text/plain": [
       "Index(['Prospect ID', 'Lead Number', 'Lead Origin', 'Lead Source',\n",
       "       'Do Not Email', 'Do Not Call', 'Converted', 'TotalVisits',\n",
       "       'Total Time Spent on Website', 'Page Views Per Visit', 'Last Activity',\n",
       "       'Country', 'Specialization', 'What is your current occupation',\n",
       "       'Search', 'Magazine', 'Newspaper Article', 'X Education Forums',\n",
       "       'Newspaper', 'Digital Advertisement', 'Through Recommendations',\n",
       "       'Receive More Updates About Our Courses', 'Lead Quality',\n",
       "       'Update me on Supply Chain Content', 'Get updates on DM Content',\n",
       "       'City', 'I agree to pay the amount through cheque',\n",
       "       'A free copy of Mastering The Interview', 'Last Notable Activity'],\n",
       "      dtype='object')"
      ]
     },
     "execution_count": 567,
     "metadata": {},
     "output_type": "execute_result"
    }
   ],
   "source": [
    "# Drop\n",
    "\n",
    "leads.drop(['What matters most to you in choosing a course'], axis=1, inplace=True)\n",
    "leads.columns"
   ]
  },
  {
   "cell_type": "code",
   "execution_count": null,
   "metadata": {},
   "outputs": [],
   "source": []
  },
  {
   "cell_type": "markdown",
   "metadata": {},
   "source": [
    "##### City\n",
    "The city of the customer. Close to 40% of the data is missing in this column."
   ]
  },
  {
   "cell_type": "code",
   "execution_count": 568,
   "metadata": {},
   "outputs": [
    {
     "data": {
      "text/plain": [
       "Mumbai                         57.835218\n",
       "Thane & Outskirts              13.498474\n",
       "Other Cities                   12.313768\n",
       "Other Cities of Maharashtra     8.203195\n",
       "Other Metro Cities              6.821038\n",
       "Tier II Cities                  1.328307\n",
       "Name: City, dtype: float64"
      ]
     },
     "execution_count": 568,
     "metadata": {},
     "output_type": "execute_result"
    }
   ],
   "source": [
    "# Distribution\n",
    "\n",
    "leads['City'].value_counts(normalize=True)*100"
   ]
  },
  {
   "cell_type": "markdown",
   "metadata": {},
   "source": [
    "Almost 60% of the leads are from Mumbai therefore we can impute this value in place of the missing values. `Impute with Mode`"
   ]
  },
  {
   "cell_type": "code",
   "execution_count": 569,
   "metadata": {},
   "outputs": [
    {
     "data": {
      "text/plain": [
       "0"
      ]
     },
     "execution_count": 569,
     "metadata": {},
     "output_type": "execute_result"
    }
   ],
   "source": [
    "# Imputation\n",
    "\n",
    "leads['City'].fillna(leads['City'].mode()[0], inplace=True)\n",
    "leads['City'].isna().sum()"
   ]
  },
  {
   "cell_type": "code",
   "execution_count": null,
   "metadata": {},
   "outputs": [],
   "source": []
  },
  {
   "cell_type": "markdown",
   "metadata": {},
   "source": [
    "##### Specialization\n",
    "The industry domain in which the customer worked before. Includes the level 'Select Specialization' which means the customer had not selected this option while filling the form. "
   ]
  },
  {
   "cell_type": "code",
   "execution_count": 570,
   "metadata": {},
   "outputs": [
    {
     "data": {
      "text/plain": [
       "Finance Management                   0.166553\n",
       "Human Resource Management            0.144710\n",
       "Marketing Management                 0.143003\n",
       "Operations Management                0.085836\n",
       "Business Administration              0.068771\n",
       "IT Projects Management               0.062457\n",
       "Supply Chain Management              0.059556\n",
       "Banking, Investment And Insurance    0.057679\n",
       "Travel and Tourism                   0.034642\n",
       "Media and Advertising                0.034642\n",
       "International Business               0.030375\n",
       "Healthcare Management                0.027133\n",
       "Hospitality Management               0.019454\n",
       "E-COMMERCE                           0.019113\n",
       "Retail Management                    0.017065\n",
       "Rural and Agribusiness               0.012457\n",
       "E-Business                           0.009727\n",
       "Services Excellence                  0.006826\n",
       "Name: Specialization, dtype: float64"
      ]
     },
     "execution_count": 570,
     "metadata": {},
     "output_type": "execute_result"
    }
   ],
   "source": [
    "# Distribution \n",
    "\n",
    "leads['Specialization'].value_counts(normalize=True)"
   ]
  },
  {
   "cell_type": "code",
   "execution_count": 571,
   "metadata": {},
   "outputs": [
    {
     "data": {
      "image/png": "[encoded data removed]",
      "text/plain": [
       "<Figure size 1080x576 with 1 Axes>"
      ]
     },
     "metadata": {
      "needs_background": "light"
     },
     "output_type": "display_data"
    }
   ],
   "source": [
    "# Plot\n",
    "\n",
    "plt.figure(figsize=(15, 8))\n",
    "sns.countplot(leads['Specialization'])\n",
    "plt.xticks(rotation=90)\n",
    "plt.show()"
   ]
  },
  {
   "cell_type": "markdown",
   "metadata": {},
   "source": [
    "Since these are all options that were presented to the user on a form, there is a chance that the particular Specialization of the user was not part of the options included resulting in the user not selecting anything<br>\n",
    "The user may also not have selected an option if they were a student. We will therefore create a new category called 'Others'. `Create new category called 'Others'`"
   ]
  },
  {
   "cell_type": "code",
   "execution_count": 572,
   "metadata": {},
   "outputs": [
    {
     "data": {
      "text/plain": [
       "0"
      ]
     },
     "execution_count": 572,
     "metadata": {},
     "output_type": "execute_result"
    }
   ],
   "source": [
    "# Replacing\n",
    "\n",
    "leads['Specialization'].replace(np.nan, 'Others', inplace=True)\n",
    "leads['Specialization'].isna().sum()"
   ]
  },
  {
   "cell_type": "code",
   "execution_count": 573,
   "metadata": {},
   "outputs": [
    {
     "data": {
      "text/plain": [
       "What is your current occupation    29.11\n",
       "Country                            26.63\n",
       "TotalVisits                         1.48\n",
       "Page Views Per Visit                1.48\n",
       "Last Activity                       1.11\n",
       "Lead Source                         0.39\n",
       "dtype: float64"
      ]
     },
     "execution_count": 573,
     "metadata": {},
     "output_type": "execute_result"
    }
   ],
   "source": [
    "nan_values(leads)"
   ]
  },
  {
   "cell_type": "markdown",
   "metadata": {},
   "source": [
    "##### What is your current occupation\n",
    "Indicates whether the customer is a student, umemployed or employed. Almost 30% of the values in this column are missing."
   ]
  },
  {
   "cell_type": "code",
   "execution_count": 574,
   "metadata": {},
   "outputs": [
    {
     "data": {
      "text/plain": [
       "Unemployed              85.496183\n",
       "Working Professional    10.778626\n",
       "Student                  3.206107\n",
       "Other                    0.244275\n",
       "Housewife                0.152672\n",
       "Businessman              0.122137\n",
       "Name: What is your current occupation, dtype: float64"
      ]
     },
     "execution_count": 574,
     "metadata": {},
     "output_type": "execute_result"
    }
   ],
   "source": [
    "# Distribution\n",
    "\n",
    "leads['What is your current occupation'].value_counts(normalize=True)*100"
   ]
  },
  {
   "cell_type": "markdown",
   "metadata": {},
   "source": [
    "More than 85% of the leads fall under the unemployed category. This feature shows very less variation. If we impute with the mode, the variaton will reduce even further. Therefore, `Drop`"
   ]
  },
  {
   "cell_type": "code",
   "execution_count": 575,
   "metadata": {},
   "outputs": [
    {
     "data": {
      "text/plain": [
       "Index(['Prospect ID', 'Lead Number', 'Lead Origin', 'Lead Source',\n",
       "       'Do Not Email', 'Do Not Call', 'Converted', 'TotalVisits',\n",
       "       'Total Time Spent on Website', 'Page Views Per Visit', 'Last Activity',\n",
       "       'Country', 'Specialization', 'Search', 'Magazine', 'Newspaper Article',\n",
       "       'X Education Forums', 'Newspaper', 'Digital Advertisement',\n",
       "       'Through Recommendations', 'Receive More Updates About Our Courses',\n",
       "       'Lead Quality', 'Update me on Supply Chain Content',\n",
       "       'Get updates on DM Content', 'City',\n",
       "       'I agree to pay the amount through cheque',\n",
       "       'A free copy of Mastering The Interview', 'Last Notable Activity'],\n",
       "      dtype='object')"
      ]
     },
     "execution_count": 575,
     "metadata": {},
     "output_type": "execute_result"
    }
   ],
   "source": [
    "# Drop\n",
    "\n",
    "leads.drop(['What is your current occupation'], axis=1, inplace=True)\n",
    "leads.columns"
   ]
  },
  {
   "cell_type": "code",
   "execution_count": null,
   "metadata": {},
   "outputs": [],
   "source": []
  },
  {
   "cell_type": "markdown",
   "metadata": {},
   "source": [
    "##### Country\n",
    "The country of the customer. More than 26% of the values in this column are missing."
   ]
  },
  {
   "cell_type": "code",
   "execution_count": 576,
   "metadata": {},
   "outputs": [
    {
     "data": {
      "text/plain": [
       "India                   95.766337\n",
       "United States            1.017849\n",
       "United Arab Emirates     0.781826\n",
       "Singapore                0.354035\n",
       "Saudi Arabia             0.309780\n",
       "United Kingdom           0.221272\n",
       "Australia                0.191769\n",
       "Qatar                    0.147514\n",
       "Hong Kong                0.103260\n",
       "Bahrain                  0.103260\n",
       "Oman                     0.088509\n",
       "France                   0.088509\n",
       "unknown                  0.073757\n",
       "Canada                   0.059006\n",
       "Kuwait                   0.059006\n",
       "South Africa             0.059006\n",
       "Germany                  0.059006\n",
       "Nigeria                  0.059006\n",
       "Sweden                   0.044254\n",
       "Ghana                    0.029503\n",
       "Netherlands              0.029503\n",
       "Bangladesh               0.029503\n",
       "Uganda                   0.029503\n",
       "Philippines              0.029503\n",
       "Belgium                  0.029503\n",
       "Asia/Pacific Region      0.029503\n",
       "China                    0.029503\n",
       "Italy                    0.029503\n",
       "Indonesia                0.014751\n",
       "Kenya                    0.014751\n",
       "Switzerland              0.014751\n",
       "Tanzania                 0.014751\n",
       "Denmark                  0.014751\n",
       "Malaysia                 0.014751\n",
       "Liberia                  0.014751\n",
       "Vietnam                  0.014751\n",
       "Russia                   0.014751\n",
       "Sri Lanka                0.014751\n",
       "Name: Country, dtype: float64"
      ]
     },
     "execution_count": 576,
     "metadata": {},
     "output_type": "execute_result"
    }
   ],
   "source": [
    "# Distribution\n",
    "\n",
    "leads['Country'].value_counts(normalize=True)*100"
   ]
  },
  {
   "cell_type": "markdown",
   "metadata": {},
   "source": [
    "This column has almost 27% of missing values. 95% of the leads are from India. This column shows very little variation and therefore it won't add any information to our model. Therefore, `Drop`"
   ]
  },
  {
   "cell_type": "code",
   "execution_count": 577,
   "metadata": {},
   "outputs": [
    {
     "data": {
      "text/plain": [
       "Index(['Prospect ID', 'Lead Number', 'Lead Origin', 'Lead Source',\n",
       "       'Do Not Email', 'Do Not Call', 'Converted', 'TotalVisits',\n",
       "       'Total Time Spent on Website', 'Page Views Per Visit', 'Last Activity',\n",
       "       'Specialization', 'Search', 'Magazine', 'Newspaper Article',\n",
       "       'X Education Forums', 'Newspaper', 'Digital Advertisement',\n",
       "       'Through Recommendations', 'Receive More Updates About Our Courses',\n",
       "       'Lead Quality', 'Update me on Supply Chain Content',\n",
       "       'Get updates on DM Content', 'City',\n",
       "       'I agree to pay the amount through cheque',\n",
       "       'A free copy of Mastering The Interview', 'Last Notable Activity'],\n",
       "      dtype='object')"
      ]
     },
     "execution_count": 577,
     "metadata": {},
     "output_type": "execute_result"
    }
   ],
   "source": [
    "# Drop\n",
    "\n",
    "leads.drop(['Country'], axis=1, inplace=True)\n",
    "leads.columns"
   ]
  },
  {
   "cell_type": "code",
   "execution_count": null,
   "metadata": {},
   "outputs": [],
   "source": []
  },
  {
   "cell_type": "code",
   "execution_count": 578,
   "metadata": {},
   "outputs": [
    {
     "name": "stdout",
     "output_type": "stream",
     "text": [
      "Columns with less than 15% of missing values\n"
     ]
    },
    {
     "data": {
      "text/plain": [
       "TotalVisits             1.48\n",
       "Page Views Per Visit    1.48\n",
       "Last Activity           1.11\n",
       "Lead Source             0.39\n",
       "dtype: float64"
      ]
     },
     "execution_count": 578,
     "metadata": {},
     "output_type": "execute_result"
    }
   ],
   "source": [
    "# Columns with less than 15% of missing values\n",
    "\n",
    "print('Columns with less than 15% of missing values')\n",
    "nan_values(leads)"
   ]
  },
  {
   "cell_type": "markdown",
   "metadata": {},
   "source": [
    "Since these columns have less than 2% missing values, we can go ahead and drop the rows that have values missing in them."
   ]
  },
  {
   "cell_type": "code",
   "execution_count": 579,
   "metadata": {},
   "outputs": [],
   "source": [
    "# Drop\n",
    "\n",
    "leads.dropna(inplace=True)"
   ]
  },
  {
   "cell_type": "code",
   "execution_count": 580,
   "metadata": {},
   "outputs": [
    {
     "data": {
      "text/plain": [
       "Series([], dtype: float64)"
      ]
     },
     "execution_count": 580,
     "metadata": {},
     "output_type": "execute_result"
    }
   ],
   "source": [
    "# Check\n",
    "\n",
    "nan_values(leads)"
   ]
  },
  {
   "cell_type": "markdown",
   "metadata": {},
   "source": [
    "There are no more missing values."
   ]
  },
  {
   "cell_type": "code",
   "execution_count": null,
   "metadata": {},
   "outputs": [],
   "source": []
  },
  {
   "cell_type": "markdown",
   "metadata": {},
   "source": [
    "### 4.4 Outlier Treatment"
   ]
  },
  {
   "cell_type": "markdown",
   "metadata": {},
   "source": [
    "#### TotalVisits"
   ]
  },
  {
   "cell_type": "code",
   "execution_count": 581,
   "metadata": {},
   "outputs": [
    {
     "data": {
      "text/plain": [
       "count    9074.000000\n",
       "mean        3.456028\n",
       "std         4.858802\n",
       "min         0.000000\n",
       "25%         1.000000\n",
       "50%         3.000000\n",
       "75%         5.000000\n",
       "max       251.000000\n",
       "Name: TotalVisits, dtype: float64"
      ]
     },
     "execution_count": 581,
     "metadata": {},
     "output_type": "execute_result"
    }
   ],
   "source": [
    "# Description\n",
    "\n",
    "leads['TotalVisits'].describe()"
   ]
  },
  {
   "cell_type": "code",
   "execution_count": 582,
   "metadata": {},
   "outputs": [
    {
     "data": {
      "image/png": "[encoded data removed]",
      "text/plain": [
       "<Figure size 1080x576 with 1 Axes>"
      ]
     },
     "metadata": {
      "needs_background": "light"
     },
     "output_type": "display_data"
    }
   ],
   "source": [
    "# Boxplot\n",
    "\n",
    "plt.figure(figsize=(15,8))\n",
    "sns.boxplot(leads['TotalVisits'])\n",
    "plt.show()"
   ]
  },
  {
   "cell_type": "markdown",
   "metadata": {},
   "source": [
    "This feature has significant number of outliers. We will treat this feature for outliers. We will select only values that are less than 95th quantile of the feature."
   ]
  },
  {
   "cell_type": "code",
   "execution_count": 583,
   "metadata": {},
   "outputs": [],
   "source": [
    "# Treatment\n",
    "\n",
    "leads = leads[leads['TotalVisits'] <= leads['TotalVisits'].quantile(0.95)]"
   ]
  },
  {
   "cell_type": "code",
   "execution_count": 584,
   "metadata": {},
   "outputs": [
    {
     "data": {
      "image/png": "[encoded data removed]",
      "text/plain": [
       "<Figure size 432x288 with 1 Axes>"
      ]
     },
     "metadata": {
      "needs_background": "light"
     },
     "output_type": "display_data"
    }
   ],
   "source": [
    "# Boxplot\n",
    "\n",
    "sns.boxplot(leads['TotalVisits'])\n",
    "plt.show()"
   ]
  },
  {
   "cell_type": "code",
   "execution_count": null,
   "metadata": {},
   "outputs": [],
   "source": []
  },
  {
   "cell_type": "markdown",
   "metadata": {},
   "source": [
    "#### Total Time Spent on Website"
   ]
  },
  {
   "cell_type": "code",
   "execution_count": 585,
   "metadata": {},
   "outputs": [
    {
     "data": {
      "text/plain": [
       "count    8721.000000\n",
       "mean      473.146887\n",
       "std       542.265343\n",
       "min         0.000000\n",
       "25%         2.000000\n",
       "50%       236.000000\n",
       "75%       899.000000\n",
       "max      2272.000000\n",
       "Name: Total Time Spent on Website, dtype: float64"
      ]
     },
     "execution_count": 585,
     "metadata": {},
     "output_type": "execute_result"
    }
   ],
   "source": [
    "# Description\n",
    "\n",
    "leads['Total Time Spent on Website'].describe()"
   ]
  },
  {
   "cell_type": "markdown",
   "metadata": {},
   "source": [
    "There is a significant difference between the mean and the median. This shows that the mean is being affected by outliers."
   ]
  },
  {
   "cell_type": "code",
   "execution_count": 586,
   "metadata": {},
   "outputs": [
    {
     "data": {
      "image/png": "[encoded data removed]",
      "text/plain": [
       "<Figure size 1080x432 with 1 Axes>"
      ]
     },
     "metadata": {
      "needs_background": "light"
     },
     "output_type": "display_data"
    }
   ],
   "source": [
    "# Boxplot\n",
    "\n",
    "plt.figure(figsize=(15,6))\n",
    "sns.boxplot(leads['Total Time Spent on Website'])\n",
    "plt.show()"
   ]
  },
  {
   "cell_type": "markdown",
   "metadata": {},
   "source": [
    "We will treat the outliers. We will only select values that fall under the 90th quantile of the feature."
   ]
  },
  {
   "cell_type": "code",
   "execution_count": null,
   "metadata": {},
   "outputs": [],
   "source": []
  },
  {
   "cell_type": "code",
   "execution_count": 587,
   "metadata": {},
   "outputs": [],
   "source": [
    "# Treatment\n",
    "\n",
    "leads = leads[leads['Total Time Spent on Website'] <= leads['Total Time Spent on Website'].quantile(.90)]"
   ]
  },
  {
   "cell_type": "code",
   "execution_count": 588,
   "metadata": {},
   "outputs": [
    {
     "data": {
      "image/png": "[encoded data removed]",
      "text/plain": [
       "<Figure size 432x288 with 1 Axes>"
      ]
     },
     "metadata": {
      "needs_background": "light"
     },
     "output_type": "display_data"
    }
   ],
   "source": [
    "# Check\n",
    "\n",
    "sns.boxplot(leads['Total Time Spent on Website'])\n",
    "plt.show()"
   ]
  },
  {
   "cell_type": "code",
   "execution_count": null,
   "metadata": {},
   "outputs": [],
   "source": []
  },
  {
   "cell_type": "markdown",
   "metadata": {},
   "source": [
    "#### Page Views Per Visit"
   ]
  },
  {
   "cell_type": "code",
   "execution_count": 589,
   "metadata": {},
   "outputs": [
    {
     "data": {
      "text/plain": [
       "count    7851.000000\n",
       "mean        2.165519\n",
       "std         1.934635\n",
       "min         0.000000\n",
       "25%         0.000000\n",
       "50%         2.000000\n",
       "75%         3.000000\n",
       "max        10.000000\n",
       "Name: Page Views Per Visit, dtype: float64"
      ]
     },
     "execution_count": 589,
     "metadata": {},
     "output_type": "execute_result"
    }
   ],
   "source": [
    "# Description\n",
    "\n",
    "leads['Page Views Per Visit'].describe()"
   ]
  },
  {
   "cell_type": "code",
   "execution_count": 590,
   "metadata": {},
   "outputs": [
    {
     "data": {
      "image/png": "[encoded data removed]",
      "text/plain": [
       "<Figure size 432x288 with 1 Axes>"
      ]
     },
     "metadata": {
      "needs_background": "light"
     },
     "output_type": "display_data"
    }
   ],
   "source": [
    "# Boxplot\n",
    "\n",
    "sns.boxplot(leads['Page Views Per Visit'])\n",
    "plt.show()"
   ]
  },
  {
   "cell_type": "markdown",
   "metadata": {},
   "source": [
    "There is no significant difference between mean and median. The mean is not significantly affected by the presence of outliers and there are just a few outliers (statistically). However, 10 page views per visit is the max value, and this is not actually an outlier in the real sense. It is quite possible that a person would visit 10 pages on a visit. Therefore, we will not treat this column for outliers."
   ]
  },
  {
   "cell_type": "markdown",
   "metadata": {},
   "source": [
    "## 5. Exploratory Data Analysis"
   ]
  },
  {
   "cell_type": "markdown",
   "metadata": {},
   "source": [
    "### 5.1 Univariate Analysis - Categorical Variables"
   ]
  },
  {
   "cell_type": "markdown",
   "metadata": {},
   "source": [
    "#### 1. Target Variable - `Converted`"
   ]
  },
  {
   "cell_type": "code",
   "execution_count": 591,
   "metadata": {},
   "outputs": [
    {
     "data": {
      "text/plain": [
       "0    65.826009\n",
       "1    34.173991\n",
       "Name: Converted, dtype: float64"
      ]
     },
     "execution_count": 591,
     "metadata": {},
     "output_type": "execute_result"
    }
   ],
   "source": [
    "# Class Imbalance\n",
    "\n",
    "leads['Converted'].value_counts(normalize=True)*100"
   ]
  },
  {
   "cell_type": "code",
   "execution_count": 592,
   "metadata": {},
   "outputs": [
    {
     "data": {
      "text/plain": [
       "51.91563467492261"
      ]
     },
     "execution_count": 592,
     "metadata": {},
     "output_type": "execute_result"
    }
   ],
   "source": [
    "# Class Imbalance Ratio\n",
    "\n",
    "conv = len(leads[leads['Converted'] == 1])\n",
    "nconv  = len(leads[leads['Converted'] == 0])\n",
    "\n",
    "(conv/nconv)*100"
   ]
  },
  {
   "cell_type": "markdown",
   "metadata": {},
   "source": [
    "Our data is close to a 60/40 distribution therefore it isn't severely imbalanced. We don't need to employ other methods to balance our data."
   ]
  },
  {
   "cell_type": "code",
   "execution_count": null,
   "metadata": {},
   "outputs": [],
   "source": []
  },
  {
   "cell_type": "markdown",
   "metadata": {},
   "source": [
    "#### 2. Lead Origin"
   ]
  },
  {
   "cell_type": "code",
   "execution_count": 593,
   "metadata": {},
   "outputs": [
    {
     "data": {
      "image/png": "[encoded data removed]",
      "text/plain": [
       "<Figure size 576x360 with 1 Axes>"
      ]
     },
     "metadata": {
      "needs_background": "light"
     },
     "output_type": "display_data"
    }
   ],
   "source": [
    "# Distribution\n",
    "\n",
    "# Define a function\n",
    "\n",
    "def my_count(column, size=(8,5), rotation=0):\n",
    "    plt.figure(figsize=size)\n",
    "    sns.countplot(data=leads, x=column, hue='Converted', palette='Purples')\n",
    "    plt.xticks(rotation=rotation)\n",
    "    plt.show()\n",
    "\n",
    "my_count('Lead Origin', rotation=10)"
   ]
  },
  {
   "cell_type": "code",
   "execution_count": 594,
   "metadata": {},
   "outputs": [
    {
     "name": "stdout",
     "output_type": "stream",
     "text": [
      "Conversion Rates for Lead Origin:\n",
      " for API is 28.06\n",
      " for Landing Page Submission is 30.82\n",
      " for Lead Add Form is 93.44\n",
      " for Lead Import is 30.0\n"
     ]
    }
   ],
   "source": [
    "# Conversion rates for each category\n",
    "\n",
    "def conv_rate(column, target='Converted', df=leads):\n",
    "    \n",
    "    sel = df[column]\n",
    "    tar = df[target]\n",
    "    \n",
    "    levels = list(sel.unique())\n",
    "    \n",
    "    print('Conversion Rates for {0}:'.format(column))\n",
    "    for cat in levels:\n",
    "        len_conv = len(leads[  (sel == cat) & (tar == 1)  ])\n",
    "        len_total = len(leads[sel == cat])\n",
    "        rate = round(len_conv/len_total*100, 2)\n",
    "        \n",
    "        print(' for {0} is {1}'.format(cat, rate))\n",
    "        \n",
    "conv_rate('Lead Origin')"
   ]
  },
  {
   "cell_type": "markdown",
   "metadata": {},
   "source": [
    "##### Observations:\n",
    "1. Most of our leads are obtained through submissions on the landing page and API\n",
    "2. They both have conversion rates of 30% and 28% respectively\n",
    "3. Leads originating from the Lead Add Form have the highest conversion rate at 94%. However, the total count of leads originating through this channel is less. \n",
    "4. Lead Imports have the least count"
   ]
  },
  {
   "cell_type": "code",
   "execution_count": null,
   "metadata": {},
   "outputs": [],
   "source": []
  },
  {
   "cell_type": "markdown",
   "metadata": {},
   "source": [
    "#### 3. Lead Source"
   ]
  },
  {
   "cell_type": "code",
   "execution_count": 595,
   "metadata": {},
   "outputs": [
    {
     "data": {
      "image/png": "[encoded data removed]",
      "text/plain": [
       "<Figure size 1080x432 with 1 Axes>"
      ]
     },
     "metadata": {
      "needs_background": "light"
     },
     "output_type": "display_data"
    }
   ],
   "source": [
    "# Distribution\n",
    "\n",
    "my_count('Lead Source', size=(15,6), rotation=90)"
   ]
  },
  {
   "cell_type": "markdown",
   "metadata": {},
   "source": [
    "There are to levels called Google. This could have been caused because of some error during data entry. We will replace 'google' with 'Google."
   ]
  },
  {
   "cell_type": "code",
   "execution_count": 596,
   "metadata": {},
   "outputs": [],
   "source": [
    "# Replacement\n",
    "\n",
    "leads['Lead Source'] = leads['Lead Source'].replace(['google'], 'Google')"
   ]
  },
  {
   "cell_type": "code",
   "execution_count": 597,
   "metadata": {},
   "outputs": [
    {
     "data": {
      "image/png": "[encoded data removed]",
      "text/plain": [
       "<Figure size 1080x432 with 1 Axes>"
      ]
     },
     "metadata": {
      "needs_background": "light"
     },
     "output_type": "display_data"
    }
   ],
   "source": [
    "# Distribution\n",
    "\n",
    "my_count('Lead Source', size=(15,6), rotation=90)"
   ]
  },
  {
   "cell_type": "code",
   "execution_count": 598,
   "metadata": {},
   "outputs": [
    {
     "name": "stdout",
     "output_type": "stream",
     "text": [
      "Conversion Rates for Lead Source:\n",
      " for Olark Chat is 25.25\n",
      " for Organic Search is 31.94\n",
      " for Direct Traffic is 26.92\n",
      " for Google is 34.59\n",
      " for Referral Sites is 19.39\n",
      " for Reference is 92.31\n",
      " for Welingak Website is 98.44\n",
      " for Facebook is 29.03\n",
      " for blog is 0.0\n",
      " for Pay per Click Ads is 0.0\n",
      " for bing is 16.67\n",
      " for Social Media is 50.0\n",
      " for WeLearn is 100.0\n",
      " for Live Chat is 100.0\n",
      " for welearnblog_Home is 0.0\n",
      " for youtubechannel is 0.0\n",
      " for Click2call is 66.67\n",
      " for testone is 0.0\n",
      " for Press_Release is 0.0\n",
      " for NC_EDM is 100.0\n"
     ]
    }
   ],
   "source": [
    "# Conversion Rates\n",
    "\n",
    "conv_rate('Lead Source')"
   ]
  },
  {
   "cell_type": "markdown",
   "metadata": {},
   "source": [
    "##### Observations\n",
    "1. Google, Direct Traffic and Olark Chat have the highest counts. Among these Google has the highest conversion rate at 35% \n",
    "2. References are a low count but have a high conversion rate of 92%\n",
    "3. Welingak Website also has a low count but high conversion rate of 98%"
   ]
  },
  {
   "cell_type": "code",
   "execution_count": null,
   "metadata": {},
   "outputs": [],
   "source": []
  },
  {
   "cell_type": "markdown",
   "metadata": {},
   "source": [
    "#### 4. Do Not Email and Do Not Call"
   ]
  },
  {
   "cell_type": "code",
   "execution_count": 599,
   "metadata": {},
   "outputs": [
    {
     "data": {
      "image/png": "[encoded data removed]",
      "text/plain": [
       "<Figure size 432x288 with 1 Axes>"
      ]
     },
     "metadata": {
      "needs_background": "light"
     },
     "output_type": "display_data"
    }
   ],
   "source": [
    "# Distribution - Do Not Email\n",
    "\n",
    "my_count('Do Not Email', size=(6,4))"
   ]
  },
  {
   "cell_type": "code",
   "execution_count": 600,
   "metadata": {},
   "outputs": [
    {
     "data": {
      "image/png": "[encoded data removed]",
      "text/plain": [
       "<Figure size 432x288 with 1 Axes>"
      ]
     },
     "metadata": {
      "needs_background": "light"
     },
     "output_type": "display_data"
    }
   ],
   "source": [
    "# Distribution - Do Not Call\n",
    "\n",
    "my_count('Do Not Call', size=(6,4))"
   ]
  },
  {
   "cell_type": "code",
   "execution_count": 601,
   "metadata": {},
   "outputs": [
    {
     "name": "stdout",
     "output_type": "stream",
     "text": [
      "Conversion Rates for Do Not Email:\n",
      " for No is 36.05\n",
      " for Yes is 12.8\n"
     ]
    }
   ],
   "source": [
    "# Conversion Rates - Do Not Email\n",
    "\n",
    "conv_rate('Do Not Email')"
   ]
  },
  {
   "cell_type": "code",
   "execution_count": 602,
   "metadata": {},
   "outputs": [
    {
     "name": "stdout",
     "output_type": "stream",
     "text": [
      "Conversion Rates for Do Not Call:\n",
      " for No is 34.17\n",
      " for Yes is 100.0\n"
     ]
    }
   ],
   "source": [
    "# Conversion Rates - Do Not Call\n",
    "\n",
    "conv_rate('Do Not Call')"
   ]
  },
  {
   "cell_type": "markdown",
   "metadata": {},
   "source": [
    "##### Observations\n",
    "1. Majority of the leads have opted to not recieve calls or emails from the company. <br>\n",
    "No clear inferences can be drawn about lead conversion from these two variables."
   ]
  },
  {
   "cell_type": "code",
   "execution_count": null,
   "metadata": {},
   "outputs": [],
   "source": []
  },
  {
   "cell_type": "markdown",
   "metadata": {},
   "source": [
    "#### 5. Last Activity\n",
    "Last activity performed by the customer. Includes Email Opened, Olark Chat Conversation, etc."
   ]
  },
  {
   "cell_type": "code",
   "execution_count": 603,
   "metadata": {},
   "outputs": [
    {
     "data": {
      "image/png": "[encoded data removed]",
      "text/plain": [
       "<Figure size 1080x432 with 1 Axes>"
      ]
     },
     "metadata": {
      "needs_background": "light"
     },
     "output_type": "display_data"
    }
   ],
   "source": [
    "# Distribution\n",
    "\n",
    "my_count('Last Activity', size=(15,6), rotation=90)"
   ]
  },
  {
   "cell_type": "code",
   "execution_count": 604,
   "metadata": {},
   "outputs": [
    {
     "data": {
      "text/plain": [
       "Email Bounced                   3.770220\n",
       "Email Link Clicked              3.031461\n",
       "Form Submitted on Website       1.273723\n",
       "Unreachable                     1.018978\n",
       "Unsubscribed                    0.624124\n",
       "Had a Phone Conversation        0.203796\n",
       "View in browser link Clicked    0.063686\n",
       "Approached upfront              0.038212\n",
       "Email Received                  0.025474\n",
       "Email Marked Spam               0.012737\n",
       "Visited Booth in Tradeshow      0.012737\n",
       "Resubscribed to emails          0.012737\n",
       "Name: Last Activity, dtype: float64"
      ]
     },
     "execution_count": 604,
     "metadata": {},
     "output_type": "execute_result"
    }
   ],
   "source": [
    "# Distribution\n",
    "\n",
    "la_vc = leads['Last Activity'].value_counts(normalize=True)*100\n",
    "la_vc[la_vc < 5]"
   ]
  },
  {
   "cell_type": "code",
   "execution_count": 605,
   "metadata": {},
   "outputs": [
    {
     "data": {
      "text/plain": [
       "Email Opened               38.058846\n",
       "SMS Sent                   28.951726\n",
       "Olark Chat Conversation    11.730990\n",
       "Other                      10.087887\n",
       "Page Visited on Website     6.126608\n",
       "Converted to Lead           5.043943\n",
       "Name: Last Activity, dtype: float64"
      ]
     },
     "execution_count": 605,
     "metadata": {},
     "output_type": "execute_result"
    }
   ],
   "source": [
    "# Replace all categories having less than 5% of distribution with Other\n",
    "\n",
    "replace_list = ['Email Bounced', 'Email Link Clicked', 'Form Submitted on Website', 'Unreachable', 'Unsubscribed', 'Had a Phone Conversation', 'View in browser link Clicked', 'Approached upfront', 'Email Received', 'Visited Booth in Tradeshow', 'Resubscribed to emails', 'Email Marked Spam']\n",
    "\n",
    "leads['Last Activity'] = leads['Last Activity'].replace(replace_list, 'Other')\n",
    "leads['Last Activity'].value_counts(normalize=True)*100\n",
    "    "
   ]
  },
  {
   "cell_type": "code",
   "execution_count": 606,
   "metadata": {},
   "outputs": [
    {
     "data": {
      "image/png": "[encoded data removed]",
      "text/plain": [
       "<Figure size 576x360 with 1 Axes>"
      ]
     },
     "metadata": {
      "needs_background": "light"
     },
     "output_type": "display_data"
    }
   ],
   "source": [
    "# Plot\n",
    "\n",
    "my_count('Last Activity', rotation=90)"
   ]
  },
  {
   "cell_type": "code",
   "execution_count": 607,
   "metadata": {},
   "outputs": [
    {
     "name": "stdout",
     "output_type": "stream",
     "text": [
      "Conversion Rates for Last Activity:\n",
      " for Page Visited on Website is 20.37\n",
      " for Email Opened is 32.66\n",
      " for Other is 18.43\n",
      " for Olark Chat Conversation is 6.84\n",
      " for Converted to Lead is 11.36\n",
      " for SMS Sent is 59.61\n"
     ]
    }
   ],
   "source": [
    "# Conversion Rates\n",
    "\n",
    "conv_rate('Last Activity')"
   ]
  },
  {
   "cell_type": "markdown",
   "metadata": {},
   "source": [
    "##### Observations\n",
    "1. The conversion rate for SMS sent is the highest at 60%. <br>\n",
    "No clear inferences about our distribution can be drawn from this feature."
   ]
  },
  {
   "cell_type": "code",
   "execution_count": null,
   "metadata": {},
   "outputs": [],
   "source": []
  },
  {
   "cell_type": "markdown",
   "metadata": {},
   "source": [
    "#### 6. Specialization"
   ]
  },
  {
   "cell_type": "code",
   "execution_count": 608,
   "metadata": {
    "scrolled": true
   },
   "outputs": [
    {
     "data": {
      "image/png": "[encoded data removed]",
      "text/plain": [
       "<Figure size 1080x432 with 1 Axes>"
      ]
     },
     "metadata": {
      "needs_background": "light"
     },
     "output_type": "display_data"
    }
   ],
   "source": [
    "# Distribution\n",
    "\n",
    "my_count('Specialization', size=(15,6), rotation=90)"
   ]
  },
  {
   "cell_type": "code",
   "execution_count": 609,
   "metadata": {},
   "outputs": [
    {
     "name": "stdout",
     "output_type": "stream",
     "text": [
      "Conversion Rates for Specialization:\n",
      " for Others is 25.84\n",
      " for Media and Advertising is 32.7\n",
      " for IT Projects Management is 34.82\n",
      " for Finance Management is 39.34\n",
      " for Travel and Tourism is 32.5\n",
      " for Human Resource Management is 41.57\n",
      " for Business Administration is 38.92\n",
      " for Banking, Investment And Insurance is 44.36\n",
      " for Marketing Management is 45.11\n",
      " for International Business is 32.0\n",
      " for E-COMMERCE is 33.33\n",
      " for Operations Management is 42.69\n",
      " for Retail Management is 30.67\n",
      " for Supply Chain Management is 36.92\n",
      " for Hospitality Management is 35.63\n",
      " for Rural and Agribusiness is 35.19\n",
      " for Healthcare Management is 42.74\n",
      " for Services Excellence is 27.27\n",
      " for E-Business is 34.04\n"
     ]
    }
   ],
   "source": [
    "# Conversion Rates\n",
    "\n",
    "conv_rate('Specialization')"
   ]
  },
  {
   "cell_type": "markdown",
   "metadata": {},
   "source": [
    "##### Observations\n",
    "1. 'Others' has a significantly higher count as compared to other categories.\n",
    "2. Conversion Rates are higher for the following categories (Above 40%) \n",
    "    - Human Resources Management\n",
    "    - Marketing Management\n",
    "    - Banking, Investment and Insurance\n",
    "    - Operations Management\n",
    "    - Healthcare Management"
   ]
  },
  {
   "cell_type": "code",
   "execution_count": null,
   "metadata": {},
   "outputs": [],
   "source": []
  },
  {
   "cell_type": "markdown",
   "metadata": {},
   "source": [
    "#### 7. Search, Magazine, Newspaper Article, X Education Forums, Newspaper, Digital Advertisement, Through Recommendations\n",
    "Indicating whether a lead has seen an ad in any of them"
   ]
  },
  {
   "cell_type": "code",
   "execution_count": 610,
   "metadata": {},
   "outputs": [
    {
     "name": "stdout",
     "output_type": "stream",
     "text": [
      "No     7844\n",
      "Yes       7\n",
      "Name: Search, dtype: int64\n",
      "\n",
      "No    7851\n",
      "Name: Magazine, dtype: int64\n",
      "\n",
      "No     7850\n",
      "Yes       1\n",
      "Name: Newspaper Article, dtype: int64\n",
      "\n",
      "No    7851\n",
      "Name: X Education Forums, dtype: int64\n",
      "\n",
      "No    7851\n",
      "Name: Newspaper, dtype: int64\n",
      "\n",
      "No     7849\n",
      "Yes       2\n",
      "Name: Digital Advertisement, dtype: int64\n",
      "\n",
      "No     7847\n",
      "Yes       4\n",
      "Name: Through Recommendations, dtype: int64\n",
      "\n"
     ]
    }
   ],
   "source": [
    "# Value Counts\n",
    "\n",
    "ads = ['Search', 'Magazine', 'Newspaper Article', 'X Education Forums', 'Newspaper', 'Digital Advertisement', 'Through Recommendations']\n",
    "\n",
    "for col in ads:\n",
    "    print(leads[col].value_counts())\n",
    "    print(\"\")"
   ]
  },
  {
   "cell_type": "markdown",
   "metadata": {},
   "source": [
    "Almost none of our leads have seen any of our ads in any of the above mentioned mediums. These features will be of no use in our model."
   ]
  },
  {
   "cell_type": "code",
   "execution_count": null,
   "metadata": {},
   "outputs": [],
   "source": []
  },
  {
   "cell_type": "markdown",
   "metadata": {},
   "source": [
    "#### 8. Receive More Updates About Our Courses"
   ]
  },
  {
   "cell_type": "code",
   "execution_count": 611,
   "metadata": {},
   "outputs": [
    {
     "data": {
      "text/plain": [
       "No    7851\n",
       "Name: Receive More Updates About Our Courses, dtype: int64"
      ]
     },
     "execution_count": 611,
     "metadata": {},
     "output_type": "execute_result"
    }
   ],
   "source": [
    "# Distribution\n",
    "\n",
    "leads['Receive More Updates About Our Courses'].value_counts()"
   ]
  },
  {
   "cell_type": "markdown",
   "metadata": {},
   "source": [
    "None of the leads have opted in to receive more updates about our courses. This feature will not be of any use in our model."
   ]
  },
  {
   "cell_type": "code",
   "execution_count": null,
   "metadata": {},
   "outputs": [],
   "source": []
  },
  {
   "cell_type": "markdown",
   "metadata": {},
   "source": [
    "#### 9. Lead Quality"
   ]
  },
  {
   "cell_type": "code",
   "execution_count": 612,
   "metadata": {},
   "outputs": [
    {
     "data": {
      "text/plain": [
       "Not Sure             65.927907\n",
       "Might be             15.501210\n",
       "Worst                 6.954528\n",
       "Low in Relevance      5.820915\n",
       "High in Relevance     5.795440\n",
       "Name: Lead Quality, dtype: float64"
      ]
     },
     "execution_count": 612,
     "metadata": {},
     "output_type": "execute_result"
    }
   ],
   "source": [
    "# Distribution \n",
    "\n",
    "leads['Lead Quality'].value_counts(normalize=True)*100"
   ]
  },
  {
   "cell_type": "code",
   "execution_count": 613,
   "metadata": {},
   "outputs": [
    {
     "data": {
      "image/png": "[encoded data removed]",
      "text/plain": [
       "<Figure size 576x360 with 1 Axes>"
      ]
     },
     "metadata": {
      "needs_background": "light"
     },
     "output_type": "display_data"
    }
   ],
   "source": [
    "# Plot\n",
    "\n",
    "my_count('Lead Quality')"
   ]
  },
  {
   "cell_type": "code",
   "execution_count": 614,
   "metadata": {},
   "outputs": [
    {
     "name": "stdout",
     "output_type": "stream",
     "text": [
      "Conversion Rates for Lead Quality:\n",
      " for Low in Relevance is 80.53\n",
      " for Not Sure is 19.26\n",
      " for Might be is 72.88\n",
      " for Worst is 1.47\n",
      " for High in Relevance is 92.97\n"
     ]
    }
   ],
   "source": [
    "# Conversion Rates\n",
    "\n",
    "conv_rate('Lead Quality')"
   ]
  },
  {
   "cell_type": "markdown",
   "metadata": {},
   "source": [
    "##### Observations\n",
    "1. High in Relevance leads have the highest conversion rate at 93%\n",
    "2. Low in Relevance leads also have a significant conversion rate at 80%\n",
    "3. Not sure leads has the highest count"
   ]
  },
  {
   "cell_type": "code",
   "execution_count": null,
   "metadata": {},
   "outputs": [],
   "source": []
  },
  {
   "cell_type": "markdown",
   "metadata": {},
   "source": [
    "#### 10. Update me on Supply Chain Content"
   ]
  },
  {
   "cell_type": "code",
   "execution_count": 615,
   "metadata": {},
   "outputs": [
    {
     "data": {
      "text/plain": [
       "No    7851\n",
       "Name: Update me on Supply Chain Content, dtype: int64"
      ]
     },
     "execution_count": 615,
     "metadata": {},
     "output_type": "execute_result"
    }
   ],
   "source": [
    "# Distribution\n",
    "\n",
    "leads['Update me on Supply Chain Content'].value_counts()"
   ]
  },
  {
   "cell_type": "markdown",
   "metadata": {},
   "source": [
    "All the leads have opted out of updates on Supply Chain Content. This feature will be of no use in our Model."
   ]
  },
  {
   "cell_type": "code",
   "execution_count": null,
   "metadata": {},
   "outputs": [],
   "source": []
  },
  {
   "cell_type": "markdown",
   "metadata": {},
   "source": [
    "#### 11. Get updates on DM Content"
   ]
  },
  {
   "cell_type": "code",
   "execution_count": 616,
   "metadata": {},
   "outputs": [
    {
     "data": {
      "text/plain": [
       "No    7851\n",
       "Name: Get updates on DM Content, dtype: int64"
      ]
     },
     "execution_count": 616,
     "metadata": {},
     "output_type": "execute_result"
    }
   ],
   "source": [
    "# Distribution\n",
    "\n",
    "leads['Get updates on DM Content'].value_counts()"
   ]
  },
  {
   "cell_type": "markdown",
   "metadata": {},
   "source": [
    "All the leads have opted out of updates on DM Content. This variable will be of no use in our Model."
   ]
  },
  {
   "cell_type": "code",
   "execution_count": null,
   "metadata": {},
   "outputs": [],
   "source": []
  },
  {
   "cell_type": "markdown",
   "metadata": {},
   "source": [
    "#### 12. City"
   ]
  },
  {
   "cell_type": "code",
   "execution_count": 617,
   "metadata": {},
   "outputs": [
    {
     "data": {
      "text/plain": [
       "Mumbai                         5944\n",
       "Thane & Outskirts               599\n",
       "Other Cities                    568\n",
       "Other Cities of Maharashtra     367\n",
       "Other Metro Cities              314\n",
       "Tier II Cities                   59\n",
       "Name: City, dtype: int64"
      ]
     },
     "execution_count": 617,
     "metadata": {},
     "output_type": "execute_result"
    }
   ],
   "source": [
    "# Distribution\n",
    "\n",
    "leads['City'].value_counts()"
   ]
  },
  {
   "cell_type": "code",
   "execution_count": 618,
   "metadata": {},
   "outputs": [
    {
     "data": {
      "image/png": "[encoded data removed]",
      "text/plain": [
       "<Figure size 576x360 with 1 Axes>"
      ]
     },
     "metadata": {
      "needs_background": "light"
     },
     "output_type": "display_data"
    }
   ],
   "source": [
    "# Plot\n",
    "\n",
    "my_count('City', rotation=90)"
   ]
  },
  {
   "cell_type": "code",
   "execution_count": 619,
   "metadata": {},
   "outputs": [
    {
     "name": "stdout",
     "output_type": "stream",
     "text": [
      "Conversion Rates for City:\n",
      " for Mumbai is 33.13\n",
      " for Thane & Outskirts is 40.07\n",
      " for Other Metro Cities is 36.31\n",
      " for Other Cities is 35.74\n",
      " for Other Cities of Maharashtra is 38.15\n",
      " for Tier II Cities is 28.81\n"
     ]
    }
   ],
   "source": [
    "# Conversion Rates\n",
    "\n",
    "conv_rate('City')"
   ]
  },
  {
   "cell_type": "markdown",
   "metadata": {},
   "source": [
    "##### Observations\n",
    "1. Mumbai has the highest count of leads\n",
    "2. Thane and Outskirts have the highest conversion rate at 40%"
   ]
  },
  {
   "cell_type": "code",
   "execution_count": null,
   "metadata": {},
   "outputs": [],
   "source": []
  },
  {
   "cell_type": "markdown",
   "metadata": {},
   "source": [
    "#### 13. I agree to pay the amount through cheque"
   ]
  },
  {
   "cell_type": "code",
   "execution_count": 620,
   "metadata": {},
   "outputs": [
    {
     "data": {
      "text/plain": [
       "No    7851\n",
       "Name: I agree to pay the amount through cheque, dtype: int64"
      ]
     },
     "execution_count": 620,
     "metadata": {},
     "output_type": "execute_result"
    }
   ],
   "source": [
    "# Distribution\n",
    "\n",
    "leads['I agree to pay the amount through cheque'].value_counts()"
   ]
  },
  {
   "cell_type": "markdown",
   "metadata": {},
   "source": [
    "None of the leads have agreet to pay the amount through cheque. This feature will be of no use in our model."
   ]
  },
  {
   "cell_type": "code",
   "execution_count": null,
   "metadata": {},
   "outputs": [],
   "source": []
  },
  {
   "cell_type": "markdown",
   "metadata": {},
   "source": [
    "#### 14. A free copy of Mastering The Interview"
   ]
  },
  {
   "cell_type": "code",
   "execution_count": 621,
   "metadata": {},
   "outputs": [
    {
     "data": {
      "text/plain": [
       "No     70.271303\n",
       "Yes    29.728697\n",
       "Name: A free copy of Mastering The Interview, dtype: float64"
      ]
     },
     "execution_count": 621,
     "metadata": {},
     "output_type": "execute_result"
    }
   ],
   "source": [
    "# Distribution\n",
    "\n",
    "leads['A free copy of Mastering The Interview'].value_counts(normalize=True)*100"
   ]
  },
  {
   "cell_type": "code",
   "execution_count": 622,
   "metadata": {},
   "outputs": [
    {
     "data": {
      "image/png": "[encoded data removed]",
      "text/plain": [
       "<Figure size 576x360 with 1 Axes>"
      ]
     },
     "metadata": {
      "needs_background": "light"
     },
     "output_type": "display_data"
    }
   ],
   "source": [
    "# Plot\n",
    "\n",
    "my_count('A free copy of Mastering The Interview')"
   ]
  },
  {
   "cell_type": "code",
   "execution_count": 623,
   "metadata": {},
   "outputs": [
    {
     "name": "stdout",
     "output_type": "stream",
     "text": [
      "Conversion Rates for A free copy of Mastering The Interview:\n",
      " for No is 35.83\n",
      " for Yes is 30.25\n"
     ]
    }
   ],
   "source": [
    "# Conversion Rates\n",
    "\n",
    "conv_rate('A free copy of Mastering The Interview')"
   ]
  },
  {
   "cell_type": "markdown",
   "metadata": {},
   "source": [
    "##### Observations\n",
    "1. Most of our leads have not opted for the free copy of Mastering The Interview. Conversion rate for leads who have not opted for the free copy is slightly higher than the leads who opted for it."
   ]
  },
  {
   "cell_type": "code",
   "execution_count": null,
   "metadata": {},
   "outputs": [],
   "source": []
  },
  {
   "cell_type": "markdown",
   "metadata": {},
   "source": [
    "#### 15. Last Notable Activity"
   ]
  },
  {
   "cell_type": "code",
   "execution_count": 624,
   "metadata": {},
   "outputs": [
    {
     "data": {
      "image/png": "[encoded data removed]",
      "text/plain": [
       "<Figure size 576x360 with 1 Axes>"
      ]
     },
     "metadata": {
      "needs_background": "light"
     },
     "output_type": "display_data"
    }
   ],
   "source": [
    "# Plot\n",
    "\n",
    "my_count('Last Notable Activity', rotation=90)"
   ]
  },
  {
   "cell_type": "markdown",
   "metadata": {},
   "source": [
    "This feature serves the same purpose as 'Last Activity'. Therefore this feature will not serve any additional purpose in our model."
   ]
  },
  {
   "cell_type": "code",
   "execution_count": null,
   "metadata": {},
   "outputs": [],
   "source": []
  },
  {
   "cell_type": "markdown",
   "metadata": {},
   "source": [
    "### 5.1 Univariate Analysis - Numerical Variables"
   ]
  },
  {
   "cell_type": "markdown",
   "metadata": {},
   "source": [
    "#### 1. TotalVisits"
   ]
  },
  {
   "cell_type": "code",
   "execution_count": 625,
   "metadata": {},
   "outputs": [
    {
     "data": {
      "image/png": "[encoded data removed]",
      "text/plain": [
       "<Figure size 432x288 with 1 Axes>"
      ]
     },
     "metadata": {
      "needs_background": "light"
     },
     "output_type": "display_data"
    }
   ],
   "source": [
    "# Distribution\n",
    "\n",
    "sns.boxplot(leads['TotalVisits'])\n",
    "plt.show()"
   ]
  },
  {
   "cell_type": "code",
   "execution_count": 626,
   "metadata": {},
   "outputs": [
    {
     "data": {
      "image/png": "[encoded data removed]",
      "text/plain": [
       "<Figure size 432x288 with 1 Axes>"
      ]
     },
     "metadata": {
      "needs_background": "light"
     },
     "output_type": "display_data"
    }
   ],
   "source": [
    "# Distribution between converted and not converted\n",
    "\n",
    "sns.boxplot(data=leads, y='TotalVisits', x='Converted')\n",
    "plt.show()"
   ]
  },
  {
   "cell_type": "markdown",
   "metadata": {},
   "source": [
    "##### Observations:\n",
    "1. The median TotalVisits for both converted and non converted leads lie between 2 and 4\n",
    "2. Nothing conclusive can be derived from this feature"
   ]
  },
  {
   "cell_type": "code",
   "execution_count": null,
   "metadata": {},
   "outputs": [],
   "source": []
  },
  {
   "cell_type": "markdown",
   "metadata": {},
   "source": [
    "#### 2. Total Time Spent on Website"
   ]
  },
  {
   "cell_type": "code",
   "execution_count": 627,
   "metadata": {},
   "outputs": [
    {
     "data": {
      "image/png": "[encoded data removed]",
      "text/plain": [
       "<Figure size 432x288 with 1 Axes>"
      ]
     },
     "metadata": {
      "needs_background": "light"
     },
     "output_type": "display_data"
    }
   ],
   "source": [
    "# Distribution\n",
    "\n",
    "sns.boxplot(leads['Total Time Spent on Website'])\n",
    "plt.show()"
   ]
  },
  {
   "cell_type": "code",
   "execution_count": 628,
   "metadata": {},
   "outputs": [
    {
     "data": {
      "image/png": "[encoded data removed]",
      "text/plain": [
       "<Figure size 432x288 with 1 Axes>"
      ]
     },
     "metadata": {
      "needs_background": "light"
     },
     "output_type": "display_data"
    }
   ],
   "source": [
    "# Distribution between converted and non converted\n",
    "\n",
    "sns.boxplot(data=leads, x='Converted', y='Total Time Spent on Website')\n",
    "plt.show()"
   ]
  },
  {
   "cell_type": "markdown",
   "metadata": {},
   "source": [
    "##### Observations:\n",
    "1. There is greater variance in the time that converted leads spent on the website.\n",
    "2. The median time spent by leads that converted is higher than leads that did not convert. Leads that spent more time on our site are likelier to convert."
   ]
  },
  {
   "cell_type": "code",
   "execution_count": null,
   "metadata": {},
   "outputs": [],
   "source": []
  },
  {
   "cell_type": "markdown",
   "metadata": {},
   "source": [
    "#### 3. Page Views Per Visit"
   ]
  },
  {
   "cell_type": "code",
   "execution_count": 629,
   "metadata": {},
   "outputs": [
    {
     "data": {
      "image/png": "[encoded data removed]",
      "text/plain": [
       "<Figure size 432x288 with 1 Axes>"
      ]
     },
     "metadata": {
      "needs_background": "light"
     },
     "output_type": "display_data"
    }
   ],
   "source": [
    "# Distribution\n",
    "\n",
    "sns.boxplot(leads['Page Views Per Visit'])\n",
    "plt.show()"
   ]
  },
  {
   "cell_type": "code",
   "execution_count": 630,
   "metadata": {},
   "outputs": [
    {
     "data": {
      "image/png": "[encoded data removed]",
      "text/plain": [
       "<Figure size 432x288 with 1 Axes>"
      ]
     },
     "metadata": {
      "needs_background": "light"
     },
     "output_type": "display_data"
    }
   ],
   "source": [
    "# Distribution between leads that converted and did not convert\n",
    "\n",
    "sns.boxplot(data=leads, x='Converted', y='Page Views Per Visit')\n",
    "plt.show()"
   ]
  },
  {
   "cell_type": "markdown",
   "metadata": {},
   "source": [
    "##### Observations:\n",
    "1. The median value for Page Views Per Visit is similar for both converted and non converted leads\n",
    "2. Nothing conclusive can be derived from this feature."
   ]
  },
  {
   "cell_type": "code",
   "execution_count": null,
   "metadata": {},
   "outputs": [],
   "source": []
  },
  {
   "cell_type": "markdown",
   "metadata": {},
   "source": [
    "### Results of Univariate Analysis\n",
    "We have seen that many of the columns are not adding any information to our model, hence we can drop them from our model for further analysis."
   ]
  },
  {
   "cell_type": "code",
   "execution_count": 631,
   "metadata": {},
   "outputs": [],
   "source": [
    "# Drop List\n",
    "\n",
    "drop_list = ['Lead Number', 'Search', 'Magazine', 'Newspaper Article', 'X Education Forums', 'Newspaper', 'Digital Advertisement', 'Through Recommendations', 'Receive More Updates About Our Courses', 'Update me on Supply Chain Content', 'Get updates on DM Content', 'I agree to pay the amount through cheque', 'Last Notable Activity']"
   ]
  },
  {
   "cell_type": "code",
   "execution_count": 632,
   "metadata": {},
   "outputs": [
    {
     "name": "stdout",
     "output_type": "stream",
     "text": [
      "(7851, 27)\n",
      "(7851, 14)\n"
     ]
    }
   ],
   "source": [
    "# Drop\n",
    "\n",
    "print(leads.shape)\n",
    "leads.drop(drop_list, axis=1, inplace=True)\n",
    "print(leads.shape)"
   ]
  },
  {
   "cell_type": "code",
   "execution_count": 633,
   "metadata": {},
   "outputs": [
    {
     "data": {
      "text/html": [
       "<div>\n",
       "<style scoped>\n",
       "    .dataframe tbody tr th:only-of-type {\n",
       "        vertical-align: middle;\n",
       "    }\n",
       "\n",
       "    .dataframe tbody tr th {\n",
       "        vertical-align: top;\n",
       "    }\n",
       "\n",
       "    .dataframe thead th {\n",
       "        text-align: right;\n",
       "    }\n",
       "</style>\n",
       "<table border=\"1\" class=\"dataframe\">\n",
       "  <thead>\n",
       "    <tr style=\"text-align: right;\">\n",
       "      <th></th>\n",
       "      <th>Prospect ID</th>\n",
       "      <th>Lead Origin</th>\n",
       "      <th>Lead Source</th>\n",
       "      <th>Do Not Email</th>\n",
       "      <th>Do Not Call</th>\n",
       "      <th>Converted</th>\n",
       "      <th>TotalVisits</th>\n",
       "      <th>Total Time Spent on Website</th>\n",
       "      <th>Page Views Per Visit</th>\n",
       "      <th>Last Activity</th>\n",
       "      <th>Specialization</th>\n",
       "      <th>Lead Quality</th>\n",
       "      <th>City</th>\n",
       "      <th>A free copy of Mastering The Interview</th>\n",
       "    </tr>\n",
       "  </thead>\n",
       "  <tbody>\n",
       "    <tr>\n",
       "      <th>0</th>\n",
       "      <td>7927b2df-8bba-4d29-b9a2-b6e0beafe620</td>\n",
       "      <td>API</td>\n",
       "      <td>Olark Chat</td>\n",
       "      <td>No</td>\n",
       "      <td>No</td>\n",
       "      <td>0</td>\n",
       "      <td>0.0</td>\n",
       "      <td>0</td>\n",
       "      <td>0.0</td>\n",
       "      <td>Page Visited on Website</td>\n",
       "      <td>Others</td>\n",
       "      <td>Low in Relevance</td>\n",
       "      <td>Mumbai</td>\n",
       "      <td>No</td>\n",
       "    </tr>\n",
       "    <tr>\n",
       "      <th>1</th>\n",
       "      <td>2a272436-5132-4136-86fa-dcc88c88f482</td>\n",
       "      <td>API</td>\n",
       "      <td>Organic Search</td>\n",
       "      <td>No</td>\n",
       "      <td>No</td>\n",
       "      <td>0</td>\n",
       "      <td>5.0</td>\n",
       "      <td>674</td>\n",
       "      <td>2.5</td>\n",
       "      <td>Email Opened</td>\n",
       "      <td>Others</td>\n",
       "      <td>Not Sure</td>\n",
       "      <td>Mumbai</td>\n",
       "      <td>No</td>\n",
       "    </tr>\n",
       "    <tr>\n",
       "      <th>3</th>\n",
       "      <td>0cc2df48-7cf4-4e39-9de9-19797f9b38cc</td>\n",
       "      <td>Landing Page Submission</td>\n",
       "      <td>Direct Traffic</td>\n",
       "      <td>No</td>\n",
       "      <td>No</td>\n",
       "      <td>0</td>\n",
       "      <td>1.0</td>\n",
       "      <td>305</td>\n",
       "      <td>1.0</td>\n",
       "      <td>Other</td>\n",
       "      <td>Media and Advertising</td>\n",
       "      <td>Not Sure</td>\n",
       "      <td>Mumbai</td>\n",
       "      <td>No</td>\n",
       "    </tr>\n",
       "    <tr>\n",
       "      <th>5</th>\n",
       "      <td>2058ef08-2858-443e-a01f-a9237db2f5ce</td>\n",
       "      <td>API</td>\n",
       "      <td>Olark Chat</td>\n",
       "      <td>No</td>\n",
       "      <td>No</td>\n",
       "      <td>0</td>\n",
       "      <td>0.0</td>\n",
       "      <td>0</td>\n",
       "      <td>0.0</td>\n",
       "      <td>Olark Chat Conversation</td>\n",
       "      <td>Others</td>\n",
       "      <td>Not Sure</td>\n",
       "      <td>Mumbai</td>\n",
       "      <td>No</td>\n",
       "    </tr>\n",
       "    <tr>\n",
       "      <th>7</th>\n",
       "      <td>20ef72a2-fb3b-45e0-924e-551c5fa59095</td>\n",
       "      <td>API</td>\n",
       "      <td>Olark Chat</td>\n",
       "      <td>No</td>\n",
       "      <td>No</td>\n",
       "      <td>0</td>\n",
       "      <td>0.0</td>\n",
       "      <td>0</td>\n",
       "      <td>0.0</td>\n",
       "      <td>Olark Chat Conversation</td>\n",
       "      <td>Others</td>\n",
       "      <td>Not Sure</td>\n",
       "      <td>Mumbai</td>\n",
       "      <td>No</td>\n",
       "    </tr>\n",
       "  </tbody>\n",
       "</table>\n",
       "</div>"
      ],
      "text/plain": [
       "                            Prospect ID              Lead Origin  \\\n",
       "0  7927b2df-8bba-4d29-b9a2-b6e0beafe620                      API   \n",
       "1  2a272436-5132-4136-86fa-dcc88c88f482                      API   \n",
       "3  0cc2df48-7cf4-4e39-9de9-19797f9b38cc  Landing Page Submission   \n",
       "5  2058ef08-2858-443e-a01f-a9237db2f5ce                      API   \n",
       "7  20ef72a2-fb3b-45e0-924e-551c5fa59095                      API   \n",
       "\n",
       "      Lead Source Do Not Email Do Not Call  Converted  TotalVisits  \\\n",
       "0      Olark Chat           No          No          0          0.0   \n",
       "1  Organic Search           No          No          0          5.0   \n",
       "3  Direct Traffic           No          No          0          1.0   \n",
       "5      Olark Chat           No          No          0          0.0   \n",
       "7      Olark Chat           No          No          0          0.0   \n",
       "\n",
       "   Total Time Spent on Website  Page Views Per Visit            Last Activity  \\\n",
       "0                            0                   0.0  Page Visited on Website   \n",
       "1                          674                   2.5             Email Opened   \n",
       "3                          305                   1.0                    Other   \n",
       "5                            0                   0.0  Olark Chat Conversation   \n",
       "7                            0                   0.0  Olark Chat Conversation   \n",
       "\n",
       "          Specialization      Lead Quality    City  \\\n",
       "0                 Others  Low in Relevance  Mumbai   \n",
       "1                 Others          Not Sure  Mumbai   \n",
       "3  Media and Advertising          Not Sure  Mumbai   \n",
       "5                 Others          Not Sure  Mumbai   \n",
       "7                 Others          Not Sure  Mumbai   \n",
       "\n",
       "  A free copy of Mastering The Interview  \n",
       "0                                     No  \n",
       "1                                     No  \n",
       "3                                     No  \n",
       "5                                     No  \n",
       "7                                     No  "
      ]
     },
     "execution_count": 633,
     "metadata": {},
     "output_type": "execute_result"
    }
   ],
   "source": [
    "# Check\n",
    "\n",
    "leads.head()"
   ]
  },
  {
   "cell_type": "code",
   "execution_count": null,
   "metadata": {},
   "outputs": [],
   "source": []
  },
  {
   "cell_type": "markdown",
   "metadata": {},
   "source": [
    "## 6. Data Preparation"
   ]
  },
  {
   "cell_type": "markdown",
   "metadata": {},
   "source": [
    "### 6.1 Converting some categorical variables to binary variables\n",
    "Yes - 1 <br>\n",
    "No - 0"
   ]
  },
  {
   "cell_type": "code",
   "execution_count": 634,
   "metadata": {},
   "outputs": [],
   "source": [
    "# Convert\n",
    "\n",
    "convert_list = ['Do Not Email', 'Do Not Call',  'A free copy of Mastering The Interview']\n",
    "\n",
    "def binary_map(convert):\n",
    "    return convert.map({'Yes': 1, 'No': 0})\n",
    "\n",
    "leads[convert_list] = leads[convert_list].apply(binary_map)"
   ]
  },
  {
   "cell_type": "code",
   "execution_count": null,
   "metadata": {},
   "outputs": [],
   "source": []
  },
  {
   "cell_type": "markdown",
   "metadata": {},
   "source": [
    "### 6.2 Creating Dummy Variables"
   ]
  },
  {
   "cell_type": "code",
   "execution_count": 635,
   "metadata": {},
   "outputs": [
    {
     "data": {
      "text/plain": [
       "['Lead Origin',\n",
       " 'Lead Source',\n",
       " 'Last Activity',\n",
       " 'Specialization',\n",
       " 'Lead Quality',\n",
       " 'City']"
      ]
     },
     "execution_count": 635,
     "metadata": {},
     "output_type": "execute_result"
    }
   ],
   "source": [
    "dum_list = [col for col in leads.columns.tolist() if leads[col].dtypes == 'object']\n",
    "\n",
    "# So that Prospect ID is omitted\n",
    "dum_list = dum_list[1:]\n",
    "\n",
    "dum_list"
   ]
  },
  {
   "cell_type": "code",
   "execution_count": 636,
   "metadata": {},
   "outputs": [],
   "source": [
    "# Creating dummy df\n",
    "\n",
    "dummy_df = pd.get_dummies(leads[dum_list], drop_first=True)"
   ]
  },
  {
   "cell_type": "code",
   "execution_count": 637,
   "metadata": {},
   "outputs": [
    {
     "data": {
      "text/html": [
       "<div>\n",
       "<style scoped>\n",
       "    .dataframe tbody tr th:only-of-type {\n",
       "        vertical-align: middle;\n",
       "    }\n",
       "\n",
       "    .dataframe tbody tr th {\n",
       "        vertical-align: top;\n",
       "    }\n",
       "\n",
       "    .dataframe thead th {\n",
       "        text-align: right;\n",
       "    }\n",
       "</style>\n",
       "<table border=\"1\" class=\"dataframe\">\n",
       "  <thead>\n",
       "    <tr style=\"text-align: right;\">\n",
       "      <th></th>\n",
       "      <th>Prospect ID</th>\n",
       "      <th>Lead Origin</th>\n",
       "      <th>Lead Source</th>\n",
       "      <th>Do Not Email</th>\n",
       "      <th>Do Not Call</th>\n",
       "      <th>Converted</th>\n",
       "      <th>TotalVisits</th>\n",
       "      <th>Total Time Spent on Website</th>\n",
       "      <th>Page Views Per Visit</th>\n",
       "      <th>Last Activity</th>\n",
       "      <th>...</th>\n",
       "      <th>Specialization_Travel and Tourism</th>\n",
       "      <th>Lead Quality_Low in Relevance</th>\n",
       "      <th>Lead Quality_Might be</th>\n",
       "      <th>Lead Quality_Not Sure</th>\n",
       "      <th>Lead Quality_Worst</th>\n",
       "      <th>City_Other Cities</th>\n",
       "      <th>City_Other Cities of Maharashtra</th>\n",
       "      <th>City_Other Metro Cities</th>\n",
       "      <th>City_Thane &amp; Outskirts</th>\n",
       "      <th>City_Tier II Cities</th>\n",
       "    </tr>\n",
       "  </thead>\n",
       "  <tbody>\n",
       "    <tr>\n",
       "      <th>0</th>\n",
       "      <td>7927b2df-8bba-4d29-b9a2-b6e0beafe620</td>\n",
       "      <td>API</td>\n",
       "      <td>Olark Chat</td>\n",
       "      <td>0</td>\n",
       "      <td>0</td>\n",
       "      <td>0</td>\n",
       "      <td>0.0</td>\n",
       "      <td>0</td>\n",
       "      <td>0.0</td>\n",
       "      <td>Page Visited on Website</td>\n",
       "      <td>...</td>\n",
       "      <td>0</td>\n",
       "      <td>1</td>\n",
       "      <td>0</td>\n",
       "      <td>0</td>\n",
       "      <td>0</td>\n",
       "      <td>0</td>\n",
       "      <td>0</td>\n",
       "      <td>0</td>\n",
       "      <td>0</td>\n",
       "      <td>0</td>\n",
       "    </tr>\n",
       "    <tr>\n",
       "      <th>1</th>\n",
       "      <td>2a272436-5132-4136-86fa-dcc88c88f482</td>\n",
       "      <td>API</td>\n",
       "      <td>Organic Search</td>\n",
       "      <td>0</td>\n",
       "      <td>0</td>\n",
       "      <td>0</td>\n",
       "      <td>5.0</td>\n",
       "      <td>674</td>\n",
       "      <td>2.5</td>\n",
       "      <td>Email Opened</td>\n",
       "      <td>...</td>\n",
       "      <td>0</td>\n",
       "      <td>0</td>\n",
       "      <td>0</td>\n",
       "      <td>1</td>\n",
       "      <td>0</td>\n",
       "      <td>0</td>\n",
       "      <td>0</td>\n",
       "      <td>0</td>\n",
       "      <td>0</td>\n",
       "      <td>0</td>\n",
       "    </tr>\n",
       "  </tbody>\n",
       "</table>\n",
       "<p>2 rows × 68 columns</p>\n",
       "</div>"
      ],
      "text/plain": [
       "                            Prospect ID Lead Origin     Lead Source  \\\n",
       "0  7927b2df-8bba-4d29-b9a2-b6e0beafe620         API      Olark Chat   \n",
       "1  2a272436-5132-4136-86fa-dcc88c88f482         API  Organic Search   \n",
       "\n",
       "   Do Not Email  Do Not Call  Converted  TotalVisits  \\\n",
       "0             0            0          0          0.0   \n",
       "1             0            0          0          5.0   \n",
       "\n",
       "   Total Time Spent on Website  Page Views Per Visit            Last Activity  \\\n",
       "0                            0                   0.0  Page Visited on Website   \n",
       "1                          674                   2.5             Email Opened   \n",
       "\n",
       "   ... Specialization_Travel and Tourism Lead Quality_Low in Relevance  \\\n",
       "0  ...                                 0                             1   \n",
       "1  ...                                 0                             0   \n",
       "\n",
       "  Lead Quality_Might be  Lead Quality_Not Sure  Lead Quality_Worst  \\\n",
       "0                     0                      0                   0   \n",
       "1                     0                      1                   0   \n",
       "\n",
       "   City_Other Cities  City_Other Cities of Maharashtra  \\\n",
       "0                  0                                 0   \n",
       "1                  0                                 0   \n",
       "\n",
       "   City_Other Metro Cities  City_Thane & Outskirts  City_Tier II Cities  \n",
       "0                        0                       0                    0  \n",
       "1                        0                       0                    0  \n",
       "\n",
       "[2 rows x 68 columns]"
      ]
     },
     "execution_count": 637,
     "metadata": {},
     "output_type": "execute_result"
    }
   ],
   "source": [
    "# Add dummy_df to leads\n",
    "\n",
    "leads = pd.concat([leads, dummy_df], axis=1)\n",
    "leads.head(2)"
   ]
  },
  {
   "cell_type": "code",
   "execution_count": 638,
   "metadata": {},
   "outputs": [
    {
     "name": "stdout",
     "output_type": "stream",
     "text": [
      "(7851, 68)\n",
      "(7851, 62)\n"
     ]
    }
   ],
   "source": [
    "# Drop the variables that we have created dummy variables for\n",
    "\n",
    "print(leads.shape)\n",
    "leads.drop(dum_list, axis=1, inplace=True)\n",
    "print(leads.shape)"
   ]
  },
  {
   "cell_type": "code",
   "execution_count": null,
   "metadata": {},
   "outputs": [],
   "source": []
  },
  {
   "cell_type": "markdown",
   "metadata": {},
   "source": [
    "## 7. Separate X and y"
   ]
  },
  {
   "cell_type": "code",
   "execution_count": 639,
   "metadata": {},
   "outputs": [
    {
     "data": {
      "text/plain": [
       "0    0\n",
       "1    0\n",
       "3    0\n",
       "5    0\n",
       "7    0\n",
       "Name: Converted, dtype: int64"
      ]
     },
     "execution_count": 639,
     "metadata": {},
     "output_type": "execute_result"
    }
   ],
   "source": [
    "# Setting Y as the Target variable\n",
    "\n",
    "y = leads['Converted']\n",
    "y.head()"
   ]
  },
  {
   "cell_type": "code",
   "execution_count": 640,
   "metadata": {},
   "outputs": [
    {
     "data": {
      "text/html": [
       "<div>\n",
       "<style scoped>\n",
       "    .dataframe tbody tr th:only-of-type {\n",
       "        vertical-align: middle;\n",
       "    }\n",
       "\n",
       "    .dataframe tbody tr th {\n",
       "        vertical-align: top;\n",
       "    }\n",
       "\n",
       "    .dataframe thead th {\n",
       "        text-align: right;\n",
       "    }\n",
       "</style>\n",
       "<table border=\"1\" class=\"dataframe\">\n",
       "  <thead>\n",
       "    <tr style=\"text-align: right;\">\n",
       "      <th></th>\n",
       "      <th>Do Not Email</th>\n",
       "      <th>Do Not Call</th>\n",
       "      <th>TotalVisits</th>\n",
       "      <th>Total Time Spent on Website</th>\n",
       "      <th>Page Views Per Visit</th>\n",
       "      <th>A free copy of Mastering The Interview</th>\n",
       "      <th>Lead Origin_Landing Page Submission</th>\n",
       "      <th>Lead Origin_Lead Add Form</th>\n",
       "      <th>Lead Origin_Lead Import</th>\n",
       "      <th>Lead Source_Direct Traffic</th>\n",
       "      <th>...</th>\n",
       "      <th>Specialization_Travel and Tourism</th>\n",
       "      <th>Lead Quality_Low in Relevance</th>\n",
       "      <th>Lead Quality_Might be</th>\n",
       "      <th>Lead Quality_Not Sure</th>\n",
       "      <th>Lead Quality_Worst</th>\n",
       "      <th>City_Other Cities</th>\n",
       "      <th>City_Other Cities of Maharashtra</th>\n",
       "      <th>City_Other Metro Cities</th>\n",
       "      <th>City_Thane &amp; Outskirts</th>\n",
       "      <th>City_Tier II Cities</th>\n",
       "    </tr>\n",
       "  </thead>\n",
       "  <tbody>\n",
       "    <tr>\n",
       "      <th>0</th>\n",
       "      <td>0</td>\n",
       "      <td>0</td>\n",
       "      <td>0.0</td>\n",
       "      <td>0</td>\n",
       "      <td>0.0</td>\n",
       "      <td>0</td>\n",
       "      <td>0</td>\n",
       "      <td>0</td>\n",
       "      <td>0</td>\n",
       "      <td>0</td>\n",
       "      <td>...</td>\n",
       "      <td>0</td>\n",
       "      <td>1</td>\n",
       "      <td>0</td>\n",
       "      <td>0</td>\n",
       "      <td>0</td>\n",
       "      <td>0</td>\n",
       "      <td>0</td>\n",
       "      <td>0</td>\n",
       "      <td>0</td>\n",
       "      <td>0</td>\n",
       "    </tr>\n",
       "    <tr>\n",
       "      <th>1</th>\n",
       "      <td>0</td>\n",
       "      <td>0</td>\n",
       "      <td>5.0</td>\n",
       "      <td>674</td>\n",
       "      <td>2.5</td>\n",
       "      <td>0</td>\n",
       "      <td>0</td>\n",
       "      <td>0</td>\n",
       "      <td>0</td>\n",
       "      <td>0</td>\n",
       "      <td>...</td>\n",
       "      <td>0</td>\n",
       "      <td>0</td>\n",
       "      <td>0</td>\n",
       "      <td>1</td>\n",
       "      <td>0</td>\n",
       "      <td>0</td>\n",
       "      <td>0</td>\n",
       "      <td>0</td>\n",
       "      <td>0</td>\n",
       "      <td>0</td>\n",
       "    </tr>\n",
       "    <tr>\n",
       "      <th>3</th>\n",
       "      <td>0</td>\n",
       "      <td>0</td>\n",
       "      <td>1.0</td>\n",
       "      <td>305</td>\n",
       "      <td>1.0</td>\n",
       "      <td>0</td>\n",
       "      <td>1</td>\n",
       "      <td>0</td>\n",
       "      <td>0</td>\n",
       "      <td>1</td>\n",
       "      <td>...</td>\n",
       "      <td>0</td>\n",
       "      <td>0</td>\n",
       "      <td>0</td>\n",
       "      <td>1</td>\n",
       "      <td>0</td>\n",
       "      <td>0</td>\n",
       "      <td>0</td>\n",
       "      <td>0</td>\n",
       "      <td>0</td>\n",
       "      <td>0</td>\n",
       "    </tr>\n",
       "    <tr>\n",
       "      <th>5</th>\n",
       "      <td>0</td>\n",
       "      <td>0</td>\n",
       "      <td>0.0</td>\n",
       "      <td>0</td>\n",
       "      <td>0.0</td>\n",
       "      <td>0</td>\n",
       "      <td>0</td>\n",
       "      <td>0</td>\n",
       "      <td>0</td>\n",
       "      <td>0</td>\n",
       "      <td>...</td>\n",
       "      <td>0</td>\n",
       "      <td>0</td>\n",
       "      <td>0</td>\n",
       "      <td>1</td>\n",
       "      <td>0</td>\n",
       "      <td>0</td>\n",
       "      <td>0</td>\n",
       "      <td>0</td>\n",
       "      <td>0</td>\n",
       "      <td>0</td>\n",
       "    </tr>\n",
       "    <tr>\n",
       "      <th>7</th>\n",
       "      <td>0</td>\n",
       "      <td>0</td>\n",
       "      <td>0.0</td>\n",
       "      <td>0</td>\n",
       "      <td>0.0</td>\n",
       "      <td>0</td>\n",
       "      <td>0</td>\n",
       "      <td>0</td>\n",
       "      <td>0</td>\n",
       "      <td>0</td>\n",
       "      <td>...</td>\n",
       "      <td>0</td>\n",
       "      <td>0</td>\n",
       "      <td>0</td>\n",
       "      <td>1</td>\n",
       "      <td>0</td>\n",
       "      <td>0</td>\n",
       "      <td>0</td>\n",
       "      <td>0</td>\n",
       "      <td>0</td>\n",
       "      <td>0</td>\n",
       "    </tr>\n",
       "  </tbody>\n",
       "</table>\n",
       "<p>5 rows × 60 columns</p>\n",
       "</div>"
      ],
      "text/plain": [
       "   Do Not Email  Do Not Call  TotalVisits  Total Time Spent on Website  \\\n",
       "0             0            0          0.0                            0   \n",
       "1             0            0          5.0                          674   \n",
       "3             0            0          1.0                          305   \n",
       "5             0            0          0.0                            0   \n",
       "7             0            0          0.0                            0   \n",
       "\n",
       "   Page Views Per Visit  A free copy of Mastering The Interview  \\\n",
       "0                   0.0                                       0   \n",
       "1                   2.5                                       0   \n",
       "3                   1.0                                       0   \n",
       "5                   0.0                                       0   \n",
       "7                   0.0                                       0   \n",
       "\n",
       "   Lead Origin_Landing Page Submission  Lead Origin_Lead Add Form  \\\n",
       "0                                    0                          0   \n",
       "1                                    0                          0   \n",
       "3                                    1                          0   \n",
       "5                                    0                          0   \n",
       "7                                    0                          0   \n",
       "\n",
       "   Lead Origin_Lead Import  Lead Source_Direct Traffic  ...  \\\n",
       "0                        0                           0  ...   \n",
       "1                        0                           0  ...   \n",
       "3                        0                           1  ...   \n",
       "5                        0                           0  ...   \n",
       "7                        0                           0  ...   \n",
       "\n",
       "   Specialization_Travel and Tourism  Lead Quality_Low in Relevance  \\\n",
       "0                                  0                              1   \n",
       "1                                  0                              0   \n",
       "3                                  0                              0   \n",
       "5                                  0                              0   \n",
       "7                                  0                              0   \n",
       "\n",
       "   Lead Quality_Might be  Lead Quality_Not Sure  Lead Quality_Worst  \\\n",
       "0                      0                      0                   0   \n",
       "1                      0                      1                   0   \n",
       "3                      0                      1                   0   \n",
       "5                      0                      1                   0   \n",
       "7                      0                      1                   0   \n",
       "\n",
       "   City_Other Cities  City_Other Cities of Maharashtra  \\\n",
       "0                  0                                 0   \n",
       "1                  0                                 0   \n",
       "3                  0                                 0   \n",
       "5                  0                                 0   \n",
       "7                  0                                 0   \n",
       "\n",
       "   City_Other Metro Cities  City_Thane & Outskirts  City_Tier II Cities  \n",
       "0                        0                       0                    0  \n",
       "1                        0                       0                    0  \n",
       "3                        0                       0                    0  \n",
       "5                        0                       0                    0  \n",
       "7                        0                       0                    0  \n",
       "\n",
       "[5 rows x 60 columns]"
      ]
     },
     "execution_count": 640,
     "metadata": {},
     "output_type": "execute_result"
    }
   ],
   "source": [
    "# Setting X as the feature variables\n",
    "\n",
    "X = leads.drop(['Prospect ID', 'Converted'], axis=1)\n",
    "X.head()"
   ]
  },
  {
   "cell_type": "code",
   "execution_count": null,
   "metadata": {},
   "outputs": [],
   "source": []
  },
  {
   "cell_type": "markdown",
   "metadata": {},
   "source": [
    "## 8. Train-Test Split"
   ]
  },
  {
   "cell_type": "code",
   "execution_count": 641,
   "metadata": {},
   "outputs": [],
   "source": [
    "# Import package required\n",
    "\n",
    "from sklearn.model_selection import train_test_split"
   ]
  },
  {
   "cell_type": "code",
   "execution_count": 642,
   "metadata": {},
   "outputs": [],
   "source": [
    "# Splitting the data into train and test set\n",
    "\n",
    "X_train, X_test, y_train, y_test = train_test_split(X, y, train_size=0.7, test_size=0.3, random_state=100)"
   ]
  },
  {
   "cell_type": "code",
   "execution_count": null,
   "metadata": {},
   "outputs": [],
   "source": []
  },
  {
   "cell_type": "markdown",
   "metadata": {},
   "source": [
    "## 9. Feature Scaling"
   ]
  },
  {
   "cell_type": "code",
   "execution_count": 643,
   "metadata": {},
   "outputs": [],
   "source": [
    "# Importing the package\n",
    "\n",
    "from sklearn.preprocessing import StandardScaler\n",
    "\n",
    "# Instantiate \n",
    "scaler = StandardScaler()"
   ]
  },
  {
   "cell_type": "code",
   "execution_count": 644,
   "metadata": {},
   "outputs": [
    {
     "data": {
      "text/html": [
       "<div>\n",
       "<style scoped>\n",
       "    .dataframe tbody tr th:only-of-type {\n",
       "        vertical-align: middle;\n",
       "    }\n",
       "\n",
       "    .dataframe tbody tr th {\n",
       "        vertical-align: top;\n",
       "    }\n",
       "\n",
       "    .dataframe thead th {\n",
       "        text-align: right;\n",
       "    }\n",
       "</style>\n",
       "<table border=\"1\" class=\"dataframe\">\n",
       "  <thead>\n",
       "    <tr style=\"text-align: right;\">\n",
       "      <th></th>\n",
       "      <th>Do Not Email</th>\n",
       "      <th>Do Not Call</th>\n",
       "      <th>TotalVisits</th>\n",
       "      <th>Total Time Spent on Website</th>\n",
       "      <th>Page Views Per Visit</th>\n",
       "      <th>A free copy of Mastering The Interview</th>\n",
       "      <th>Lead Origin_Landing Page Submission</th>\n",
       "      <th>Lead Origin_Lead Add Form</th>\n",
       "      <th>Lead Origin_Lead Import</th>\n",
       "      <th>Lead Source_Direct Traffic</th>\n",
       "      <th>...</th>\n",
       "      <th>Specialization_Travel and Tourism</th>\n",
       "      <th>Lead Quality_Low in Relevance</th>\n",
       "      <th>Lead Quality_Might be</th>\n",
       "      <th>Lead Quality_Not Sure</th>\n",
       "      <th>Lead Quality_Worst</th>\n",
       "      <th>City_Other Cities</th>\n",
       "      <th>City_Other Cities of Maharashtra</th>\n",
       "      <th>City_Other Metro Cities</th>\n",
       "      <th>City_Thane &amp; Outskirts</th>\n",
       "      <th>City_Tier II Cities</th>\n",
       "    </tr>\n",
       "  </thead>\n",
       "  <tbody>\n",
       "    <tr>\n",
       "      <th>1681</th>\n",
       "      <td>0</td>\n",
       "      <td>0</td>\n",
       "      <td>-1.126777</td>\n",
       "      <td>-0.842055</td>\n",
       "      <td>-1.114806</td>\n",
       "      <td>0</td>\n",
       "      <td>0</td>\n",
       "      <td>0</td>\n",
       "      <td>0</td>\n",
       "      <td>0</td>\n",
       "      <td>...</td>\n",
       "      <td>0</td>\n",
       "      <td>0</td>\n",
       "      <td>0</td>\n",
       "      <td>1</td>\n",
       "      <td>0</td>\n",
       "      <td>0</td>\n",
       "      <td>0</td>\n",
       "      <td>0</td>\n",
       "      <td>0</td>\n",
       "      <td>0</td>\n",
       "    </tr>\n",
       "    <tr>\n",
       "      <th>7851</th>\n",
       "      <td>0</td>\n",
       "      <td>0</td>\n",
       "      <td>0.898886</td>\n",
       "      <td>2.190918</td>\n",
       "      <td>0.171575</td>\n",
       "      <td>0</td>\n",
       "      <td>1</td>\n",
       "      <td>0</td>\n",
       "      <td>0</td>\n",
       "      <td>0</td>\n",
       "      <td>...</td>\n",
       "      <td>0</td>\n",
       "      <td>0</td>\n",
       "      <td>1</td>\n",
       "      <td>0</td>\n",
       "      <td>0</td>\n",
       "      <td>0</td>\n",
       "      <td>0</td>\n",
       "      <td>0</td>\n",
       "      <td>0</td>\n",
       "      <td>0</td>\n",
       "    </tr>\n",
       "    <tr>\n",
       "      <th>2209</th>\n",
       "      <td>0</td>\n",
       "      <td>0</td>\n",
       "      <td>0.088620</td>\n",
       "      <td>2.442256</td>\n",
       "      <td>0.428851</td>\n",
       "      <td>1</td>\n",
       "      <td>1</td>\n",
       "      <td>0</td>\n",
       "      <td>0</td>\n",
       "      <td>1</td>\n",
       "      <td>...</td>\n",
       "      <td>0</td>\n",
       "      <td>0</td>\n",
       "      <td>0</td>\n",
       "      <td>0</td>\n",
       "      <td>1</td>\n",
       "      <td>0</td>\n",
       "      <td>0</td>\n",
       "      <td>0</td>\n",
       "      <td>0</td>\n",
       "      <td>0</td>\n",
       "    </tr>\n",
       "    <tr>\n",
       "      <th>8077</th>\n",
       "      <td>0</td>\n",
       "      <td>0</td>\n",
       "      <td>-1.126777</td>\n",
       "      <td>-0.842055</td>\n",
       "      <td>-1.114806</td>\n",
       "      <td>0</td>\n",
       "      <td>0</td>\n",
       "      <td>1</td>\n",
       "      <td>0</td>\n",
       "      <td>0</td>\n",
       "      <td>...</td>\n",
       "      <td>0</td>\n",
       "      <td>0</td>\n",
       "      <td>1</td>\n",
       "      <td>0</td>\n",
       "      <td>0</td>\n",
       "      <td>0</td>\n",
       "      <td>0</td>\n",
       "      <td>0</td>\n",
       "      <td>0</td>\n",
       "      <td>0</td>\n",
       "    </tr>\n",
       "    <tr>\n",
       "      <th>7255</th>\n",
       "      <td>0</td>\n",
       "      <td>0</td>\n",
       "      <td>-1.126777</td>\n",
       "      <td>-0.842055</td>\n",
       "      <td>-1.114806</td>\n",
       "      <td>0</td>\n",
       "      <td>0</td>\n",
       "      <td>0</td>\n",
       "      <td>0</td>\n",
       "      <td>0</td>\n",
       "      <td>...</td>\n",
       "      <td>0</td>\n",
       "      <td>0</td>\n",
       "      <td>0</td>\n",
       "      <td>1</td>\n",
       "      <td>0</td>\n",
       "      <td>0</td>\n",
       "      <td>0</td>\n",
       "      <td>0</td>\n",
       "      <td>0</td>\n",
       "      <td>0</td>\n",
       "    </tr>\n",
       "  </tbody>\n",
       "</table>\n",
       "<p>5 rows × 60 columns</p>\n",
       "</div>"
      ],
      "text/plain": [
       "      Do Not Email  Do Not Call  TotalVisits  Total Time Spent on Website  \\\n",
       "1681             0            0    -1.126777                    -0.842055   \n",
       "7851             0            0     0.898886                     2.190918   \n",
       "2209             0            0     0.088620                     2.442256   \n",
       "8077             0            0    -1.126777                    -0.842055   \n",
       "7255             0            0    -1.126777                    -0.842055   \n",
       "\n",
       "      Page Views Per Visit  A free copy of Mastering The Interview  \\\n",
       "1681             -1.114806                                       0   \n",
       "7851              0.171575                                       0   \n",
       "2209              0.428851                                       1   \n",
       "8077             -1.114806                                       0   \n",
       "7255             -1.114806                                       0   \n",
       "\n",
       "      Lead Origin_Landing Page Submission  Lead Origin_Lead Add Form  \\\n",
       "1681                                    0                          0   \n",
       "7851                                    1                          0   \n",
       "2209                                    1                          0   \n",
       "8077                                    0                          1   \n",
       "7255                                    0                          0   \n",
       "\n",
       "      Lead Origin_Lead Import  Lead Source_Direct Traffic  ...  \\\n",
       "1681                        0                           0  ...   \n",
       "7851                        0                           0  ...   \n",
       "2209                        0                           1  ...   \n",
       "8077                        0                           0  ...   \n",
       "7255                        0                           0  ...   \n",
       "\n",
       "      Specialization_Travel and Tourism  Lead Quality_Low in Relevance  \\\n",
       "1681                                  0                              0   \n",
       "7851                                  0                              0   \n",
       "2209                                  0                              0   \n",
       "8077                                  0                              0   \n",
       "7255                                  0                              0   \n",
       "\n",
       "      Lead Quality_Might be  Lead Quality_Not Sure  Lead Quality_Worst  \\\n",
       "1681                      0                      1                   0   \n",
       "7851                      1                      0                   0   \n",
       "2209                      0                      0                   1   \n",
       "8077                      1                      0                   0   \n",
       "7255                      0                      1                   0   \n",
       "\n",
       "      City_Other Cities  City_Other Cities of Maharashtra  \\\n",
       "1681                  0                                 0   \n",
       "7851                  0                                 0   \n",
       "2209                  0                                 0   \n",
       "8077                  0                                 0   \n",
       "7255                  0                                 0   \n",
       "\n",
       "      City_Other Metro Cities  City_Thane & Outskirts  City_Tier II Cities  \n",
       "1681                        0                       0                    0  \n",
       "7851                        0                       0                    0  \n",
       "2209                        0                       0                    0  \n",
       "8077                        0                       0                    0  \n",
       "7255                        0                       0                    0  \n",
       "\n",
       "[5 rows x 60 columns]"
      ]
     },
     "execution_count": 644,
     "metadata": {},
     "output_type": "execute_result"
    }
   ],
   "source": [
    "# Fit and Transform scaler on the Numerical variables\n",
    "\n",
    "X_train[['TotalVisits', 'Total Time Spent on Website', 'Page Views Per Visit']] = scaler.fit_transform(X_train[['TotalVisits', 'Total Time Spent on Website', 'Page Views Per Visit']])\n",
    "X_train.head()"
   ]
  },
  {
   "cell_type": "code",
   "execution_count": 645,
   "metadata": {},
   "outputs": [
    {
     "data": {
      "text/plain": [
       "0    65.826009\n",
       "1    34.173991\n",
       "Name: Converted, dtype: float64"
      ]
     },
     "execution_count": 645,
     "metadata": {},
     "output_type": "execute_result"
    }
   ],
   "source": [
    "# Checking the current Conversion rate\n",
    "\n",
    "leads.Converted.value_counts(normalize=True)*100"
   ]
  },
  {
   "cell_type": "markdown",
   "metadata": {},
   "source": [
    "<b> We currently have a conversion rate of 34%. Our aim is to push it to around 80%. </b>"
   ]
  },
  {
   "cell_type": "code",
   "execution_count": null,
   "metadata": {},
   "outputs": [],
   "source": []
  },
  {
   "cell_type": "markdown",
   "metadata": {},
   "source": [
    "## 10. Model Building"
   ]
  },
  {
   "cell_type": "code",
   "execution_count": 646,
   "metadata": {},
   "outputs": [],
   "source": [
    "# Import package\n",
    "\n",
    "import statsmodels.api as sm"
   ]
  },
  {
   "cell_type": "code",
   "execution_count": 647,
   "metadata": {},
   "outputs": [
    {
     "data": {
      "text/html": [
       "<table class=\"simpletable\">\n",
       "<caption>Generalized Linear Model Regression Results</caption>\n",
       "<tr>\n",
       "  <th>Dep. Variable:</th>       <td>Converted</td>    <th>  No. Observations:  </th>  <td>  5495</td> \n",
       "</tr>\n",
       "<tr>\n",
       "  <th>Model:</th>                  <td>GLM</td>       <th>  Df Residuals:      </th>  <td>  5436</td> \n",
       "</tr>\n",
       "<tr>\n",
       "  <th>Model Family:</th>        <td>Binomial</td>     <th>  Df Model:          </th>  <td>    58</td> \n",
       "</tr>\n",
       "<tr>\n",
       "  <th>Link Function:</th>         <td>logit</td>      <th>  Scale:             </th> <td>  1.0000</td>\n",
       "</tr>\n",
       "<tr>\n",
       "  <th>Method:</th>                <td>IRLS</td>       <th>  Log-Likelihood:    </th> <td>     nan</td>\n",
       "</tr>\n",
       "<tr>\n",
       "  <th>Date:</th>            <td>Wed, 14 Jul 2021</td> <th>  Deviance:          </th> <td>     nan</td>\n",
       "</tr>\n",
       "<tr>\n",
       "  <th>Time:</th>                <td>18:12:47</td>     <th>  Pearson chi2:      </th> <td>5.74e+18</td>\n",
       "</tr>\n",
       "<tr>\n",
       "  <th>No. Iterations:</th>         <td>100</td>       <th>                     </th>     <td> </td>   \n",
       "</tr>\n",
       "<tr>\n",
       "  <th>Covariance Type:</th>     <td>nonrobust</td>    <th>                     </th>     <td> </td>   \n",
       "</tr>\n",
       "</table>\n",
       "<table class=\"simpletable\">\n",
       "<tr>\n",
       "                      <td></td>                        <th>coef</th>     <th>std err</th>      <th>z</th>      <th>P>|z|</th>  <th>[0.025</th>    <th>0.975]</th>  \n",
       "</tr>\n",
       "<tr>\n",
       "  <th>const</th>                                    <td> 1.981e+15</td> <td> 6.19e+07</td> <td>  3.2e+07</td> <td> 0.000</td> <td> 1.98e+15</td> <td> 1.98e+15</td>\n",
       "</tr>\n",
       "<tr>\n",
       "  <th>Do Not Email</th>                             <td>-4.953e+14</td> <td> 3.85e+06</td> <td>-1.29e+08</td> <td> 0.000</td> <td>-4.95e+14</td> <td>-4.95e+14</td>\n",
       "</tr>\n",
       "<tr>\n",
       "  <th>Do Not Call</th>                              <td> 4.815e+15</td> <td> 6.77e+07</td> <td> 7.11e+07</td> <td> 0.000</td> <td> 4.81e+15</td> <td> 4.81e+15</td>\n",
       "</tr>\n",
       "<tr>\n",
       "  <th>TotalVisits</th>                              <td> 1.115e+14</td> <td> 1.73e+06</td> <td> 6.44e+07</td> <td> 0.000</td> <td> 1.12e+14</td> <td> 1.12e+14</td>\n",
       "</tr>\n",
       "<tr>\n",
       "  <th>Total Time Spent on Website</th>              <td> 8.733e+13</td> <td> 1.09e+06</td> <td> 7.99e+07</td> <td> 0.000</td> <td> 8.73e+13</td> <td> 8.73e+13</td>\n",
       "</tr>\n",
       "<tr>\n",
       "  <th>Page Views Per Visit</th>                     <td>-1.019e+14</td> <td> 1.72e+06</td> <td>-5.93e+07</td> <td> 0.000</td> <td>-1.02e+14</td> <td>-1.02e+14</td>\n",
       "</tr>\n",
       "<tr>\n",
       "  <th>A free copy of Mastering The Interview</th>   <td>  8.02e+13</td> <td> 3.02e+06</td> <td> 2.65e+07</td> <td> 0.000</td> <td> 8.02e+13</td> <td> 8.02e+13</td>\n",
       "</tr>\n",
       "<tr>\n",
       "  <th>Lead Origin_Landing Page Submission</th>      <td>-1.979e+13</td> <td> 3.75e+06</td> <td>-5.27e+06</td> <td> 0.000</td> <td>-1.98e+13</td> <td>-1.98e+13</td>\n",
       "</tr>\n",
       "<tr>\n",
       "  <th>Lead Origin_Lead Add Form</th>                <td>-2.586e+14</td> <td> 4.77e+07</td> <td>-5.42e+06</td> <td> 0.000</td> <td>-2.59e+14</td> <td>-2.59e+14</td>\n",
       "</tr>\n",
       "<tr>\n",
       "  <th>Lead Origin_Lead Import</th>                  <td>-8.373e+14</td> <td> 3.16e+07</td> <td>-2.65e+07</td> <td> 0.000</td> <td>-8.37e+14</td> <td>-8.37e+14</td>\n",
       "</tr>\n",
       "<tr>\n",
       "  <th>Lead Source_Direct Traffic</th>               <td>-1.558e+15</td> <td> 6.15e+07</td> <td>-2.53e+07</td> <td> 0.000</td> <td>-1.56e+15</td> <td>-1.56e+15</td>\n",
       "</tr>\n",
       "<tr>\n",
       "  <th>Lead Source_Facebook</th>                     <td>-8.373e+14</td> <td> 3.16e+07</td> <td>-2.65e+07</td> <td> 0.000</td> <td>-8.37e+14</td> <td>-8.37e+14</td>\n",
       "</tr>\n",
       "<tr>\n",
       "  <th>Lead Source_Google</th>                       <td>-1.494e+15</td> <td> 6.15e+07</td> <td>-2.43e+07</td> <td> 0.000</td> <td>-1.49e+15</td> <td>-1.49e+15</td>\n",
       "</tr>\n",
       "<tr>\n",
       "  <th>Lead Source_Live Chat</th>                    <td>-1.597e+15</td> <td> 7.76e+07</td> <td>-2.06e+07</td> <td> 0.000</td> <td> -1.6e+15</td> <td> -1.6e+15</td>\n",
       "</tr>\n",
       "<tr>\n",
       "  <th>Lead Source_NC_EDM</th>                       <td> 3.485e+15</td> <td> 9.11e+07</td> <td> 3.83e+07</td> <td> 0.000</td> <td> 3.48e+15</td> <td> 3.48e+15</td>\n",
       "</tr>\n",
       "<tr>\n",
       "  <th>Lead Source_Olark Chat</th>                   <td>-7.532e+14</td> <td> 6.15e+07</td> <td>-1.22e+07</td> <td> 0.000</td> <td>-7.53e+14</td> <td>-7.53e+14</td>\n",
       "</tr>\n",
       "<tr>\n",
       "  <th>Lead Source_Organic Search</th>               <td>-1.578e+15</td> <td> 6.15e+07</td> <td>-2.56e+07</td> <td> 0.000</td> <td>-1.58e+15</td> <td>-1.58e+15</td>\n",
       "</tr>\n",
       "<tr>\n",
       "  <th>Lead Source_Pay per Click Ads</th>            <td>-5.212e+15</td> <td> 9.12e+07</td> <td>-5.71e+07</td> <td> 0.000</td> <td>-5.21e+15</td> <td>-5.21e+15</td>\n",
       "</tr>\n",
       "<tr>\n",
       "  <th>Lead Source_Press_Release</th>                <td> 5.947e+14</td> <td> 9.14e+07</td> <td>  6.5e+06</td> <td> 0.000</td> <td> 5.95e+14</td> <td> 5.95e+14</td>\n",
       "</tr>\n",
       "<tr>\n",
       "  <th>Lead Source_Reference</th>                    <td>-7.192e+14</td> <td>  3.9e+07</td> <td>-1.84e+07</td> <td> 0.000</td> <td>-7.19e+14</td> <td>-7.19e+14</td>\n",
       "</tr>\n",
       "<tr>\n",
       "  <th>Lead Source_Referral Sites</th>               <td>-1.565e+15</td> <td>  6.2e+07</td> <td>-2.52e+07</td> <td> 0.000</td> <td>-1.56e+15</td> <td>-1.56e+15</td>\n",
       "</tr>\n",
       "<tr>\n",
       "  <th>Lead Source_Social Media</th>                 <td> 3.745e+15</td> <td> 9.13e+07</td> <td>  4.1e+07</td> <td> 0.000</td> <td> 3.74e+15</td> <td> 3.74e+15</td>\n",
       "</tr>\n",
       "<tr>\n",
       "  <th>Lead Source_WeLearn</th>                      <td>  -29.0109</td> <td> 4.58e-07</td> <td>-6.33e+07</td> <td> 0.000</td> <td>  -29.011</td> <td>  -29.011</td>\n",
       "</tr>\n",
       "<tr>\n",
       "  <th>Lead Source_Welingak Website</th>             <td> 2.801e+14</td> <td> 3.96e+07</td> <td> 7.06e+06</td> <td> 0.000</td> <td>  2.8e+14</td> <td>  2.8e+14</td>\n",
       "</tr>\n",
       "<tr>\n",
       "  <th>Lead Source_bing</th>                         <td>-9.404e+14</td> <td> 6.84e+07</td> <td>-1.37e+07</td> <td> 0.000</td> <td> -9.4e+14</td> <td> -9.4e+14</td>\n",
       "</tr>\n",
       "<tr>\n",
       "  <th>Lead Source_blog</th>                         <td> -7.94e+14</td> <td> 9.11e+07</td> <td>-8.71e+06</td> <td> 0.000</td> <td>-7.94e+14</td> <td>-7.94e+14</td>\n",
       "</tr>\n",
       "<tr>\n",
       "  <th>Lead Source_testone</th>                      <td>-4.231e+15</td> <td> 9.12e+07</td> <td>-4.64e+07</td> <td> 0.000</td> <td>-4.23e+15</td> <td>-4.23e+15</td>\n",
       "</tr>\n",
       "<tr>\n",
       "  <th>Lead Source_welearnblog_Home</th>             <td>-5.297e+15</td> <td> 9.12e+07</td> <td>-5.81e+07</td> <td> 0.000</td> <td> -5.3e+15</td> <td> -5.3e+15</td>\n",
       "</tr>\n",
       "<tr>\n",
       "  <th>Lead Source_youtubechannel</th>               <td>-2.711e+14</td> <td> 9.12e+07</td> <td>-2.97e+06</td> <td> 0.000</td> <td>-2.71e+14</td> <td>-2.71e+14</td>\n",
       "</tr>\n",
       "<tr>\n",
       "  <th>Last Activity_Email Opened</th>               <td> 2.714e+14</td> <td>  4.4e+06</td> <td> 6.17e+07</td> <td> 0.000</td> <td> 2.71e+14</td> <td> 2.71e+14</td>\n",
       "</tr>\n",
       "<tr>\n",
       "  <th>Last Activity_Olark Chat Conversation</th>    <td>-3.352e+14</td> <td> 5.17e+06</td> <td>-6.49e+07</td> <td> 0.000</td> <td>-3.35e+14</td> <td>-3.35e+14</td>\n",
       "</tr>\n",
       "<tr>\n",
       "  <th>Last Activity_Other</th>                      <td> 1.791e+14</td> <td> 5.23e+06</td> <td> 3.42e+07</td> <td> 0.000</td> <td> 1.79e+14</td> <td> 1.79e+14</td>\n",
       "</tr>\n",
       "<tr>\n",
       "  <th>Last Activity_Page Visited on Website</th>    <td> 6.632e+13</td> <td> 5.69e+06</td> <td> 1.17e+07</td> <td> 0.000</td> <td> 6.63e+13</td> <td> 6.63e+13</td>\n",
       "</tr>\n",
       "<tr>\n",
       "  <th>Last Activity_SMS Sent</th>                   <td> 1.212e+15</td> <td> 4.54e+06</td> <td> 2.67e+08</td> <td> 0.000</td> <td> 1.21e+15</td> <td> 1.21e+15</td>\n",
       "</tr>\n",
       "<tr>\n",
       "  <th>Specialization_Business Administration</th>   <td>-3.704e+13</td> <td> 6.57e+06</td> <td>-5.64e+06</td> <td> 0.000</td> <td> -3.7e+13</td> <td> -3.7e+13</td>\n",
       "</tr>\n",
       "<tr>\n",
       "  <th>Specialization_E-Business</th>                <td>-1.812e+14</td> <td> 1.24e+07</td> <td>-1.46e+07</td> <td> 0.000</td> <td>-1.81e+14</td> <td>-1.81e+14</td>\n",
       "</tr>\n",
       "<tr>\n",
       "  <th>Specialization_E-COMMERCE</th>                <td> 1.432e+14</td> <td> 9.36e+06</td> <td> 1.53e+07</td> <td> 0.000</td> <td> 1.43e+14</td> <td> 1.43e+14</td>\n",
       "</tr>\n",
       "<tr>\n",
       "  <th>Specialization_Finance Management</th>        <td> 3.724e+13</td> <td> 5.59e+06</td> <td> 6.66e+06</td> <td> 0.000</td> <td> 3.72e+13</td> <td> 3.72e+13</td>\n",
       "</tr>\n",
       "<tr>\n",
       "  <th>Specialization_Healthcare Management</th>     <td> 3.247e+13</td> <td>  8.7e+06</td> <td> 3.73e+06</td> <td> 0.000</td> <td> 3.25e+13</td> <td> 3.25e+13</td>\n",
       "</tr>\n",
       "<tr>\n",
       "  <th>Specialization_Hospitality Management</th>    <td> -1.53e+14</td> <td> 9.89e+06</td> <td>-1.55e+07</td> <td> 0.000</td> <td>-1.53e+14</td> <td>-1.53e+14</td>\n",
       "</tr>\n",
       "<tr>\n",
       "  <th>Specialization_Human Resource Management</th> <td>-1.193e+14</td> <td> 5.71e+06</td> <td>-2.09e+07</td> <td> 0.000</td> <td>-1.19e+14</td> <td>-1.19e+14</td>\n",
       "</tr>\n",
       "<tr>\n",
       "  <th>Specialization_IT Projects Management</th>    <td> 1.614e+14</td> <td> 6.69e+06</td> <td> 2.41e+07</td> <td> 0.000</td> <td> 1.61e+14</td> <td> 1.61e+14</td>\n",
       "</tr>\n",
       "<tr>\n",
       "  <th>Specialization_International Business</th>    <td>-8.105e+13</td> <td> 8.12e+06</td> <td>-9.98e+06</td> <td> 0.000</td> <td>-8.11e+13</td> <td>-8.11e+13</td>\n",
       "</tr>\n",
       "<tr>\n",
       "  <th>Specialization_Marketing Management</th>      <td> 6.155e+13</td> <td> 5.69e+06</td> <td> 1.08e+07</td> <td> 0.000</td> <td> 6.16e+13</td> <td> 6.16e+13</td>\n",
       "</tr>\n",
       "<tr>\n",
       "  <th>Specialization_Media and Advertising</th>     <td>-1.543e+14</td> <td> 8.25e+06</td> <td>-1.87e+07</td> <td> 0.000</td> <td>-1.54e+14</td> <td>-1.54e+14</td>\n",
       "</tr>\n",
       "<tr>\n",
       "  <th>Specialization_Operations Management</th>     <td> 1.471e+14</td> <td> 6.21e+06</td> <td> 2.37e+07</td> <td> 0.000</td> <td> 1.47e+14</td> <td> 1.47e+14</td>\n",
       "</tr>\n",
       "<tr>\n",
       "  <th>Specialization_Others</th>                    <td>  1.78e+14</td> <td> 5.82e+06</td> <td> 3.06e+07</td> <td> 0.000</td> <td> 1.78e+14</td> <td> 1.78e+14</td>\n",
       "</tr>\n",
       "<tr>\n",
       "  <th>Specialization_Retail Management</th>         <td> 3.106e+14</td> <td> 1.04e+07</td> <td> 2.98e+07</td> <td> 0.000</td> <td> 3.11e+14</td> <td> 3.11e+14</td>\n",
       "</tr>\n",
       "<tr>\n",
       "  <th>Specialization_Rural and Agribusiness</th>    <td> 2.303e+14</td> <td> 1.26e+07</td> <td> 1.83e+07</td> <td> 0.000</td> <td>  2.3e+14</td> <td>  2.3e+14</td>\n",
       "</tr>\n",
       "<tr>\n",
       "  <th>Specialization_Services Excellence</th>       <td>-1.032e+14</td> <td> 1.52e+07</td> <td>-6.79e+06</td> <td> 0.000</td> <td>-1.03e+14</td> <td>-1.03e+14</td>\n",
       "</tr>\n",
       "<tr>\n",
       "  <th>Specialization_Supply Chain Management</th>   <td>-5.995e+13</td> <td>  6.8e+06</td> <td>-8.82e+06</td> <td> 0.000</td> <td>   -6e+13</td> <td>   -6e+13</td>\n",
       "</tr>\n",
       "<tr>\n",
       "  <th>Specialization_Travel and Tourism</th>        <td>-8.296e+13</td> <td> 8.06e+06</td> <td>-1.03e+07</td> <td> 0.000</td> <td> -8.3e+13</td> <td> -8.3e+13</td>\n",
       "</tr>\n",
       "<tr>\n",
       "  <th>Lead Quality_Low in Relevance</th>            <td>-7.065e+13</td> <td> 5.36e+06</td> <td>-1.32e+07</td> <td> 0.000</td> <td>-7.06e+13</td> <td>-7.06e+13</td>\n",
       "</tr>\n",
       "<tr>\n",
       "  <th>Lead Quality_Might be</th>                    <td>-9.261e+14</td> <td> 4.58e+06</td> <td>-2.02e+08</td> <td> 0.000</td> <td>-9.26e+14</td> <td>-9.26e+14</td>\n",
       "</tr>\n",
       "<tr>\n",
       "  <th>Lead Quality_Not Sure</th>                    <td> -1.43e+15</td> <td> 4.31e+06</td> <td>-3.32e+08</td> <td> 0.000</td> <td>-1.43e+15</td> <td>-1.43e+15</td>\n",
       "</tr>\n",
       "<tr>\n",
       "  <th>Lead Quality_Worst</th>                       <td>-2.094e+15</td> <td> 5.48e+06</td> <td>-3.82e+08</td> <td> 0.000</td> <td>-2.09e+15</td> <td>-2.09e+15</td>\n",
       "</tr>\n",
       "<tr>\n",
       "  <th>City_Other Cities</th>                        <td>-3.201e+14</td> <td> 3.75e+06</td> <td>-8.54e+07</td> <td> 0.000</td> <td> -3.2e+14</td> <td> -3.2e+14</td>\n",
       "</tr>\n",
       "<tr>\n",
       "  <th>City_Other Cities of Maharashtra</th>         <td>-4.843e+13</td> <td> 4.51e+06</td> <td>-1.07e+07</td> <td> 0.000</td> <td>-4.84e+13</td> <td>-4.84e+13</td>\n",
       "</tr>\n",
       "<tr>\n",
       "  <th>City_Other Metro Cities</th>                  <td>-3.794e+13</td> <td> 4.85e+06</td> <td>-7.82e+06</td> <td> 0.000</td> <td>-3.79e+13</td> <td>-3.79e+13</td>\n",
       "</tr>\n",
       "<tr>\n",
       "  <th>City_Thane & Outskirts</th>                   <td>-1.606e+14</td> <td> 3.59e+06</td> <td>-4.48e+07</td> <td> 0.000</td> <td>-1.61e+14</td> <td>-1.61e+14</td>\n",
       "</tr>\n",
       "<tr>\n",
       "  <th>City_Tier II Cities</th>                      <td> 2.018e+14</td> <td> 1.07e+07</td> <td> 1.88e+07</td> <td> 0.000</td> <td> 2.02e+14</td> <td> 2.02e+14</td>\n",
       "</tr>\n",
       "</table>"
      ],
      "text/plain": [
       "<class 'statsmodels.iolib.summary.Summary'>\n",
       "\"\"\"\n",
       "                 Generalized Linear Model Regression Results                  \n",
       "==============================================================================\n",
       "Dep. Variable:              Converted   No. Observations:                 5495\n",
       "Model:                            GLM   Df Residuals:                     5436\n",
       "Model Family:                Binomial   Df Model:                           58\n",
       "Link Function:                  logit   Scale:                          1.0000\n",
       "Method:                          IRLS   Log-Likelihood:                    nan\n",
       "Date:                Wed, 14 Jul 2021   Deviance:                          nan\n",
       "Time:                        18:12:47   Pearson chi2:                 5.74e+18\n",
       "No. Iterations:                   100                                         \n",
       "Covariance Type:            nonrobust                                         \n",
       "============================================================================================================\n",
       "                                               coef    std err          z      P>|z|      [0.025      0.975]\n",
       "------------------------------------------------------------------------------------------------------------\n",
       "const                                     1.981e+15   6.19e+07    3.2e+07      0.000    1.98e+15    1.98e+15\n",
       "Do Not Email                             -4.953e+14   3.85e+06  -1.29e+08      0.000   -4.95e+14   -4.95e+14\n",
       "Do Not Call                               4.815e+15   6.77e+07   7.11e+07      0.000    4.81e+15    4.81e+15\n",
       "TotalVisits                               1.115e+14   1.73e+06   6.44e+07      0.000    1.12e+14    1.12e+14\n",
       "Total Time Spent on Website               8.733e+13   1.09e+06   7.99e+07      0.000    8.73e+13    8.73e+13\n",
       "Page Views Per Visit                     -1.019e+14   1.72e+06  -5.93e+07      0.000   -1.02e+14   -1.02e+14\n",
       "A free copy of Mastering The Interview     8.02e+13   3.02e+06   2.65e+07      0.000    8.02e+13    8.02e+13\n",
       "Lead Origin_Landing Page Submission      -1.979e+13   3.75e+06  -5.27e+06      0.000   -1.98e+13   -1.98e+13\n",
       "Lead Origin_Lead Add Form                -2.586e+14   4.77e+07  -5.42e+06      0.000   -2.59e+14   -2.59e+14\n",
       "Lead Origin_Lead Import                  -8.373e+14   3.16e+07  -2.65e+07      0.000   -8.37e+14   -8.37e+14\n",
       "Lead Source_Direct Traffic               -1.558e+15   6.15e+07  -2.53e+07      0.000   -1.56e+15   -1.56e+15\n",
       "Lead Source_Facebook                     -8.373e+14   3.16e+07  -2.65e+07      0.000   -8.37e+14   -8.37e+14\n",
       "Lead Source_Google                       -1.494e+15   6.15e+07  -2.43e+07      0.000   -1.49e+15   -1.49e+15\n",
       "Lead Source_Live Chat                    -1.597e+15   7.76e+07  -2.06e+07      0.000    -1.6e+15    -1.6e+15\n",
       "Lead Source_NC_EDM                        3.485e+15   9.11e+07   3.83e+07      0.000    3.48e+15    3.48e+15\n",
       "Lead Source_Olark Chat                   -7.532e+14   6.15e+07  -1.22e+07      0.000   -7.53e+14   -7.53e+14\n",
       "Lead Source_Organic Search               -1.578e+15   6.15e+07  -2.56e+07      0.000   -1.58e+15   -1.58e+15\n",
       "Lead Source_Pay per Click Ads            -5.212e+15   9.12e+07  -5.71e+07      0.000   -5.21e+15   -5.21e+15\n",
       "Lead Source_Press_Release                 5.947e+14   9.14e+07    6.5e+06      0.000    5.95e+14    5.95e+14\n",
       "Lead Source_Reference                    -7.192e+14    3.9e+07  -1.84e+07      0.000   -7.19e+14   -7.19e+14\n",
       "Lead Source_Referral Sites               -1.565e+15    6.2e+07  -2.52e+07      0.000   -1.56e+15   -1.56e+15\n",
       "Lead Source_Social Media                  3.745e+15   9.13e+07    4.1e+07      0.000    3.74e+15    3.74e+15\n",
       "Lead Source_WeLearn                        -29.0109   4.58e-07  -6.33e+07      0.000     -29.011     -29.011\n",
       "Lead Source_Welingak Website              2.801e+14   3.96e+07   7.06e+06      0.000     2.8e+14     2.8e+14\n",
       "Lead Source_bing                         -9.404e+14   6.84e+07  -1.37e+07      0.000    -9.4e+14    -9.4e+14\n",
       "Lead Source_blog                          -7.94e+14   9.11e+07  -8.71e+06      0.000   -7.94e+14   -7.94e+14\n",
       "Lead Source_testone                      -4.231e+15   9.12e+07  -4.64e+07      0.000   -4.23e+15   -4.23e+15\n",
       "Lead Source_welearnblog_Home             -5.297e+15   9.12e+07  -5.81e+07      0.000    -5.3e+15    -5.3e+15\n",
       "Lead Source_youtubechannel               -2.711e+14   9.12e+07  -2.97e+06      0.000   -2.71e+14   -2.71e+14\n",
       "Last Activity_Email Opened                2.714e+14    4.4e+06   6.17e+07      0.000    2.71e+14    2.71e+14\n",
       "Last Activity_Olark Chat Conversation    -3.352e+14   5.17e+06  -6.49e+07      0.000   -3.35e+14   -3.35e+14\n",
       "Last Activity_Other                       1.791e+14   5.23e+06   3.42e+07      0.000    1.79e+14    1.79e+14\n",
       "Last Activity_Page Visited on Website     6.632e+13   5.69e+06   1.17e+07      0.000    6.63e+13    6.63e+13\n",
       "Last Activity_SMS Sent                    1.212e+15   4.54e+06   2.67e+08      0.000    1.21e+15    1.21e+15\n",
       "Specialization_Business Administration   -3.704e+13   6.57e+06  -5.64e+06      0.000    -3.7e+13    -3.7e+13\n",
       "Specialization_E-Business                -1.812e+14   1.24e+07  -1.46e+07      0.000   -1.81e+14   -1.81e+14\n",
       "Specialization_E-COMMERCE                 1.432e+14   9.36e+06   1.53e+07      0.000    1.43e+14    1.43e+14\n",
       "Specialization_Finance Management         3.724e+13   5.59e+06   6.66e+06      0.000    3.72e+13    3.72e+13\n",
       "Specialization_Healthcare Management      3.247e+13    8.7e+06   3.73e+06      0.000    3.25e+13    3.25e+13\n",
       "Specialization_Hospitality Management     -1.53e+14   9.89e+06  -1.55e+07      0.000   -1.53e+14   -1.53e+14\n",
       "Specialization_Human Resource Management -1.193e+14   5.71e+06  -2.09e+07      0.000   -1.19e+14   -1.19e+14\n",
       "Specialization_IT Projects Management     1.614e+14   6.69e+06   2.41e+07      0.000    1.61e+14    1.61e+14\n",
       "Specialization_International Business    -8.105e+13   8.12e+06  -9.98e+06      0.000   -8.11e+13   -8.11e+13\n",
       "Specialization_Marketing Management       6.155e+13   5.69e+06   1.08e+07      0.000    6.16e+13    6.16e+13\n",
       "Specialization_Media and Advertising     -1.543e+14   8.25e+06  -1.87e+07      0.000   -1.54e+14   -1.54e+14\n",
       "Specialization_Operations Management      1.471e+14   6.21e+06   2.37e+07      0.000    1.47e+14    1.47e+14\n",
       "Specialization_Others                      1.78e+14   5.82e+06   3.06e+07      0.000    1.78e+14    1.78e+14\n",
       "Specialization_Retail Management          3.106e+14   1.04e+07   2.98e+07      0.000    3.11e+14    3.11e+14\n",
       "Specialization_Rural and Agribusiness     2.303e+14   1.26e+07   1.83e+07      0.000     2.3e+14     2.3e+14\n",
       "Specialization_Services Excellence       -1.032e+14   1.52e+07  -6.79e+06      0.000   -1.03e+14   -1.03e+14\n",
       "Specialization_Supply Chain Management   -5.995e+13    6.8e+06  -8.82e+06      0.000      -6e+13      -6e+13\n",
       "Specialization_Travel and Tourism        -8.296e+13   8.06e+06  -1.03e+07      0.000    -8.3e+13    -8.3e+13\n",
       "Lead Quality_Low in Relevance            -7.065e+13   5.36e+06  -1.32e+07      0.000   -7.06e+13   -7.06e+13\n",
       "Lead Quality_Might be                    -9.261e+14   4.58e+06  -2.02e+08      0.000   -9.26e+14   -9.26e+14\n",
       "Lead Quality_Not Sure                     -1.43e+15   4.31e+06  -3.32e+08      0.000   -1.43e+15   -1.43e+15\n",
       "Lead Quality_Worst                       -2.094e+15   5.48e+06  -3.82e+08      0.000   -2.09e+15   -2.09e+15\n",
       "City_Other Cities                        -3.201e+14   3.75e+06  -8.54e+07      0.000    -3.2e+14    -3.2e+14\n",
       "City_Other Cities of Maharashtra         -4.843e+13   4.51e+06  -1.07e+07      0.000   -4.84e+13   -4.84e+13\n",
       "City_Other Metro Cities                  -3.794e+13   4.85e+06  -7.82e+06      0.000   -3.79e+13   -3.79e+13\n",
       "City_Thane & Outskirts                   -1.606e+14   3.59e+06  -4.48e+07      0.000   -1.61e+14   -1.61e+14\n",
       "City_Tier II Cities                       2.018e+14   1.07e+07   1.88e+07      0.000    2.02e+14    2.02e+14\n",
       "============================================================================================================\n",
       "\"\"\""
      ]
     },
     "execution_count": 647,
     "metadata": {},
     "output_type": "execute_result"
    }
   ],
   "source": [
    "# Logistic Regression Model\n",
    "\n",
    "logm0 = sm.GLM(y_train, (sm.add_constant(X_train)), family=sm.families.Binomial())\n",
    "logm0.fit().summary()"
   ]
  },
  {
   "cell_type": "markdown",
   "metadata": {},
   "source": [
    "### 10.1 Feature Selection using RFE"
   ]
  },
  {
   "cell_type": "code",
   "execution_count": 648,
   "metadata": {},
   "outputs": [],
   "source": [
    "# Import required package\n",
    "\n",
    "# For logistic regression\n",
    "from sklearn.linear_model import LogisticRegression\n",
    "\n",
    "# Instantiate\n",
    "logreg = LogisticRegression()\n",
    "\n",
    "# For RFE \n",
    "from sklearn.feature_selection import RFE"
   ]
  },
  {
   "cell_type": "code",
   "execution_count": 649,
   "metadata": {},
   "outputs": [],
   "source": [
    "# Running RFE with 15 variables as output\n",
    "\n",
    "rfe = RFE(logreg, 20)\n",
    "\n",
    "rfe = rfe.fit(X_train, y_train)"
   ]
  },
  {
   "cell_type": "code",
   "execution_count": 650,
   "metadata": {},
   "outputs": [
    {
     "data": {
      "text/plain": [
       "[('Do Not Email', True, 1),\n",
       " ('Do Not Call', False, 7),\n",
       " ('TotalVisits', False, 10),\n",
       " ('Total Time Spent on Website', True, 1),\n",
       " ('Page Views Per Visit', False, 11),\n",
       " ('A free copy of Mastering The Interview', False, 27),\n",
       " ('Lead Origin_Landing Page Submission', True, 1),\n",
       " ('Lead Origin_Lead Add Form', True, 1),\n",
       " ('Lead Origin_Lead Import', False, 25),\n",
       " ('Lead Source_Direct Traffic', True, 1),\n",
       " ('Lead Source_Facebook', False, 32),\n",
       " ('Lead Source_Google', True, 1),\n",
       " ('Lead Source_Live Chat', False, 12),\n",
       " ('Lead Source_NC_EDM', True, 1),\n",
       " ('Lead Source_Olark Chat', True, 1),\n",
       " ('Lead Source_Organic Search', True, 1),\n",
       " ('Lead Source_Pay per Click Ads', False, 30),\n",
       " ('Lead Source_Press_Release', False, 39),\n",
       " ('Lead Source_Reference', False, 9),\n",
       " ('Lead Source_Referral Sites', True, 1),\n",
       " ('Lead Source_Social Media', False, 14),\n",
       " ('Lead Source_WeLearn', False, 41),\n",
       " ('Lead Source_Welingak Website', True, 1),\n",
       " ('Lead Source_bing', False, 28),\n",
       " ('Lead Source_blog', False, 13),\n",
       " ('Lead Source_testone', False, 38),\n",
       " ('Lead Source_welearnblog_Home', False, 24),\n",
       " ('Lead Source_youtubechannel', False, 31),\n",
       " ('Last Activity_Email Opened', True, 1),\n",
       " ('Last Activity_Olark Chat Conversation', True, 1),\n",
       " ('Last Activity_Other', False, 21),\n",
       " ('Last Activity_Page Visited on Website', False, 33),\n",
       " ('Last Activity_SMS Sent', True, 1),\n",
       " ('Specialization_Business Administration', False, 23),\n",
       " ('Specialization_E-Business', False, 15),\n",
       " ('Specialization_E-COMMERCE', False, 29),\n",
       " ('Specialization_Finance Management', False, 34),\n",
       " ('Specialization_Healthcare Management', False, 8),\n",
       " ('Specialization_Hospitality Management', False, 20),\n",
       " ('Specialization_Human Resource Management', False, 17),\n",
       " ('Specialization_IT Projects Management', False, 36),\n",
       " ('Specialization_International Business', False, 19),\n",
       " ('Specialization_Marketing Management', False, 40),\n",
       " ('Specialization_Media and Advertising', False, 3),\n",
       " ('Specialization_Operations Management', False, 35),\n",
       " ('Specialization_Others', True, 1),\n",
       " ('Specialization_Retail Management', False, 26),\n",
       " ('Specialization_Rural and Agribusiness', False, 2),\n",
       " ('Specialization_Services Excellence', True, 1),\n",
       " ('Specialization_Supply Chain Management', False, 16),\n",
       " ('Specialization_Travel and Tourism', False, 22),\n",
       " ('Lead Quality_Low in Relevance', True, 1),\n",
       " ('Lead Quality_Might be', True, 1),\n",
       " ('Lead Quality_Not Sure', True, 1),\n",
       " ('Lead Quality_Worst', True, 1),\n",
       " ('City_Other Cities', False, 5),\n",
       " ('City_Other Cities of Maharashtra', False, 18),\n",
       " ('City_Other Metro Cities', False, 37),\n",
       " ('City_Thane & Outskirts', False, 4),\n",
       " ('City_Tier II Cities', False, 6)]"
      ]
     },
     "execution_count": 650,
     "metadata": {},
     "output_type": "execute_result"
    }
   ],
   "source": [
    "# To check the rankings\n",
    "\n",
    "list(zip(X_train.columns, rfe.support_, rfe.ranking_))"
   ]
  },
  {
   "cell_type": "code",
   "execution_count": 651,
   "metadata": {},
   "outputs": [
    {
     "data": {
      "text/plain": [
       "Index(['Do Not Call', 'TotalVisits', 'Page Views Per Visit',\n",
       "       'A free copy of Mastering The Interview', 'Lead Origin_Lead Import',\n",
       "       'Lead Source_Facebook', 'Lead Source_Live Chat',\n",
       "       'Lead Source_Pay per Click Ads', 'Lead Source_Press_Release',\n",
       "       'Lead Source_Reference', 'Lead Source_Social Media',\n",
       "       'Lead Source_WeLearn', 'Lead Source_bing', 'Lead Source_blog',\n",
       "       'Lead Source_testone', 'Lead Source_welearnblog_Home',\n",
       "       'Lead Source_youtubechannel', 'Last Activity_Other',\n",
       "       'Last Activity_Page Visited on Website',\n",
       "       'Specialization_Business Administration', 'Specialization_E-Business',\n",
       "       'Specialization_E-COMMERCE', 'Specialization_Finance Management',\n",
       "       'Specialization_Healthcare Management',\n",
       "       'Specialization_Hospitality Management',\n",
       "       'Specialization_Human Resource Management',\n",
       "       'Specialization_IT Projects Management',\n",
       "       'Specialization_International Business',\n",
       "       'Specialization_Marketing Management',\n",
       "       'Specialization_Media and Advertising',\n",
       "       'Specialization_Operations Management',\n",
       "       'Specialization_Retail Management',\n",
       "       'Specialization_Rural and Agribusiness',\n",
       "       'Specialization_Supply Chain Management',\n",
       "       'Specialization_Travel and Tourism', 'City_Other Cities',\n",
       "       'City_Other Cities of Maharashtra', 'City_Other Metro Cities',\n",
       "       'City_Thane & Outskirts', 'City_Tier II Cities'],\n",
       "      dtype='object')"
      ]
     },
     "execution_count": 651,
     "metadata": {},
     "output_type": "execute_result"
    }
   ],
   "source": [
    "# Columns that were rejected\n",
    "\n",
    "X_train.columns[~rfe.support_]"
   ]
  },
  {
   "cell_type": "code",
   "execution_count": 652,
   "metadata": {},
   "outputs": [
    {
     "data": {
      "text/plain": [
       "Index(['Do Not Email', 'Total Time Spent on Website',\n",
       "       'Lead Origin_Landing Page Submission', 'Lead Origin_Lead Add Form',\n",
       "       'Lead Source_Direct Traffic', 'Lead Source_Google',\n",
       "       'Lead Source_NC_EDM', 'Lead Source_Olark Chat',\n",
       "       'Lead Source_Organic Search', 'Lead Source_Referral Sites',\n",
       "       'Lead Source_Welingak Website', 'Last Activity_Email Opened',\n",
       "       'Last Activity_Olark Chat Conversation', 'Last Activity_SMS Sent',\n",
       "       'Specialization_Others', 'Specialization_Services Excellence',\n",
       "       'Lead Quality_Low in Relevance', 'Lead Quality_Might be',\n",
       "       'Lead Quality_Not Sure', 'Lead Quality_Worst'],\n",
       "      dtype='object')"
      ]
     },
     "execution_count": 652,
     "metadata": {},
     "output_type": "execute_result"
    }
   ],
   "source": [
    "# Columns that were selected through RFE\n",
    "\n",
    "col = X_train.columns[rfe.support_]\n",
    "col"
   ]
  },
  {
   "cell_type": "code",
   "execution_count": null,
   "metadata": {},
   "outputs": [],
   "source": []
  },
  {
   "cell_type": "code",
   "execution_count": 653,
   "metadata": {},
   "outputs": [],
   "source": [
    "# Define a function to calculate VIF\n",
    "\n",
    "# Import required package\n",
    "from statsmodels.stats.outliers_influence import variance_inflation_factor\n",
    "\n",
    "def cal_vif(train_df):\n",
    "    vif = pd.DataFrame()\n",
    "    vif['Features'] = train_df.columns\n",
    "    vif['VIF'] = [variance_inflation_factor(train_df.values, i) for i in range(train_df.shape[1])]\n",
    "    vif['VIF'] = round(vif['VIF'], 2)\n",
    "    vif = vif.sort_values(by = \"VIF\", ascending = False)\n",
    "    \n",
    "    return vif"
   ]
  },
  {
   "cell_type": "code",
   "execution_count": 654,
   "metadata": {},
   "outputs": [
    {
     "data": {
      "text/html": [
       "<div>\n",
       "<style scoped>\n",
       "    .dataframe tbody tr th:only-of-type {\n",
       "        vertical-align: middle;\n",
       "    }\n",
       "\n",
       "    .dataframe tbody tr th {\n",
       "        vertical-align: top;\n",
       "    }\n",
       "\n",
       "    .dataframe thead th {\n",
       "        text-align: right;\n",
       "    }\n",
       "</style>\n",
       "<table border=\"1\" class=\"dataframe\">\n",
       "  <thead>\n",
       "    <tr style=\"text-align: right;\">\n",
       "      <th></th>\n",
       "      <th>Do Not Email</th>\n",
       "      <th>Total Time Spent on Website</th>\n",
       "      <th>Lead Origin_Landing Page Submission</th>\n",
       "      <th>Lead Origin_Lead Add Form</th>\n",
       "      <th>Lead Source_Direct Traffic</th>\n",
       "      <th>Lead Source_Google</th>\n",
       "      <th>Lead Source_NC_EDM</th>\n",
       "      <th>Lead Source_Olark Chat</th>\n",
       "      <th>Lead Source_Organic Search</th>\n",
       "      <th>Lead Source_Referral Sites</th>\n",
       "      <th>Lead Source_Welingak Website</th>\n",
       "      <th>Last Activity_Email Opened</th>\n",
       "      <th>Last Activity_Olark Chat Conversation</th>\n",
       "      <th>Last Activity_SMS Sent</th>\n",
       "      <th>Specialization_Others</th>\n",
       "      <th>Specialization_Services Excellence</th>\n",
       "      <th>Lead Quality_Low in Relevance</th>\n",
       "      <th>Lead Quality_Might be</th>\n",
       "      <th>Lead Quality_Not Sure</th>\n",
       "      <th>Lead Quality_Worst</th>\n",
       "    </tr>\n",
       "  </thead>\n",
       "  <tbody>\n",
       "    <tr>\n",
       "      <th>1681</th>\n",
       "      <td>0</td>\n",
       "      <td>-0.842055</td>\n",
       "      <td>0</td>\n",
       "      <td>0</td>\n",
       "      <td>0</td>\n",
       "      <td>0</td>\n",
       "      <td>0</td>\n",
       "      <td>1</td>\n",
       "      <td>0</td>\n",
       "      <td>0</td>\n",
       "      <td>0</td>\n",
       "      <td>0</td>\n",
       "      <td>0</td>\n",
       "      <td>0</td>\n",
       "      <td>1</td>\n",
       "      <td>0</td>\n",
       "      <td>0</td>\n",
       "      <td>0</td>\n",
       "      <td>1</td>\n",
       "      <td>0</td>\n",
       "    </tr>\n",
       "    <tr>\n",
       "      <th>7851</th>\n",
       "      <td>0</td>\n",
       "      <td>2.190918</td>\n",
       "      <td>1</td>\n",
       "      <td>0</td>\n",
       "      <td>0</td>\n",
       "      <td>1</td>\n",
       "      <td>0</td>\n",
       "      <td>0</td>\n",
       "      <td>0</td>\n",
       "      <td>0</td>\n",
       "      <td>0</td>\n",
       "      <td>0</td>\n",
       "      <td>0</td>\n",
       "      <td>0</td>\n",
       "      <td>0</td>\n",
       "      <td>0</td>\n",
       "      <td>0</td>\n",
       "      <td>1</td>\n",
       "      <td>0</td>\n",
       "      <td>0</td>\n",
       "    </tr>\n",
       "    <tr>\n",
       "      <th>2209</th>\n",
       "      <td>0</td>\n",
       "      <td>2.442256</td>\n",
       "      <td>1</td>\n",
       "      <td>0</td>\n",
       "      <td>1</td>\n",
       "      <td>0</td>\n",
       "      <td>0</td>\n",
       "      <td>0</td>\n",
       "      <td>0</td>\n",
       "      <td>0</td>\n",
       "      <td>0</td>\n",
       "      <td>0</td>\n",
       "      <td>0</td>\n",
       "      <td>0</td>\n",
       "      <td>0</td>\n",
       "      <td>0</td>\n",
       "      <td>0</td>\n",
       "      <td>0</td>\n",
       "      <td>0</td>\n",
       "      <td>1</td>\n",
       "    </tr>\n",
       "    <tr>\n",
       "      <th>8077</th>\n",
       "      <td>0</td>\n",
       "      <td>-0.842055</td>\n",
       "      <td>0</td>\n",
       "      <td>1</td>\n",
       "      <td>0</td>\n",
       "      <td>0</td>\n",
       "      <td>0</td>\n",
       "      <td>0</td>\n",
       "      <td>0</td>\n",
       "      <td>0</td>\n",
       "      <td>0</td>\n",
       "      <td>0</td>\n",
       "      <td>0</td>\n",
       "      <td>1</td>\n",
       "      <td>0</td>\n",
       "      <td>0</td>\n",
       "      <td>0</td>\n",
       "      <td>1</td>\n",
       "      <td>0</td>\n",
       "      <td>0</td>\n",
       "    </tr>\n",
       "    <tr>\n",
       "      <th>7255</th>\n",
       "      <td>0</td>\n",
       "      <td>-0.842055</td>\n",
       "      <td>0</td>\n",
       "      <td>0</td>\n",
       "      <td>0</td>\n",
       "      <td>0</td>\n",
       "      <td>0</td>\n",
       "      <td>1</td>\n",
       "      <td>0</td>\n",
       "      <td>0</td>\n",
       "      <td>0</td>\n",
       "      <td>1</td>\n",
       "      <td>0</td>\n",
       "      <td>0</td>\n",
       "      <td>1</td>\n",
       "      <td>0</td>\n",
       "      <td>0</td>\n",
       "      <td>0</td>\n",
       "      <td>1</td>\n",
       "      <td>0</td>\n",
       "    </tr>\n",
       "  </tbody>\n",
       "</table>\n",
       "</div>"
      ],
      "text/plain": [
       "      Do Not Email  Total Time Spent on Website  \\\n",
       "1681             0                    -0.842055   \n",
       "7851             0                     2.190918   \n",
       "2209             0                     2.442256   \n",
       "8077             0                    -0.842055   \n",
       "7255             0                    -0.842055   \n",
       "\n",
       "      Lead Origin_Landing Page Submission  Lead Origin_Lead Add Form  \\\n",
       "1681                                    0                          0   \n",
       "7851                                    1                          0   \n",
       "2209                                    1                          0   \n",
       "8077                                    0                          1   \n",
       "7255                                    0                          0   \n",
       "\n",
       "      Lead Source_Direct Traffic  Lead Source_Google  Lead Source_NC_EDM  \\\n",
       "1681                           0                   0                   0   \n",
       "7851                           0                   1                   0   \n",
       "2209                           1                   0                   0   \n",
       "8077                           0                   0                   0   \n",
       "7255                           0                   0                   0   \n",
       "\n",
       "      Lead Source_Olark Chat  Lead Source_Organic Search  \\\n",
       "1681                       1                           0   \n",
       "7851                       0                           0   \n",
       "2209                       0                           0   \n",
       "8077                       0                           0   \n",
       "7255                       1                           0   \n",
       "\n",
       "      Lead Source_Referral Sites  Lead Source_Welingak Website  \\\n",
       "1681                           0                             0   \n",
       "7851                           0                             0   \n",
       "2209                           0                             0   \n",
       "8077                           0                             0   \n",
       "7255                           0                             0   \n",
       "\n",
       "      Last Activity_Email Opened  Last Activity_Olark Chat Conversation  \\\n",
       "1681                           0                                      0   \n",
       "7851                           0                                      0   \n",
       "2209                           0                                      0   \n",
       "8077                           0                                      0   \n",
       "7255                           1                                      0   \n",
       "\n",
       "      Last Activity_SMS Sent  Specialization_Others  \\\n",
       "1681                       0                      1   \n",
       "7851                       0                      0   \n",
       "2209                       0                      0   \n",
       "8077                       1                      0   \n",
       "7255                       0                      1   \n",
       "\n",
       "      Specialization_Services Excellence  Lead Quality_Low in Relevance  \\\n",
       "1681                                   0                              0   \n",
       "7851                                   0                              0   \n",
       "2209                                   0                              0   \n",
       "8077                                   0                              0   \n",
       "7255                                   0                              0   \n",
       "\n",
       "      Lead Quality_Might be  Lead Quality_Not Sure  Lead Quality_Worst  \n",
       "1681                      0                      1                   0  \n",
       "7851                      1                      0                   0  \n",
       "2209                      0                      0                   1  \n",
       "8077                      1                      0                   0  \n",
       "7255                      0                      1                   0  "
      ]
     },
     "execution_count": 654,
     "metadata": {},
     "output_type": "execute_result"
    }
   ],
   "source": [
    "# The train set for first model\n",
    "\n",
    "X_train0 = X_train[col]\n",
    "X_train0.head()"
   ]
  },
  {
   "cell_type": "markdown",
   "metadata": {},
   "source": [
    "### Model 0 "
   ]
  },
  {
   "cell_type": "code",
   "execution_count": 655,
   "metadata": {},
   "outputs": [
    {
     "data": {
      "text/html": [
       "<div>\n",
       "<style scoped>\n",
       "    .dataframe tbody tr th:only-of-type {\n",
       "        vertical-align: middle;\n",
       "    }\n",
       "\n",
       "    .dataframe tbody tr th {\n",
       "        vertical-align: top;\n",
       "    }\n",
       "\n",
       "    .dataframe thead th {\n",
       "        text-align: right;\n",
       "    }\n",
       "</style>\n",
       "<table border=\"1\" class=\"dataframe\">\n",
       "  <thead>\n",
       "    <tr style=\"text-align: right;\">\n",
       "      <th></th>\n",
       "      <th>Features</th>\n",
       "      <th>VIF</th>\n",
       "    </tr>\n",
       "  </thead>\n",
       "  <tbody>\n",
       "    <tr>\n",
       "      <th>18</th>\n",
       "      <td>Lead Quality_Not Sure</td>\n",
       "      <td>13.69</td>\n",
       "    </tr>\n",
       "    <tr>\n",
       "      <th>4</th>\n",
       "      <td>Lead Source_Direct Traffic</td>\n",
       "      <td>9.82</td>\n",
       "    </tr>\n",
       "    <tr>\n",
       "      <th>5</th>\n",
       "      <td>Lead Source_Google</td>\n",
       "      <td>9.17</td>\n",
       "    </tr>\n",
       "    <tr>\n",
       "      <th>2</th>\n",
       "      <td>Lead Origin_Landing Page Submission</td>\n",
       "      <td>8.19</td>\n",
       "    </tr>\n",
       "    <tr>\n",
       "      <th>7</th>\n",
       "      <td>Lead Source_Olark Chat</td>\n",
       "      <td>6.85</td>\n",
       "    </tr>\n",
       "    <tr>\n",
       "      <th>14</th>\n",
       "      <td>Specialization_Others</td>\n",
       "      <td>5.18</td>\n",
       "    </tr>\n",
       "    <tr>\n",
       "      <th>8</th>\n",
       "      <td>Lead Source_Organic Search</td>\n",
       "      <td>4.19</td>\n",
       "    </tr>\n",
       "    <tr>\n",
       "      <th>17</th>\n",
       "      <td>Lead Quality_Might be</td>\n",
       "      <td>3.52</td>\n",
       "    </tr>\n",
       "    <tr>\n",
       "      <th>11</th>\n",
       "      <td>Last Activity_Email Opened</td>\n",
       "      <td>3.06</td>\n",
       "    </tr>\n",
       "    <tr>\n",
       "      <th>13</th>\n",
       "      <td>Last Activity_SMS Sent</td>\n",
       "      <td>2.69</td>\n",
       "    </tr>\n",
       "    <tr>\n",
       "      <th>19</th>\n",
       "      <td>Lead Quality_Worst</td>\n",
       "      <td>2.40</td>\n",
       "    </tr>\n",
       "    <tr>\n",
       "      <th>3</th>\n",
       "      <td>Lead Origin_Lead Add Form</td>\n",
       "      <td>2.34</td>\n",
       "    </tr>\n",
       "    <tr>\n",
       "      <th>16</th>\n",
       "      <td>Lead Quality_Low in Relevance</td>\n",
       "      <td>1.97</td>\n",
       "    </tr>\n",
       "    <tr>\n",
       "      <th>12</th>\n",
       "      <td>Last Activity_Olark Chat Conversation</td>\n",
       "      <td>1.96</td>\n",
       "    </tr>\n",
       "    <tr>\n",
       "      <th>1</th>\n",
       "      <td>Total Time Spent on Website</td>\n",
       "      <td>1.43</td>\n",
       "    </tr>\n",
       "    <tr>\n",
       "      <th>10</th>\n",
       "      <td>Lead Source_Welingak Website</td>\n",
       "      <td>1.38</td>\n",
       "    </tr>\n",
       "    <tr>\n",
       "      <th>9</th>\n",
       "      <td>Lead Source_Referral Sites</td>\n",
       "      <td>1.32</td>\n",
       "    </tr>\n",
       "    <tr>\n",
       "      <th>0</th>\n",
       "      <td>Do Not Email</td>\n",
       "      <td>1.27</td>\n",
       "    </tr>\n",
       "    <tr>\n",
       "      <th>15</th>\n",
       "      <td>Specialization_Services Excellence</td>\n",
       "      <td>1.02</td>\n",
       "    </tr>\n",
       "    <tr>\n",
       "      <th>6</th>\n",
       "      <td>Lead Source_NC_EDM</td>\n",
       "      <td>1.01</td>\n",
       "    </tr>\n",
       "  </tbody>\n",
       "</table>\n",
       "</div>"
      ],
      "text/plain": [
       "                                 Features    VIF\n",
       "18                  Lead Quality_Not Sure  13.69\n",
       "4              Lead Source_Direct Traffic   9.82\n",
       "5                      Lead Source_Google   9.17\n",
       "2     Lead Origin_Landing Page Submission   8.19\n",
       "7                  Lead Source_Olark Chat   6.85\n",
       "14                  Specialization_Others   5.18\n",
       "8              Lead Source_Organic Search   4.19\n",
       "17                  Lead Quality_Might be   3.52\n",
       "11             Last Activity_Email Opened   3.06\n",
       "13                 Last Activity_SMS Sent   2.69\n",
       "19                     Lead Quality_Worst   2.40\n",
       "3               Lead Origin_Lead Add Form   2.34\n",
       "16          Lead Quality_Low in Relevance   1.97\n",
       "12  Last Activity_Olark Chat Conversation   1.96\n",
       "1             Total Time Spent on Website   1.43\n",
       "10           Lead Source_Welingak Website   1.38\n",
       "9              Lead Source_Referral Sites   1.32\n",
       "0                            Do Not Email   1.27\n",
       "15     Specialization_Services Excellence   1.02\n",
       "6                      Lead Source_NC_EDM   1.01"
      ]
     },
     "execution_count": 655,
     "metadata": {},
     "output_type": "execute_result"
    }
   ],
   "source": [
    "# VIF values\n",
    "\n",
    "cal_vif(X_train0)"
   ]
  },
  {
   "cell_type": "code",
   "execution_count": 656,
   "metadata": {},
   "outputs": [
    {
     "data": {
      "text/html": [
       "<table class=\"simpletable\">\n",
       "<caption>Generalized Linear Model Regression Results</caption>\n",
       "<tr>\n",
       "  <th>Dep. Variable:</th>       <td>Converted</td>    <th>  No. Observations:  </th>  <td>  5495</td> \n",
       "</tr>\n",
       "<tr>\n",
       "  <th>Model:</th>                  <td>GLM</td>       <th>  Df Residuals:      </th>  <td>  5474</td> \n",
       "</tr>\n",
       "<tr>\n",
       "  <th>Model Family:</th>        <td>Binomial</td>     <th>  Df Model:          </th>  <td>    20</td> \n",
       "</tr>\n",
       "<tr>\n",
       "  <th>Link Function:</th>         <td>logit</td>      <th>  Scale:             </th> <td>  1.0000</td>\n",
       "</tr>\n",
       "<tr>\n",
       "  <th>Method:</th>                <td>IRLS</td>       <th>  Log-Likelihood:    </th> <td> -1833.6</td>\n",
       "</tr>\n",
       "<tr>\n",
       "  <th>Date:</th>            <td>Wed, 14 Jul 2021</td> <th>  Deviance:          </th> <td>  3667.3</td>\n",
       "</tr>\n",
       "<tr>\n",
       "  <th>Time:</th>                <td>18:12:52</td>     <th>  Pearson chi2:      </th> <td>5.97e+03</td>\n",
       "</tr>\n",
       "<tr>\n",
       "  <th>No. Iterations:</th>         <td>19</td>        <th>                     </th>     <td> </td>   \n",
       "</tr>\n",
       "<tr>\n",
       "  <th>Covariance Type:</th>     <td>nonrobust</td>    <th>                     </th>     <td> </td>   \n",
       "</tr>\n",
       "</table>\n",
       "<table class=\"simpletable\">\n",
       "<tr>\n",
       "                    <td></td>                       <th>coef</th>     <th>std err</th>      <th>z</th>      <th>P>|z|</th>  <th>[0.025</th>    <th>0.975]</th>  \n",
       "</tr>\n",
       "<tr>\n",
       "  <th>const</th>                                 <td>    2.4931</td> <td>    0.544</td> <td>    4.583</td> <td> 0.000</td> <td>    1.427</td> <td>    3.559</td>\n",
       "</tr>\n",
       "<tr>\n",
       "  <th>Do Not Email</th>                          <td>   -1.1179</td> <td>    0.210</td> <td>   -5.322</td> <td> 0.000</td> <td>   -1.530</td> <td>   -0.706</td>\n",
       "</tr>\n",
       "<tr>\n",
       "  <th>Total Time Spent on Website</th>           <td>    1.0730</td> <td>    0.048</td> <td>   22.159</td> <td> 0.000</td> <td>    0.978</td> <td>    1.168</td>\n",
       "</tr>\n",
       "<tr>\n",
       "  <th>Lead Origin_Landing Page Submission</th>   <td>   -0.7536</td> <td>    0.167</td> <td>   -4.507</td> <td> 0.000</td> <td>   -1.081</td> <td>   -0.426</td>\n",
       "</tr>\n",
       "<tr>\n",
       "  <th>Lead Origin_Lead Add Form</th>             <td>    2.0605</td> <td>    0.524</td> <td>    3.929</td> <td> 0.000</td> <td>    1.033</td> <td>    3.088</td>\n",
       "</tr>\n",
       "<tr>\n",
       "  <th>Lead Source_Direct Traffic</th>            <td>   -0.5945</td> <td>    0.492</td> <td>   -1.208</td> <td> 0.227</td> <td>   -1.559</td> <td>    0.370</td>\n",
       "</tr>\n",
       "<tr>\n",
       "  <th>Lead Source_Google</th>                    <td>   -0.4783</td> <td>    0.484</td> <td>   -0.988</td> <td> 0.323</td> <td>   -1.427</td> <td>    0.470</td>\n",
       "</tr>\n",
       "<tr>\n",
       "  <th>Lead Source_NC_EDM</th>                    <td>   20.9240</td> <td> 1.77e+04</td> <td>    0.001</td> <td> 0.999</td> <td>-3.47e+04</td> <td> 3.48e+04</td>\n",
       "</tr>\n",
       "<tr>\n",
       "  <th>Lead Source_Olark Chat</th>                <td>    0.9645</td> <td>    0.482</td> <td>    2.003</td> <td> 0.045</td> <td>    0.021</td> <td>    1.908</td>\n",
       "</tr>\n",
       "<tr>\n",
       "  <th>Lead Source_Organic Search</th>            <td>   -0.6159</td> <td>    0.493</td> <td>   -1.250</td> <td> 0.211</td> <td>   -1.582</td> <td>    0.350</td>\n",
       "</tr>\n",
       "<tr>\n",
       "  <th>Lead Source_Referral Sites</th>            <td>   -0.8947</td> <td>    0.620</td> <td>   -1.443</td> <td> 0.149</td> <td>   -2.110</td> <td>    0.321</td>\n",
       "</tr>\n",
       "<tr>\n",
       "  <th>Lead Source_Welingak Website</th>          <td>    3.4451</td> <td>    0.769</td> <td>    4.481</td> <td> 0.000</td> <td>    1.938</td> <td>    4.952</td>\n",
       "</tr>\n",
       "<tr>\n",
       "  <th>Last Activity_Email Opened</th>            <td>    0.4338</td> <td>    0.130</td> <td>    3.340</td> <td> 0.001</td> <td>    0.179</td> <td>    0.688</td>\n",
       "</tr>\n",
       "<tr>\n",
       "  <th>Last Activity_Olark Chat Conversation</th> <td>   -0.9447</td> <td>    0.215</td> <td>   -4.402</td> <td> 0.000</td> <td>   -1.365</td> <td>   -0.524</td>\n",
       "</tr>\n",
       "<tr>\n",
       "  <th>Last Activity_SMS Sent</th>                <td>    1.7744</td> <td>    0.131</td> <td>   13.560</td> <td> 0.000</td> <td>    1.518</td> <td>    2.031</td>\n",
       "</tr>\n",
       "<tr>\n",
       "  <th>Specialization_Others</th>                 <td>   -0.4514</td> <td>    0.153</td> <td>   -2.951</td> <td> 0.003</td> <td>   -0.751</td> <td>   -0.152</td>\n",
       "</tr>\n",
       "<tr>\n",
       "  <th>Specialization_Services Excellence</th>    <td>   -0.7420</td> <td>    0.996</td> <td>   -0.745</td> <td> 0.456</td> <td>   -2.694</td> <td>    1.210</td>\n",
       "</tr>\n",
       "<tr>\n",
       "  <th>Lead Quality_Low in Relevance</th>         <td>   -1.2660</td> <td>    0.298</td> <td>   -4.251</td> <td> 0.000</td> <td>   -1.850</td> <td>   -0.682</td>\n",
       "</tr>\n",
       "<tr>\n",
       "  <th>Lead Quality_Might be</th>                 <td>   -2.0477</td> <td>    0.276</td> <td>   -7.418</td> <td> 0.000</td> <td>   -2.589</td> <td>   -1.507</td>\n",
       "</tr>\n",
       "<tr>\n",
       "  <th>Lead Quality_Not Sure</th>                 <td>   -4.0419</td> <td>    0.267</td> <td>  -15.127</td> <td> 0.000</td> <td>   -4.566</td> <td>   -3.518</td>\n",
       "</tr>\n",
       "<tr>\n",
       "  <th>Lead Quality_Worst</th>                    <td>   -5.9776</td> <td>    0.471</td> <td>  -12.688</td> <td> 0.000</td> <td>   -6.901</td> <td>   -5.054</td>\n",
       "</tr>\n",
       "</table>"
      ],
      "text/plain": [
       "<class 'statsmodels.iolib.summary.Summary'>\n",
       "\"\"\"\n",
       "                 Generalized Linear Model Regression Results                  \n",
       "==============================================================================\n",
       "Dep. Variable:              Converted   No. Observations:                 5495\n",
       "Model:                            GLM   Df Residuals:                     5474\n",
       "Model Family:                Binomial   Df Model:                           20\n",
       "Link Function:                  logit   Scale:                          1.0000\n",
       "Method:                          IRLS   Log-Likelihood:                -1833.6\n",
       "Date:                Wed, 14 Jul 2021   Deviance:                       3667.3\n",
       "Time:                        18:12:52   Pearson chi2:                 5.97e+03\n",
       "No. Iterations:                    19                                         \n",
       "Covariance Type:            nonrobust                                         \n",
       "=========================================================================================================\n",
       "                                            coef    std err          z      P>|z|      [0.025      0.975]\n",
       "---------------------------------------------------------------------------------------------------------\n",
       "const                                     2.4931      0.544      4.583      0.000       1.427       3.559\n",
       "Do Not Email                             -1.1179      0.210     -5.322      0.000      -1.530      -0.706\n",
       "Total Time Spent on Website               1.0730      0.048     22.159      0.000       0.978       1.168\n",
       "Lead Origin_Landing Page Submission      -0.7536      0.167     -4.507      0.000      -1.081      -0.426\n",
       "Lead Origin_Lead Add Form                 2.0605      0.524      3.929      0.000       1.033       3.088\n",
       "Lead Source_Direct Traffic               -0.5945      0.492     -1.208      0.227      -1.559       0.370\n",
       "Lead Source_Google                       -0.4783      0.484     -0.988      0.323      -1.427       0.470\n",
       "Lead Source_NC_EDM                       20.9240   1.77e+04      0.001      0.999   -3.47e+04    3.48e+04\n",
       "Lead Source_Olark Chat                    0.9645      0.482      2.003      0.045       0.021       1.908\n",
       "Lead Source_Organic Search               -0.6159      0.493     -1.250      0.211      -1.582       0.350\n",
       "Lead Source_Referral Sites               -0.8947      0.620     -1.443      0.149      -2.110       0.321\n",
       "Lead Source_Welingak Website              3.4451      0.769      4.481      0.000       1.938       4.952\n",
       "Last Activity_Email Opened                0.4338      0.130      3.340      0.001       0.179       0.688\n",
       "Last Activity_Olark Chat Conversation    -0.9447      0.215     -4.402      0.000      -1.365      -0.524\n",
       "Last Activity_SMS Sent                    1.7744      0.131     13.560      0.000       1.518       2.031\n",
       "Specialization_Others                    -0.4514      0.153     -2.951      0.003      -0.751      -0.152\n",
       "Specialization_Services Excellence       -0.7420      0.996     -0.745      0.456      -2.694       1.210\n",
       "Lead Quality_Low in Relevance            -1.2660      0.298     -4.251      0.000      -1.850      -0.682\n",
       "Lead Quality_Might be                    -2.0477      0.276     -7.418      0.000      -2.589      -1.507\n",
       "Lead Quality_Not Sure                    -4.0419      0.267    -15.127      0.000      -4.566      -3.518\n",
       "Lead Quality_Worst                       -5.9776      0.471    -12.688      0.000      -6.901      -5.054\n",
       "=========================================================================================================\n",
       "\"\"\""
      ]
     },
     "execution_count": 656,
     "metadata": {},
     "output_type": "execute_result"
    }
   ],
   "source": [
    "# Fitting this model\n",
    "\n",
    "X_train_sm0 = sm.add_constant(X_train0)\n",
    "logm0 = sm.GLM(y_train, X_train_sm0, family=sm.families.Binomial())\n",
    "\n",
    "res = logm0.fit()\n",
    "res.summary()"
   ]
  },
  {
   "cell_type": "markdown",
   "metadata": {},
   "source": [
    "##### Action:\n",
    "'Lead Source_NC_EDM'  has the highest p value. <b>`Drop 'Lead Source_NC_EDM'`</b>"
   ]
  },
  {
   "cell_type": "code",
   "execution_count": null,
   "metadata": {},
   "outputs": [],
   "source": []
  },
  {
   "cell_type": "markdown",
   "metadata": {},
   "source": [
    "### Model 1"
   ]
  },
  {
   "cell_type": "code",
   "execution_count": 657,
   "metadata": {},
   "outputs": [
    {
     "data": {
      "text/html": [
       "<div>\n",
       "<style scoped>\n",
       "    .dataframe tbody tr th:only-of-type {\n",
       "        vertical-align: middle;\n",
       "    }\n",
       "\n",
       "    .dataframe tbody tr th {\n",
       "        vertical-align: top;\n",
       "    }\n",
       "\n",
       "    .dataframe thead th {\n",
       "        text-align: right;\n",
       "    }\n",
       "</style>\n",
       "<table border=\"1\" class=\"dataframe\">\n",
       "  <thead>\n",
       "    <tr style=\"text-align: right;\">\n",
       "      <th></th>\n",
       "      <th>Do Not Email</th>\n",
       "      <th>Total Time Spent on Website</th>\n",
       "      <th>Lead Origin_Landing Page Submission</th>\n",
       "      <th>Lead Origin_Lead Add Form</th>\n",
       "      <th>Lead Source_Direct Traffic</th>\n",
       "      <th>Lead Source_Google</th>\n",
       "      <th>Lead Source_Olark Chat</th>\n",
       "      <th>Lead Source_Organic Search</th>\n",
       "      <th>Lead Source_Referral Sites</th>\n",
       "      <th>Lead Source_Welingak Website</th>\n",
       "      <th>Last Activity_Email Opened</th>\n",
       "      <th>Last Activity_Olark Chat Conversation</th>\n",
       "      <th>Last Activity_SMS Sent</th>\n",
       "      <th>Specialization_Others</th>\n",
       "      <th>Specialization_Services Excellence</th>\n",
       "      <th>Lead Quality_Low in Relevance</th>\n",
       "      <th>Lead Quality_Might be</th>\n",
       "      <th>Lead Quality_Not Sure</th>\n",
       "      <th>Lead Quality_Worst</th>\n",
       "    </tr>\n",
       "  </thead>\n",
       "  <tbody>\n",
       "    <tr>\n",
       "      <th>1681</th>\n",
       "      <td>0</td>\n",
       "      <td>-0.842055</td>\n",
       "      <td>0</td>\n",
       "      <td>0</td>\n",
       "      <td>0</td>\n",
       "      <td>0</td>\n",
       "      <td>1</td>\n",
       "      <td>0</td>\n",
       "      <td>0</td>\n",
       "      <td>0</td>\n",
       "      <td>0</td>\n",
       "      <td>0</td>\n",
       "      <td>0</td>\n",
       "      <td>1</td>\n",
       "      <td>0</td>\n",
       "      <td>0</td>\n",
       "      <td>0</td>\n",
       "      <td>1</td>\n",
       "      <td>0</td>\n",
       "    </tr>\n",
       "    <tr>\n",
       "      <th>7851</th>\n",
       "      <td>0</td>\n",
       "      <td>2.190918</td>\n",
       "      <td>1</td>\n",
       "      <td>0</td>\n",
       "      <td>0</td>\n",
       "      <td>1</td>\n",
       "      <td>0</td>\n",
       "      <td>0</td>\n",
       "      <td>0</td>\n",
       "      <td>0</td>\n",
       "      <td>0</td>\n",
       "      <td>0</td>\n",
       "      <td>0</td>\n",
       "      <td>0</td>\n",
       "      <td>0</td>\n",
       "      <td>0</td>\n",
       "      <td>1</td>\n",
       "      <td>0</td>\n",
       "      <td>0</td>\n",
       "    </tr>\n",
       "    <tr>\n",
       "      <th>2209</th>\n",
       "      <td>0</td>\n",
       "      <td>2.442256</td>\n",
       "      <td>1</td>\n",
       "      <td>0</td>\n",
       "      <td>1</td>\n",
       "      <td>0</td>\n",
       "      <td>0</td>\n",
       "      <td>0</td>\n",
       "      <td>0</td>\n",
       "      <td>0</td>\n",
       "      <td>0</td>\n",
       "      <td>0</td>\n",
       "      <td>0</td>\n",
       "      <td>0</td>\n",
       "      <td>0</td>\n",
       "      <td>0</td>\n",
       "      <td>0</td>\n",
       "      <td>0</td>\n",
       "      <td>1</td>\n",
       "    </tr>\n",
       "    <tr>\n",
       "      <th>8077</th>\n",
       "      <td>0</td>\n",
       "      <td>-0.842055</td>\n",
       "      <td>0</td>\n",
       "      <td>1</td>\n",
       "      <td>0</td>\n",
       "      <td>0</td>\n",
       "      <td>0</td>\n",
       "      <td>0</td>\n",
       "      <td>0</td>\n",
       "      <td>0</td>\n",
       "      <td>0</td>\n",
       "      <td>0</td>\n",
       "      <td>1</td>\n",
       "      <td>0</td>\n",
       "      <td>0</td>\n",
       "      <td>0</td>\n",
       "      <td>1</td>\n",
       "      <td>0</td>\n",
       "      <td>0</td>\n",
       "    </tr>\n",
       "    <tr>\n",
       "      <th>7255</th>\n",
       "      <td>0</td>\n",
       "      <td>-0.842055</td>\n",
       "      <td>0</td>\n",
       "      <td>0</td>\n",
       "      <td>0</td>\n",
       "      <td>0</td>\n",
       "      <td>1</td>\n",
       "      <td>0</td>\n",
       "      <td>0</td>\n",
       "      <td>0</td>\n",
       "      <td>1</td>\n",
       "      <td>0</td>\n",
       "      <td>0</td>\n",
       "      <td>1</td>\n",
       "      <td>0</td>\n",
       "      <td>0</td>\n",
       "      <td>0</td>\n",
       "      <td>1</td>\n",
       "      <td>0</td>\n",
       "    </tr>\n",
       "  </tbody>\n",
       "</table>\n",
       "</div>"
      ],
      "text/plain": [
       "      Do Not Email  Total Time Spent on Website  \\\n",
       "1681             0                    -0.842055   \n",
       "7851             0                     2.190918   \n",
       "2209             0                     2.442256   \n",
       "8077             0                    -0.842055   \n",
       "7255             0                    -0.842055   \n",
       "\n",
       "      Lead Origin_Landing Page Submission  Lead Origin_Lead Add Form  \\\n",
       "1681                                    0                          0   \n",
       "7851                                    1                          0   \n",
       "2209                                    1                          0   \n",
       "8077                                    0                          1   \n",
       "7255                                    0                          0   \n",
       "\n",
       "      Lead Source_Direct Traffic  Lead Source_Google  Lead Source_Olark Chat  \\\n",
       "1681                           0                   0                       1   \n",
       "7851                           0                   1                       0   \n",
       "2209                           1                   0                       0   \n",
       "8077                           0                   0                       0   \n",
       "7255                           0                   0                       1   \n",
       "\n",
       "      Lead Source_Organic Search  Lead Source_Referral Sites  \\\n",
       "1681                           0                           0   \n",
       "7851                           0                           0   \n",
       "2209                           0                           0   \n",
       "8077                           0                           0   \n",
       "7255                           0                           0   \n",
       "\n",
       "      Lead Source_Welingak Website  Last Activity_Email Opened  \\\n",
       "1681                             0                           0   \n",
       "7851                             0                           0   \n",
       "2209                             0                           0   \n",
       "8077                             0                           0   \n",
       "7255                             0                           1   \n",
       "\n",
       "      Last Activity_Olark Chat Conversation  Last Activity_SMS Sent  \\\n",
       "1681                                      0                       0   \n",
       "7851                                      0                       0   \n",
       "2209                                      0                       0   \n",
       "8077                                      0                       1   \n",
       "7255                                      0                       0   \n",
       "\n",
       "      Specialization_Others  Specialization_Services Excellence  \\\n",
       "1681                      1                                   0   \n",
       "7851                      0                                   0   \n",
       "2209                      0                                   0   \n",
       "8077                      0                                   0   \n",
       "7255                      1                                   0   \n",
       "\n",
       "      Lead Quality_Low in Relevance  Lead Quality_Might be  \\\n",
       "1681                              0                      0   \n",
       "7851                              0                      1   \n",
       "2209                              0                      0   \n",
       "8077                              0                      1   \n",
       "7255                              0                      0   \n",
       "\n",
       "      Lead Quality_Not Sure  Lead Quality_Worst  \n",
       "1681                      1                   0  \n",
       "7851                      0                   0  \n",
       "2209                      0                   1  \n",
       "8077                      0                   0  \n",
       "7255                      1                   0  "
      ]
     },
     "execution_count": 657,
     "metadata": {},
     "output_type": "execute_result"
    }
   ],
   "source": [
    "# Drop\n",
    "\n",
    "X_train1 = X_train0.drop(['Lead Source_NC_EDM'], axis=1)\n",
    "X_train1.head()"
   ]
  },
  {
   "cell_type": "code",
   "execution_count": 658,
   "metadata": {},
   "outputs": [
    {
     "data": {
      "text/html": [
       "<div>\n",
       "<style scoped>\n",
       "    .dataframe tbody tr th:only-of-type {\n",
       "        vertical-align: middle;\n",
       "    }\n",
       "\n",
       "    .dataframe tbody tr th {\n",
       "        vertical-align: top;\n",
       "    }\n",
       "\n",
       "    .dataframe thead th {\n",
       "        text-align: right;\n",
       "    }\n",
       "</style>\n",
       "<table border=\"1\" class=\"dataframe\">\n",
       "  <thead>\n",
       "    <tr style=\"text-align: right;\">\n",
       "      <th></th>\n",
       "      <th>Features</th>\n",
       "      <th>VIF</th>\n",
       "    </tr>\n",
       "  </thead>\n",
       "  <tbody>\n",
       "    <tr>\n",
       "      <th>17</th>\n",
       "      <td>Lead Quality_Not Sure</td>\n",
       "      <td>13.65</td>\n",
       "    </tr>\n",
       "    <tr>\n",
       "      <th>4</th>\n",
       "      <td>Lead Source_Direct Traffic</td>\n",
       "      <td>9.75</td>\n",
       "    </tr>\n",
       "    <tr>\n",
       "      <th>5</th>\n",
       "      <td>Lead Source_Google</td>\n",
       "      <td>9.11</td>\n",
       "    </tr>\n",
       "    <tr>\n",
       "      <th>2</th>\n",
       "      <td>Lead Origin_Landing Page Submission</td>\n",
       "      <td>8.17</td>\n",
       "    </tr>\n",
       "    <tr>\n",
       "      <th>6</th>\n",
       "      <td>Lead Source_Olark Chat</td>\n",
       "      <td>6.83</td>\n",
       "    </tr>\n",
       "    <tr>\n",
       "      <th>13</th>\n",
       "      <td>Specialization_Others</td>\n",
       "      <td>5.18</td>\n",
       "    </tr>\n",
       "    <tr>\n",
       "      <th>7</th>\n",
       "      <td>Lead Source_Organic Search</td>\n",
       "      <td>4.17</td>\n",
       "    </tr>\n",
       "    <tr>\n",
       "      <th>16</th>\n",
       "      <td>Lead Quality_Might be</td>\n",
       "      <td>3.52</td>\n",
       "    </tr>\n",
       "    <tr>\n",
       "      <th>10</th>\n",
       "      <td>Last Activity_Email Opened</td>\n",
       "      <td>3.05</td>\n",
       "    </tr>\n",
       "    <tr>\n",
       "      <th>12</th>\n",
       "      <td>Last Activity_SMS Sent</td>\n",
       "      <td>2.69</td>\n",
       "    </tr>\n",
       "    <tr>\n",
       "      <th>18</th>\n",
       "      <td>Lead Quality_Worst</td>\n",
       "      <td>2.39</td>\n",
       "    </tr>\n",
       "    <tr>\n",
       "      <th>3</th>\n",
       "      <td>Lead Origin_Lead Add Form</td>\n",
       "      <td>2.34</td>\n",
       "    </tr>\n",
       "    <tr>\n",
       "      <th>15</th>\n",
       "      <td>Lead Quality_Low in Relevance</td>\n",
       "      <td>1.97</td>\n",
       "    </tr>\n",
       "    <tr>\n",
       "      <th>11</th>\n",
       "      <td>Last Activity_Olark Chat Conversation</td>\n",
       "      <td>1.96</td>\n",
       "    </tr>\n",
       "    <tr>\n",
       "      <th>1</th>\n",
       "      <td>Total Time Spent on Website</td>\n",
       "      <td>1.43</td>\n",
       "    </tr>\n",
       "    <tr>\n",
       "      <th>9</th>\n",
       "      <td>Lead Source_Welingak Website</td>\n",
       "      <td>1.38</td>\n",
       "    </tr>\n",
       "    <tr>\n",
       "      <th>8</th>\n",
       "      <td>Lead Source_Referral Sites</td>\n",
       "      <td>1.32</td>\n",
       "    </tr>\n",
       "    <tr>\n",
       "      <th>0</th>\n",
       "      <td>Do Not Email</td>\n",
       "      <td>1.27</td>\n",
       "    </tr>\n",
       "    <tr>\n",
       "      <th>14</th>\n",
       "      <td>Specialization_Services Excellence</td>\n",
       "      <td>1.02</td>\n",
       "    </tr>\n",
       "  </tbody>\n",
       "</table>\n",
       "</div>"
      ],
      "text/plain": [
       "                                 Features    VIF\n",
       "17                  Lead Quality_Not Sure  13.65\n",
       "4              Lead Source_Direct Traffic   9.75\n",
       "5                      Lead Source_Google   9.11\n",
       "2     Lead Origin_Landing Page Submission   8.17\n",
       "6                  Lead Source_Olark Chat   6.83\n",
       "13                  Specialization_Others   5.18\n",
       "7              Lead Source_Organic Search   4.17\n",
       "16                  Lead Quality_Might be   3.52\n",
       "10             Last Activity_Email Opened   3.05\n",
       "12                 Last Activity_SMS Sent   2.69\n",
       "18                     Lead Quality_Worst   2.39\n",
       "3               Lead Origin_Lead Add Form   2.34\n",
       "15          Lead Quality_Low in Relevance   1.97\n",
       "11  Last Activity_Olark Chat Conversation   1.96\n",
       "1             Total Time Spent on Website   1.43\n",
       "9            Lead Source_Welingak Website   1.38\n",
       "8              Lead Source_Referral Sites   1.32\n",
       "0                            Do Not Email   1.27\n",
       "14     Specialization_Services Excellence   1.02"
      ]
     },
     "execution_count": 658,
     "metadata": {},
     "output_type": "execute_result"
    }
   ],
   "source": [
    "# VIF values\n",
    "\n",
    "cal_vif(X_train1)"
   ]
  },
  {
   "cell_type": "code",
   "execution_count": 659,
   "metadata": {},
   "outputs": [
    {
     "data": {
      "text/html": [
       "<div>\n",
       "<style scoped>\n",
       "    .dataframe tbody tr th:only-of-type {\n",
       "        vertical-align: middle;\n",
       "    }\n",
       "\n",
       "    .dataframe tbody tr th {\n",
       "        vertical-align: top;\n",
       "    }\n",
       "\n",
       "    .dataframe thead th {\n",
       "        text-align: right;\n",
       "    }\n",
       "</style>\n",
       "<table border=\"1\" class=\"dataframe\">\n",
       "  <thead>\n",
       "    <tr style=\"text-align: right;\">\n",
       "      <th></th>\n",
       "      <th>const</th>\n",
       "      <th>Do Not Email</th>\n",
       "      <th>Total Time Spent on Website</th>\n",
       "      <th>Lead Origin_Landing Page Submission</th>\n",
       "      <th>Lead Origin_Lead Add Form</th>\n",
       "      <th>Lead Source_Direct Traffic</th>\n",
       "      <th>Lead Source_Google</th>\n",
       "      <th>Lead Source_Olark Chat</th>\n",
       "      <th>Lead Source_Organic Search</th>\n",
       "      <th>Lead Source_Referral Sites</th>\n",
       "      <th>Lead Source_Welingak Website</th>\n",
       "      <th>Last Activity_Email Opened</th>\n",
       "      <th>Last Activity_Olark Chat Conversation</th>\n",
       "      <th>Last Activity_SMS Sent</th>\n",
       "      <th>Specialization_Others</th>\n",
       "      <th>Specialization_Services Excellence</th>\n",
       "      <th>Lead Quality_Low in Relevance</th>\n",
       "      <th>Lead Quality_Might be</th>\n",
       "      <th>Lead Quality_Not Sure</th>\n",
       "      <th>Lead Quality_Worst</th>\n",
       "    </tr>\n",
       "  </thead>\n",
       "  <tbody>\n",
       "    <tr>\n",
       "      <th>1681</th>\n",
       "      <td>1.0</td>\n",
       "      <td>0</td>\n",
       "      <td>-0.842055</td>\n",
       "      <td>0</td>\n",
       "      <td>0</td>\n",
       "      <td>0</td>\n",
       "      <td>0</td>\n",
       "      <td>1</td>\n",
       "      <td>0</td>\n",
       "      <td>0</td>\n",
       "      <td>0</td>\n",
       "      <td>0</td>\n",
       "      <td>0</td>\n",
       "      <td>0</td>\n",
       "      <td>1</td>\n",
       "      <td>0</td>\n",
       "      <td>0</td>\n",
       "      <td>0</td>\n",
       "      <td>1</td>\n",
       "      <td>0</td>\n",
       "    </tr>\n",
       "    <tr>\n",
       "      <th>7851</th>\n",
       "      <td>1.0</td>\n",
       "      <td>0</td>\n",
       "      <td>2.190918</td>\n",
       "      <td>1</td>\n",
       "      <td>0</td>\n",
       "      <td>0</td>\n",
       "      <td>1</td>\n",
       "      <td>0</td>\n",
       "      <td>0</td>\n",
       "      <td>0</td>\n",
       "      <td>0</td>\n",
       "      <td>0</td>\n",
       "      <td>0</td>\n",
       "      <td>0</td>\n",
       "      <td>0</td>\n",
       "      <td>0</td>\n",
       "      <td>0</td>\n",
       "      <td>1</td>\n",
       "      <td>0</td>\n",
       "      <td>0</td>\n",
       "    </tr>\n",
       "  </tbody>\n",
       "</table>\n",
       "</div>"
      ],
      "text/plain": [
       "      const  Do Not Email  Total Time Spent on Website  \\\n",
       "1681    1.0             0                    -0.842055   \n",
       "7851    1.0             0                     2.190918   \n",
       "\n",
       "      Lead Origin_Landing Page Submission  Lead Origin_Lead Add Form  \\\n",
       "1681                                    0                          0   \n",
       "7851                                    1                          0   \n",
       "\n",
       "      Lead Source_Direct Traffic  Lead Source_Google  Lead Source_Olark Chat  \\\n",
       "1681                           0                   0                       1   \n",
       "7851                           0                   1                       0   \n",
       "\n",
       "      Lead Source_Organic Search  Lead Source_Referral Sites  \\\n",
       "1681                           0                           0   \n",
       "7851                           0                           0   \n",
       "\n",
       "      Lead Source_Welingak Website  Last Activity_Email Opened  \\\n",
       "1681                             0                           0   \n",
       "7851                             0                           0   \n",
       "\n",
       "      Last Activity_Olark Chat Conversation  Last Activity_SMS Sent  \\\n",
       "1681                                      0                       0   \n",
       "7851                                      0                       0   \n",
       "\n",
       "      Specialization_Others  Specialization_Services Excellence  \\\n",
       "1681                      1                                   0   \n",
       "7851                      0                                   0   \n",
       "\n",
       "      Lead Quality_Low in Relevance  Lead Quality_Might be  \\\n",
       "1681                              0                      0   \n",
       "7851                              0                      1   \n",
       "\n",
       "      Lead Quality_Not Sure  Lead Quality_Worst  \n",
       "1681                      1                   0  \n",
       "7851                      0                   0  "
      ]
     },
     "execution_count": 659,
     "metadata": {},
     "output_type": "execute_result"
    }
   ],
   "source": [
    "# Adding constant to X_train1 to get X_train_sm1\n",
    "\n",
    "X_train_sm1 = sm.add_constant(X_train1)\n",
    "X_train_sm1.head(2)"
   ]
  },
  {
   "cell_type": "code",
   "execution_count": 660,
   "metadata": {},
   "outputs": [
    {
     "data": {
      "text/html": [
       "<table class=\"simpletable\">\n",
       "<caption>Generalized Linear Model Regression Results</caption>\n",
       "<tr>\n",
       "  <th>Dep. Variable:</th>       <td>Converted</td>    <th>  No. Observations:  </th>  <td>  5495</td> \n",
       "</tr>\n",
       "<tr>\n",
       "  <th>Model:</th>                  <td>GLM</td>       <th>  Df Residuals:      </th>  <td>  5475</td> \n",
       "</tr>\n",
       "<tr>\n",
       "  <th>Model Family:</th>        <td>Binomial</td>     <th>  Df Model:          </th>  <td>    19</td> \n",
       "</tr>\n",
       "<tr>\n",
       "  <th>Link Function:</th>         <td>logit</td>      <th>  Scale:             </th> <td>  1.0000</td>\n",
       "</tr>\n",
       "<tr>\n",
       "  <th>Method:</th>                <td>IRLS</td>       <th>  Log-Likelihood:    </th> <td> -1834.5</td>\n",
       "</tr>\n",
       "<tr>\n",
       "  <th>Date:</th>            <td>Wed, 14 Jul 2021</td> <th>  Deviance:          </th> <td>  3669.0</td>\n",
       "</tr>\n",
       "<tr>\n",
       "  <th>Time:</th>                <td>18:12:52</td>     <th>  Pearson chi2:      </th> <td>5.98e+03</td>\n",
       "</tr>\n",
       "<tr>\n",
       "  <th>No. Iterations:</th>          <td>7</td>        <th>                     </th>     <td> </td>   \n",
       "</tr>\n",
       "<tr>\n",
       "  <th>Covariance Type:</th>     <td>nonrobust</td>    <th>                     </th>     <td> </td>   \n",
       "</tr>\n",
       "</table>\n",
       "<table class=\"simpletable\">\n",
       "<tr>\n",
       "                    <td></td>                       <th>coef</th>     <th>std err</th>      <th>z</th>      <th>P>|z|</th>  <th>[0.025</th>    <th>0.975]</th>  \n",
       "</tr>\n",
       "<tr>\n",
       "  <th>const</th>                                 <td>    2.6091</td> <td>    0.529</td> <td>    4.930</td> <td> 0.000</td> <td>    1.572</td> <td>    3.646</td>\n",
       "</tr>\n",
       "<tr>\n",
       "  <th>Do Not Email</th>                          <td>   -1.1181</td> <td>    0.210</td> <td>   -5.323</td> <td> 0.000</td> <td>   -1.530</td> <td>   -0.706</td>\n",
       "</tr>\n",
       "<tr>\n",
       "  <th>Total Time Spent on Website</th>           <td>    1.0753</td> <td>    0.048</td> <td>   22.214</td> <td> 0.000</td> <td>    0.980</td> <td>    1.170</td>\n",
       "</tr>\n",
       "<tr>\n",
       "  <th>Lead Origin_Landing Page Submission</th>   <td>   -0.7447</td> <td>    0.167</td> <td>   -4.460</td> <td> 0.000</td> <td>   -1.072</td> <td>   -0.417</td>\n",
       "</tr>\n",
       "<tr>\n",
       "  <th>Lead Origin_Lead Add Form</th>             <td>    1.9439</td> <td>    0.507</td> <td>    3.832</td> <td> 0.000</td> <td>    0.950</td> <td>    2.938</td>\n",
       "</tr>\n",
       "<tr>\n",
       "  <th>Lead Source_Direct Traffic</th>            <td>   -0.7238</td> <td>    0.471</td> <td>   -1.536</td> <td> 0.125</td> <td>   -1.648</td> <td>    0.200</td>\n",
       "</tr>\n",
       "<tr>\n",
       "  <th>Lead Source_Google</th>                    <td>   -0.6053</td> <td>    0.463</td> <td>   -1.307</td> <td> 0.191</td> <td>   -1.513</td> <td>    0.303</td>\n",
       "</tr>\n",
       "<tr>\n",
       "  <th>Lead Source_Olark Chat</th>                <td>    0.8445</td> <td>    0.462</td> <td>    1.828</td> <td> 0.068</td> <td>   -0.061</td> <td>    1.750</td>\n",
       "</tr>\n",
       "<tr>\n",
       "  <th>Lead Source_Organic Search</th>            <td>   -0.7424</td> <td>    0.473</td> <td>   -1.571</td> <td> 0.116</td> <td>   -1.669</td> <td>    0.184</td>\n",
       "</tr>\n",
       "<tr>\n",
       "  <th>Lead Source_Referral Sites</th>            <td>   -1.0190</td> <td>    0.604</td> <td>   -1.686</td> <td> 0.092</td> <td>   -2.204</td> <td>    0.166</td>\n",
       "</tr>\n",
       "<tr>\n",
       "  <th>Lead Source_Welingak Website</th>          <td>    3.4412</td> <td>    0.769</td> <td>    4.476</td> <td> 0.000</td> <td>    1.934</td> <td>    4.948</td>\n",
       "</tr>\n",
       "<tr>\n",
       "  <th>Last Activity_Email Opened</th>            <td>    0.4352</td> <td>    0.130</td> <td>    3.352</td> <td> 0.001</td> <td>    0.181</td> <td>    0.690</td>\n",
       "</tr>\n",
       "<tr>\n",
       "  <th>Last Activity_Olark Chat Conversation</th> <td>   -0.9445</td> <td>    0.215</td> <td>   -4.400</td> <td> 0.000</td> <td>   -1.365</td> <td>   -0.524</td>\n",
       "</tr>\n",
       "<tr>\n",
       "  <th>Last Activity_SMS Sent</th>                <td>    1.7739</td> <td>    0.131</td> <td>   13.557</td> <td> 0.000</td> <td>    1.517</td> <td>    2.030</td>\n",
       "</tr>\n",
       "<tr>\n",
       "  <th>Specialization_Others</th>                 <td>   -0.4491</td> <td>    0.153</td> <td>   -2.937</td> <td> 0.003</td> <td>   -0.749</td> <td>   -0.149</td>\n",
       "</tr>\n",
       "<tr>\n",
       "  <th>Specialization_Services Excellence</th>    <td>   -0.7415</td> <td>    0.996</td> <td>   -0.745</td> <td> 0.456</td> <td>   -2.693</td> <td>    1.210</td>\n",
       "</tr>\n",
       "<tr>\n",
       "  <th>Lead Quality_Low in Relevance</th>         <td>   -1.2634</td> <td>    0.298</td> <td>   -4.242</td> <td> 0.000</td> <td>   -1.847</td> <td>   -0.680</td>\n",
       "</tr>\n",
       "<tr>\n",
       "  <th>Lead Quality_Might be</th>                 <td>   -2.0453</td> <td>    0.276</td> <td>   -7.410</td> <td> 0.000</td> <td>   -2.586</td> <td>   -1.504</td>\n",
       "</tr>\n",
       "<tr>\n",
       "  <th>Lead Quality_Not Sure</th>                 <td>   -4.0382</td> <td>    0.267</td> <td>  -15.114</td> <td> 0.000</td> <td>   -4.562</td> <td>   -3.515</td>\n",
       "</tr>\n",
       "<tr>\n",
       "  <th>Lead Quality_Worst</th>                    <td>   -5.9751</td> <td>    0.471</td> <td>  -12.683</td> <td> 0.000</td> <td>   -6.898</td> <td>   -5.052</td>\n",
       "</tr>\n",
       "</table>"
      ],
      "text/plain": [
       "<class 'statsmodels.iolib.summary.Summary'>\n",
       "\"\"\"\n",
       "                 Generalized Linear Model Regression Results                  \n",
       "==============================================================================\n",
       "Dep. Variable:              Converted   No. Observations:                 5495\n",
       "Model:                            GLM   Df Residuals:                     5475\n",
       "Model Family:                Binomial   Df Model:                           19\n",
       "Link Function:                  logit   Scale:                          1.0000\n",
       "Method:                          IRLS   Log-Likelihood:                -1834.5\n",
       "Date:                Wed, 14 Jul 2021   Deviance:                       3669.0\n",
       "Time:                        18:12:52   Pearson chi2:                 5.98e+03\n",
       "No. Iterations:                     7                                         \n",
       "Covariance Type:            nonrobust                                         \n",
       "=========================================================================================================\n",
       "                                            coef    std err          z      P>|z|      [0.025      0.975]\n",
       "---------------------------------------------------------------------------------------------------------\n",
       "const                                     2.6091      0.529      4.930      0.000       1.572       3.646\n",
       "Do Not Email                             -1.1181      0.210     -5.323      0.000      -1.530      -0.706\n",
       "Total Time Spent on Website               1.0753      0.048     22.214      0.000       0.980       1.170\n",
       "Lead Origin_Landing Page Submission      -0.7447      0.167     -4.460      0.000      -1.072      -0.417\n",
       "Lead Origin_Lead Add Form                 1.9439      0.507      3.832      0.000       0.950       2.938\n",
       "Lead Source_Direct Traffic               -0.7238      0.471     -1.536      0.125      -1.648       0.200\n",
       "Lead Source_Google                       -0.6053      0.463     -1.307      0.191      -1.513       0.303\n",
       "Lead Source_Olark Chat                    0.8445      0.462      1.828      0.068      -0.061       1.750\n",
       "Lead Source_Organic Search               -0.7424      0.473     -1.571      0.116      -1.669       0.184\n",
       "Lead Source_Referral Sites               -1.0190      0.604     -1.686      0.092      -2.204       0.166\n",
       "Lead Source_Welingak Website              3.4412      0.769      4.476      0.000       1.934       4.948\n",
       "Last Activity_Email Opened                0.4352      0.130      3.352      0.001       0.181       0.690\n",
       "Last Activity_Olark Chat Conversation    -0.9445      0.215     -4.400      0.000      -1.365      -0.524\n",
       "Last Activity_SMS Sent                    1.7739      0.131     13.557      0.000       1.517       2.030\n",
       "Specialization_Others                    -0.4491      0.153     -2.937      0.003      -0.749      -0.149\n",
       "Specialization_Services Excellence       -0.7415      0.996     -0.745      0.456      -2.693       1.210\n",
       "Lead Quality_Low in Relevance            -1.2634      0.298     -4.242      0.000      -1.847      -0.680\n",
       "Lead Quality_Might be                    -2.0453      0.276     -7.410      0.000      -2.586      -1.504\n",
       "Lead Quality_Not Sure                    -4.0382      0.267    -15.114      0.000      -4.562      -3.515\n",
       "Lead Quality_Worst                       -5.9751      0.471    -12.683      0.000      -6.898      -5.052\n",
       "=========================================================================================================\n",
       "\"\"\""
      ]
     },
     "execution_count": 660,
     "metadata": {},
     "output_type": "execute_result"
    }
   ],
   "source": [
    "# Fitting this model\n",
    "\n",
    "logm1 = sm.GLM(y_train, X_train_sm1, family=sm.families.Binomial())\n",
    "\n",
    "res = logm1.fit()\n",
    "res.summary()"
   ]
  },
  {
   "cell_type": "markdown",
   "metadata": {},
   "source": [
    "##### Action\n",
    "'Specialization_Services Excellence' has high p value. <b>`Dropping 'Specialization_Services Excellence'`</b>"
   ]
  },
  {
   "cell_type": "code",
   "execution_count": null,
   "metadata": {},
   "outputs": [],
   "source": []
  },
  {
   "cell_type": "markdown",
   "metadata": {},
   "source": [
    "### Model 2"
   ]
  },
  {
   "cell_type": "code",
   "execution_count": 661,
   "metadata": {},
   "outputs": [
    {
     "data": {
      "text/html": [
       "<div>\n",
       "<style scoped>\n",
       "    .dataframe tbody tr th:only-of-type {\n",
       "        vertical-align: middle;\n",
       "    }\n",
       "\n",
       "    .dataframe tbody tr th {\n",
       "        vertical-align: top;\n",
       "    }\n",
       "\n",
       "    .dataframe thead th {\n",
       "        text-align: right;\n",
       "    }\n",
       "</style>\n",
       "<table border=\"1\" class=\"dataframe\">\n",
       "  <thead>\n",
       "    <tr style=\"text-align: right;\">\n",
       "      <th></th>\n",
       "      <th>Do Not Email</th>\n",
       "      <th>Total Time Spent on Website</th>\n",
       "      <th>Lead Origin_Landing Page Submission</th>\n",
       "      <th>Lead Origin_Lead Add Form</th>\n",
       "      <th>Lead Source_Direct Traffic</th>\n",
       "      <th>Lead Source_Google</th>\n",
       "      <th>Lead Source_Olark Chat</th>\n",
       "      <th>Lead Source_Organic Search</th>\n",
       "      <th>Lead Source_Referral Sites</th>\n",
       "      <th>Lead Source_Welingak Website</th>\n",
       "      <th>Last Activity_Email Opened</th>\n",
       "      <th>Last Activity_Olark Chat Conversation</th>\n",
       "      <th>Last Activity_SMS Sent</th>\n",
       "      <th>Specialization_Others</th>\n",
       "      <th>Lead Quality_Low in Relevance</th>\n",
       "      <th>Lead Quality_Might be</th>\n",
       "      <th>Lead Quality_Not Sure</th>\n",
       "      <th>Lead Quality_Worst</th>\n",
       "    </tr>\n",
       "  </thead>\n",
       "  <tbody>\n",
       "    <tr>\n",
       "      <th>1681</th>\n",
       "      <td>0</td>\n",
       "      <td>-0.842055</td>\n",
       "      <td>0</td>\n",
       "      <td>0</td>\n",
       "      <td>0</td>\n",
       "      <td>0</td>\n",
       "      <td>1</td>\n",
       "      <td>0</td>\n",
       "      <td>0</td>\n",
       "      <td>0</td>\n",
       "      <td>0</td>\n",
       "      <td>0</td>\n",
       "      <td>0</td>\n",
       "      <td>1</td>\n",
       "      <td>0</td>\n",
       "      <td>0</td>\n",
       "      <td>1</td>\n",
       "      <td>0</td>\n",
       "    </tr>\n",
       "    <tr>\n",
       "      <th>7851</th>\n",
       "      <td>0</td>\n",
       "      <td>2.190918</td>\n",
       "      <td>1</td>\n",
       "      <td>0</td>\n",
       "      <td>0</td>\n",
       "      <td>1</td>\n",
       "      <td>0</td>\n",
       "      <td>0</td>\n",
       "      <td>0</td>\n",
       "      <td>0</td>\n",
       "      <td>0</td>\n",
       "      <td>0</td>\n",
       "      <td>0</td>\n",
       "      <td>0</td>\n",
       "      <td>0</td>\n",
       "      <td>1</td>\n",
       "      <td>0</td>\n",
       "      <td>0</td>\n",
       "    </tr>\n",
       "    <tr>\n",
       "      <th>2209</th>\n",
       "      <td>0</td>\n",
       "      <td>2.442256</td>\n",
       "      <td>1</td>\n",
       "      <td>0</td>\n",
       "      <td>1</td>\n",
       "      <td>0</td>\n",
       "      <td>0</td>\n",
       "      <td>0</td>\n",
       "      <td>0</td>\n",
       "      <td>0</td>\n",
       "      <td>0</td>\n",
       "      <td>0</td>\n",
       "      <td>0</td>\n",
       "      <td>0</td>\n",
       "      <td>0</td>\n",
       "      <td>0</td>\n",
       "      <td>0</td>\n",
       "      <td>1</td>\n",
       "    </tr>\n",
       "    <tr>\n",
       "      <th>8077</th>\n",
       "      <td>0</td>\n",
       "      <td>-0.842055</td>\n",
       "      <td>0</td>\n",
       "      <td>1</td>\n",
       "      <td>0</td>\n",
       "      <td>0</td>\n",
       "      <td>0</td>\n",
       "      <td>0</td>\n",
       "      <td>0</td>\n",
       "      <td>0</td>\n",
       "      <td>0</td>\n",
       "      <td>0</td>\n",
       "      <td>1</td>\n",
       "      <td>0</td>\n",
       "      <td>0</td>\n",
       "      <td>1</td>\n",
       "      <td>0</td>\n",
       "      <td>0</td>\n",
       "    </tr>\n",
       "    <tr>\n",
       "      <th>7255</th>\n",
       "      <td>0</td>\n",
       "      <td>-0.842055</td>\n",
       "      <td>0</td>\n",
       "      <td>0</td>\n",
       "      <td>0</td>\n",
       "      <td>0</td>\n",
       "      <td>1</td>\n",
       "      <td>0</td>\n",
       "      <td>0</td>\n",
       "      <td>0</td>\n",
       "      <td>1</td>\n",
       "      <td>0</td>\n",
       "      <td>0</td>\n",
       "      <td>1</td>\n",
       "      <td>0</td>\n",
       "      <td>0</td>\n",
       "      <td>1</td>\n",
       "      <td>0</td>\n",
       "    </tr>\n",
       "  </tbody>\n",
       "</table>\n",
       "</div>"
      ],
      "text/plain": [
       "      Do Not Email  Total Time Spent on Website  \\\n",
       "1681             0                    -0.842055   \n",
       "7851             0                     2.190918   \n",
       "2209             0                     2.442256   \n",
       "8077             0                    -0.842055   \n",
       "7255             0                    -0.842055   \n",
       "\n",
       "      Lead Origin_Landing Page Submission  Lead Origin_Lead Add Form  \\\n",
       "1681                                    0                          0   \n",
       "7851                                    1                          0   \n",
       "2209                                    1                          0   \n",
       "8077                                    0                          1   \n",
       "7255                                    0                          0   \n",
       "\n",
       "      Lead Source_Direct Traffic  Lead Source_Google  Lead Source_Olark Chat  \\\n",
       "1681                           0                   0                       1   \n",
       "7851                           0                   1                       0   \n",
       "2209                           1                   0                       0   \n",
       "8077                           0                   0                       0   \n",
       "7255                           0                   0                       1   \n",
       "\n",
       "      Lead Source_Organic Search  Lead Source_Referral Sites  \\\n",
       "1681                           0                           0   \n",
       "7851                           0                           0   \n",
       "2209                           0                           0   \n",
       "8077                           0                           0   \n",
       "7255                           0                           0   \n",
       "\n",
       "      Lead Source_Welingak Website  Last Activity_Email Opened  \\\n",
       "1681                             0                           0   \n",
       "7851                             0                           0   \n",
       "2209                             0                           0   \n",
       "8077                             0                           0   \n",
       "7255                             0                           1   \n",
       "\n",
       "      Last Activity_Olark Chat Conversation  Last Activity_SMS Sent  \\\n",
       "1681                                      0                       0   \n",
       "7851                                      0                       0   \n",
       "2209                                      0                       0   \n",
       "8077                                      0                       1   \n",
       "7255                                      0                       0   \n",
       "\n",
       "      Specialization_Others  Lead Quality_Low in Relevance  \\\n",
       "1681                      1                              0   \n",
       "7851                      0                              0   \n",
       "2209                      0                              0   \n",
       "8077                      0                              0   \n",
       "7255                      1                              0   \n",
       "\n",
       "      Lead Quality_Might be  Lead Quality_Not Sure  Lead Quality_Worst  \n",
       "1681                      0                      1                   0  \n",
       "7851                      1                      0                   0  \n",
       "2209                      0                      0                   1  \n",
       "8077                      1                      0                   0  \n",
       "7255                      0                      1                   0  "
      ]
     },
     "execution_count": 661,
     "metadata": {},
     "output_type": "execute_result"
    }
   ],
   "source": [
    "# Drop\n",
    "\n",
    "X_train2 = X_train1.drop(['Specialization_Services Excellence'], axis=1)\n",
    "X_train2.head()"
   ]
  },
  {
   "cell_type": "code",
   "execution_count": 662,
   "metadata": {},
   "outputs": [
    {
     "data": {
      "text/html": [
       "<div>\n",
       "<style scoped>\n",
       "    .dataframe tbody tr th:only-of-type {\n",
       "        vertical-align: middle;\n",
       "    }\n",
       "\n",
       "    .dataframe tbody tr th {\n",
       "        vertical-align: top;\n",
       "    }\n",
       "\n",
       "    .dataframe thead th {\n",
       "        text-align: right;\n",
       "    }\n",
       "</style>\n",
       "<table border=\"1\" class=\"dataframe\">\n",
       "  <thead>\n",
       "    <tr style=\"text-align: right;\">\n",
       "      <th></th>\n",
       "      <th>Features</th>\n",
       "      <th>VIF</th>\n",
       "    </tr>\n",
       "  </thead>\n",
       "  <tbody>\n",
       "    <tr>\n",
       "      <th>16</th>\n",
       "      <td>Lead Quality_Not Sure</td>\n",
       "      <td>13.65</td>\n",
       "    </tr>\n",
       "    <tr>\n",
       "      <th>4</th>\n",
       "      <td>Lead Source_Direct Traffic</td>\n",
       "      <td>9.74</td>\n",
       "    </tr>\n",
       "    <tr>\n",
       "      <th>5</th>\n",
       "      <td>Lead Source_Google</td>\n",
       "      <td>9.11</td>\n",
       "    </tr>\n",
       "    <tr>\n",
       "      <th>2</th>\n",
       "      <td>Lead Origin_Landing Page Submission</td>\n",
       "      <td>8.17</td>\n",
       "    </tr>\n",
       "    <tr>\n",
       "      <th>6</th>\n",
       "      <td>Lead Source_Olark Chat</td>\n",
       "      <td>6.83</td>\n",
       "    </tr>\n",
       "    <tr>\n",
       "      <th>13</th>\n",
       "      <td>Specialization_Others</td>\n",
       "      <td>5.17</td>\n",
       "    </tr>\n",
       "    <tr>\n",
       "      <th>7</th>\n",
       "      <td>Lead Source_Organic Search</td>\n",
       "      <td>4.17</td>\n",
       "    </tr>\n",
       "    <tr>\n",
       "      <th>15</th>\n",
       "      <td>Lead Quality_Might be</td>\n",
       "      <td>3.52</td>\n",
       "    </tr>\n",
       "    <tr>\n",
       "      <th>10</th>\n",
       "      <td>Last Activity_Email Opened</td>\n",
       "      <td>3.05</td>\n",
       "    </tr>\n",
       "    <tr>\n",
       "      <th>12</th>\n",
       "      <td>Last Activity_SMS Sent</td>\n",
       "      <td>2.68</td>\n",
       "    </tr>\n",
       "    <tr>\n",
       "      <th>17</th>\n",
       "      <td>Lead Quality_Worst</td>\n",
       "      <td>2.39</td>\n",
       "    </tr>\n",
       "    <tr>\n",
       "      <th>3</th>\n",
       "      <td>Lead Origin_Lead Add Form</td>\n",
       "      <td>2.34</td>\n",
       "    </tr>\n",
       "    <tr>\n",
       "      <th>14</th>\n",
       "      <td>Lead Quality_Low in Relevance</td>\n",
       "      <td>1.97</td>\n",
       "    </tr>\n",
       "    <tr>\n",
       "      <th>11</th>\n",
       "      <td>Last Activity_Olark Chat Conversation</td>\n",
       "      <td>1.96</td>\n",
       "    </tr>\n",
       "    <tr>\n",
       "      <th>1</th>\n",
       "      <td>Total Time Spent on Website</td>\n",
       "      <td>1.43</td>\n",
       "    </tr>\n",
       "    <tr>\n",
       "      <th>9</th>\n",
       "      <td>Lead Source_Welingak Website</td>\n",
       "      <td>1.38</td>\n",
       "    </tr>\n",
       "    <tr>\n",
       "      <th>8</th>\n",
       "      <td>Lead Source_Referral Sites</td>\n",
       "      <td>1.32</td>\n",
       "    </tr>\n",
       "    <tr>\n",
       "      <th>0</th>\n",
       "      <td>Do Not Email</td>\n",
       "      <td>1.26</td>\n",
       "    </tr>\n",
       "  </tbody>\n",
       "</table>\n",
       "</div>"
      ],
      "text/plain": [
       "                                 Features    VIF\n",
       "16                  Lead Quality_Not Sure  13.65\n",
       "4              Lead Source_Direct Traffic   9.74\n",
       "5                      Lead Source_Google   9.11\n",
       "2     Lead Origin_Landing Page Submission   8.17\n",
       "6                  Lead Source_Olark Chat   6.83\n",
       "13                  Specialization_Others   5.17\n",
       "7              Lead Source_Organic Search   4.17\n",
       "15                  Lead Quality_Might be   3.52\n",
       "10             Last Activity_Email Opened   3.05\n",
       "12                 Last Activity_SMS Sent   2.68\n",
       "17                     Lead Quality_Worst   2.39\n",
       "3               Lead Origin_Lead Add Form   2.34\n",
       "14          Lead Quality_Low in Relevance   1.97\n",
       "11  Last Activity_Olark Chat Conversation   1.96\n",
       "1             Total Time Spent on Website   1.43\n",
       "9            Lead Source_Welingak Website   1.38\n",
       "8              Lead Source_Referral Sites   1.32\n",
       "0                            Do Not Email   1.26"
      ]
     },
     "execution_count": 662,
     "metadata": {},
     "output_type": "execute_result"
    }
   ],
   "source": [
    "# VIF values\n",
    "\n",
    "cal_vif(X_train2)"
   ]
  },
  {
   "cell_type": "code",
   "execution_count": 663,
   "metadata": {},
   "outputs": [
    {
     "data": {
      "text/html": [
       "<div>\n",
       "<style scoped>\n",
       "    .dataframe tbody tr th:only-of-type {\n",
       "        vertical-align: middle;\n",
       "    }\n",
       "\n",
       "    .dataframe tbody tr th {\n",
       "        vertical-align: top;\n",
       "    }\n",
       "\n",
       "    .dataframe thead th {\n",
       "        text-align: right;\n",
       "    }\n",
       "</style>\n",
       "<table border=\"1\" class=\"dataframe\">\n",
       "  <thead>\n",
       "    <tr style=\"text-align: right;\">\n",
       "      <th></th>\n",
       "      <th>const</th>\n",
       "      <th>Do Not Email</th>\n",
       "      <th>Total Time Spent on Website</th>\n",
       "      <th>Lead Origin_Landing Page Submission</th>\n",
       "      <th>Lead Origin_Lead Add Form</th>\n",
       "      <th>Lead Source_Direct Traffic</th>\n",
       "      <th>Lead Source_Google</th>\n",
       "      <th>Lead Source_Olark Chat</th>\n",
       "      <th>Lead Source_Organic Search</th>\n",
       "      <th>Lead Source_Referral Sites</th>\n",
       "      <th>Lead Source_Welingak Website</th>\n",
       "      <th>Last Activity_Email Opened</th>\n",
       "      <th>Last Activity_Olark Chat Conversation</th>\n",
       "      <th>Last Activity_SMS Sent</th>\n",
       "      <th>Specialization_Others</th>\n",
       "      <th>Lead Quality_Low in Relevance</th>\n",
       "      <th>Lead Quality_Might be</th>\n",
       "      <th>Lead Quality_Not Sure</th>\n",
       "      <th>Lead Quality_Worst</th>\n",
       "    </tr>\n",
       "  </thead>\n",
       "  <tbody>\n",
       "    <tr>\n",
       "      <th>1681</th>\n",
       "      <td>1.0</td>\n",
       "      <td>0</td>\n",
       "      <td>-0.842055</td>\n",
       "      <td>0</td>\n",
       "      <td>0</td>\n",
       "      <td>0</td>\n",
       "      <td>0</td>\n",
       "      <td>1</td>\n",
       "      <td>0</td>\n",
       "      <td>0</td>\n",
       "      <td>0</td>\n",
       "      <td>0</td>\n",
       "      <td>0</td>\n",
       "      <td>0</td>\n",
       "      <td>1</td>\n",
       "      <td>0</td>\n",
       "      <td>0</td>\n",
       "      <td>1</td>\n",
       "      <td>0</td>\n",
       "    </tr>\n",
       "    <tr>\n",
       "      <th>7851</th>\n",
       "      <td>1.0</td>\n",
       "      <td>0</td>\n",
       "      <td>2.190918</td>\n",
       "      <td>1</td>\n",
       "      <td>0</td>\n",
       "      <td>0</td>\n",
       "      <td>1</td>\n",
       "      <td>0</td>\n",
       "      <td>0</td>\n",
       "      <td>0</td>\n",
       "      <td>0</td>\n",
       "      <td>0</td>\n",
       "      <td>0</td>\n",
       "      <td>0</td>\n",
       "      <td>0</td>\n",
       "      <td>0</td>\n",
       "      <td>1</td>\n",
       "      <td>0</td>\n",
       "      <td>0</td>\n",
       "    </tr>\n",
       "    <tr>\n",
       "      <th>2209</th>\n",
       "      <td>1.0</td>\n",
       "      <td>0</td>\n",
       "      <td>2.442256</td>\n",
       "      <td>1</td>\n",
       "      <td>0</td>\n",
       "      <td>1</td>\n",
       "      <td>0</td>\n",
       "      <td>0</td>\n",
       "      <td>0</td>\n",
       "      <td>0</td>\n",
       "      <td>0</td>\n",
       "      <td>0</td>\n",
       "      <td>0</td>\n",
       "      <td>0</td>\n",
       "      <td>0</td>\n",
       "      <td>0</td>\n",
       "      <td>0</td>\n",
       "      <td>0</td>\n",
       "      <td>1</td>\n",
       "    </tr>\n",
       "    <tr>\n",
       "      <th>8077</th>\n",
       "      <td>1.0</td>\n",
       "      <td>0</td>\n",
       "      <td>-0.842055</td>\n",
       "      <td>0</td>\n",
       "      <td>1</td>\n",
       "      <td>0</td>\n",
       "      <td>0</td>\n",
       "      <td>0</td>\n",
       "      <td>0</td>\n",
       "      <td>0</td>\n",
       "      <td>0</td>\n",
       "      <td>0</td>\n",
       "      <td>0</td>\n",
       "      <td>1</td>\n",
       "      <td>0</td>\n",
       "      <td>0</td>\n",
       "      <td>1</td>\n",
       "      <td>0</td>\n",
       "      <td>0</td>\n",
       "    </tr>\n",
       "    <tr>\n",
       "      <th>7255</th>\n",
       "      <td>1.0</td>\n",
       "      <td>0</td>\n",
       "      <td>-0.842055</td>\n",
       "      <td>0</td>\n",
       "      <td>0</td>\n",
       "      <td>0</td>\n",
       "      <td>0</td>\n",
       "      <td>1</td>\n",
       "      <td>0</td>\n",
       "      <td>0</td>\n",
       "      <td>0</td>\n",
       "      <td>1</td>\n",
       "      <td>0</td>\n",
       "      <td>0</td>\n",
       "      <td>1</td>\n",
       "      <td>0</td>\n",
       "      <td>0</td>\n",
       "      <td>1</td>\n",
       "      <td>0</td>\n",
       "    </tr>\n",
       "  </tbody>\n",
       "</table>\n",
       "</div>"
      ],
      "text/plain": [
       "      const  Do Not Email  Total Time Spent on Website  \\\n",
       "1681    1.0             0                    -0.842055   \n",
       "7851    1.0             0                     2.190918   \n",
       "2209    1.0             0                     2.442256   \n",
       "8077    1.0             0                    -0.842055   \n",
       "7255    1.0             0                    -0.842055   \n",
       "\n",
       "      Lead Origin_Landing Page Submission  Lead Origin_Lead Add Form  \\\n",
       "1681                                    0                          0   \n",
       "7851                                    1                          0   \n",
       "2209                                    1                          0   \n",
       "8077                                    0                          1   \n",
       "7255                                    0                          0   \n",
       "\n",
       "      Lead Source_Direct Traffic  Lead Source_Google  Lead Source_Olark Chat  \\\n",
       "1681                           0                   0                       1   \n",
       "7851                           0                   1                       0   \n",
       "2209                           1                   0                       0   \n",
       "8077                           0                   0                       0   \n",
       "7255                           0                   0                       1   \n",
       "\n",
       "      Lead Source_Organic Search  Lead Source_Referral Sites  \\\n",
       "1681                           0                           0   \n",
       "7851                           0                           0   \n",
       "2209                           0                           0   \n",
       "8077                           0                           0   \n",
       "7255                           0                           0   \n",
       "\n",
       "      Lead Source_Welingak Website  Last Activity_Email Opened  \\\n",
       "1681                             0                           0   \n",
       "7851                             0                           0   \n",
       "2209                             0                           0   \n",
       "8077                             0                           0   \n",
       "7255                             0                           1   \n",
       "\n",
       "      Last Activity_Olark Chat Conversation  Last Activity_SMS Sent  \\\n",
       "1681                                      0                       0   \n",
       "7851                                      0                       0   \n",
       "2209                                      0                       0   \n",
       "8077                                      0                       1   \n",
       "7255                                      0                       0   \n",
       "\n",
       "      Specialization_Others  Lead Quality_Low in Relevance  \\\n",
       "1681                      1                              0   \n",
       "7851                      0                              0   \n",
       "2209                      0                              0   \n",
       "8077                      0                              0   \n",
       "7255                      1                              0   \n",
       "\n",
       "      Lead Quality_Might be  Lead Quality_Not Sure  Lead Quality_Worst  \n",
       "1681                      0                      1                   0  \n",
       "7851                      1                      0                   0  \n",
       "2209                      0                      0                   1  \n",
       "8077                      1                      0                   0  \n",
       "7255                      0                      1                   0  "
      ]
     },
     "execution_count": 663,
     "metadata": {},
     "output_type": "execute_result"
    }
   ],
   "source": [
    "# Add constant to X_train2 to get X_train_sm2\n",
    "\n",
    "X_train_sm2 = sm.add_constant(X_train2)\n",
    "X_train_sm2.head()"
   ]
  },
  {
   "cell_type": "code",
   "execution_count": 664,
   "metadata": {},
   "outputs": [
    {
     "data": {
      "text/html": [
       "<table class=\"simpletable\">\n",
       "<caption>Generalized Linear Model Regression Results</caption>\n",
       "<tr>\n",
       "  <th>Dep. Variable:</th>       <td>Converted</td>    <th>  No. Observations:  </th>  <td>  5495</td> \n",
       "</tr>\n",
       "<tr>\n",
       "  <th>Model:</th>                  <td>GLM</td>       <th>  Df Residuals:      </th>  <td>  5476</td> \n",
       "</tr>\n",
       "<tr>\n",
       "  <th>Model Family:</th>        <td>Binomial</td>     <th>  Df Model:          </th>  <td>    18</td> \n",
       "</tr>\n",
       "<tr>\n",
       "  <th>Link Function:</th>         <td>logit</td>      <th>  Scale:             </th> <td>  1.0000</td>\n",
       "</tr>\n",
       "<tr>\n",
       "  <th>Method:</th>                <td>IRLS</td>       <th>  Log-Likelihood:    </th> <td> -1834.8</td>\n",
       "</tr>\n",
       "<tr>\n",
       "  <th>Date:</th>            <td>Wed, 14 Jul 2021</td> <th>  Deviance:          </th> <td>  3669.6</td>\n",
       "</tr>\n",
       "<tr>\n",
       "  <th>Time:</th>                <td>18:12:53</td>     <th>  Pearson chi2:      </th> <td>5.98e+03</td>\n",
       "</tr>\n",
       "<tr>\n",
       "  <th>No. Iterations:</th>          <td>7</td>        <th>                     </th>     <td> </td>   \n",
       "</tr>\n",
       "<tr>\n",
       "  <th>Covariance Type:</th>     <td>nonrobust</td>    <th>                     </th>     <td> </td>   \n",
       "</tr>\n",
       "</table>\n",
       "<table class=\"simpletable\">\n",
       "<tr>\n",
       "                    <td></td>                       <th>coef</th>     <th>std err</th>      <th>z</th>      <th>P>|z|</th>  <th>[0.025</th>    <th>0.975]</th>  \n",
       "</tr>\n",
       "<tr>\n",
       "  <th>const</th>                                 <td>    2.6073</td> <td>    0.529</td> <td>    4.927</td> <td> 0.000</td> <td>    1.570</td> <td>    3.645</td>\n",
       "</tr>\n",
       "<tr>\n",
       "  <th>Do Not Email</th>                          <td>   -1.1246</td> <td>    0.210</td> <td>   -5.364</td> <td> 0.000</td> <td>   -1.535</td> <td>   -0.714</td>\n",
       "</tr>\n",
       "<tr>\n",
       "  <th>Total Time Spent on Website</th>           <td>    1.0755</td> <td>    0.048</td> <td>   22.221</td> <td> 0.000</td> <td>    0.981</td> <td>    1.170</td>\n",
       "</tr>\n",
       "<tr>\n",
       "  <th>Lead Origin_Landing Page Submission</th>   <td>   -0.7436</td> <td>    0.167</td> <td>   -4.454</td> <td> 0.000</td> <td>   -1.071</td> <td>   -0.416</td>\n",
       "</tr>\n",
       "<tr>\n",
       "  <th>Lead Origin_Lead Add Form</th>             <td>    1.9444</td> <td>    0.507</td> <td>    3.832</td> <td> 0.000</td> <td>    0.950</td> <td>    2.939</td>\n",
       "</tr>\n",
       "<tr>\n",
       "  <th>Lead Source_Direct Traffic</th>            <td>   -0.7289</td> <td>    0.471</td> <td>   -1.547</td> <td> 0.122</td> <td>   -1.653</td> <td>    0.195</td>\n",
       "</tr>\n",
       "<tr>\n",
       "  <th>Lead Source_Google</th>                    <td>   -0.6059</td> <td>    0.463</td> <td>   -1.308</td> <td> 0.191</td> <td>   -1.514</td> <td>    0.302</td>\n",
       "</tr>\n",
       "<tr>\n",
       "  <th>Lead Source_Olark Chat</th>                <td>    0.8443</td> <td>    0.462</td> <td>    1.828</td> <td> 0.068</td> <td>   -0.061</td> <td>    1.750</td>\n",
       "</tr>\n",
       "<tr>\n",
       "  <th>Lead Source_Organic Search</th>            <td>   -0.7428</td> <td>    0.473</td> <td>   -1.572</td> <td> 0.116</td> <td>   -1.669</td> <td>    0.183</td>\n",
       "</tr>\n",
       "<tr>\n",
       "  <th>Lead Source_Referral Sites</th>            <td>   -1.0214</td> <td>    0.604</td> <td>   -1.690</td> <td> 0.091</td> <td>   -2.206</td> <td>    0.163</td>\n",
       "</tr>\n",
       "<tr>\n",
       "  <th>Lead Source_Welingak Website</th>          <td>    3.4414</td> <td>    0.769</td> <td>    4.476</td> <td> 0.000</td> <td>    1.934</td> <td>    4.948</td>\n",
       "</tr>\n",
       "<tr>\n",
       "  <th>Last Activity_Email Opened</th>            <td>    0.4379</td> <td>    0.130</td> <td>    3.373</td> <td> 0.001</td> <td>    0.183</td> <td>    0.692</td>\n",
       "</tr>\n",
       "<tr>\n",
       "  <th>Last Activity_Olark Chat Conversation</th> <td>   -0.9445</td> <td>    0.215</td> <td>   -4.401</td> <td> 0.000</td> <td>   -1.365</td> <td>   -0.524</td>\n",
       "</tr>\n",
       "<tr>\n",
       "  <th>Last Activity_SMS Sent</th>                <td>    1.7762</td> <td>    0.131</td> <td>   13.579</td> <td> 0.000</td> <td>    1.520</td> <td>    2.033</td>\n",
       "</tr>\n",
       "<tr>\n",
       "  <th>Specialization_Others</th>                 <td>   -0.4468</td> <td>    0.153</td> <td>   -2.922</td> <td> 0.003</td> <td>   -0.746</td> <td>   -0.147</td>\n",
       "</tr>\n",
       "<tr>\n",
       "  <th>Lead Quality_Low in Relevance</th>         <td>   -1.2627</td> <td>    0.298</td> <td>   -4.239</td> <td> 0.000</td> <td>   -1.847</td> <td>   -0.679</td>\n",
       "</tr>\n",
       "<tr>\n",
       "  <th>Lead Quality_Might be</th>                 <td>   -2.0467</td> <td>    0.276</td> <td>   -7.413</td> <td> 0.000</td> <td>   -2.588</td> <td>   -1.506</td>\n",
       "</tr>\n",
       "<tr>\n",
       "  <th>Lead Quality_Not Sure</th>                 <td>   -4.0400</td> <td>    0.267</td> <td>  -15.117</td> <td> 0.000</td> <td>   -4.564</td> <td>   -3.516</td>\n",
       "</tr>\n",
       "<tr>\n",
       "  <th>Lead Quality_Worst</th>                    <td>   -5.9757</td> <td>    0.471</td> <td>  -12.683</td> <td> 0.000</td> <td>   -6.899</td> <td>   -5.052</td>\n",
       "</tr>\n",
       "</table>"
      ],
      "text/plain": [
       "<class 'statsmodels.iolib.summary.Summary'>\n",
       "\"\"\"\n",
       "                 Generalized Linear Model Regression Results                  \n",
       "==============================================================================\n",
       "Dep. Variable:              Converted   No. Observations:                 5495\n",
       "Model:                            GLM   Df Residuals:                     5476\n",
       "Model Family:                Binomial   Df Model:                           18\n",
       "Link Function:                  logit   Scale:                          1.0000\n",
       "Method:                          IRLS   Log-Likelihood:                -1834.8\n",
       "Date:                Wed, 14 Jul 2021   Deviance:                       3669.6\n",
       "Time:                        18:12:53   Pearson chi2:                 5.98e+03\n",
       "No. Iterations:                     7                                         \n",
       "Covariance Type:            nonrobust                                         \n",
       "=========================================================================================================\n",
       "                                            coef    std err          z      P>|z|      [0.025      0.975]\n",
       "---------------------------------------------------------------------------------------------------------\n",
       "const                                     2.6073      0.529      4.927      0.000       1.570       3.645\n",
       "Do Not Email                             -1.1246      0.210     -5.364      0.000      -1.535      -0.714\n",
       "Total Time Spent on Website               1.0755      0.048     22.221      0.000       0.981       1.170\n",
       "Lead Origin_Landing Page Submission      -0.7436      0.167     -4.454      0.000      -1.071      -0.416\n",
       "Lead Origin_Lead Add Form                 1.9444      0.507      3.832      0.000       0.950       2.939\n",
       "Lead Source_Direct Traffic               -0.7289      0.471     -1.547      0.122      -1.653       0.195\n",
       "Lead Source_Google                       -0.6059      0.463     -1.308      0.191      -1.514       0.302\n",
       "Lead Source_Olark Chat                    0.8443      0.462      1.828      0.068      -0.061       1.750\n",
       "Lead Source_Organic Search               -0.7428      0.473     -1.572      0.116      -1.669       0.183\n",
       "Lead Source_Referral Sites               -1.0214      0.604     -1.690      0.091      -2.206       0.163\n",
       "Lead Source_Welingak Website              3.4414      0.769      4.476      0.000       1.934       4.948\n",
       "Last Activity_Email Opened                0.4379      0.130      3.373      0.001       0.183       0.692\n",
       "Last Activity_Olark Chat Conversation    -0.9445      0.215     -4.401      0.000      -1.365      -0.524\n",
       "Last Activity_SMS Sent                    1.7762      0.131     13.579      0.000       1.520       2.033\n",
       "Specialization_Others                    -0.4468      0.153     -2.922      0.003      -0.746      -0.147\n",
       "Lead Quality_Low in Relevance            -1.2627      0.298     -4.239      0.000      -1.847      -0.679\n",
       "Lead Quality_Might be                    -2.0467      0.276     -7.413      0.000      -2.588      -1.506\n",
       "Lead Quality_Not Sure                    -4.0400      0.267    -15.117      0.000      -4.564      -3.516\n",
       "Lead Quality_Worst                       -5.9757      0.471    -12.683      0.000      -6.899      -5.052\n",
       "=========================================================================================================\n",
       "\"\"\""
      ]
     },
     "execution_count": 664,
     "metadata": {},
     "output_type": "execute_result"
    }
   ],
   "source": [
    "# Fitting the model\n",
    "\n",
    "logm2 = sm.GLM(y_train, X_train_sm2, family=sm.families.Binomial())\n",
    "\n",
    "res = logm2.fit()\n",
    "res.summary()"
   ]
  },
  {
   "cell_type": "markdown",
   "metadata": {},
   "source": [
    "##### Action\n",
    "'Lead Source_Google' has a high p value. <b> `Dropping 'Lead Source_Google'`</b>"
   ]
  },
  {
   "cell_type": "code",
   "execution_count": null,
   "metadata": {},
   "outputs": [],
   "source": []
  },
  {
   "cell_type": "markdown",
   "metadata": {},
   "source": [
    "### Model 3"
   ]
  },
  {
   "cell_type": "code",
   "execution_count": 665,
   "metadata": {},
   "outputs": [
    {
     "data": {
      "text/html": [
       "<div>\n",
       "<style scoped>\n",
       "    .dataframe tbody tr th:only-of-type {\n",
       "        vertical-align: middle;\n",
       "    }\n",
       "\n",
       "    .dataframe tbody tr th {\n",
       "        vertical-align: top;\n",
       "    }\n",
       "\n",
       "    .dataframe thead th {\n",
       "        text-align: right;\n",
       "    }\n",
       "</style>\n",
       "<table border=\"1\" class=\"dataframe\">\n",
       "  <thead>\n",
       "    <tr style=\"text-align: right;\">\n",
       "      <th></th>\n",
       "      <th>Do Not Email</th>\n",
       "      <th>Total Time Spent on Website</th>\n",
       "      <th>Lead Origin_Landing Page Submission</th>\n",
       "      <th>Lead Origin_Lead Add Form</th>\n",
       "      <th>Lead Source_Direct Traffic</th>\n",
       "      <th>Lead Source_Olark Chat</th>\n",
       "      <th>Lead Source_Organic Search</th>\n",
       "      <th>Lead Source_Referral Sites</th>\n",
       "      <th>Lead Source_Welingak Website</th>\n",
       "      <th>Last Activity_Email Opened</th>\n",
       "      <th>Last Activity_Olark Chat Conversation</th>\n",
       "      <th>Last Activity_SMS Sent</th>\n",
       "      <th>Specialization_Others</th>\n",
       "      <th>Lead Quality_Low in Relevance</th>\n",
       "      <th>Lead Quality_Might be</th>\n",
       "      <th>Lead Quality_Not Sure</th>\n",
       "      <th>Lead Quality_Worst</th>\n",
       "    </tr>\n",
       "  </thead>\n",
       "  <tbody>\n",
       "    <tr>\n",
       "      <th>1681</th>\n",
       "      <td>0</td>\n",
       "      <td>-0.842055</td>\n",
       "      <td>0</td>\n",
       "      <td>0</td>\n",
       "      <td>0</td>\n",
       "      <td>1</td>\n",
       "      <td>0</td>\n",
       "      <td>0</td>\n",
       "      <td>0</td>\n",
       "      <td>0</td>\n",
       "      <td>0</td>\n",
       "      <td>0</td>\n",
       "      <td>1</td>\n",
       "      <td>0</td>\n",
       "      <td>0</td>\n",
       "      <td>1</td>\n",
       "      <td>0</td>\n",
       "    </tr>\n",
       "    <tr>\n",
       "      <th>7851</th>\n",
       "      <td>0</td>\n",
       "      <td>2.190918</td>\n",
       "      <td>1</td>\n",
       "      <td>0</td>\n",
       "      <td>0</td>\n",
       "      <td>0</td>\n",
       "      <td>0</td>\n",
       "      <td>0</td>\n",
       "      <td>0</td>\n",
       "      <td>0</td>\n",
       "      <td>0</td>\n",
       "      <td>0</td>\n",
       "      <td>0</td>\n",
       "      <td>0</td>\n",
       "      <td>1</td>\n",
       "      <td>0</td>\n",
       "      <td>0</td>\n",
       "    </tr>\n",
       "    <tr>\n",
       "      <th>2209</th>\n",
       "      <td>0</td>\n",
       "      <td>2.442256</td>\n",
       "      <td>1</td>\n",
       "      <td>0</td>\n",
       "      <td>1</td>\n",
       "      <td>0</td>\n",
       "      <td>0</td>\n",
       "      <td>0</td>\n",
       "      <td>0</td>\n",
       "      <td>0</td>\n",
       "      <td>0</td>\n",
       "      <td>0</td>\n",
       "      <td>0</td>\n",
       "      <td>0</td>\n",
       "      <td>0</td>\n",
       "      <td>0</td>\n",
       "      <td>1</td>\n",
       "    </tr>\n",
       "    <tr>\n",
       "      <th>8077</th>\n",
       "      <td>0</td>\n",
       "      <td>-0.842055</td>\n",
       "      <td>0</td>\n",
       "      <td>1</td>\n",
       "      <td>0</td>\n",
       "      <td>0</td>\n",
       "      <td>0</td>\n",
       "      <td>0</td>\n",
       "      <td>0</td>\n",
       "      <td>0</td>\n",
       "      <td>0</td>\n",
       "      <td>1</td>\n",
       "      <td>0</td>\n",
       "      <td>0</td>\n",
       "      <td>1</td>\n",
       "      <td>0</td>\n",
       "      <td>0</td>\n",
       "    </tr>\n",
       "    <tr>\n",
       "      <th>7255</th>\n",
       "      <td>0</td>\n",
       "      <td>-0.842055</td>\n",
       "      <td>0</td>\n",
       "      <td>0</td>\n",
       "      <td>0</td>\n",
       "      <td>1</td>\n",
       "      <td>0</td>\n",
       "      <td>0</td>\n",
       "      <td>0</td>\n",
       "      <td>1</td>\n",
       "      <td>0</td>\n",
       "      <td>0</td>\n",
       "      <td>1</td>\n",
       "      <td>0</td>\n",
       "      <td>0</td>\n",
       "      <td>1</td>\n",
       "      <td>0</td>\n",
       "    </tr>\n",
       "  </tbody>\n",
       "</table>\n",
       "</div>"
      ],
      "text/plain": [
       "      Do Not Email  Total Time Spent on Website  \\\n",
       "1681             0                    -0.842055   \n",
       "7851             0                     2.190918   \n",
       "2209             0                     2.442256   \n",
       "8077             0                    -0.842055   \n",
       "7255             0                    -0.842055   \n",
       "\n",
       "      Lead Origin_Landing Page Submission  Lead Origin_Lead Add Form  \\\n",
       "1681                                    0                          0   \n",
       "7851                                    1                          0   \n",
       "2209                                    1                          0   \n",
       "8077                                    0                          1   \n",
       "7255                                    0                          0   \n",
       "\n",
       "      Lead Source_Direct Traffic  Lead Source_Olark Chat  \\\n",
       "1681                           0                       1   \n",
       "7851                           0                       0   \n",
       "2209                           1                       0   \n",
       "8077                           0                       0   \n",
       "7255                           0                       1   \n",
       "\n",
       "      Lead Source_Organic Search  Lead Source_Referral Sites  \\\n",
       "1681                           0                           0   \n",
       "7851                           0                           0   \n",
       "2209                           0                           0   \n",
       "8077                           0                           0   \n",
       "7255                           0                           0   \n",
       "\n",
       "      Lead Source_Welingak Website  Last Activity_Email Opened  \\\n",
       "1681                             0                           0   \n",
       "7851                             0                           0   \n",
       "2209                             0                           0   \n",
       "8077                             0                           0   \n",
       "7255                             0                           1   \n",
       "\n",
       "      Last Activity_Olark Chat Conversation  Last Activity_SMS Sent  \\\n",
       "1681                                      0                       0   \n",
       "7851                                      0                       0   \n",
       "2209                                      0                       0   \n",
       "8077                                      0                       1   \n",
       "7255                                      0                       0   \n",
       "\n",
       "      Specialization_Others  Lead Quality_Low in Relevance  \\\n",
       "1681                      1                              0   \n",
       "7851                      0                              0   \n",
       "2209                      0                              0   \n",
       "8077                      0                              0   \n",
       "7255                      1                              0   \n",
       "\n",
       "      Lead Quality_Might be  Lead Quality_Not Sure  Lead Quality_Worst  \n",
       "1681                      0                      1                   0  \n",
       "7851                      1                      0                   0  \n",
       "2209                      0                      0                   1  \n",
       "8077                      1                      0                   0  \n",
       "7255                      0                      1                   0  "
      ]
     },
     "execution_count": 665,
     "metadata": {},
     "output_type": "execute_result"
    }
   ],
   "source": [
    "# Drop\n",
    "\n",
    "X_train3 = X_train2.drop(['Lead Source_Google'], axis=1)\n",
    "X_train3.head()"
   ]
  },
  {
   "cell_type": "code",
   "execution_count": 666,
   "metadata": {},
   "outputs": [
    {
     "data": {
      "text/html": [
       "<div>\n",
       "<style scoped>\n",
       "    .dataframe tbody tr th:only-of-type {\n",
       "        vertical-align: middle;\n",
       "    }\n",
       "\n",
       "    .dataframe tbody tr th {\n",
       "        vertical-align: top;\n",
       "    }\n",
       "\n",
       "    .dataframe thead th {\n",
       "        text-align: right;\n",
       "    }\n",
       "</style>\n",
       "<table border=\"1\" class=\"dataframe\">\n",
       "  <thead>\n",
       "    <tr style=\"text-align: right;\">\n",
       "      <th></th>\n",
       "      <th>Features</th>\n",
       "      <th>VIF</th>\n",
       "    </tr>\n",
       "  </thead>\n",
       "  <tbody>\n",
       "    <tr>\n",
       "      <th>15</th>\n",
       "      <td>Lead Quality_Not Sure</td>\n",
       "      <td>8.37</td>\n",
       "    </tr>\n",
       "    <tr>\n",
       "      <th>2</th>\n",
       "      <td>Lead Origin_Landing Page Submission</td>\n",
       "      <td>6.45</td>\n",
       "    </tr>\n",
       "    <tr>\n",
       "      <th>12</th>\n",
       "      <td>Specialization_Others</td>\n",
       "      <td>4.57</td>\n",
       "    </tr>\n",
       "    <tr>\n",
       "      <th>9</th>\n",
       "      <td>Last Activity_Email Opened</td>\n",
       "      <td>2.75</td>\n",
       "    </tr>\n",
       "    <tr>\n",
       "      <th>5</th>\n",
       "      <td>Lead Source_Olark Chat</td>\n",
       "      <td>2.63</td>\n",
       "    </tr>\n",
       "    <tr>\n",
       "      <th>11</th>\n",
       "      <td>Last Activity_SMS Sent</td>\n",
       "      <td>2.51</td>\n",
       "    </tr>\n",
       "    <tr>\n",
       "      <th>14</th>\n",
       "      <td>Lead Quality_Might be</td>\n",
       "      <td>2.46</td>\n",
       "    </tr>\n",
       "    <tr>\n",
       "      <th>4</th>\n",
       "      <td>Lead Source_Direct Traffic</td>\n",
       "      <td>2.28</td>\n",
       "    </tr>\n",
       "    <tr>\n",
       "      <th>10</th>\n",
       "      <td>Last Activity_Olark Chat Conversation</td>\n",
       "      <td>1.90</td>\n",
       "    </tr>\n",
       "    <tr>\n",
       "      <th>3</th>\n",
       "      <td>Lead Origin_Lead Add Form</td>\n",
       "      <td>1.80</td>\n",
       "    </tr>\n",
       "    <tr>\n",
       "      <th>16</th>\n",
       "      <td>Lead Quality_Worst</td>\n",
       "      <td>1.77</td>\n",
       "    </tr>\n",
       "    <tr>\n",
       "      <th>13</th>\n",
       "      <td>Lead Quality_Low in Relevance</td>\n",
       "      <td>1.46</td>\n",
       "    </tr>\n",
       "    <tr>\n",
       "      <th>1</th>\n",
       "      <td>Total Time Spent on Website</td>\n",
       "      <td>1.37</td>\n",
       "    </tr>\n",
       "    <tr>\n",
       "      <th>6</th>\n",
       "      <td>Lead Source_Organic Search</td>\n",
       "      <td>1.36</td>\n",
       "    </tr>\n",
       "    <tr>\n",
       "      <th>8</th>\n",
       "      <td>Lead Source_Welingak Website</td>\n",
       "      <td>1.34</td>\n",
       "    </tr>\n",
       "    <tr>\n",
       "      <th>0</th>\n",
       "      <td>Do Not Email</td>\n",
       "      <td>1.26</td>\n",
       "    </tr>\n",
       "    <tr>\n",
       "      <th>7</th>\n",
       "      <td>Lead Source_Referral Sites</td>\n",
       "      <td>1.05</td>\n",
       "    </tr>\n",
       "  </tbody>\n",
       "</table>\n",
       "</div>"
      ],
      "text/plain": [
       "                                 Features   VIF\n",
       "15                  Lead Quality_Not Sure  8.37\n",
       "2     Lead Origin_Landing Page Submission  6.45\n",
       "12                  Specialization_Others  4.57\n",
       "9              Last Activity_Email Opened  2.75\n",
       "5                  Lead Source_Olark Chat  2.63\n",
       "11                 Last Activity_SMS Sent  2.51\n",
       "14                  Lead Quality_Might be  2.46\n",
       "4              Lead Source_Direct Traffic  2.28\n",
       "10  Last Activity_Olark Chat Conversation  1.90\n",
       "3               Lead Origin_Lead Add Form  1.80\n",
       "16                     Lead Quality_Worst  1.77\n",
       "13          Lead Quality_Low in Relevance  1.46\n",
       "1             Total Time Spent on Website  1.37\n",
       "6              Lead Source_Organic Search  1.36\n",
       "8            Lead Source_Welingak Website  1.34\n",
       "0                            Do Not Email  1.26\n",
       "7              Lead Source_Referral Sites  1.05"
      ]
     },
     "execution_count": 666,
     "metadata": {},
     "output_type": "execute_result"
    }
   ],
   "source": [
    "# VIF values\n",
    "\n",
    "cal_vif(X_train3)"
   ]
  },
  {
   "cell_type": "code",
   "execution_count": 667,
   "metadata": {},
   "outputs": [
    {
     "data": {
      "text/html": [
       "<div>\n",
       "<style scoped>\n",
       "    .dataframe tbody tr th:only-of-type {\n",
       "        vertical-align: middle;\n",
       "    }\n",
       "\n",
       "    .dataframe tbody tr th {\n",
       "        vertical-align: top;\n",
       "    }\n",
       "\n",
       "    .dataframe thead th {\n",
       "        text-align: right;\n",
       "    }\n",
       "</style>\n",
       "<table border=\"1\" class=\"dataframe\">\n",
       "  <thead>\n",
       "    <tr style=\"text-align: right;\">\n",
       "      <th></th>\n",
       "      <th>const</th>\n",
       "      <th>Do Not Email</th>\n",
       "      <th>Total Time Spent on Website</th>\n",
       "      <th>Lead Origin_Landing Page Submission</th>\n",
       "      <th>Lead Origin_Lead Add Form</th>\n",
       "      <th>Lead Source_Direct Traffic</th>\n",
       "      <th>Lead Source_Olark Chat</th>\n",
       "      <th>Lead Source_Organic Search</th>\n",
       "      <th>Lead Source_Referral Sites</th>\n",
       "      <th>Lead Source_Welingak Website</th>\n",
       "      <th>Last Activity_Email Opened</th>\n",
       "      <th>Last Activity_Olark Chat Conversation</th>\n",
       "      <th>Last Activity_SMS Sent</th>\n",
       "      <th>Specialization_Others</th>\n",
       "      <th>Lead Quality_Low in Relevance</th>\n",
       "      <th>Lead Quality_Might be</th>\n",
       "      <th>Lead Quality_Not Sure</th>\n",
       "      <th>Lead Quality_Worst</th>\n",
       "    </tr>\n",
       "  </thead>\n",
       "  <tbody>\n",
       "    <tr>\n",
       "      <th>1681</th>\n",
       "      <td>1.0</td>\n",
       "      <td>0</td>\n",
       "      <td>-0.842055</td>\n",
       "      <td>0</td>\n",
       "      <td>0</td>\n",
       "      <td>0</td>\n",
       "      <td>1</td>\n",
       "      <td>0</td>\n",
       "      <td>0</td>\n",
       "      <td>0</td>\n",
       "      <td>0</td>\n",
       "      <td>0</td>\n",
       "      <td>0</td>\n",
       "      <td>1</td>\n",
       "      <td>0</td>\n",
       "      <td>0</td>\n",
       "      <td>1</td>\n",
       "      <td>0</td>\n",
       "    </tr>\n",
       "    <tr>\n",
       "      <th>7851</th>\n",
       "      <td>1.0</td>\n",
       "      <td>0</td>\n",
       "      <td>2.190918</td>\n",
       "      <td>1</td>\n",
       "      <td>0</td>\n",
       "      <td>0</td>\n",
       "      <td>0</td>\n",
       "      <td>0</td>\n",
       "      <td>0</td>\n",
       "      <td>0</td>\n",
       "      <td>0</td>\n",
       "      <td>0</td>\n",
       "      <td>0</td>\n",
       "      <td>0</td>\n",
       "      <td>0</td>\n",
       "      <td>1</td>\n",
       "      <td>0</td>\n",
       "      <td>0</td>\n",
       "    </tr>\n",
       "    <tr>\n",
       "      <th>2209</th>\n",
       "      <td>1.0</td>\n",
       "      <td>0</td>\n",
       "      <td>2.442256</td>\n",
       "      <td>1</td>\n",
       "      <td>0</td>\n",
       "      <td>1</td>\n",
       "      <td>0</td>\n",
       "      <td>0</td>\n",
       "      <td>0</td>\n",
       "      <td>0</td>\n",
       "      <td>0</td>\n",
       "      <td>0</td>\n",
       "      <td>0</td>\n",
       "      <td>0</td>\n",
       "      <td>0</td>\n",
       "      <td>0</td>\n",
       "      <td>0</td>\n",
       "      <td>1</td>\n",
       "    </tr>\n",
       "    <tr>\n",
       "      <th>8077</th>\n",
       "      <td>1.0</td>\n",
       "      <td>0</td>\n",
       "      <td>-0.842055</td>\n",
       "      <td>0</td>\n",
       "      <td>1</td>\n",
       "      <td>0</td>\n",
       "      <td>0</td>\n",
       "      <td>0</td>\n",
       "      <td>0</td>\n",
       "      <td>0</td>\n",
       "      <td>0</td>\n",
       "      <td>0</td>\n",
       "      <td>1</td>\n",
       "      <td>0</td>\n",
       "      <td>0</td>\n",
       "      <td>1</td>\n",
       "      <td>0</td>\n",
       "      <td>0</td>\n",
       "    </tr>\n",
       "    <tr>\n",
       "      <th>7255</th>\n",
       "      <td>1.0</td>\n",
       "      <td>0</td>\n",
       "      <td>-0.842055</td>\n",
       "      <td>0</td>\n",
       "      <td>0</td>\n",
       "      <td>0</td>\n",
       "      <td>1</td>\n",
       "      <td>0</td>\n",
       "      <td>0</td>\n",
       "      <td>0</td>\n",
       "      <td>1</td>\n",
       "      <td>0</td>\n",
       "      <td>0</td>\n",
       "      <td>1</td>\n",
       "      <td>0</td>\n",
       "      <td>0</td>\n",
       "      <td>1</td>\n",
       "      <td>0</td>\n",
       "    </tr>\n",
       "  </tbody>\n",
       "</table>\n",
       "</div>"
      ],
      "text/plain": [
       "      const  Do Not Email  Total Time Spent on Website  \\\n",
       "1681    1.0             0                    -0.842055   \n",
       "7851    1.0             0                     2.190918   \n",
       "2209    1.0             0                     2.442256   \n",
       "8077    1.0             0                    -0.842055   \n",
       "7255    1.0             0                    -0.842055   \n",
       "\n",
       "      Lead Origin_Landing Page Submission  Lead Origin_Lead Add Form  \\\n",
       "1681                                    0                          0   \n",
       "7851                                    1                          0   \n",
       "2209                                    1                          0   \n",
       "8077                                    0                          1   \n",
       "7255                                    0                          0   \n",
       "\n",
       "      Lead Source_Direct Traffic  Lead Source_Olark Chat  \\\n",
       "1681                           0                       1   \n",
       "7851                           0                       0   \n",
       "2209                           1                       0   \n",
       "8077                           0                       0   \n",
       "7255                           0                       1   \n",
       "\n",
       "      Lead Source_Organic Search  Lead Source_Referral Sites  \\\n",
       "1681                           0                           0   \n",
       "7851                           0                           0   \n",
       "2209                           0                           0   \n",
       "8077                           0                           0   \n",
       "7255                           0                           0   \n",
       "\n",
       "      Lead Source_Welingak Website  Last Activity_Email Opened  \\\n",
       "1681                             0                           0   \n",
       "7851                             0                           0   \n",
       "2209                             0                           0   \n",
       "8077                             0                           0   \n",
       "7255                             0                           1   \n",
       "\n",
       "      Last Activity_Olark Chat Conversation  Last Activity_SMS Sent  \\\n",
       "1681                                      0                       0   \n",
       "7851                                      0                       0   \n",
       "2209                                      0                       0   \n",
       "8077                                      0                       1   \n",
       "7255                                      0                       0   \n",
       "\n",
       "      Specialization_Others  Lead Quality_Low in Relevance  \\\n",
       "1681                      1                              0   \n",
       "7851                      0                              0   \n",
       "2209                      0                              0   \n",
       "8077                      0                              0   \n",
       "7255                      1                              0   \n",
       "\n",
       "      Lead Quality_Might be  Lead Quality_Not Sure  Lead Quality_Worst  \n",
       "1681                      0                      1                   0  \n",
       "7851                      1                      0                   0  \n",
       "2209                      0                      0                   1  \n",
       "8077                      1                      0                   0  \n",
       "7255                      0                      1                   0  "
      ]
     },
     "execution_count": 667,
     "metadata": {},
     "output_type": "execute_result"
    }
   ],
   "source": [
    "# Add constant to X_train3 to get X_train_sm3\n",
    "\n",
    "X_train_sm3 = sm.add_constant(X_train3)\n",
    "X_train_sm3.head()"
   ]
  },
  {
   "cell_type": "code",
   "execution_count": 668,
   "metadata": {},
   "outputs": [
    {
     "data": {
      "text/html": [
       "<table class=\"simpletable\">\n",
       "<caption>Generalized Linear Model Regression Results</caption>\n",
       "<tr>\n",
       "  <th>Dep. Variable:</th>       <td>Converted</td>    <th>  No. Observations:  </th>  <td>  5495</td> \n",
       "</tr>\n",
       "<tr>\n",
       "  <th>Model:</th>                  <td>GLM</td>       <th>  Df Residuals:      </th>  <td>  5477</td> \n",
       "</tr>\n",
       "<tr>\n",
       "  <th>Model Family:</th>        <td>Binomial</td>     <th>  Df Model:          </th>  <td>    17</td> \n",
       "</tr>\n",
       "<tr>\n",
       "  <th>Link Function:</th>         <td>logit</td>      <th>  Scale:             </th> <td>  1.0000</td>\n",
       "</tr>\n",
       "<tr>\n",
       "  <th>Method:</th>                <td>IRLS</td>       <th>  Log-Likelihood:    </th> <td> -1835.6</td>\n",
       "</tr>\n",
       "<tr>\n",
       "  <th>Date:</th>            <td>Wed, 14 Jul 2021</td> <th>  Deviance:          </th> <td>  3671.3</td>\n",
       "</tr>\n",
       "<tr>\n",
       "  <th>Time:</th>                <td>18:12:53</td>     <th>  Pearson chi2:      </th> <td>5.97e+03</td>\n",
       "</tr>\n",
       "<tr>\n",
       "  <th>No. Iterations:</th>          <td>7</td>        <th>                     </th>     <td> </td>   \n",
       "</tr>\n",
       "<tr>\n",
       "  <th>Covariance Type:</th>     <td>nonrobust</td>    <th>                     </th>     <td> </td>   \n",
       "</tr>\n",
       "</table>\n",
       "<table class=\"simpletable\">\n",
       "<tr>\n",
       "                    <td></td>                       <th>coef</th>     <th>std err</th>      <th>z</th>      <th>P>|z|</th>  <th>[0.025</th>    <th>0.975]</th>  \n",
       "</tr>\n",
       "<tr>\n",
       "  <th>const</th>                                 <td>    2.0455</td> <td>    0.306</td> <td>    6.687</td> <td> 0.000</td> <td>    1.446</td> <td>    2.645</td>\n",
       "</tr>\n",
       "<tr>\n",
       "  <th>Do Not Email</th>                          <td>   -1.1235</td> <td>    0.210</td> <td>   -5.360</td> <td> 0.000</td> <td>   -1.534</td> <td>   -0.713</td>\n",
       "</tr>\n",
       "<tr>\n",
       "  <th>Total Time Spent on Website</th>           <td>    1.0695</td> <td>    0.048</td> <td>   22.227</td> <td> 0.000</td> <td>    0.975</td> <td>    1.164</td>\n",
       "</tr>\n",
       "<tr>\n",
       "  <th>Lead Origin_Landing Page Submission</th>   <td>   -0.7697</td> <td>    0.166</td> <td>   -4.642</td> <td> 0.000</td> <td>   -1.095</td> <td>   -0.445</td>\n",
       "</tr>\n",
       "<tr>\n",
       "  <th>Lead Origin_Lead Add Form</th>             <td>    2.5078</td> <td>    0.272</td> <td>    9.219</td> <td> 0.000</td> <td>    1.975</td> <td>    3.041</td>\n",
       "</tr>\n",
       "<tr>\n",
       "  <th>Lead Source_Direct Traffic</th>            <td>   -0.1317</td> <td>    0.119</td> <td>   -1.104</td> <td> 0.270</td> <td>   -0.365</td> <td>    0.102</td>\n",
       "</tr>\n",
       "<tr>\n",
       "  <th>Lead Source_Olark Chat</th>                <td>    1.4184</td> <td>    0.151</td> <td>    9.389</td> <td> 0.000</td> <td>    1.122</td> <td>    1.714</td>\n",
       "</tr>\n",
       "<tr>\n",
       "  <th>Lead Source_Organic Search</th>            <td>   -0.1512</td> <td>    0.140</td> <td>   -1.081</td> <td> 0.280</td> <td>   -0.425</td> <td>    0.123</td>\n",
       "</tr>\n",
       "<tr>\n",
       "  <th>Lead Source_Referral Sites</th>            <td>   -0.4350</td> <td>    0.406</td> <td>   -1.071</td> <td> 0.284</td> <td>   -1.231</td> <td>    0.361</td>\n",
       "</tr>\n",
       "<tr>\n",
       "  <th>Lead Source_Welingak Website</th>          <td>    3.4540</td> <td>    0.769</td> <td>    4.492</td> <td> 0.000</td> <td>    1.947</td> <td>    4.961</td>\n",
       "</tr>\n",
       "<tr>\n",
       "  <th>Last Activity_Email Opened</th>            <td>    0.4439</td> <td>    0.130</td> <td>    3.422</td> <td> 0.001</td> <td>    0.190</td> <td>    0.698</td>\n",
       "</tr>\n",
       "<tr>\n",
       "  <th>Last Activity_Olark Chat Conversation</th> <td>   -0.9396</td> <td>    0.214</td> <td>   -4.384</td> <td> 0.000</td> <td>   -1.360</td> <td>   -0.520</td>\n",
       "</tr>\n",
       "<tr>\n",
       "  <th>Last Activity_SMS Sent</th>                <td>    1.7779</td> <td>    0.131</td> <td>   13.592</td> <td> 0.000</td> <td>    1.522</td> <td>    2.034</td>\n",
       "</tr>\n",
       "<tr>\n",
       "  <th>Specialization_Others</th>                 <td>   -0.4605</td> <td>    0.153</td> <td>   -3.016</td> <td> 0.003</td> <td>   -0.760</td> <td>   -0.161</td>\n",
       "</tr>\n",
       "<tr>\n",
       "  <th>Lead Quality_Low in Relevance</th>         <td>   -1.2781</td> <td>    0.298</td> <td>   -4.294</td> <td> 0.000</td> <td>   -1.862</td> <td>   -0.695</td>\n",
       "</tr>\n",
       "<tr>\n",
       "  <th>Lead Quality_Might be</th>                 <td>   -2.0567</td> <td>    0.276</td> <td>   -7.450</td> <td> 0.000</td> <td>   -2.598</td> <td>   -1.516</td>\n",
       "</tr>\n",
       "<tr>\n",
       "  <th>Lead Quality_Not Sure</th>                 <td>   -4.0495</td> <td>    0.267</td> <td>  -15.154</td> <td> 0.000</td> <td>   -4.573</td> <td>   -3.526</td>\n",
       "</tr>\n",
       "<tr>\n",
       "  <th>Lead Quality_Worst</th>                    <td>   -5.9876</td> <td>    0.471</td> <td>  -12.708</td> <td> 0.000</td> <td>   -6.911</td> <td>   -5.064</td>\n",
       "</tr>\n",
       "</table>"
      ],
      "text/plain": [
       "<class 'statsmodels.iolib.summary.Summary'>\n",
       "\"\"\"\n",
       "                 Generalized Linear Model Regression Results                  \n",
       "==============================================================================\n",
       "Dep. Variable:              Converted   No. Observations:                 5495\n",
       "Model:                            GLM   Df Residuals:                     5477\n",
       "Model Family:                Binomial   Df Model:                           17\n",
       "Link Function:                  logit   Scale:                          1.0000\n",
       "Method:                          IRLS   Log-Likelihood:                -1835.6\n",
       "Date:                Wed, 14 Jul 2021   Deviance:                       3671.3\n",
       "Time:                        18:12:53   Pearson chi2:                 5.97e+03\n",
       "No. Iterations:                     7                                         \n",
       "Covariance Type:            nonrobust                                         \n",
       "=========================================================================================================\n",
       "                                            coef    std err          z      P>|z|      [0.025      0.975]\n",
       "---------------------------------------------------------------------------------------------------------\n",
       "const                                     2.0455      0.306      6.687      0.000       1.446       2.645\n",
       "Do Not Email                             -1.1235      0.210     -5.360      0.000      -1.534      -0.713\n",
       "Total Time Spent on Website               1.0695      0.048     22.227      0.000       0.975       1.164\n",
       "Lead Origin_Landing Page Submission      -0.7697      0.166     -4.642      0.000      -1.095      -0.445\n",
       "Lead Origin_Lead Add Form                 2.5078      0.272      9.219      0.000       1.975       3.041\n",
       "Lead Source_Direct Traffic               -0.1317      0.119     -1.104      0.270      -0.365       0.102\n",
       "Lead Source_Olark Chat                    1.4184      0.151      9.389      0.000       1.122       1.714\n",
       "Lead Source_Organic Search               -0.1512      0.140     -1.081      0.280      -0.425       0.123\n",
       "Lead Source_Referral Sites               -0.4350      0.406     -1.071      0.284      -1.231       0.361\n",
       "Lead Source_Welingak Website              3.4540      0.769      4.492      0.000       1.947       4.961\n",
       "Last Activity_Email Opened                0.4439      0.130      3.422      0.001       0.190       0.698\n",
       "Last Activity_Olark Chat Conversation    -0.9396      0.214     -4.384      0.000      -1.360      -0.520\n",
       "Last Activity_SMS Sent                    1.7779      0.131     13.592      0.000       1.522       2.034\n",
       "Specialization_Others                    -0.4605      0.153     -3.016      0.003      -0.760      -0.161\n",
       "Lead Quality_Low in Relevance            -1.2781      0.298     -4.294      0.000      -1.862      -0.695\n",
       "Lead Quality_Might be                    -2.0567      0.276     -7.450      0.000      -2.598      -1.516\n",
       "Lead Quality_Not Sure                    -4.0495      0.267    -15.154      0.000      -4.573      -3.526\n",
       "Lead Quality_Worst                       -5.9876      0.471    -12.708      0.000      -6.911      -5.064\n",
       "=========================================================================================================\n",
       "\"\"\""
      ]
     },
     "execution_count": 668,
     "metadata": {},
     "output_type": "execute_result"
    }
   ],
   "source": [
    "# Fitting the Model\n",
    "\n",
    "logm3 = sm.GLM(y_train, X_train_sm3, family = sm.families.Binomial())\n",
    "res = logm3.fit()\n",
    "res.summary()"
   ]
  },
  {
   "cell_type": "markdown",
   "metadata": {},
   "source": [
    "##### Action\n",
    "'Lead Source_Referral Sites' has a high p-value. <b>`Dropping 'Lead Source_Referral Sites'` </b>"
   ]
  },
  {
   "cell_type": "code",
   "execution_count": null,
   "metadata": {},
   "outputs": [],
   "source": []
  },
  {
   "cell_type": "markdown",
   "metadata": {},
   "source": [
    "### Model 4"
   ]
  },
  {
   "cell_type": "code",
   "execution_count": 669,
   "metadata": {},
   "outputs": [
    {
     "data": {
      "text/html": [
       "<div>\n",
       "<style scoped>\n",
       "    .dataframe tbody tr th:only-of-type {\n",
       "        vertical-align: middle;\n",
       "    }\n",
       "\n",
       "    .dataframe tbody tr th {\n",
       "        vertical-align: top;\n",
       "    }\n",
       "\n",
       "    .dataframe thead th {\n",
       "        text-align: right;\n",
       "    }\n",
       "</style>\n",
       "<table border=\"1\" class=\"dataframe\">\n",
       "  <thead>\n",
       "    <tr style=\"text-align: right;\">\n",
       "      <th></th>\n",
       "      <th>Do Not Email</th>\n",
       "      <th>Total Time Spent on Website</th>\n",
       "      <th>Lead Origin_Landing Page Submission</th>\n",
       "      <th>Lead Origin_Lead Add Form</th>\n",
       "      <th>Lead Source_Direct Traffic</th>\n",
       "      <th>Lead Source_Olark Chat</th>\n",
       "      <th>Lead Source_Organic Search</th>\n",
       "      <th>Lead Source_Welingak Website</th>\n",
       "      <th>Last Activity_Email Opened</th>\n",
       "      <th>Last Activity_Olark Chat Conversation</th>\n",
       "      <th>Last Activity_SMS Sent</th>\n",
       "      <th>Specialization_Others</th>\n",
       "      <th>Lead Quality_Low in Relevance</th>\n",
       "      <th>Lead Quality_Might be</th>\n",
       "      <th>Lead Quality_Not Sure</th>\n",
       "      <th>Lead Quality_Worst</th>\n",
       "    </tr>\n",
       "  </thead>\n",
       "  <tbody>\n",
       "    <tr>\n",
       "      <th>1681</th>\n",
       "      <td>0</td>\n",
       "      <td>-0.842055</td>\n",
       "      <td>0</td>\n",
       "      <td>0</td>\n",
       "      <td>0</td>\n",
       "      <td>1</td>\n",
       "      <td>0</td>\n",
       "      <td>0</td>\n",
       "      <td>0</td>\n",
       "      <td>0</td>\n",
       "      <td>0</td>\n",
       "      <td>1</td>\n",
       "      <td>0</td>\n",
       "      <td>0</td>\n",
       "      <td>1</td>\n",
       "      <td>0</td>\n",
       "    </tr>\n",
       "    <tr>\n",
       "      <th>7851</th>\n",
       "      <td>0</td>\n",
       "      <td>2.190918</td>\n",
       "      <td>1</td>\n",
       "      <td>0</td>\n",
       "      <td>0</td>\n",
       "      <td>0</td>\n",
       "      <td>0</td>\n",
       "      <td>0</td>\n",
       "      <td>0</td>\n",
       "      <td>0</td>\n",
       "      <td>0</td>\n",
       "      <td>0</td>\n",
       "      <td>0</td>\n",
       "      <td>1</td>\n",
       "      <td>0</td>\n",
       "      <td>0</td>\n",
       "    </tr>\n",
       "    <tr>\n",
       "      <th>2209</th>\n",
       "      <td>0</td>\n",
       "      <td>2.442256</td>\n",
       "      <td>1</td>\n",
       "      <td>0</td>\n",
       "      <td>1</td>\n",
       "      <td>0</td>\n",
       "      <td>0</td>\n",
       "      <td>0</td>\n",
       "      <td>0</td>\n",
       "      <td>0</td>\n",
       "      <td>0</td>\n",
       "      <td>0</td>\n",
       "      <td>0</td>\n",
       "      <td>0</td>\n",
       "      <td>0</td>\n",
       "      <td>1</td>\n",
       "    </tr>\n",
       "    <tr>\n",
       "      <th>8077</th>\n",
       "      <td>0</td>\n",
       "      <td>-0.842055</td>\n",
       "      <td>0</td>\n",
       "      <td>1</td>\n",
       "      <td>0</td>\n",
       "      <td>0</td>\n",
       "      <td>0</td>\n",
       "      <td>0</td>\n",
       "      <td>0</td>\n",
       "      <td>0</td>\n",
       "      <td>1</td>\n",
       "      <td>0</td>\n",
       "      <td>0</td>\n",
       "      <td>1</td>\n",
       "      <td>0</td>\n",
       "      <td>0</td>\n",
       "    </tr>\n",
       "    <tr>\n",
       "      <th>7255</th>\n",
       "      <td>0</td>\n",
       "      <td>-0.842055</td>\n",
       "      <td>0</td>\n",
       "      <td>0</td>\n",
       "      <td>0</td>\n",
       "      <td>1</td>\n",
       "      <td>0</td>\n",
       "      <td>0</td>\n",
       "      <td>1</td>\n",
       "      <td>0</td>\n",
       "      <td>0</td>\n",
       "      <td>1</td>\n",
       "      <td>0</td>\n",
       "      <td>0</td>\n",
       "      <td>1</td>\n",
       "      <td>0</td>\n",
       "    </tr>\n",
       "  </tbody>\n",
       "</table>\n",
       "</div>"
      ],
      "text/plain": [
       "      Do Not Email  Total Time Spent on Website  \\\n",
       "1681             0                    -0.842055   \n",
       "7851             0                     2.190918   \n",
       "2209             0                     2.442256   \n",
       "8077             0                    -0.842055   \n",
       "7255             0                    -0.842055   \n",
       "\n",
       "      Lead Origin_Landing Page Submission  Lead Origin_Lead Add Form  \\\n",
       "1681                                    0                          0   \n",
       "7851                                    1                          0   \n",
       "2209                                    1                          0   \n",
       "8077                                    0                          1   \n",
       "7255                                    0                          0   \n",
       "\n",
       "      Lead Source_Direct Traffic  Lead Source_Olark Chat  \\\n",
       "1681                           0                       1   \n",
       "7851                           0                       0   \n",
       "2209                           1                       0   \n",
       "8077                           0                       0   \n",
       "7255                           0                       1   \n",
       "\n",
       "      Lead Source_Organic Search  Lead Source_Welingak Website  \\\n",
       "1681                           0                             0   \n",
       "7851                           0                             0   \n",
       "2209                           0                             0   \n",
       "8077                           0                             0   \n",
       "7255                           0                             0   \n",
       "\n",
       "      Last Activity_Email Opened  Last Activity_Olark Chat Conversation  \\\n",
       "1681                           0                                      0   \n",
       "7851                           0                                      0   \n",
       "2209                           0                                      0   \n",
       "8077                           0                                      0   \n",
       "7255                           1                                      0   \n",
       "\n",
       "      Last Activity_SMS Sent  Specialization_Others  \\\n",
       "1681                       0                      1   \n",
       "7851                       0                      0   \n",
       "2209                       0                      0   \n",
       "8077                       1                      0   \n",
       "7255                       0                      1   \n",
       "\n",
       "      Lead Quality_Low in Relevance  Lead Quality_Might be  \\\n",
       "1681                              0                      0   \n",
       "7851                              0                      1   \n",
       "2209                              0                      0   \n",
       "8077                              0                      1   \n",
       "7255                              0                      0   \n",
       "\n",
       "      Lead Quality_Not Sure  Lead Quality_Worst  \n",
       "1681                      1                   0  \n",
       "7851                      0                   0  \n",
       "2209                      0                   1  \n",
       "8077                      0                   0  \n",
       "7255                      1                   0  "
      ]
     },
     "execution_count": 669,
     "metadata": {},
     "output_type": "execute_result"
    }
   ],
   "source": [
    "# Drop\n",
    "\n",
    "X_train4 = X_train3.drop(['Lead Source_Referral Sites'], axis=1)\n",
    "X_train4.head()"
   ]
  },
  {
   "cell_type": "code",
   "execution_count": 670,
   "metadata": {},
   "outputs": [
    {
     "data": {
      "text/html": [
       "<div>\n",
       "<style scoped>\n",
       "    .dataframe tbody tr th:only-of-type {\n",
       "        vertical-align: middle;\n",
       "    }\n",
       "\n",
       "    .dataframe tbody tr th {\n",
       "        vertical-align: top;\n",
       "    }\n",
       "\n",
       "    .dataframe thead th {\n",
       "        text-align: right;\n",
       "    }\n",
       "</style>\n",
       "<table border=\"1\" class=\"dataframe\">\n",
       "  <thead>\n",
       "    <tr style=\"text-align: right;\">\n",
       "      <th></th>\n",
       "      <th>Features</th>\n",
       "      <th>VIF</th>\n",
       "    </tr>\n",
       "  </thead>\n",
       "  <tbody>\n",
       "    <tr>\n",
       "      <th>14</th>\n",
       "      <td>Lead Quality_Not Sure</td>\n",
       "      <td>8.32</td>\n",
       "    </tr>\n",
       "    <tr>\n",
       "      <th>2</th>\n",
       "      <td>Lead Origin_Landing Page Submission</td>\n",
       "      <td>6.44</td>\n",
       "    </tr>\n",
       "    <tr>\n",
       "      <th>11</th>\n",
       "      <td>Specialization_Others</td>\n",
       "      <td>4.55</td>\n",
       "    </tr>\n",
       "    <tr>\n",
       "      <th>8</th>\n",
       "      <td>Last Activity_Email Opened</td>\n",
       "      <td>2.75</td>\n",
       "    </tr>\n",
       "    <tr>\n",
       "      <th>5</th>\n",
       "      <td>Lead Source_Olark Chat</td>\n",
       "      <td>2.58</td>\n",
       "    </tr>\n",
       "    <tr>\n",
       "      <th>10</th>\n",
       "      <td>Last Activity_SMS Sent</td>\n",
       "      <td>2.51</td>\n",
       "    </tr>\n",
       "    <tr>\n",
       "      <th>13</th>\n",
       "      <td>Lead Quality_Might be</td>\n",
       "      <td>2.45</td>\n",
       "    </tr>\n",
       "    <tr>\n",
       "      <th>4</th>\n",
       "      <td>Lead Source_Direct Traffic</td>\n",
       "      <td>2.27</td>\n",
       "    </tr>\n",
       "    <tr>\n",
       "      <th>9</th>\n",
       "      <td>Last Activity_Olark Chat Conversation</td>\n",
       "      <td>1.90</td>\n",
       "    </tr>\n",
       "    <tr>\n",
       "      <th>3</th>\n",
       "      <td>Lead Origin_Lead Add Form</td>\n",
       "      <td>1.79</td>\n",
       "    </tr>\n",
       "    <tr>\n",
       "      <th>15</th>\n",
       "      <td>Lead Quality_Worst</td>\n",
       "      <td>1.77</td>\n",
       "    </tr>\n",
       "    <tr>\n",
       "      <th>12</th>\n",
       "      <td>Lead Quality_Low in Relevance</td>\n",
       "      <td>1.46</td>\n",
       "    </tr>\n",
       "    <tr>\n",
       "      <th>1</th>\n",
       "      <td>Total Time Spent on Website</td>\n",
       "      <td>1.37</td>\n",
       "    </tr>\n",
       "    <tr>\n",
       "      <th>6</th>\n",
       "      <td>Lead Source_Organic Search</td>\n",
       "      <td>1.35</td>\n",
       "    </tr>\n",
       "    <tr>\n",
       "      <th>7</th>\n",
       "      <td>Lead Source_Welingak Website</td>\n",
       "      <td>1.34</td>\n",
       "    </tr>\n",
       "    <tr>\n",
       "      <th>0</th>\n",
       "      <td>Do Not Email</td>\n",
       "      <td>1.25</td>\n",
       "    </tr>\n",
       "  </tbody>\n",
       "</table>\n",
       "</div>"
      ],
      "text/plain": [
       "                                 Features   VIF\n",
       "14                  Lead Quality_Not Sure  8.32\n",
       "2     Lead Origin_Landing Page Submission  6.44\n",
       "11                  Specialization_Others  4.55\n",
       "8              Last Activity_Email Opened  2.75\n",
       "5                  Lead Source_Olark Chat  2.58\n",
       "10                 Last Activity_SMS Sent  2.51\n",
       "13                  Lead Quality_Might be  2.45\n",
       "4              Lead Source_Direct Traffic  2.27\n",
       "9   Last Activity_Olark Chat Conversation  1.90\n",
       "3               Lead Origin_Lead Add Form  1.79\n",
       "15                     Lead Quality_Worst  1.77\n",
       "12          Lead Quality_Low in Relevance  1.46\n",
       "1             Total Time Spent on Website  1.37\n",
       "6              Lead Source_Organic Search  1.35\n",
       "7            Lead Source_Welingak Website  1.34\n",
       "0                            Do Not Email  1.25"
      ]
     },
     "execution_count": 670,
     "metadata": {},
     "output_type": "execute_result"
    }
   ],
   "source": [
    "# VIF values\n",
    "\n",
    "cal_vif(X_train4)"
   ]
  },
  {
   "cell_type": "code",
   "execution_count": 671,
   "metadata": {},
   "outputs": [
    {
     "data": {
      "text/html": [
       "<div>\n",
       "<style scoped>\n",
       "    .dataframe tbody tr th:only-of-type {\n",
       "        vertical-align: middle;\n",
       "    }\n",
       "\n",
       "    .dataframe tbody tr th {\n",
       "        vertical-align: top;\n",
       "    }\n",
       "\n",
       "    .dataframe thead th {\n",
       "        text-align: right;\n",
       "    }\n",
       "</style>\n",
       "<table border=\"1\" class=\"dataframe\">\n",
       "  <thead>\n",
       "    <tr style=\"text-align: right;\">\n",
       "      <th></th>\n",
       "      <th>const</th>\n",
       "      <th>Do Not Email</th>\n",
       "      <th>Total Time Spent on Website</th>\n",
       "      <th>Lead Origin_Landing Page Submission</th>\n",
       "      <th>Lead Origin_Lead Add Form</th>\n",
       "      <th>Lead Source_Direct Traffic</th>\n",
       "      <th>Lead Source_Olark Chat</th>\n",
       "      <th>Lead Source_Organic Search</th>\n",
       "      <th>Lead Source_Welingak Website</th>\n",
       "      <th>Last Activity_Email Opened</th>\n",
       "      <th>Last Activity_Olark Chat Conversation</th>\n",
       "      <th>Last Activity_SMS Sent</th>\n",
       "      <th>Specialization_Others</th>\n",
       "      <th>Lead Quality_Low in Relevance</th>\n",
       "      <th>Lead Quality_Might be</th>\n",
       "      <th>Lead Quality_Not Sure</th>\n",
       "      <th>Lead Quality_Worst</th>\n",
       "    </tr>\n",
       "  </thead>\n",
       "  <tbody>\n",
       "    <tr>\n",
       "      <th>1681</th>\n",
       "      <td>1.0</td>\n",
       "      <td>0</td>\n",
       "      <td>-0.842055</td>\n",
       "      <td>0</td>\n",
       "      <td>0</td>\n",
       "      <td>0</td>\n",
       "      <td>1</td>\n",
       "      <td>0</td>\n",
       "      <td>0</td>\n",
       "      <td>0</td>\n",
       "      <td>0</td>\n",
       "      <td>0</td>\n",
       "      <td>1</td>\n",
       "      <td>0</td>\n",
       "      <td>0</td>\n",
       "      <td>1</td>\n",
       "      <td>0</td>\n",
       "    </tr>\n",
       "    <tr>\n",
       "      <th>7851</th>\n",
       "      <td>1.0</td>\n",
       "      <td>0</td>\n",
       "      <td>2.190918</td>\n",
       "      <td>1</td>\n",
       "      <td>0</td>\n",
       "      <td>0</td>\n",
       "      <td>0</td>\n",
       "      <td>0</td>\n",
       "      <td>0</td>\n",
       "      <td>0</td>\n",
       "      <td>0</td>\n",
       "      <td>0</td>\n",
       "      <td>0</td>\n",
       "      <td>0</td>\n",
       "      <td>1</td>\n",
       "      <td>0</td>\n",
       "      <td>0</td>\n",
       "    </tr>\n",
       "    <tr>\n",
       "      <th>2209</th>\n",
       "      <td>1.0</td>\n",
       "      <td>0</td>\n",
       "      <td>2.442256</td>\n",
       "      <td>1</td>\n",
       "      <td>0</td>\n",
       "      <td>1</td>\n",
       "      <td>0</td>\n",
       "      <td>0</td>\n",
       "      <td>0</td>\n",
       "      <td>0</td>\n",
       "      <td>0</td>\n",
       "      <td>0</td>\n",
       "      <td>0</td>\n",
       "      <td>0</td>\n",
       "      <td>0</td>\n",
       "      <td>0</td>\n",
       "      <td>1</td>\n",
       "    </tr>\n",
       "    <tr>\n",
       "      <th>8077</th>\n",
       "      <td>1.0</td>\n",
       "      <td>0</td>\n",
       "      <td>-0.842055</td>\n",
       "      <td>0</td>\n",
       "      <td>1</td>\n",
       "      <td>0</td>\n",
       "      <td>0</td>\n",
       "      <td>0</td>\n",
       "      <td>0</td>\n",
       "      <td>0</td>\n",
       "      <td>0</td>\n",
       "      <td>1</td>\n",
       "      <td>0</td>\n",
       "      <td>0</td>\n",
       "      <td>1</td>\n",
       "      <td>0</td>\n",
       "      <td>0</td>\n",
       "    </tr>\n",
       "    <tr>\n",
       "      <th>7255</th>\n",
       "      <td>1.0</td>\n",
       "      <td>0</td>\n",
       "      <td>-0.842055</td>\n",
       "      <td>0</td>\n",
       "      <td>0</td>\n",
       "      <td>0</td>\n",
       "      <td>1</td>\n",
       "      <td>0</td>\n",
       "      <td>0</td>\n",
       "      <td>1</td>\n",
       "      <td>0</td>\n",
       "      <td>0</td>\n",
       "      <td>1</td>\n",
       "      <td>0</td>\n",
       "      <td>0</td>\n",
       "      <td>1</td>\n",
       "      <td>0</td>\n",
       "    </tr>\n",
       "  </tbody>\n",
       "</table>\n",
       "</div>"
      ],
      "text/plain": [
       "      const  Do Not Email  Total Time Spent on Website  \\\n",
       "1681    1.0             0                    -0.842055   \n",
       "7851    1.0             0                     2.190918   \n",
       "2209    1.0             0                     2.442256   \n",
       "8077    1.0             0                    -0.842055   \n",
       "7255    1.0             0                    -0.842055   \n",
       "\n",
       "      Lead Origin_Landing Page Submission  Lead Origin_Lead Add Form  \\\n",
       "1681                                    0                          0   \n",
       "7851                                    1                          0   \n",
       "2209                                    1                          0   \n",
       "8077                                    0                          1   \n",
       "7255                                    0                          0   \n",
       "\n",
       "      Lead Source_Direct Traffic  Lead Source_Olark Chat  \\\n",
       "1681                           0                       1   \n",
       "7851                           0                       0   \n",
       "2209                           1                       0   \n",
       "8077                           0                       0   \n",
       "7255                           0                       1   \n",
       "\n",
       "      Lead Source_Organic Search  Lead Source_Welingak Website  \\\n",
       "1681                           0                             0   \n",
       "7851                           0                             0   \n",
       "2209                           0                             0   \n",
       "8077                           0                             0   \n",
       "7255                           0                             0   \n",
       "\n",
       "      Last Activity_Email Opened  Last Activity_Olark Chat Conversation  \\\n",
       "1681                           0                                      0   \n",
       "7851                           0                                      0   \n",
       "2209                           0                                      0   \n",
       "8077                           0                                      0   \n",
       "7255                           1                                      0   \n",
       "\n",
       "      Last Activity_SMS Sent  Specialization_Others  \\\n",
       "1681                       0                      1   \n",
       "7851                       0                      0   \n",
       "2209                       0                      0   \n",
       "8077                       1                      0   \n",
       "7255                       0                      1   \n",
       "\n",
       "      Lead Quality_Low in Relevance  Lead Quality_Might be  \\\n",
       "1681                              0                      0   \n",
       "7851                              0                      1   \n",
       "2209                              0                      0   \n",
       "8077                              0                      1   \n",
       "7255                              0                      0   \n",
       "\n",
       "      Lead Quality_Not Sure  Lead Quality_Worst  \n",
       "1681                      1                   0  \n",
       "7851                      0                   0  \n",
       "2209                      0                   1  \n",
       "8077                      0                   0  \n",
       "7255                      1                   0  "
      ]
     },
     "execution_count": 671,
     "metadata": {},
     "output_type": "execute_result"
    }
   ],
   "source": [
    "# Adding constant to X_train4 to get X_train_sm4\n",
    "\n",
    "X_train_sm4 = sm.add_constant(X_train4)\n",
    "X_train_sm4.head()"
   ]
  },
  {
   "cell_type": "code",
   "execution_count": 672,
   "metadata": {},
   "outputs": [
    {
     "data": {
      "text/html": [
       "<table class=\"simpletable\">\n",
       "<caption>Generalized Linear Model Regression Results</caption>\n",
       "<tr>\n",
       "  <th>Dep. Variable:</th>       <td>Converted</td>    <th>  No. Observations:  </th>  <td>  5495</td> \n",
       "</tr>\n",
       "<tr>\n",
       "  <th>Model:</th>                  <td>GLM</td>       <th>  Df Residuals:      </th>  <td>  5478</td> \n",
       "</tr>\n",
       "<tr>\n",
       "  <th>Model Family:</th>        <td>Binomial</td>     <th>  Df Model:          </th>  <td>    16</td> \n",
       "</tr>\n",
       "<tr>\n",
       "  <th>Link Function:</th>         <td>logit</td>      <th>  Scale:             </th> <td>  1.0000</td>\n",
       "</tr>\n",
       "<tr>\n",
       "  <th>Method:</th>                <td>IRLS</td>       <th>  Log-Likelihood:    </th> <td> -1836.2</td>\n",
       "</tr>\n",
       "<tr>\n",
       "  <th>Date:</th>            <td>Wed, 14 Jul 2021</td> <th>  Deviance:          </th> <td>  3672.4</td>\n",
       "</tr>\n",
       "<tr>\n",
       "  <th>Time:</th>                <td>18:12:54</td>     <th>  Pearson chi2:      </th> <td>5.98e+03</td>\n",
       "</tr>\n",
       "<tr>\n",
       "  <th>No. Iterations:</th>          <td>7</td>        <th>                     </th>     <td> </td>   \n",
       "</tr>\n",
       "<tr>\n",
       "  <th>Covariance Type:</th>     <td>nonrobust</td>    <th>                     </th>     <td> </td>   \n",
       "</tr>\n",
       "</table>\n",
       "<table class=\"simpletable\">\n",
       "<tr>\n",
       "                    <td></td>                       <th>coef</th>     <th>std err</th>      <th>z</th>      <th>P>|z|</th>  <th>[0.025</th>    <th>0.975]</th>  \n",
       "</tr>\n",
       "<tr>\n",
       "  <th>const</th>                                 <td>    2.0165</td> <td>    0.305</td> <td>    6.609</td> <td> 0.000</td> <td>    1.418</td> <td>    2.614</td>\n",
       "</tr>\n",
       "<tr>\n",
       "  <th>Do Not Email</th>                          <td>   -1.1248</td> <td>    0.209</td> <td>   -5.369</td> <td> 0.000</td> <td>   -1.535</td> <td>   -0.714</td>\n",
       "</tr>\n",
       "<tr>\n",
       "  <th>Total Time Spent on Website</th>           <td>    1.0697</td> <td>    0.048</td> <td>   22.238</td> <td> 0.000</td> <td>    0.975</td> <td>    1.164</td>\n",
       "</tr>\n",
       "<tr>\n",
       "  <th>Lead Origin_Landing Page Submission</th>   <td>   -0.7574</td> <td>    0.166</td> <td>   -4.576</td> <td> 0.000</td> <td>   -1.082</td> <td>   -0.433</td>\n",
       "</tr>\n",
       "<tr>\n",
       "  <th>Lead Origin_Lead Add Form</th>             <td>    2.5301</td> <td>    0.271</td> <td>    9.325</td> <td> 0.000</td> <td>    1.998</td> <td>    3.062</td>\n",
       "</tr>\n",
       "<tr>\n",
       "  <th>Lead Source_Direct Traffic</th>            <td>   -0.1229</td> <td>    0.119</td> <td>   -1.032</td> <td> 0.302</td> <td>   -0.356</td> <td>    0.111</td>\n",
       "</tr>\n",
       "<tr>\n",
       "  <th>Lead Source_Olark Chat</th>                <td>    1.4427</td> <td>    0.150</td> <td>    9.645</td> <td> 0.000</td> <td>    1.150</td> <td>    1.736</td>\n",
       "</tr>\n",
       "<tr>\n",
       "  <th>Lead Source_Organic Search</th>            <td>   -0.1357</td> <td>    0.139</td> <td>   -0.975</td> <td> 0.329</td> <td>   -0.408</td> <td>    0.137</td>\n",
       "</tr>\n",
       "<tr>\n",
       "  <th>Lead Source_Welingak Website</th>          <td>    3.4566</td> <td>    0.769</td> <td>    4.495</td> <td> 0.000</td> <td>    1.949</td> <td>    4.964</td>\n",
       "</tr>\n",
       "<tr>\n",
       "  <th>Last Activity_Email Opened</th>            <td>    0.4489</td> <td>    0.130</td> <td>    3.461</td> <td> 0.001</td> <td>    0.195</td> <td>    0.703</td>\n",
       "</tr>\n",
       "<tr>\n",
       "  <th>Last Activity_Olark Chat Conversation</th> <td>   -0.9343</td> <td>    0.214</td> <td>   -4.361</td> <td> 0.000</td> <td>   -1.354</td> <td>   -0.514</td>\n",
       "</tr>\n",
       "<tr>\n",
       "  <th>Last Activity_SMS Sent</th>                <td>    1.7862</td> <td>    0.131</td> <td>   13.668</td> <td> 0.000</td> <td>    1.530</td> <td>    2.042</td>\n",
       "</tr>\n",
       "<tr>\n",
       "  <th>Specialization_Others</th>                 <td>   -0.4648</td> <td>    0.153</td> <td>   -3.045</td> <td> 0.002</td> <td>   -0.764</td> <td>   -0.166</td>\n",
       "</tr>\n",
       "<tr>\n",
       "  <th>Lead Quality_Low in Relevance</th>         <td>   -1.2792</td> <td>    0.298</td> <td>   -4.297</td> <td> 0.000</td> <td>   -1.863</td> <td>   -0.696</td>\n",
       "</tr>\n",
       "<tr>\n",
       "  <th>Lead Quality_Might be</th>                 <td>   -2.0533</td> <td>    0.276</td> <td>   -7.437</td> <td> 0.000</td> <td>   -2.594</td> <td>   -1.512</td>\n",
       "</tr>\n",
       "<tr>\n",
       "  <th>Lead Quality_Not Sure</th>                 <td>   -4.0463</td> <td>    0.267</td> <td>  -15.144</td> <td> 0.000</td> <td>   -4.570</td> <td>   -3.523</td>\n",
       "</tr>\n",
       "<tr>\n",
       "  <th>Lead Quality_Worst</th>                    <td>   -5.9809</td> <td>    0.471</td> <td>  -12.697</td> <td> 0.000</td> <td>   -6.904</td> <td>   -5.058</td>\n",
       "</tr>\n",
       "</table>"
      ],
      "text/plain": [
       "<class 'statsmodels.iolib.summary.Summary'>\n",
       "\"\"\"\n",
       "                 Generalized Linear Model Regression Results                  \n",
       "==============================================================================\n",
       "Dep. Variable:              Converted   No. Observations:                 5495\n",
       "Model:                            GLM   Df Residuals:                     5478\n",
       "Model Family:                Binomial   Df Model:                           16\n",
       "Link Function:                  logit   Scale:                          1.0000\n",
       "Method:                          IRLS   Log-Likelihood:                -1836.2\n",
       "Date:                Wed, 14 Jul 2021   Deviance:                       3672.4\n",
       "Time:                        18:12:54   Pearson chi2:                 5.98e+03\n",
       "No. Iterations:                     7                                         \n",
       "Covariance Type:            nonrobust                                         \n",
       "=========================================================================================================\n",
       "                                            coef    std err          z      P>|z|      [0.025      0.975]\n",
       "---------------------------------------------------------------------------------------------------------\n",
       "const                                     2.0165      0.305      6.609      0.000       1.418       2.614\n",
       "Do Not Email                             -1.1248      0.209     -5.369      0.000      -1.535      -0.714\n",
       "Total Time Spent on Website               1.0697      0.048     22.238      0.000       0.975       1.164\n",
       "Lead Origin_Landing Page Submission      -0.7574      0.166     -4.576      0.000      -1.082      -0.433\n",
       "Lead Origin_Lead Add Form                 2.5301      0.271      9.325      0.000       1.998       3.062\n",
       "Lead Source_Direct Traffic               -0.1229      0.119     -1.032      0.302      -0.356       0.111\n",
       "Lead Source_Olark Chat                    1.4427      0.150      9.645      0.000       1.150       1.736\n",
       "Lead Source_Organic Search               -0.1357      0.139     -0.975      0.329      -0.408       0.137\n",
       "Lead Source_Welingak Website              3.4566      0.769      4.495      0.000       1.949       4.964\n",
       "Last Activity_Email Opened                0.4489      0.130      3.461      0.001       0.195       0.703\n",
       "Last Activity_Olark Chat Conversation    -0.9343      0.214     -4.361      0.000      -1.354      -0.514\n",
       "Last Activity_SMS Sent                    1.7862      0.131     13.668      0.000       1.530       2.042\n",
       "Specialization_Others                    -0.4648      0.153     -3.045      0.002      -0.764      -0.166\n",
       "Lead Quality_Low in Relevance            -1.2792      0.298     -4.297      0.000      -1.863      -0.696\n",
       "Lead Quality_Might be                    -2.0533      0.276     -7.437      0.000      -2.594      -1.512\n",
       "Lead Quality_Not Sure                    -4.0463      0.267    -15.144      0.000      -4.570      -3.523\n",
       "Lead Quality_Worst                       -5.9809      0.471    -12.697      0.000      -6.904      -5.058\n",
       "=========================================================================================================\n",
       "\"\"\""
      ]
     },
     "execution_count": 672,
     "metadata": {},
     "output_type": "execute_result"
    }
   ],
   "source": [
    "# Fitting the model\n",
    "\n",
    "logm4 = sm.GLM(y_train, X_train_sm4, family=sm.families.Binomial())\n",
    "res = logm4.fit()\n",
    "res.summary()"
   ]
  },
  {
   "cell_type": "markdown",
   "metadata": {},
   "source": [
    "##### Action:\n",
    "'Lead Source_Organic Search' has a high p-value. <b>` Dropping 'Lead Source_Organic Search' `</b>"
   ]
  },
  {
   "cell_type": "code",
   "execution_count": null,
   "metadata": {},
   "outputs": [],
   "source": []
  },
  {
   "cell_type": "markdown",
   "metadata": {},
   "source": [
    "### Model 5"
   ]
  },
  {
   "cell_type": "code",
   "execution_count": 673,
   "metadata": {},
   "outputs": [
    {
     "data": {
      "text/html": [
       "<div>\n",
       "<style scoped>\n",
       "    .dataframe tbody tr th:only-of-type {\n",
       "        vertical-align: middle;\n",
       "    }\n",
       "\n",
       "    .dataframe tbody tr th {\n",
       "        vertical-align: top;\n",
       "    }\n",
       "\n",
       "    .dataframe thead th {\n",
       "        text-align: right;\n",
       "    }\n",
       "</style>\n",
       "<table border=\"1\" class=\"dataframe\">\n",
       "  <thead>\n",
       "    <tr style=\"text-align: right;\">\n",
       "      <th></th>\n",
       "      <th>Do Not Email</th>\n",
       "      <th>Total Time Spent on Website</th>\n",
       "      <th>Lead Origin_Landing Page Submission</th>\n",
       "      <th>Lead Origin_Lead Add Form</th>\n",
       "      <th>Lead Source_Direct Traffic</th>\n",
       "      <th>Lead Source_Olark Chat</th>\n",
       "      <th>Lead Source_Welingak Website</th>\n",
       "      <th>Last Activity_Email Opened</th>\n",
       "      <th>Last Activity_Olark Chat Conversation</th>\n",
       "      <th>Last Activity_SMS Sent</th>\n",
       "      <th>Specialization_Others</th>\n",
       "      <th>Lead Quality_Low in Relevance</th>\n",
       "      <th>Lead Quality_Might be</th>\n",
       "      <th>Lead Quality_Not Sure</th>\n",
       "      <th>Lead Quality_Worst</th>\n",
       "    </tr>\n",
       "  </thead>\n",
       "  <tbody>\n",
       "    <tr>\n",
       "      <th>1681</th>\n",
       "      <td>0</td>\n",
       "      <td>-0.842055</td>\n",
       "      <td>0</td>\n",
       "      <td>0</td>\n",
       "      <td>0</td>\n",
       "      <td>1</td>\n",
       "      <td>0</td>\n",
       "      <td>0</td>\n",
       "      <td>0</td>\n",
       "      <td>0</td>\n",
       "      <td>1</td>\n",
       "      <td>0</td>\n",
       "      <td>0</td>\n",
       "      <td>1</td>\n",
       "      <td>0</td>\n",
       "    </tr>\n",
       "    <tr>\n",
       "      <th>7851</th>\n",
       "      <td>0</td>\n",
       "      <td>2.190918</td>\n",
       "      <td>1</td>\n",
       "      <td>0</td>\n",
       "      <td>0</td>\n",
       "      <td>0</td>\n",
       "      <td>0</td>\n",
       "      <td>0</td>\n",
       "      <td>0</td>\n",
       "      <td>0</td>\n",
       "      <td>0</td>\n",
       "      <td>0</td>\n",
       "      <td>1</td>\n",
       "      <td>0</td>\n",
       "      <td>0</td>\n",
       "    </tr>\n",
       "    <tr>\n",
       "      <th>2209</th>\n",
       "      <td>0</td>\n",
       "      <td>2.442256</td>\n",
       "      <td>1</td>\n",
       "      <td>0</td>\n",
       "      <td>1</td>\n",
       "      <td>0</td>\n",
       "      <td>0</td>\n",
       "      <td>0</td>\n",
       "      <td>0</td>\n",
       "      <td>0</td>\n",
       "      <td>0</td>\n",
       "      <td>0</td>\n",
       "      <td>0</td>\n",
       "      <td>0</td>\n",
       "      <td>1</td>\n",
       "    </tr>\n",
       "    <tr>\n",
       "      <th>8077</th>\n",
       "      <td>0</td>\n",
       "      <td>-0.842055</td>\n",
       "      <td>0</td>\n",
       "      <td>1</td>\n",
       "      <td>0</td>\n",
       "      <td>0</td>\n",
       "      <td>0</td>\n",
       "      <td>0</td>\n",
       "      <td>0</td>\n",
       "      <td>1</td>\n",
       "      <td>0</td>\n",
       "      <td>0</td>\n",
       "      <td>1</td>\n",
       "      <td>0</td>\n",
       "      <td>0</td>\n",
       "    </tr>\n",
       "    <tr>\n",
       "      <th>7255</th>\n",
       "      <td>0</td>\n",
       "      <td>-0.842055</td>\n",
       "      <td>0</td>\n",
       "      <td>0</td>\n",
       "      <td>0</td>\n",
       "      <td>1</td>\n",
       "      <td>0</td>\n",
       "      <td>1</td>\n",
       "      <td>0</td>\n",
       "      <td>0</td>\n",
       "      <td>1</td>\n",
       "      <td>0</td>\n",
       "      <td>0</td>\n",
       "      <td>1</td>\n",
       "      <td>0</td>\n",
       "    </tr>\n",
       "  </tbody>\n",
       "</table>\n",
       "</div>"
      ],
      "text/plain": [
       "      Do Not Email  Total Time Spent on Website  \\\n",
       "1681             0                    -0.842055   \n",
       "7851             0                     2.190918   \n",
       "2209             0                     2.442256   \n",
       "8077             0                    -0.842055   \n",
       "7255             0                    -0.842055   \n",
       "\n",
       "      Lead Origin_Landing Page Submission  Lead Origin_Lead Add Form  \\\n",
       "1681                                    0                          0   \n",
       "7851                                    1                          0   \n",
       "2209                                    1                          0   \n",
       "8077                                    0                          1   \n",
       "7255                                    0                          0   \n",
       "\n",
       "      Lead Source_Direct Traffic  Lead Source_Olark Chat  \\\n",
       "1681                           0                       1   \n",
       "7851                           0                       0   \n",
       "2209                           1                       0   \n",
       "8077                           0                       0   \n",
       "7255                           0                       1   \n",
       "\n",
       "      Lead Source_Welingak Website  Last Activity_Email Opened  \\\n",
       "1681                             0                           0   \n",
       "7851                             0                           0   \n",
       "2209                             0                           0   \n",
       "8077                             0                           0   \n",
       "7255                             0                           1   \n",
       "\n",
       "      Last Activity_Olark Chat Conversation  Last Activity_SMS Sent  \\\n",
       "1681                                      0                       0   \n",
       "7851                                      0                       0   \n",
       "2209                                      0                       0   \n",
       "8077                                      0                       1   \n",
       "7255                                      0                       0   \n",
       "\n",
       "      Specialization_Others  Lead Quality_Low in Relevance  \\\n",
       "1681                      1                              0   \n",
       "7851                      0                              0   \n",
       "2209                      0                              0   \n",
       "8077                      0                              0   \n",
       "7255                      1                              0   \n",
       "\n",
       "      Lead Quality_Might be  Lead Quality_Not Sure  Lead Quality_Worst  \n",
       "1681                      0                      1                   0  \n",
       "7851                      1                      0                   0  \n",
       "2209                      0                      0                   1  \n",
       "8077                      1                      0                   0  \n",
       "7255                      0                      1                   0  "
      ]
     },
     "execution_count": 673,
     "metadata": {},
     "output_type": "execute_result"
    }
   ],
   "source": [
    "# Drop\n",
    "\n",
    "X_train5 = X_train4.drop(['Lead Source_Organic Search'], axis=1)\n",
    "X_train5.head()"
   ]
  },
  {
   "cell_type": "code",
   "execution_count": 674,
   "metadata": {},
   "outputs": [
    {
     "data": {
      "text/html": [
       "<div>\n",
       "<style scoped>\n",
       "    .dataframe tbody tr th:only-of-type {\n",
       "        vertical-align: middle;\n",
       "    }\n",
       "\n",
       "    .dataframe tbody tr th {\n",
       "        vertical-align: top;\n",
       "    }\n",
       "\n",
       "    .dataframe thead th {\n",
       "        text-align: right;\n",
       "    }\n",
       "</style>\n",
       "<table border=\"1\" class=\"dataframe\">\n",
       "  <thead>\n",
       "    <tr style=\"text-align: right;\">\n",
       "      <th></th>\n",
       "      <th>Features</th>\n",
       "      <th>VIF</th>\n",
       "    </tr>\n",
       "  </thead>\n",
       "  <tbody>\n",
       "    <tr>\n",
       "      <th>13</th>\n",
       "      <td>Lead Quality_Not Sure</td>\n",
       "      <td>8.15</td>\n",
       "    </tr>\n",
       "    <tr>\n",
       "      <th>2</th>\n",
       "      <td>Lead Origin_Landing Page Submission</td>\n",
       "      <td>6.38</td>\n",
       "    </tr>\n",
       "    <tr>\n",
       "      <th>10</th>\n",
       "      <td>Specialization_Others</td>\n",
       "      <td>4.53</td>\n",
       "    </tr>\n",
       "    <tr>\n",
       "      <th>7</th>\n",
       "      <td>Last Activity_Email Opened</td>\n",
       "      <td>2.75</td>\n",
       "    </tr>\n",
       "    <tr>\n",
       "      <th>9</th>\n",
       "      <td>Last Activity_SMS Sent</td>\n",
       "      <td>2.50</td>\n",
       "    </tr>\n",
       "    <tr>\n",
       "      <th>5</th>\n",
       "      <td>Lead Source_Olark Chat</td>\n",
       "      <td>2.46</td>\n",
       "    </tr>\n",
       "    <tr>\n",
       "      <th>12</th>\n",
       "      <td>Lead Quality_Might be</td>\n",
       "      <td>2.42</td>\n",
       "    </tr>\n",
       "    <tr>\n",
       "      <th>4</th>\n",
       "      <td>Lead Source_Direct Traffic</td>\n",
       "      <td>2.02</td>\n",
       "    </tr>\n",
       "    <tr>\n",
       "      <th>8</th>\n",
       "      <td>Last Activity_Olark Chat Conversation</td>\n",
       "      <td>1.90</td>\n",
       "    </tr>\n",
       "    <tr>\n",
       "      <th>3</th>\n",
       "      <td>Lead Origin_Lead Add Form</td>\n",
       "      <td>1.78</td>\n",
       "    </tr>\n",
       "    <tr>\n",
       "      <th>14</th>\n",
       "      <td>Lead Quality_Worst</td>\n",
       "      <td>1.74</td>\n",
       "    </tr>\n",
       "    <tr>\n",
       "      <th>11</th>\n",
       "      <td>Lead Quality_Low in Relevance</td>\n",
       "      <td>1.44</td>\n",
       "    </tr>\n",
       "    <tr>\n",
       "      <th>1</th>\n",
       "      <td>Total Time Spent on Website</td>\n",
       "      <td>1.37</td>\n",
       "    </tr>\n",
       "    <tr>\n",
       "      <th>6</th>\n",
       "      <td>Lead Source_Welingak Website</td>\n",
       "      <td>1.34</td>\n",
       "    </tr>\n",
       "    <tr>\n",
       "      <th>0</th>\n",
       "      <td>Do Not Email</td>\n",
       "      <td>1.25</td>\n",
       "    </tr>\n",
       "  </tbody>\n",
       "</table>\n",
       "</div>"
      ],
      "text/plain": [
       "                                 Features   VIF\n",
       "13                  Lead Quality_Not Sure  8.15\n",
       "2     Lead Origin_Landing Page Submission  6.38\n",
       "10                  Specialization_Others  4.53\n",
       "7              Last Activity_Email Opened  2.75\n",
       "9                  Last Activity_SMS Sent  2.50\n",
       "5                  Lead Source_Olark Chat  2.46\n",
       "12                  Lead Quality_Might be  2.42\n",
       "4              Lead Source_Direct Traffic  2.02\n",
       "8   Last Activity_Olark Chat Conversation  1.90\n",
       "3               Lead Origin_Lead Add Form  1.78\n",
       "14                     Lead Quality_Worst  1.74\n",
       "11          Lead Quality_Low in Relevance  1.44\n",
       "1             Total Time Spent on Website  1.37\n",
       "6            Lead Source_Welingak Website  1.34\n",
       "0                            Do Not Email  1.25"
      ]
     },
     "execution_count": 674,
     "metadata": {},
     "output_type": "execute_result"
    }
   ],
   "source": [
    "# VIF values\n",
    "\n",
    "cal_vif(X_train5)"
   ]
  },
  {
   "cell_type": "code",
   "execution_count": 675,
   "metadata": {},
   "outputs": [
    {
     "data": {
      "text/html": [
       "<div>\n",
       "<style scoped>\n",
       "    .dataframe tbody tr th:only-of-type {\n",
       "        vertical-align: middle;\n",
       "    }\n",
       "\n",
       "    .dataframe tbody tr th {\n",
       "        vertical-align: top;\n",
       "    }\n",
       "\n",
       "    .dataframe thead th {\n",
       "        text-align: right;\n",
       "    }\n",
       "</style>\n",
       "<table border=\"1\" class=\"dataframe\">\n",
       "  <thead>\n",
       "    <tr style=\"text-align: right;\">\n",
       "      <th></th>\n",
       "      <th>const</th>\n",
       "      <th>Do Not Email</th>\n",
       "      <th>Total Time Spent on Website</th>\n",
       "      <th>Lead Origin_Landing Page Submission</th>\n",
       "      <th>Lead Origin_Lead Add Form</th>\n",
       "      <th>Lead Source_Direct Traffic</th>\n",
       "      <th>Lead Source_Olark Chat</th>\n",
       "      <th>Lead Source_Welingak Website</th>\n",
       "      <th>Last Activity_Email Opened</th>\n",
       "      <th>Last Activity_Olark Chat Conversation</th>\n",
       "      <th>Last Activity_SMS Sent</th>\n",
       "      <th>Specialization_Others</th>\n",
       "      <th>Lead Quality_Low in Relevance</th>\n",
       "      <th>Lead Quality_Might be</th>\n",
       "      <th>Lead Quality_Not Sure</th>\n",
       "      <th>Lead Quality_Worst</th>\n",
       "    </tr>\n",
       "  </thead>\n",
       "  <tbody>\n",
       "    <tr>\n",
       "      <th>1681</th>\n",
       "      <td>1.0</td>\n",
       "      <td>0</td>\n",
       "      <td>-0.842055</td>\n",
       "      <td>0</td>\n",
       "      <td>0</td>\n",
       "      <td>0</td>\n",
       "      <td>1</td>\n",
       "      <td>0</td>\n",
       "      <td>0</td>\n",
       "      <td>0</td>\n",
       "      <td>0</td>\n",
       "      <td>1</td>\n",
       "      <td>0</td>\n",
       "      <td>0</td>\n",
       "      <td>1</td>\n",
       "      <td>0</td>\n",
       "    </tr>\n",
       "    <tr>\n",
       "      <th>7851</th>\n",
       "      <td>1.0</td>\n",
       "      <td>0</td>\n",
       "      <td>2.190918</td>\n",
       "      <td>1</td>\n",
       "      <td>0</td>\n",
       "      <td>0</td>\n",
       "      <td>0</td>\n",
       "      <td>0</td>\n",
       "      <td>0</td>\n",
       "      <td>0</td>\n",
       "      <td>0</td>\n",
       "      <td>0</td>\n",
       "      <td>0</td>\n",
       "      <td>1</td>\n",
       "      <td>0</td>\n",
       "      <td>0</td>\n",
       "    </tr>\n",
       "    <tr>\n",
       "      <th>2209</th>\n",
       "      <td>1.0</td>\n",
       "      <td>0</td>\n",
       "      <td>2.442256</td>\n",
       "      <td>1</td>\n",
       "      <td>0</td>\n",
       "      <td>1</td>\n",
       "      <td>0</td>\n",
       "      <td>0</td>\n",
       "      <td>0</td>\n",
       "      <td>0</td>\n",
       "      <td>0</td>\n",
       "      <td>0</td>\n",
       "      <td>0</td>\n",
       "      <td>0</td>\n",
       "      <td>0</td>\n",
       "      <td>1</td>\n",
       "    </tr>\n",
       "    <tr>\n",
       "      <th>8077</th>\n",
       "      <td>1.0</td>\n",
       "      <td>0</td>\n",
       "      <td>-0.842055</td>\n",
       "      <td>0</td>\n",
       "      <td>1</td>\n",
       "      <td>0</td>\n",
       "      <td>0</td>\n",
       "      <td>0</td>\n",
       "      <td>0</td>\n",
       "      <td>0</td>\n",
       "      <td>1</td>\n",
       "      <td>0</td>\n",
       "      <td>0</td>\n",
       "      <td>1</td>\n",
       "      <td>0</td>\n",
       "      <td>0</td>\n",
       "    </tr>\n",
       "    <tr>\n",
       "      <th>7255</th>\n",
       "      <td>1.0</td>\n",
       "      <td>0</td>\n",
       "      <td>-0.842055</td>\n",
       "      <td>0</td>\n",
       "      <td>0</td>\n",
       "      <td>0</td>\n",
       "      <td>1</td>\n",
       "      <td>0</td>\n",
       "      <td>1</td>\n",
       "      <td>0</td>\n",
       "      <td>0</td>\n",
       "      <td>1</td>\n",
       "      <td>0</td>\n",
       "      <td>0</td>\n",
       "      <td>1</td>\n",
       "      <td>0</td>\n",
       "    </tr>\n",
       "  </tbody>\n",
       "</table>\n",
       "</div>"
      ],
      "text/plain": [
       "      const  Do Not Email  Total Time Spent on Website  \\\n",
       "1681    1.0             0                    -0.842055   \n",
       "7851    1.0             0                     2.190918   \n",
       "2209    1.0             0                     2.442256   \n",
       "8077    1.0             0                    -0.842055   \n",
       "7255    1.0             0                    -0.842055   \n",
       "\n",
       "      Lead Origin_Landing Page Submission  Lead Origin_Lead Add Form  \\\n",
       "1681                                    0                          0   \n",
       "7851                                    1                          0   \n",
       "2209                                    1                          0   \n",
       "8077                                    0                          1   \n",
       "7255                                    0                          0   \n",
       "\n",
       "      Lead Source_Direct Traffic  Lead Source_Olark Chat  \\\n",
       "1681                           0                       1   \n",
       "7851                           0                       0   \n",
       "2209                           1                       0   \n",
       "8077                           0                       0   \n",
       "7255                           0                       1   \n",
       "\n",
       "      Lead Source_Welingak Website  Last Activity_Email Opened  \\\n",
       "1681                             0                           0   \n",
       "7851                             0                           0   \n",
       "2209                             0                           0   \n",
       "8077                             0                           0   \n",
       "7255                             0                           1   \n",
       "\n",
       "      Last Activity_Olark Chat Conversation  Last Activity_SMS Sent  \\\n",
       "1681                                      0                       0   \n",
       "7851                                      0                       0   \n",
       "2209                                      0                       0   \n",
       "8077                                      0                       1   \n",
       "7255                                      0                       0   \n",
       "\n",
       "      Specialization_Others  Lead Quality_Low in Relevance  \\\n",
       "1681                      1                              0   \n",
       "7851                      0                              0   \n",
       "2209                      0                              0   \n",
       "8077                      0                              0   \n",
       "7255                      1                              0   \n",
       "\n",
       "      Lead Quality_Might be  Lead Quality_Not Sure  Lead Quality_Worst  \n",
       "1681                      0                      1                   0  \n",
       "7851                      1                      0                   0  \n",
       "2209                      0                      0                   1  \n",
       "8077                      1                      0                   0  \n",
       "7255                      0                      1                   0  "
      ]
     },
     "execution_count": 675,
     "metadata": {},
     "output_type": "execute_result"
    }
   ],
   "source": [
    "# Adding constant to X_train5 to get X_train_sm5\n",
    "\n",
    "X_train_sm5 = sm.add_constant(X_train5)\n",
    "X_train_sm5.head()"
   ]
  },
  {
   "cell_type": "code",
   "execution_count": 676,
   "metadata": {},
   "outputs": [
    {
     "data": {
      "text/html": [
       "<table class=\"simpletable\">\n",
       "<caption>Generalized Linear Model Regression Results</caption>\n",
       "<tr>\n",
       "  <th>Dep. Variable:</th>       <td>Converted</td>    <th>  No. Observations:  </th>  <td>  5495</td> \n",
       "</tr>\n",
       "<tr>\n",
       "  <th>Model:</th>                  <td>GLM</td>       <th>  Df Residuals:      </th>  <td>  5479</td> \n",
       "</tr>\n",
       "<tr>\n",
       "  <th>Model Family:</th>        <td>Binomial</td>     <th>  Df Model:          </th>  <td>    15</td> \n",
       "</tr>\n",
       "<tr>\n",
       "  <th>Link Function:</th>         <td>logit</td>      <th>  Scale:             </th> <td>  1.0000</td>\n",
       "</tr>\n",
       "<tr>\n",
       "  <th>Method:</th>                <td>IRLS</td>       <th>  Log-Likelihood:    </th> <td> -1836.7</td>\n",
       "</tr>\n",
       "<tr>\n",
       "  <th>Date:</th>            <td>Wed, 14 Jul 2021</td> <th>  Deviance:          </th> <td>  3673.4</td>\n",
       "</tr>\n",
       "<tr>\n",
       "  <th>Time:</th>                <td>18:12:54</td>     <th>  Pearson chi2:      </th> <td>5.98e+03</td>\n",
       "</tr>\n",
       "<tr>\n",
       "  <th>No. Iterations:</th>          <td>7</td>        <th>                     </th>     <td> </td>   \n",
       "</tr>\n",
       "<tr>\n",
       "  <th>Covariance Type:</th>     <td>nonrobust</td>    <th>                     </th>     <td> </td>   \n",
       "</tr>\n",
       "</table>\n",
       "<table class=\"simpletable\">\n",
       "<tr>\n",
       "                    <td></td>                       <th>coef</th>     <th>std err</th>      <th>z</th>      <th>P>|z|</th>  <th>[0.025</th>    <th>0.975]</th>  \n",
       "</tr>\n",
       "<tr>\n",
       "  <th>const</th>                                 <td>    1.9841</td> <td>    0.303</td> <td>    6.545</td> <td> 0.000</td> <td>    1.390</td> <td>    2.578</td>\n",
       "</tr>\n",
       "<tr>\n",
       "  <th>Do Not Email</th>                          <td>   -1.1285</td> <td>    0.209</td> <td>   -5.390</td> <td> 0.000</td> <td>   -1.539</td> <td>   -0.718</td>\n",
       "</tr>\n",
       "<tr>\n",
       "  <th>Total Time Spent on Website</th>           <td>    1.0691</td> <td>    0.048</td> <td>   22.234</td> <td> 0.000</td> <td>    0.975</td> <td>    1.163</td>\n",
       "</tr>\n",
       "<tr>\n",
       "  <th>Lead Origin_Landing Page Submission</th>   <td>   -0.7555</td> <td>    0.166</td> <td>   -4.563</td> <td> 0.000</td> <td>   -1.080</td> <td>   -0.431</td>\n",
       "</tr>\n",
       "<tr>\n",
       "  <th>Lead Origin_Lead Add Form</th>             <td>    2.5681</td> <td>    0.269</td> <td>    9.559</td> <td> 0.000</td> <td>    2.042</td> <td>    3.095</td>\n",
       "</tr>\n",
       "<tr>\n",
       "  <th>Lead Source_Direct Traffic</th>            <td>   -0.0883</td> <td>    0.114</td> <td>   -0.776</td> <td> 0.438</td> <td>   -0.311</td> <td>    0.135</td>\n",
       "</tr>\n",
       "<tr>\n",
       "  <th>Lead Source_Olark Chat</th>                <td>    1.4801</td> <td>    0.145</td> <td>   10.213</td> <td> 0.000</td> <td>    1.196</td> <td>    1.764</td>\n",
       "</tr>\n",
       "<tr>\n",
       "  <th>Lead Source_Welingak Website</th>          <td>    3.4576</td> <td>    0.769</td> <td>    4.496</td> <td> 0.000</td> <td>    1.950</td> <td>    4.965</td>\n",
       "</tr>\n",
       "<tr>\n",
       "  <th>Last Activity_Email Opened</th>            <td>    0.4502</td> <td>    0.130</td> <td>    3.472</td> <td> 0.001</td> <td>    0.196</td> <td>    0.704</td>\n",
       "</tr>\n",
       "<tr>\n",
       "  <th>Last Activity_Olark Chat Conversation</th> <td>   -0.9317</td> <td>    0.214</td> <td>   -4.351</td> <td> 0.000</td> <td>   -1.351</td> <td>   -0.512</td>\n",
       "</tr>\n",
       "<tr>\n",
       "  <th>Last Activity_SMS Sent</th>                <td>    1.7825</td> <td>    0.131</td> <td>   13.650</td> <td> 0.000</td> <td>    1.527</td> <td>    2.038</td>\n",
       "</tr>\n",
       "<tr>\n",
       "  <th>Specialization_Others</th>                 <td>   -0.4690</td> <td>    0.153</td> <td>   -3.072</td> <td> 0.002</td> <td>   -0.768</td> <td>   -0.170</td>\n",
       "</tr>\n",
       "<tr>\n",
       "  <th>Lead Quality_Low in Relevance</th>         <td>   -1.2826</td> <td>    0.298</td> <td>   -4.310</td> <td> 0.000</td> <td>   -1.866</td> <td>   -0.699</td>\n",
       "</tr>\n",
       "<tr>\n",
       "  <th>Lead Quality_Might be</th>                 <td>   -2.0569</td> <td>    0.276</td> <td>   -7.452</td> <td> 0.000</td> <td>   -2.598</td> <td>   -1.516</td>\n",
       "</tr>\n",
       "<tr>\n",
       "  <th>Lead Quality_Not Sure</th>                 <td>   -4.0479</td> <td>    0.267</td> <td>  -15.153</td> <td> 0.000</td> <td>   -4.572</td> <td>   -3.524</td>\n",
       "</tr>\n",
       "<tr>\n",
       "  <th>Lead Quality_Worst</th>                    <td>   -5.9819</td> <td>    0.471</td> <td>  -12.706</td> <td> 0.000</td> <td>   -6.905</td> <td>   -5.059</td>\n",
       "</tr>\n",
       "</table>"
      ],
      "text/plain": [
       "<class 'statsmodels.iolib.summary.Summary'>\n",
       "\"\"\"\n",
       "                 Generalized Linear Model Regression Results                  \n",
       "==============================================================================\n",
       "Dep. Variable:              Converted   No. Observations:                 5495\n",
       "Model:                            GLM   Df Residuals:                     5479\n",
       "Model Family:                Binomial   Df Model:                           15\n",
       "Link Function:                  logit   Scale:                          1.0000\n",
       "Method:                          IRLS   Log-Likelihood:                -1836.7\n",
       "Date:                Wed, 14 Jul 2021   Deviance:                       3673.4\n",
       "Time:                        18:12:54   Pearson chi2:                 5.98e+03\n",
       "No. Iterations:                     7                                         \n",
       "Covariance Type:            nonrobust                                         \n",
       "=========================================================================================================\n",
       "                                            coef    std err          z      P>|z|      [0.025      0.975]\n",
       "---------------------------------------------------------------------------------------------------------\n",
       "const                                     1.9841      0.303      6.545      0.000       1.390       2.578\n",
       "Do Not Email                             -1.1285      0.209     -5.390      0.000      -1.539      -0.718\n",
       "Total Time Spent on Website               1.0691      0.048     22.234      0.000       0.975       1.163\n",
       "Lead Origin_Landing Page Submission      -0.7555      0.166     -4.563      0.000      -1.080      -0.431\n",
       "Lead Origin_Lead Add Form                 2.5681      0.269      9.559      0.000       2.042       3.095\n",
       "Lead Source_Direct Traffic               -0.0883      0.114     -0.776      0.438      -0.311       0.135\n",
       "Lead Source_Olark Chat                    1.4801      0.145     10.213      0.000       1.196       1.764\n",
       "Lead Source_Welingak Website              3.4576      0.769      4.496      0.000       1.950       4.965\n",
       "Last Activity_Email Opened                0.4502      0.130      3.472      0.001       0.196       0.704\n",
       "Last Activity_Olark Chat Conversation    -0.9317      0.214     -4.351      0.000      -1.351      -0.512\n",
       "Last Activity_SMS Sent                    1.7825      0.131     13.650      0.000       1.527       2.038\n",
       "Specialization_Others                    -0.4690      0.153     -3.072      0.002      -0.768      -0.170\n",
       "Lead Quality_Low in Relevance            -1.2826      0.298     -4.310      0.000      -1.866      -0.699\n",
       "Lead Quality_Might be                    -2.0569      0.276     -7.452      0.000      -2.598      -1.516\n",
       "Lead Quality_Not Sure                    -4.0479      0.267    -15.153      0.000      -4.572      -3.524\n",
       "Lead Quality_Worst                       -5.9819      0.471    -12.706      0.000      -6.905      -5.059\n",
       "=========================================================================================================\n",
       "\"\"\""
      ]
     },
     "execution_count": 676,
     "metadata": {},
     "output_type": "execute_result"
    }
   ],
   "source": [
    "# Fitting the Model\n",
    "\n",
    "logm5 = sm.GLM(y_train, X_train_sm5, family=sm.families.Binomial())\n",
    "res = logm5.fit()\n",
    "res.summary()"
   ]
  },
  {
   "cell_type": "markdown",
   "metadata": {},
   "source": [
    "##### Action:\n",
    "'Lead Source_Direct Traffic' has high p-value. <b> `Dropping 'Lead Source_Direct Traffic' `</b>"
   ]
  },
  {
   "cell_type": "code",
   "execution_count": null,
   "metadata": {},
   "outputs": [],
   "source": []
  },
  {
   "cell_type": "markdown",
   "metadata": {},
   "source": [
    "### Model 6"
   ]
  },
  {
   "cell_type": "code",
   "execution_count": 677,
   "metadata": {},
   "outputs": [
    {
     "data": {
      "text/html": [
       "<div>\n",
       "<style scoped>\n",
       "    .dataframe tbody tr th:only-of-type {\n",
       "        vertical-align: middle;\n",
       "    }\n",
       "\n",
       "    .dataframe tbody tr th {\n",
       "        vertical-align: top;\n",
       "    }\n",
       "\n",
       "    .dataframe thead th {\n",
       "        text-align: right;\n",
       "    }\n",
       "</style>\n",
       "<table border=\"1\" class=\"dataframe\">\n",
       "  <thead>\n",
       "    <tr style=\"text-align: right;\">\n",
       "      <th></th>\n",
       "      <th>Do Not Email</th>\n",
       "      <th>Total Time Spent on Website</th>\n",
       "      <th>Lead Origin_Landing Page Submission</th>\n",
       "      <th>Lead Origin_Lead Add Form</th>\n",
       "      <th>Lead Source_Olark Chat</th>\n",
       "      <th>Lead Source_Welingak Website</th>\n",
       "      <th>Last Activity_Email Opened</th>\n",
       "      <th>Last Activity_Olark Chat Conversation</th>\n",
       "      <th>Last Activity_SMS Sent</th>\n",
       "      <th>Specialization_Others</th>\n",
       "      <th>Lead Quality_Low in Relevance</th>\n",
       "      <th>Lead Quality_Might be</th>\n",
       "      <th>Lead Quality_Not Sure</th>\n",
       "      <th>Lead Quality_Worst</th>\n",
       "    </tr>\n",
       "  </thead>\n",
       "  <tbody>\n",
       "    <tr>\n",
       "      <th>1681</th>\n",
       "      <td>0</td>\n",
       "      <td>-0.842055</td>\n",
       "      <td>0</td>\n",
       "      <td>0</td>\n",
       "      <td>1</td>\n",
       "      <td>0</td>\n",
       "      <td>0</td>\n",
       "      <td>0</td>\n",
       "      <td>0</td>\n",
       "      <td>1</td>\n",
       "      <td>0</td>\n",
       "      <td>0</td>\n",
       "      <td>1</td>\n",
       "      <td>0</td>\n",
       "    </tr>\n",
       "    <tr>\n",
       "      <th>7851</th>\n",
       "      <td>0</td>\n",
       "      <td>2.190918</td>\n",
       "      <td>1</td>\n",
       "      <td>0</td>\n",
       "      <td>0</td>\n",
       "      <td>0</td>\n",
       "      <td>0</td>\n",
       "      <td>0</td>\n",
       "      <td>0</td>\n",
       "      <td>0</td>\n",
       "      <td>0</td>\n",
       "      <td>1</td>\n",
       "      <td>0</td>\n",
       "      <td>0</td>\n",
       "    </tr>\n",
       "    <tr>\n",
       "      <th>2209</th>\n",
       "      <td>0</td>\n",
       "      <td>2.442256</td>\n",
       "      <td>1</td>\n",
       "      <td>0</td>\n",
       "      <td>0</td>\n",
       "      <td>0</td>\n",
       "      <td>0</td>\n",
       "      <td>0</td>\n",
       "      <td>0</td>\n",
       "      <td>0</td>\n",
       "      <td>0</td>\n",
       "      <td>0</td>\n",
       "      <td>0</td>\n",
       "      <td>1</td>\n",
       "    </tr>\n",
       "    <tr>\n",
       "      <th>8077</th>\n",
       "      <td>0</td>\n",
       "      <td>-0.842055</td>\n",
       "      <td>0</td>\n",
       "      <td>1</td>\n",
       "      <td>0</td>\n",
       "      <td>0</td>\n",
       "      <td>0</td>\n",
       "      <td>0</td>\n",
       "      <td>1</td>\n",
       "      <td>0</td>\n",
       "      <td>0</td>\n",
       "      <td>1</td>\n",
       "      <td>0</td>\n",
       "      <td>0</td>\n",
       "    </tr>\n",
       "    <tr>\n",
       "      <th>7255</th>\n",
       "      <td>0</td>\n",
       "      <td>-0.842055</td>\n",
       "      <td>0</td>\n",
       "      <td>0</td>\n",
       "      <td>1</td>\n",
       "      <td>0</td>\n",
       "      <td>1</td>\n",
       "      <td>0</td>\n",
       "      <td>0</td>\n",
       "      <td>1</td>\n",
       "      <td>0</td>\n",
       "      <td>0</td>\n",
       "      <td>1</td>\n",
       "      <td>0</td>\n",
       "    </tr>\n",
       "  </tbody>\n",
       "</table>\n",
       "</div>"
      ],
      "text/plain": [
       "      Do Not Email  Total Time Spent on Website  \\\n",
       "1681             0                    -0.842055   \n",
       "7851             0                     2.190918   \n",
       "2209             0                     2.442256   \n",
       "8077             0                    -0.842055   \n",
       "7255             0                    -0.842055   \n",
       "\n",
       "      Lead Origin_Landing Page Submission  Lead Origin_Lead Add Form  \\\n",
       "1681                                    0                          0   \n",
       "7851                                    1                          0   \n",
       "2209                                    1                          0   \n",
       "8077                                    0                          1   \n",
       "7255                                    0                          0   \n",
       "\n",
       "      Lead Source_Olark Chat  Lead Source_Welingak Website  \\\n",
       "1681                       1                             0   \n",
       "7851                       0                             0   \n",
       "2209                       0                             0   \n",
       "8077                       0                             0   \n",
       "7255                       1                             0   \n",
       "\n",
       "      Last Activity_Email Opened  Last Activity_Olark Chat Conversation  \\\n",
       "1681                           0                                      0   \n",
       "7851                           0                                      0   \n",
       "2209                           0                                      0   \n",
       "8077                           0                                      0   \n",
       "7255                           1                                      0   \n",
       "\n",
       "      Last Activity_SMS Sent  Specialization_Others  \\\n",
       "1681                       0                      1   \n",
       "7851                       0                      0   \n",
       "2209                       0                      0   \n",
       "8077                       1                      0   \n",
       "7255                       0                      1   \n",
       "\n",
       "      Lead Quality_Low in Relevance  Lead Quality_Might be  \\\n",
       "1681                              0                      0   \n",
       "7851                              0                      1   \n",
       "2209                              0                      0   \n",
       "8077                              0                      1   \n",
       "7255                              0                      0   \n",
       "\n",
       "      Lead Quality_Not Sure  Lead Quality_Worst  \n",
       "1681                      1                   0  \n",
       "7851                      0                   0  \n",
       "2209                      0                   1  \n",
       "8077                      0                   0  \n",
       "7255                      1                   0  "
      ]
     },
     "execution_count": 677,
     "metadata": {},
     "output_type": "execute_result"
    }
   ],
   "source": [
    "# Drop\n",
    "\n",
    "X_train6 = X_train5.drop(['Lead Source_Direct Traffic'], axis=1)\n",
    "X_train6.head()"
   ]
  },
  {
   "cell_type": "code",
   "execution_count": 678,
   "metadata": {},
   "outputs": [
    {
     "data": {
      "text/html": [
       "<div>\n",
       "<style scoped>\n",
       "    .dataframe tbody tr th:only-of-type {\n",
       "        vertical-align: middle;\n",
       "    }\n",
       "\n",
       "    .dataframe tbody tr th {\n",
       "        vertical-align: top;\n",
       "    }\n",
       "\n",
       "    .dataframe thead th {\n",
       "        text-align: right;\n",
       "    }\n",
       "</style>\n",
       "<table border=\"1\" class=\"dataframe\">\n",
       "  <thead>\n",
       "    <tr style=\"text-align: right;\">\n",
       "      <th></th>\n",
       "      <th>Features</th>\n",
       "      <th>VIF</th>\n",
       "    </tr>\n",
       "  </thead>\n",
       "  <tbody>\n",
       "    <tr>\n",
       "      <th>12</th>\n",
       "      <td>Lead Quality_Not Sure</td>\n",
       "      <td>8.14</td>\n",
       "    </tr>\n",
       "    <tr>\n",
       "      <th>2</th>\n",
       "      <td>Lead Origin_Landing Page Submission</td>\n",
       "      <td>5.57</td>\n",
       "    </tr>\n",
       "    <tr>\n",
       "      <th>9</th>\n",
       "      <td>Specialization_Others</td>\n",
       "      <td>4.53</td>\n",
       "    </tr>\n",
       "    <tr>\n",
       "      <th>6</th>\n",
       "      <td>Last Activity_Email Opened</td>\n",
       "      <td>2.75</td>\n",
       "    </tr>\n",
       "    <tr>\n",
       "      <th>8</th>\n",
       "      <td>Last Activity_SMS Sent</td>\n",
       "      <td>2.50</td>\n",
       "    </tr>\n",
       "    <tr>\n",
       "      <th>4</th>\n",
       "      <td>Lead Source_Olark Chat</td>\n",
       "      <td>2.46</td>\n",
       "    </tr>\n",
       "    <tr>\n",
       "      <th>11</th>\n",
       "      <td>Lead Quality_Might be</td>\n",
       "      <td>2.42</td>\n",
       "    </tr>\n",
       "    <tr>\n",
       "      <th>7</th>\n",
       "      <td>Last Activity_Olark Chat Conversation</td>\n",
       "      <td>1.90</td>\n",
       "    </tr>\n",
       "    <tr>\n",
       "      <th>3</th>\n",
       "      <td>Lead Origin_Lead Add Form</td>\n",
       "      <td>1.78</td>\n",
       "    </tr>\n",
       "    <tr>\n",
       "      <th>13</th>\n",
       "      <td>Lead Quality_Worst</td>\n",
       "      <td>1.73</td>\n",
       "    </tr>\n",
       "    <tr>\n",
       "      <th>10</th>\n",
       "      <td>Lead Quality_Low in Relevance</td>\n",
       "      <td>1.44</td>\n",
       "    </tr>\n",
       "    <tr>\n",
       "      <th>1</th>\n",
       "      <td>Total Time Spent on Website</td>\n",
       "      <td>1.37</td>\n",
       "    </tr>\n",
       "    <tr>\n",
       "      <th>5</th>\n",
       "      <td>Lead Source_Welingak Website</td>\n",
       "      <td>1.34</td>\n",
       "    </tr>\n",
       "    <tr>\n",
       "      <th>0</th>\n",
       "      <td>Do Not Email</td>\n",
       "      <td>1.25</td>\n",
       "    </tr>\n",
       "  </tbody>\n",
       "</table>\n",
       "</div>"
      ],
      "text/plain": [
       "                                 Features   VIF\n",
       "12                  Lead Quality_Not Sure  8.14\n",
       "2     Lead Origin_Landing Page Submission  5.57\n",
       "9                   Specialization_Others  4.53\n",
       "6              Last Activity_Email Opened  2.75\n",
       "8                  Last Activity_SMS Sent  2.50\n",
       "4                  Lead Source_Olark Chat  2.46\n",
       "11                  Lead Quality_Might be  2.42\n",
       "7   Last Activity_Olark Chat Conversation  1.90\n",
       "3               Lead Origin_Lead Add Form  1.78\n",
       "13                     Lead Quality_Worst  1.73\n",
       "10          Lead Quality_Low in Relevance  1.44\n",
       "1             Total Time Spent on Website  1.37\n",
       "5            Lead Source_Welingak Website  1.34\n",
       "0                            Do Not Email  1.25"
      ]
     },
     "execution_count": 678,
     "metadata": {},
     "output_type": "execute_result"
    }
   ],
   "source": [
    "# VIF values\n",
    "\n",
    "cal_vif(X_train6)"
   ]
  },
  {
   "cell_type": "code",
   "execution_count": 679,
   "metadata": {},
   "outputs": [
    {
     "data": {
      "text/html": [
       "<div>\n",
       "<style scoped>\n",
       "    .dataframe tbody tr th:only-of-type {\n",
       "        vertical-align: middle;\n",
       "    }\n",
       "\n",
       "    .dataframe tbody tr th {\n",
       "        vertical-align: top;\n",
       "    }\n",
       "\n",
       "    .dataframe thead th {\n",
       "        text-align: right;\n",
       "    }\n",
       "</style>\n",
       "<table border=\"1\" class=\"dataframe\">\n",
       "  <thead>\n",
       "    <tr style=\"text-align: right;\">\n",
       "      <th></th>\n",
       "      <th>const</th>\n",
       "      <th>Do Not Email</th>\n",
       "      <th>Total Time Spent on Website</th>\n",
       "      <th>Lead Origin_Landing Page Submission</th>\n",
       "      <th>Lead Origin_Lead Add Form</th>\n",
       "      <th>Lead Source_Olark Chat</th>\n",
       "      <th>Lead Source_Welingak Website</th>\n",
       "      <th>Last Activity_Email Opened</th>\n",
       "      <th>Last Activity_Olark Chat Conversation</th>\n",
       "      <th>Last Activity_SMS Sent</th>\n",
       "      <th>Specialization_Others</th>\n",
       "      <th>Lead Quality_Low in Relevance</th>\n",
       "      <th>Lead Quality_Might be</th>\n",
       "      <th>Lead Quality_Not Sure</th>\n",
       "      <th>Lead Quality_Worst</th>\n",
       "    </tr>\n",
       "  </thead>\n",
       "  <tbody>\n",
       "    <tr>\n",
       "      <th>1681</th>\n",
       "      <td>1.0</td>\n",
       "      <td>0</td>\n",
       "      <td>-0.842055</td>\n",
       "      <td>0</td>\n",
       "      <td>0</td>\n",
       "      <td>1</td>\n",
       "      <td>0</td>\n",
       "      <td>0</td>\n",
       "      <td>0</td>\n",
       "      <td>0</td>\n",
       "      <td>1</td>\n",
       "      <td>0</td>\n",
       "      <td>0</td>\n",
       "      <td>1</td>\n",
       "      <td>0</td>\n",
       "    </tr>\n",
       "    <tr>\n",
       "      <th>7851</th>\n",
       "      <td>1.0</td>\n",
       "      <td>0</td>\n",
       "      <td>2.190918</td>\n",
       "      <td>1</td>\n",
       "      <td>0</td>\n",
       "      <td>0</td>\n",
       "      <td>0</td>\n",
       "      <td>0</td>\n",
       "      <td>0</td>\n",
       "      <td>0</td>\n",
       "      <td>0</td>\n",
       "      <td>0</td>\n",
       "      <td>1</td>\n",
       "      <td>0</td>\n",
       "      <td>0</td>\n",
       "    </tr>\n",
       "    <tr>\n",
       "      <th>2209</th>\n",
       "      <td>1.0</td>\n",
       "      <td>0</td>\n",
       "      <td>2.442256</td>\n",
       "      <td>1</td>\n",
       "      <td>0</td>\n",
       "      <td>0</td>\n",
       "      <td>0</td>\n",
       "      <td>0</td>\n",
       "      <td>0</td>\n",
       "      <td>0</td>\n",
       "      <td>0</td>\n",
       "      <td>0</td>\n",
       "      <td>0</td>\n",
       "      <td>0</td>\n",
       "      <td>1</td>\n",
       "    </tr>\n",
       "    <tr>\n",
       "      <th>8077</th>\n",
       "      <td>1.0</td>\n",
       "      <td>0</td>\n",
       "      <td>-0.842055</td>\n",
       "      <td>0</td>\n",
       "      <td>1</td>\n",
       "      <td>0</td>\n",
       "      <td>0</td>\n",
       "      <td>0</td>\n",
       "      <td>0</td>\n",
       "      <td>1</td>\n",
       "      <td>0</td>\n",
       "      <td>0</td>\n",
       "      <td>1</td>\n",
       "      <td>0</td>\n",
       "      <td>0</td>\n",
       "    </tr>\n",
       "    <tr>\n",
       "      <th>7255</th>\n",
       "      <td>1.0</td>\n",
       "      <td>0</td>\n",
       "      <td>-0.842055</td>\n",
       "      <td>0</td>\n",
       "      <td>0</td>\n",
       "      <td>1</td>\n",
       "      <td>0</td>\n",
       "      <td>1</td>\n",
       "      <td>0</td>\n",
       "      <td>0</td>\n",
       "      <td>1</td>\n",
       "      <td>0</td>\n",
       "      <td>0</td>\n",
       "      <td>1</td>\n",
       "      <td>0</td>\n",
       "    </tr>\n",
       "  </tbody>\n",
       "</table>\n",
       "</div>"
      ],
      "text/plain": [
       "      const  Do Not Email  Total Time Spent on Website  \\\n",
       "1681    1.0             0                    -0.842055   \n",
       "7851    1.0             0                     2.190918   \n",
       "2209    1.0             0                     2.442256   \n",
       "8077    1.0             0                    -0.842055   \n",
       "7255    1.0             0                    -0.842055   \n",
       "\n",
       "      Lead Origin_Landing Page Submission  Lead Origin_Lead Add Form  \\\n",
       "1681                                    0                          0   \n",
       "7851                                    1                          0   \n",
       "2209                                    1                          0   \n",
       "8077                                    0                          1   \n",
       "7255                                    0                          0   \n",
       "\n",
       "      Lead Source_Olark Chat  Lead Source_Welingak Website  \\\n",
       "1681                       1                             0   \n",
       "7851                       0                             0   \n",
       "2209                       0                             0   \n",
       "8077                       0                             0   \n",
       "7255                       1                             0   \n",
       "\n",
       "      Last Activity_Email Opened  Last Activity_Olark Chat Conversation  \\\n",
       "1681                           0                                      0   \n",
       "7851                           0                                      0   \n",
       "2209                           0                                      0   \n",
       "8077                           0                                      0   \n",
       "7255                           1                                      0   \n",
       "\n",
       "      Last Activity_SMS Sent  Specialization_Others  \\\n",
       "1681                       0                      1   \n",
       "7851                       0                      0   \n",
       "2209                       0                      0   \n",
       "8077                       1                      0   \n",
       "7255                       0                      1   \n",
       "\n",
       "      Lead Quality_Low in Relevance  Lead Quality_Might be  \\\n",
       "1681                              0                      0   \n",
       "7851                              0                      1   \n",
       "2209                              0                      0   \n",
       "8077                              0                      1   \n",
       "7255                              0                      0   \n",
       "\n",
       "      Lead Quality_Not Sure  Lead Quality_Worst  \n",
       "1681                      1                   0  \n",
       "7851                      0                   0  \n",
       "2209                      0                   1  \n",
       "8077                      0                   0  \n",
       "7255                      1                   0  "
      ]
     },
     "execution_count": 679,
     "metadata": {},
     "output_type": "execute_result"
    }
   ],
   "source": [
    "# Adding a constant to X_train6 to get X_train_sm6\n",
    "\n",
    "X_train_sm6 = sm.add_constant(X_train6)\n",
    "X_train_sm6.head()"
   ]
  },
  {
   "cell_type": "code",
   "execution_count": 680,
   "metadata": {},
   "outputs": [
    {
     "data": {
      "text/html": [
       "<table class=\"simpletable\">\n",
       "<caption>Generalized Linear Model Regression Results</caption>\n",
       "<tr>\n",
       "  <th>Dep. Variable:</th>       <td>Converted</td>    <th>  No. Observations:  </th>  <td>  5495</td> \n",
       "</tr>\n",
       "<tr>\n",
       "  <th>Model:</th>                  <td>GLM</td>       <th>  Df Residuals:      </th>  <td>  5480</td> \n",
       "</tr>\n",
       "<tr>\n",
       "  <th>Model Family:</th>        <td>Binomial</td>     <th>  Df Model:          </th>  <td>    14</td> \n",
       "</tr>\n",
       "<tr>\n",
       "  <th>Link Function:</th>         <td>logit</td>      <th>  Scale:             </th> <td>  1.0000</td>\n",
       "</tr>\n",
       "<tr>\n",
       "  <th>Method:</th>                <td>IRLS</td>       <th>  Log-Likelihood:    </th> <td> -1837.0</td>\n",
       "</tr>\n",
       "<tr>\n",
       "  <th>Date:</th>            <td>Wed, 14 Jul 2021</td> <th>  Deviance:          </th> <td>  3674.0</td>\n",
       "</tr>\n",
       "<tr>\n",
       "  <th>Time:</th>                <td>18:12:55</td>     <th>  Pearson chi2:      </th> <td>5.94e+03</td>\n",
       "</tr>\n",
       "<tr>\n",
       "  <th>No. Iterations:</th>          <td>7</td>        <th>                     </th>     <td> </td>   \n",
       "</tr>\n",
       "<tr>\n",
       "  <th>Covariance Type:</th>     <td>nonrobust</td>    <th>                     </th>     <td> </td>   \n",
       "</tr>\n",
       "</table>\n",
       "<table class=\"simpletable\">\n",
       "<tr>\n",
       "                    <td></td>                       <th>coef</th>     <th>std err</th>      <th>z</th>      <th>P>|z|</th>  <th>[0.025</th>    <th>0.975]</th>  \n",
       "</tr>\n",
       "<tr>\n",
       "  <th>const</th>                                 <td>    1.9827</td> <td>    0.303</td> <td>    6.539</td> <td> 0.000</td> <td>    1.388</td> <td>    2.577</td>\n",
       "</tr>\n",
       "<tr>\n",
       "  <th>Do Not Email</th>                          <td>   -1.1336</td> <td>    0.209</td> <td>   -5.419</td> <td> 0.000</td> <td>   -1.544</td> <td>   -0.724</td>\n",
       "</tr>\n",
       "<tr>\n",
       "  <th>Total Time Spent on Website</th>           <td>    1.0704</td> <td>    0.048</td> <td>   22.274</td> <td> 0.000</td> <td>    0.976</td> <td>    1.165</td>\n",
       "</tr>\n",
       "<tr>\n",
       "  <th>Lead Origin_Landing Page Submission</th>   <td>   -0.7935</td> <td>    0.158</td> <td>   -5.018</td> <td> 0.000</td> <td>   -1.103</td> <td>   -0.484</td>\n",
       "</tr>\n",
       "<tr>\n",
       "  <th>Lead Origin_Lead Add Form</th>             <td>    2.5737</td> <td>    0.269</td> <td>    9.581</td> <td> 0.000</td> <td>    2.047</td> <td>    3.100</td>\n",
       "</tr>\n",
       "<tr>\n",
       "  <th>Lead Source_Olark Chat</th>                <td>    1.4865</td> <td>    0.145</td> <td>   10.271</td> <td> 0.000</td> <td>    1.203</td> <td>    1.770</td>\n",
       "</tr>\n",
       "<tr>\n",
       "  <th>Lead Source_Welingak Website</th>          <td>    3.4591</td> <td>    0.769</td> <td>    4.498</td> <td> 0.000</td> <td>    1.952</td> <td>    4.966</td>\n",
       "</tr>\n",
       "<tr>\n",
       "  <th>Last Activity_Email Opened</th>            <td>    0.4491</td> <td>    0.130</td> <td>    3.465</td> <td> 0.001</td> <td>    0.195</td> <td>    0.703</td>\n",
       "</tr>\n",
       "<tr>\n",
       "  <th>Last Activity_Olark Chat Conversation</th> <td>   -0.9344</td> <td>    0.214</td> <td>   -4.364</td> <td> 0.000</td> <td>   -1.354</td> <td>   -0.515</td>\n",
       "</tr>\n",
       "<tr>\n",
       "  <th>Last Activity_SMS Sent</th>                <td>    1.7820</td> <td>    0.131</td> <td>   13.648</td> <td> 0.000</td> <td>    1.526</td> <td>    2.038</td>\n",
       "</tr>\n",
       "<tr>\n",
       "  <th>Specialization_Others</th>                 <td>   -0.4690</td> <td>    0.153</td> <td>   -3.073</td> <td> 0.002</td> <td>   -0.768</td> <td>   -0.170</td>\n",
       "</tr>\n",
       "<tr>\n",
       "  <th>Lead Quality_Low in Relevance</th>         <td>   -1.2821</td> <td>    0.298</td> <td>   -4.307</td> <td> 0.000</td> <td>   -1.865</td> <td>   -0.699</td>\n",
       "</tr>\n",
       "<tr>\n",
       "  <th>Lead Quality_Might be</th>                 <td>   -2.0587</td> <td>    0.276</td> <td>   -7.457</td> <td> 0.000</td> <td>   -2.600</td> <td>   -1.518</td>\n",
       "</tr>\n",
       "<tr>\n",
       "  <th>Lead Quality_Not Sure</th>                 <td>   -4.0508</td> <td>    0.267</td> <td>  -15.160</td> <td> 0.000</td> <td>   -4.575</td> <td>   -3.527</td>\n",
       "</tr>\n",
       "<tr>\n",
       "  <th>Lead Quality_Worst</th>                    <td>   -5.9935</td> <td>    0.470</td> <td>  -12.739</td> <td> 0.000</td> <td>   -6.916</td> <td>   -5.071</td>\n",
       "</tr>\n",
       "</table>"
      ],
      "text/plain": [
       "<class 'statsmodels.iolib.summary.Summary'>\n",
       "\"\"\"\n",
       "                 Generalized Linear Model Regression Results                  \n",
       "==============================================================================\n",
       "Dep. Variable:              Converted   No. Observations:                 5495\n",
       "Model:                            GLM   Df Residuals:                     5480\n",
       "Model Family:                Binomial   Df Model:                           14\n",
       "Link Function:                  logit   Scale:                          1.0000\n",
       "Method:                          IRLS   Log-Likelihood:                -1837.0\n",
       "Date:                Wed, 14 Jul 2021   Deviance:                       3674.0\n",
       "Time:                        18:12:55   Pearson chi2:                 5.94e+03\n",
       "No. Iterations:                     7                                         \n",
       "Covariance Type:            nonrobust                                         \n",
       "=========================================================================================================\n",
       "                                            coef    std err          z      P>|z|      [0.025      0.975]\n",
       "---------------------------------------------------------------------------------------------------------\n",
       "const                                     1.9827      0.303      6.539      0.000       1.388       2.577\n",
       "Do Not Email                             -1.1336      0.209     -5.419      0.000      -1.544      -0.724\n",
       "Total Time Spent on Website               1.0704      0.048     22.274      0.000       0.976       1.165\n",
       "Lead Origin_Landing Page Submission      -0.7935      0.158     -5.018      0.000      -1.103      -0.484\n",
       "Lead Origin_Lead Add Form                 2.5737      0.269      9.581      0.000       2.047       3.100\n",
       "Lead Source_Olark Chat                    1.4865      0.145     10.271      0.000       1.203       1.770\n",
       "Lead Source_Welingak Website              3.4591      0.769      4.498      0.000       1.952       4.966\n",
       "Last Activity_Email Opened                0.4491      0.130      3.465      0.001       0.195       0.703\n",
       "Last Activity_Olark Chat Conversation    -0.9344      0.214     -4.364      0.000      -1.354      -0.515\n",
       "Last Activity_SMS Sent                    1.7820      0.131     13.648      0.000       1.526       2.038\n",
       "Specialization_Others                    -0.4690      0.153     -3.073      0.002      -0.768      -0.170\n",
       "Lead Quality_Low in Relevance            -1.2821      0.298     -4.307      0.000      -1.865      -0.699\n",
       "Lead Quality_Might be                    -2.0587      0.276     -7.457      0.000      -2.600      -1.518\n",
       "Lead Quality_Not Sure                    -4.0508      0.267    -15.160      0.000      -4.575      -3.527\n",
       "Lead Quality_Worst                       -5.9935      0.470    -12.739      0.000      -6.916      -5.071\n",
       "=========================================================================================================\n",
       "\"\"\""
      ]
     },
     "execution_count": 680,
     "metadata": {},
     "output_type": "execute_result"
    }
   ],
   "source": [
    "# Fitting the Model\n",
    "\n",
    "logm6 = sm.GLM(y_train, X_train_sm6, family=sm.families.Binomial())\n",
    "res = logm6.fit()\n",
    "res.summary()"
   ]
  },
  {
   "cell_type": "markdown",
   "metadata": {},
   "source": [
    "##### Action\n",
    "\n",
    "The p-values are acceptable but 'Lead Quality_Not Sure' has a high VIF value. <b>`Dropping 'Lead Quality_Not Sure'`</b>"
   ]
  },
  {
   "cell_type": "code",
   "execution_count": null,
   "metadata": {},
   "outputs": [],
   "source": []
  },
  {
   "cell_type": "markdown",
   "metadata": {},
   "source": [
    "### Model 7"
   ]
  },
  {
   "cell_type": "code",
   "execution_count": 681,
   "metadata": {},
   "outputs": [
    {
     "data": {
      "text/html": [
       "<div>\n",
       "<style scoped>\n",
       "    .dataframe tbody tr th:only-of-type {\n",
       "        vertical-align: middle;\n",
       "    }\n",
       "\n",
       "    .dataframe tbody tr th {\n",
       "        vertical-align: top;\n",
       "    }\n",
       "\n",
       "    .dataframe thead th {\n",
       "        text-align: right;\n",
       "    }\n",
       "</style>\n",
       "<table border=\"1\" class=\"dataframe\">\n",
       "  <thead>\n",
       "    <tr style=\"text-align: right;\">\n",
       "      <th></th>\n",
       "      <th>Do Not Email</th>\n",
       "      <th>Total Time Spent on Website</th>\n",
       "      <th>Lead Origin_Landing Page Submission</th>\n",
       "      <th>Lead Origin_Lead Add Form</th>\n",
       "      <th>Lead Source_Olark Chat</th>\n",
       "      <th>Lead Source_Welingak Website</th>\n",
       "      <th>Last Activity_Email Opened</th>\n",
       "      <th>Last Activity_Olark Chat Conversation</th>\n",
       "      <th>Last Activity_SMS Sent</th>\n",
       "      <th>Specialization_Others</th>\n",
       "      <th>Lead Quality_Low in Relevance</th>\n",
       "      <th>Lead Quality_Might be</th>\n",
       "      <th>Lead Quality_Worst</th>\n",
       "    </tr>\n",
       "  </thead>\n",
       "  <tbody>\n",
       "    <tr>\n",
       "      <th>1681</th>\n",
       "      <td>0</td>\n",
       "      <td>-0.842055</td>\n",
       "      <td>0</td>\n",
       "      <td>0</td>\n",
       "      <td>1</td>\n",
       "      <td>0</td>\n",
       "      <td>0</td>\n",
       "      <td>0</td>\n",
       "      <td>0</td>\n",
       "      <td>1</td>\n",
       "      <td>0</td>\n",
       "      <td>0</td>\n",
       "      <td>0</td>\n",
       "    </tr>\n",
       "    <tr>\n",
       "      <th>7851</th>\n",
       "      <td>0</td>\n",
       "      <td>2.190918</td>\n",
       "      <td>1</td>\n",
       "      <td>0</td>\n",
       "      <td>0</td>\n",
       "      <td>0</td>\n",
       "      <td>0</td>\n",
       "      <td>0</td>\n",
       "      <td>0</td>\n",
       "      <td>0</td>\n",
       "      <td>0</td>\n",
       "      <td>1</td>\n",
       "      <td>0</td>\n",
       "    </tr>\n",
       "    <tr>\n",
       "      <th>2209</th>\n",
       "      <td>0</td>\n",
       "      <td>2.442256</td>\n",
       "      <td>1</td>\n",
       "      <td>0</td>\n",
       "      <td>0</td>\n",
       "      <td>0</td>\n",
       "      <td>0</td>\n",
       "      <td>0</td>\n",
       "      <td>0</td>\n",
       "      <td>0</td>\n",
       "      <td>0</td>\n",
       "      <td>0</td>\n",
       "      <td>1</td>\n",
       "    </tr>\n",
       "    <tr>\n",
       "      <th>8077</th>\n",
       "      <td>0</td>\n",
       "      <td>-0.842055</td>\n",
       "      <td>0</td>\n",
       "      <td>1</td>\n",
       "      <td>0</td>\n",
       "      <td>0</td>\n",
       "      <td>0</td>\n",
       "      <td>0</td>\n",
       "      <td>1</td>\n",
       "      <td>0</td>\n",
       "      <td>0</td>\n",
       "      <td>1</td>\n",
       "      <td>0</td>\n",
       "    </tr>\n",
       "    <tr>\n",
       "      <th>7255</th>\n",
       "      <td>0</td>\n",
       "      <td>-0.842055</td>\n",
       "      <td>0</td>\n",
       "      <td>0</td>\n",
       "      <td>1</td>\n",
       "      <td>0</td>\n",
       "      <td>1</td>\n",
       "      <td>0</td>\n",
       "      <td>0</td>\n",
       "      <td>1</td>\n",
       "      <td>0</td>\n",
       "      <td>0</td>\n",
       "      <td>0</td>\n",
       "    </tr>\n",
       "  </tbody>\n",
       "</table>\n",
       "</div>"
      ],
      "text/plain": [
       "      Do Not Email  Total Time Spent on Website  \\\n",
       "1681             0                    -0.842055   \n",
       "7851             0                     2.190918   \n",
       "2209             0                     2.442256   \n",
       "8077             0                    -0.842055   \n",
       "7255             0                    -0.842055   \n",
       "\n",
       "      Lead Origin_Landing Page Submission  Lead Origin_Lead Add Form  \\\n",
       "1681                                    0                          0   \n",
       "7851                                    1                          0   \n",
       "2209                                    1                          0   \n",
       "8077                                    0                          1   \n",
       "7255                                    0                          0   \n",
       "\n",
       "      Lead Source_Olark Chat  Lead Source_Welingak Website  \\\n",
       "1681                       1                             0   \n",
       "7851                       0                             0   \n",
       "2209                       0                             0   \n",
       "8077                       0                             0   \n",
       "7255                       1                             0   \n",
       "\n",
       "      Last Activity_Email Opened  Last Activity_Olark Chat Conversation  \\\n",
       "1681                           0                                      0   \n",
       "7851                           0                                      0   \n",
       "2209                           0                                      0   \n",
       "8077                           0                                      0   \n",
       "7255                           1                                      0   \n",
       "\n",
       "      Last Activity_SMS Sent  Specialization_Others  \\\n",
       "1681                       0                      1   \n",
       "7851                       0                      0   \n",
       "2209                       0                      0   \n",
       "8077                       1                      0   \n",
       "7255                       0                      1   \n",
       "\n",
       "      Lead Quality_Low in Relevance  Lead Quality_Might be  Lead Quality_Worst  \n",
       "1681                              0                      0                   0  \n",
       "7851                              0                      1                   0  \n",
       "2209                              0                      0                   1  \n",
       "8077                              0                      1                   0  \n",
       "7255                              0                      0                   0  "
      ]
     },
     "execution_count": 681,
     "metadata": {},
     "output_type": "execute_result"
    }
   ],
   "source": [
    "# Drop\n",
    "\n",
    "X_train7 = X_train6.drop(['Lead Quality_Not Sure'], axis=1)\n",
    "X_train7.head()"
   ]
  },
  {
   "cell_type": "code",
   "execution_count": 682,
   "metadata": {},
   "outputs": [
    {
     "data": {
      "text/html": [
       "<div>\n",
       "<style scoped>\n",
       "    .dataframe tbody tr th:only-of-type {\n",
       "        vertical-align: middle;\n",
       "    }\n",
       "\n",
       "    .dataframe tbody tr th {\n",
       "        vertical-align: top;\n",
       "    }\n",
       "\n",
       "    .dataframe thead th {\n",
       "        text-align: right;\n",
       "    }\n",
       "</style>\n",
       "<table border=\"1\" class=\"dataframe\">\n",
       "  <thead>\n",
       "    <tr style=\"text-align: right;\">\n",
       "      <th></th>\n",
       "      <th>Features</th>\n",
       "      <th>VIF</th>\n",
       "    </tr>\n",
       "  </thead>\n",
       "  <tbody>\n",
       "    <tr>\n",
       "      <th>2</th>\n",
       "      <td>Lead Origin_Landing Page Submission</td>\n",
       "      <td>2.76</td>\n",
       "    </tr>\n",
       "    <tr>\n",
       "      <th>9</th>\n",
       "      <td>Specialization_Others</td>\n",
       "      <td>2.58</td>\n",
       "    </tr>\n",
       "    <tr>\n",
       "      <th>6</th>\n",
       "      <td>Last Activity_Email Opened</td>\n",
       "      <td>2.50</td>\n",
       "    </tr>\n",
       "    <tr>\n",
       "      <th>4</th>\n",
       "      <td>Lead Source_Olark Chat</td>\n",
       "      <td>2.39</td>\n",
       "    </tr>\n",
       "    <tr>\n",
       "      <th>8</th>\n",
       "      <td>Last Activity_SMS Sent</td>\n",
       "      <td>2.33</td>\n",
       "    </tr>\n",
       "    <tr>\n",
       "      <th>7</th>\n",
       "      <td>Last Activity_Olark Chat Conversation</td>\n",
       "      <td>1.82</td>\n",
       "    </tr>\n",
       "    <tr>\n",
       "      <th>3</th>\n",
       "      <td>Lead Origin_Lead Add Form</td>\n",
       "      <td>1.76</td>\n",
       "    </tr>\n",
       "    <tr>\n",
       "      <th>11</th>\n",
       "      <td>Lead Quality_Might be</td>\n",
       "      <td>1.39</td>\n",
       "    </tr>\n",
       "    <tr>\n",
       "      <th>1</th>\n",
       "      <td>Total Time Spent on Website</td>\n",
       "      <td>1.37</td>\n",
       "    </tr>\n",
       "    <tr>\n",
       "      <th>5</th>\n",
       "      <td>Lead Source_Welingak Website</td>\n",
       "      <td>1.34</td>\n",
       "    </tr>\n",
       "    <tr>\n",
       "      <th>0</th>\n",
       "      <td>Do Not Email</td>\n",
       "      <td>1.21</td>\n",
       "    </tr>\n",
       "    <tr>\n",
       "      <th>10</th>\n",
       "      <td>Lead Quality_Low in Relevance</td>\n",
       "      <td>1.14</td>\n",
       "    </tr>\n",
       "    <tr>\n",
       "      <th>12</th>\n",
       "      <td>Lead Quality_Worst</td>\n",
       "      <td>1.12</td>\n",
       "    </tr>\n",
       "  </tbody>\n",
       "</table>\n",
       "</div>"
      ],
      "text/plain": [
       "                                 Features   VIF\n",
       "2     Lead Origin_Landing Page Submission  2.76\n",
       "9                   Specialization_Others  2.58\n",
       "6              Last Activity_Email Opened  2.50\n",
       "4                  Lead Source_Olark Chat  2.39\n",
       "8                  Last Activity_SMS Sent  2.33\n",
       "7   Last Activity_Olark Chat Conversation  1.82\n",
       "3               Lead Origin_Lead Add Form  1.76\n",
       "11                  Lead Quality_Might be  1.39\n",
       "1             Total Time Spent on Website  1.37\n",
       "5            Lead Source_Welingak Website  1.34\n",
       "0                            Do Not Email  1.21\n",
       "10          Lead Quality_Low in Relevance  1.14\n",
       "12                     Lead Quality_Worst  1.12"
      ]
     },
     "execution_count": 682,
     "metadata": {},
     "output_type": "execute_result"
    }
   ],
   "source": [
    "# VIF values\n",
    "\n",
    "cal_vif(X_train7)"
   ]
  },
  {
   "cell_type": "code",
   "execution_count": 683,
   "metadata": {},
   "outputs": [
    {
     "data": {
      "text/html": [
       "<div>\n",
       "<style scoped>\n",
       "    .dataframe tbody tr th:only-of-type {\n",
       "        vertical-align: middle;\n",
       "    }\n",
       "\n",
       "    .dataframe tbody tr th {\n",
       "        vertical-align: top;\n",
       "    }\n",
       "\n",
       "    .dataframe thead th {\n",
       "        text-align: right;\n",
       "    }\n",
       "</style>\n",
       "<table border=\"1\" class=\"dataframe\">\n",
       "  <thead>\n",
       "    <tr style=\"text-align: right;\">\n",
       "      <th></th>\n",
       "      <th>const</th>\n",
       "      <th>Do Not Email</th>\n",
       "      <th>Total Time Spent on Website</th>\n",
       "      <th>Lead Origin_Landing Page Submission</th>\n",
       "      <th>Lead Origin_Lead Add Form</th>\n",
       "      <th>Lead Source_Olark Chat</th>\n",
       "      <th>Lead Source_Welingak Website</th>\n",
       "      <th>Last Activity_Email Opened</th>\n",
       "      <th>Last Activity_Olark Chat Conversation</th>\n",
       "      <th>Last Activity_SMS Sent</th>\n",
       "      <th>Specialization_Others</th>\n",
       "      <th>Lead Quality_Low in Relevance</th>\n",
       "      <th>Lead Quality_Might be</th>\n",
       "      <th>Lead Quality_Worst</th>\n",
       "    </tr>\n",
       "  </thead>\n",
       "  <tbody>\n",
       "    <tr>\n",
       "      <th>1681</th>\n",
       "      <td>1.0</td>\n",
       "      <td>0</td>\n",
       "      <td>-0.842055</td>\n",
       "      <td>0</td>\n",
       "      <td>0</td>\n",
       "      <td>1</td>\n",
       "      <td>0</td>\n",
       "      <td>0</td>\n",
       "      <td>0</td>\n",
       "      <td>0</td>\n",
       "      <td>1</td>\n",
       "      <td>0</td>\n",
       "      <td>0</td>\n",
       "      <td>0</td>\n",
       "    </tr>\n",
       "    <tr>\n",
       "      <th>7851</th>\n",
       "      <td>1.0</td>\n",
       "      <td>0</td>\n",
       "      <td>2.190918</td>\n",
       "      <td>1</td>\n",
       "      <td>0</td>\n",
       "      <td>0</td>\n",
       "      <td>0</td>\n",
       "      <td>0</td>\n",
       "      <td>0</td>\n",
       "      <td>0</td>\n",
       "      <td>0</td>\n",
       "      <td>0</td>\n",
       "      <td>1</td>\n",
       "      <td>0</td>\n",
       "    </tr>\n",
       "    <tr>\n",
       "      <th>2209</th>\n",
       "      <td>1.0</td>\n",
       "      <td>0</td>\n",
       "      <td>2.442256</td>\n",
       "      <td>1</td>\n",
       "      <td>0</td>\n",
       "      <td>0</td>\n",
       "      <td>0</td>\n",
       "      <td>0</td>\n",
       "      <td>0</td>\n",
       "      <td>0</td>\n",
       "      <td>0</td>\n",
       "      <td>0</td>\n",
       "      <td>0</td>\n",
       "      <td>1</td>\n",
       "    </tr>\n",
       "    <tr>\n",
       "      <th>8077</th>\n",
       "      <td>1.0</td>\n",
       "      <td>0</td>\n",
       "      <td>-0.842055</td>\n",
       "      <td>0</td>\n",
       "      <td>1</td>\n",
       "      <td>0</td>\n",
       "      <td>0</td>\n",
       "      <td>0</td>\n",
       "      <td>0</td>\n",
       "      <td>1</td>\n",
       "      <td>0</td>\n",
       "      <td>0</td>\n",
       "      <td>1</td>\n",
       "      <td>0</td>\n",
       "    </tr>\n",
       "    <tr>\n",
       "      <th>7255</th>\n",
       "      <td>1.0</td>\n",
       "      <td>0</td>\n",
       "      <td>-0.842055</td>\n",
       "      <td>0</td>\n",
       "      <td>0</td>\n",
       "      <td>1</td>\n",
       "      <td>0</td>\n",
       "      <td>1</td>\n",
       "      <td>0</td>\n",
       "      <td>0</td>\n",
       "      <td>1</td>\n",
       "      <td>0</td>\n",
       "      <td>0</td>\n",
       "      <td>0</td>\n",
       "    </tr>\n",
       "  </tbody>\n",
       "</table>\n",
       "</div>"
      ],
      "text/plain": [
       "      const  Do Not Email  Total Time Spent on Website  \\\n",
       "1681    1.0             0                    -0.842055   \n",
       "7851    1.0             0                     2.190918   \n",
       "2209    1.0             0                     2.442256   \n",
       "8077    1.0             0                    -0.842055   \n",
       "7255    1.0             0                    -0.842055   \n",
       "\n",
       "      Lead Origin_Landing Page Submission  Lead Origin_Lead Add Form  \\\n",
       "1681                                    0                          0   \n",
       "7851                                    1                          0   \n",
       "2209                                    1                          0   \n",
       "8077                                    0                          1   \n",
       "7255                                    0                          0   \n",
       "\n",
       "      Lead Source_Olark Chat  Lead Source_Welingak Website  \\\n",
       "1681                       1                             0   \n",
       "7851                       0                             0   \n",
       "2209                       0                             0   \n",
       "8077                       0                             0   \n",
       "7255                       1                             0   \n",
       "\n",
       "      Last Activity_Email Opened  Last Activity_Olark Chat Conversation  \\\n",
       "1681                           0                                      0   \n",
       "7851                           0                                      0   \n",
       "2209                           0                                      0   \n",
       "8077                           0                                      0   \n",
       "7255                           1                                      0   \n",
       "\n",
       "      Last Activity_SMS Sent  Specialization_Others  \\\n",
       "1681                       0                      1   \n",
       "7851                       0                      0   \n",
       "2209                       0                      0   \n",
       "8077                       1                      0   \n",
       "7255                       0                      1   \n",
       "\n",
       "      Lead Quality_Low in Relevance  Lead Quality_Might be  Lead Quality_Worst  \n",
       "1681                              0                      0                   0  \n",
       "7851                              0                      1                   0  \n",
       "2209                              0                      0                   1  \n",
       "8077                              0                      1                   0  \n",
       "7255                              0                      0                   0  "
      ]
     },
     "execution_count": 683,
     "metadata": {},
     "output_type": "execute_result"
    }
   ],
   "source": [
    "# Adding constant to X_train7 to get X_train_sm7\n",
    "\n",
    "X_train_sm7 = sm.add_constant(X_train7)\n",
    "X_train_sm7.head()"
   ]
  },
  {
   "cell_type": "code",
   "execution_count": 684,
   "metadata": {},
   "outputs": [
    {
     "data": {
      "text/html": [
       "<table class=\"simpletable\">\n",
       "<caption>Generalized Linear Model Regression Results</caption>\n",
       "<tr>\n",
       "  <th>Dep. Variable:</th>       <td>Converted</td>    <th>  No. Observations:  </th>  <td>  5495</td> \n",
       "</tr>\n",
       "<tr>\n",
       "  <th>Model:</th>                  <td>GLM</td>       <th>  Df Residuals:      </th>  <td>  5481</td> \n",
       "</tr>\n",
       "<tr>\n",
       "  <th>Model Family:</th>        <td>Binomial</td>     <th>  Df Model:          </th>  <td>    13</td> \n",
       "</tr>\n",
       "<tr>\n",
       "  <th>Link Function:</th>         <td>logit</td>      <th>  Scale:             </th> <td>  1.0000</td>\n",
       "</tr>\n",
       "<tr>\n",
       "  <th>Method:</th>                <td>IRLS</td>       <th>  Log-Likelihood:    </th> <td> -2048.3</td>\n",
       "</tr>\n",
       "<tr>\n",
       "  <th>Date:</th>            <td>Wed, 14 Jul 2021</td> <th>  Deviance:          </th> <td>  4096.5</td>\n",
       "</tr>\n",
       "<tr>\n",
       "  <th>Time:</th>                <td>18:12:55</td>     <th>  Pearson chi2:      </th> <td>5.96e+03</td>\n",
       "</tr>\n",
       "<tr>\n",
       "  <th>No. Iterations:</th>          <td>7</td>        <th>                     </th>     <td> </td>   \n",
       "</tr>\n",
       "<tr>\n",
       "  <th>Covariance Type:</th>     <td>nonrobust</td>    <th>                     </th>     <td> </td>   \n",
       "</tr>\n",
       "</table>\n",
       "<table class=\"simpletable\">\n",
       "<tr>\n",
       "                    <td></td>                       <th>coef</th>     <th>std err</th>      <th>z</th>      <th>P>|z|</th>  <th>[0.025</th>    <th>0.975]</th>  \n",
       "</tr>\n",
       "<tr>\n",
       "  <th>const</th>                                 <td>   -1.2955</td> <td>    0.168</td> <td>   -7.692</td> <td> 0.000</td> <td>   -1.626</td> <td>   -0.965</td>\n",
       "</tr>\n",
       "<tr>\n",
       "  <th>Do Not Email</th>                          <td>   -1.2769</td> <td>    0.205</td> <td>   -6.217</td> <td> 0.000</td> <td>   -1.679</td> <td>   -0.874</td>\n",
       "</tr>\n",
       "<tr>\n",
       "  <th>Total Time Spent on Website</th>           <td>    1.0566</td> <td>    0.045</td> <td>   23.429</td> <td> 0.000</td> <td>    0.968</td> <td>    1.145</td>\n",
       "</tr>\n",
       "<tr>\n",
       "  <th>Lead Origin_Landing Page Submission</th>   <td>   -1.1088</td> <td>    0.147</td> <td>   -7.529</td> <td> 0.000</td> <td>   -1.397</td> <td>   -0.820</td>\n",
       "</tr>\n",
       "<tr>\n",
       "  <th>Lead Origin_Lead Add Form</th>             <td>    3.4599</td> <td>    0.256</td> <td>   13.496</td> <td> 0.000</td> <td>    2.957</td> <td>    3.962</td>\n",
       "</tr>\n",
       "<tr>\n",
       "  <th>Lead Source_Olark Chat</th>                <td>    1.4211</td> <td>    0.137</td> <td>   10.363</td> <td> 0.000</td> <td>    1.152</td> <td>    1.690</td>\n",
       "</tr>\n",
       "<tr>\n",
       "  <th>Lead Source_Welingak Website</th>          <td>    2.4621</td> <td>    0.765</td> <td>    3.220</td> <td> 0.001</td> <td>    0.963</td> <td>    3.961</td>\n",
       "</tr>\n",
       "<tr>\n",
       "  <th>Last Activity_Email Opened</th>            <td>    0.5210</td> <td>    0.119</td> <td>    4.381</td> <td> 0.000</td> <td>    0.288</td> <td>    0.754</td>\n",
       "</tr>\n",
       "<tr>\n",
       "  <th>Last Activity_Olark Chat Conversation</th> <td>   -0.9825</td> <td>    0.205</td> <td>   -4.798</td> <td> 0.000</td> <td>   -1.384</td> <td>   -0.581</td>\n",
       "</tr>\n",
       "<tr>\n",
       "  <th>Last Activity_SMS Sent</th>                <td>    1.6588</td> <td>    0.121</td> <td>   13.685</td> <td> 0.000</td> <td>    1.421</td> <td>    1.896</td>\n",
       "</tr>\n",
       "<tr>\n",
       "  <th>Specialization_Others</th>                 <td>   -1.0718</td> <td>    0.141</td> <td>   -7.619</td> <td> 0.000</td> <td>   -1.348</td> <td>   -0.796</td>\n",
       "</tr>\n",
       "<tr>\n",
       "  <th>Lead Quality_Low in Relevance</th>         <td>    2.2295</td> <td>    0.165</td> <td>   13.524</td> <td> 0.000</td> <td>    1.906</td> <td>    2.553</td>\n",
       "</tr>\n",
       "<tr>\n",
       "  <th>Lead Quality_Might be</th>                 <td>    1.5762</td> <td>    0.110</td> <td>   14.376</td> <td> 0.000</td> <td>    1.361</td> <td>    1.791</td>\n",
       "</tr>\n",
       "<tr>\n",
       "  <th>Lead Quality_Worst</th>                    <td>   -2.3558</td> <td>    0.399</td> <td>   -5.903</td> <td> 0.000</td> <td>   -3.138</td> <td>   -1.574</td>\n",
       "</tr>\n",
       "</table>"
      ],
      "text/plain": [
       "<class 'statsmodels.iolib.summary.Summary'>\n",
       "\"\"\"\n",
       "                 Generalized Linear Model Regression Results                  \n",
       "==============================================================================\n",
       "Dep. Variable:              Converted   No. Observations:                 5495\n",
       "Model:                            GLM   Df Residuals:                     5481\n",
       "Model Family:                Binomial   Df Model:                           13\n",
       "Link Function:                  logit   Scale:                          1.0000\n",
       "Method:                          IRLS   Log-Likelihood:                -2048.3\n",
       "Date:                Wed, 14 Jul 2021   Deviance:                       4096.5\n",
       "Time:                        18:12:55   Pearson chi2:                 5.96e+03\n",
       "No. Iterations:                     7                                         \n",
       "Covariance Type:            nonrobust                                         \n",
       "=========================================================================================================\n",
       "                                            coef    std err          z      P>|z|      [0.025      0.975]\n",
       "---------------------------------------------------------------------------------------------------------\n",
       "const                                    -1.2955      0.168     -7.692      0.000      -1.626      -0.965\n",
       "Do Not Email                             -1.2769      0.205     -6.217      0.000      -1.679      -0.874\n",
       "Total Time Spent on Website               1.0566      0.045     23.429      0.000       0.968       1.145\n",
       "Lead Origin_Landing Page Submission      -1.1088      0.147     -7.529      0.000      -1.397      -0.820\n",
       "Lead Origin_Lead Add Form                 3.4599      0.256     13.496      0.000       2.957       3.962\n",
       "Lead Source_Olark Chat                    1.4211      0.137     10.363      0.000       1.152       1.690\n",
       "Lead Source_Welingak Website              2.4621      0.765      3.220      0.001       0.963       3.961\n",
       "Last Activity_Email Opened                0.5210      0.119      4.381      0.000       0.288       0.754\n",
       "Last Activity_Olark Chat Conversation    -0.9825      0.205     -4.798      0.000      -1.384      -0.581\n",
       "Last Activity_SMS Sent                    1.6588      0.121     13.685      0.000       1.421       1.896\n",
       "Specialization_Others                    -1.0718      0.141     -7.619      0.000      -1.348      -0.796\n",
       "Lead Quality_Low in Relevance             2.2295      0.165     13.524      0.000       1.906       2.553\n",
       "Lead Quality_Might be                     1.5762      0.110     14.376      0.000       1.361       1.791\n",
       "Lead Quality_Worst                       -2.3558      0.399     -5.903      0.000      -3.138      -1.574\n",
       "=========================================================================================================\n",
       "\"\"\""
      ]
     },
     "execution_count": 684,
     "metadata": {},
     "output_type": "execute_result"
    }
   ],
   "source": [
    "# Fitting the Model\n",
    "\n",
    "logm7 = sm.GLM(y_train, X_train_sm7, family=sm.families.Binomial())\n",
    "res = logm7.fit()\n",
    "res.summary()"
   ]
  },
  {
   "cell_type": "markdown",
   "metadata": {},
   "source": [
    "##### Result\n",
    "The p-values and VIF values are all withing the accpetable range. <b>`logm7 is our final model`</b>"
   ]
  },
  {
   "cell_type": "code",
   "execution_count": null,
   "metadata": {},
   "outputs": [],
   "source": []
  },
  {
   "cell_type": "code",
   "execution_count": 685,
   "metadata": {},
   "outputs": [
    {
     "data": {
      "text/plain": [
       "1681    0.137539\n",
       "7851    0.815598\n",
       "2209    0.101587\n",
       "8077    0.989118\n",
       "7255    0.211671\n",
       "8676    0.209561\n",
       "8747    0.211671\n",
       "1107    0.230302\n",
       "3082    0.095168\n",
       "8183    0.642149\n",
       "dtype: float64"
      ]
     },
     "execution_count": 685,
     "metadata": {},
     "output_type": "execute_result"
    }
   ],
   "source": [
    "# Predicting the values on the train set\n",
    "\n",
    "y_train_pred = res.predict(X_train_sm7)\n",
    "y_train_pred[:10]"
   ]
  },
  {
   "cell_type": "code",
   "execution_count": 686,
   "metadata": {},
   "outputs": [
    {
     "data": {
      "text/plain": [
       "array([0.13753919, 0.81559817, 0.10158676, 0.98911764, 0.2116705 ,\n",
       "       0.20956051, 0.2116705 , 0.23030212, 0.09516799, 0.64214944])"
      ]
     },
     "execution_count": 686,
     "metadata": {},
     "output_type": "execute_result"
    }
   ],
   "source": [
    "# Reshaping\n",
    "\n",
    "y_train_pred = y_train_pred.values.reshape(-1)\n",
    "y_train_pred[:10]"
   ]
  },
  {
   "cell_type": "code",
   "execution_count": 687,
   "metadata": {},
   "outputs": [
    {
     "data": {
      "text/html": [
       "<div>\n",
       "<style scoped>\n",
       "    .dataframe tbody tr th:only-of-type {\n",
       "        vertical-align: middle;\n",
       "    }\n",
       "\n",
       "    .dataframe tbody tr th {\n",
       "        vertical-align: top;\n",
       "    }\n",
       "\n",
       "    .dataframe thead th {\n",
       "        text-align: right;\n",
       "    }\n",
       "</style>\n",
       "<table border=\"1\" class=\"dataframe\">\n",
       "  <thead>\n",
       "    <tr style=\"text-align: right;\">\n",
       "      <th></th>\n",
       "      <th>Converted</th>\n",
       "      <th>Converted Prob</th>\n",
       "      <th>Prospect ID</th>\n",
       "    </tr>\n",
       "  </thead>\n",
       "  <tbody>\n",
       "    <tr>\n",
       "      <th>0</th>\n",
       "      <td>0</td>\n",
       "      <td>0.137539</td>\n",
       "      <td>1681</td>\n",
       "    </tr>\n",
       "    <tr>\n",
       "      <th>1</th>\n",
       "      <td>1</td>\n",
       "      <td>0.815598</td>\n",
       "      <td>7851</td>\n",
       "    </tr>\n",
       "    <tr>\n",
       "      <th>2</th>\n",
       "      <td>0</td>\n",
       "      <td>0.101587</td>\n",
       "      <td>2209</td>\n",
       "    </tr>\n",
       "    <tr>\n",
       "      <th>3</th>\n",
       "      <td>1</td>\n",
       "      <td>0.989118</td>\n",
       "      <td>8077</td>\n",
       "    </tr>\n",
       "    <tr>\n",
       "      <th>4</th>\n",
       "      <td>0</td>\n",
       "      <td>0.211671</td>\n",
       "      <td>7255</td>\n",
       "    </tr>\n",
       "  </tbody>\n",
       "</table>\n",
       "</div>"
      ],
      "text/plain": [
       "   Converted  Converted Prob  Prospect ID\n",
       "0          0        0.137539         1681\n",
       "1          1        0.815598         7851\n",
       "2          0        0.101587         2209\n",
       "3          1        0.989118         8077\n",
       "4          0        0.211671         7255"
      ]
     },
     "execution_count": 687,
     "metadata": {},
     "output_type": "execute_result"
    }
   ],
   "source": [
    "# Creating a dataframe with the actual Converted flag and the predicted probabilities\n",
    "\n",
    "y_train_pred_final = pd.DataFrame({'Converted': y_train.values, 'Converted Prob': y_train_pred})\n",
    "y_train_pred_final['Prospect ID'] = y_train.index\n",
    "y_train_pred_final.head()"
   ]
  },
  {
   "cell_type": "markdown",
   "metadata": {},
   "source": [
    "<b>Here, we have the Target variables - 'Converted' from our training set and the 'Converted Prob' variable which we have calculated.</b>"
   ]
  },
  {
   "cell_type": "code",
   "execution_count": null,
   "metadata": {},
   "outputs": [],
   "source": []
  },
  {
   "cell_type": "code",
   "execution_count": 688,
   "metadata": {},
   "outputs": [
    {
     "data": {
      "text/html": [
       "<div>\n",
       "<style scoped>\n",
       "    .dataframe tbody tr th:only-of-type {\n",
       "        vertical-align: middle;\n",
       "    }\n",
       "\n",
       "    .dataframe tbody tr th {\n",
       "        vertical-align: top;\n",
       "    }\n",
       "\n",
       "    .dataframe thead th {\n",
       "        text-align: right;\n",
       "    }\n",
       "</style>\n",
       "<table border=\"1\" class=\"dataframe\">\n",
       "  <thead>\n",
       "    <tr style=\"text-align: right;\">\n",
       "      <th></th>\n",
       "      <th>Converted</th>\n",
       "      <th>Converted Prob</th>\n",
       "      <th>Prospect ID</th>\n",
       "      <th>Predicted</th>\n",
       "    </tr>\n",
       "  </thead>\n",
       "  <tbody>\n",
       "    <tr>\n",
       "      <th>0</th>\n",
       "      <td>0</td>\n",
       "      <td>0.137539</td>\n",
       "      <td>1681</td>\n",
       "      <td>0</td>\n",
       "    </tr>\n",
       "    <tr>\n",
       "      <th>1</th>\n",
       "      <td>1</td>\n",
       "      <td>0.815598</td>\n",
       "      <td>7851</td>\n",
       "      <td>1</td>\n",
       "    </tr>\n",
       "    <tr>\n",
       "      <th>2</th>\n",
       "      <td>0</td>\n",
       "      <td>0.101587</td>\n",
       "      <td>2209</td>\n",
       "      <td>0</td>\n",
       "    </tr>\n",
       "    <tr>\n",
       "      <th>3</th>\n",
       "      <td>1</td>\n",
       "      <td>0.989118</td>\n",
       "      <td>8077</td>\n",
       "      <td>1</td>\n",
       "    </tr>\n",
       "    <tr>\n",
       "      <th>4</th>\n",
       "      <td>0</td>\n",
       "      <td>0.211671</td>\n",
       "      <td>7255</td>\n",
       "      <td>0</td>\n",
       "    </tr>\n",
       "  </tbody>\n",
       "</table>\n",
       "</div>"
      ],
      "text/plain": [
       "   Converted  Converted Prob  Prospect ID  Predicted\n",
       "0          0        0.137539         1681          0\n",
       "1          1        0.815598         7851          1\n",
       "2          0        0.101587         2209          0\n",
       "3          1        0.989118         8077          1\n",
       "4          0        0.211671         7255          0"
      ]
     },
     "execution_count": 688,
     "metadata": {},
     "output_type": "execute_result"
    }
   ],
   "source": [
    "# Creating a new column - 'Predicted' where value is 1 if Converted Prob > 0.5 else 0\n",
    "\n",
    "y_train_pred_final['Predicted'] = y_train_pred_final['Converted Prob'].map(lambda x: 1 if x>0.5 else 0 )\n",
    "\n",
    "y_train_pred_final.head()"
   ]
  },
  {
   "cell_type": "markdown",
   "metadata": {},
   "source": [
    "<b>We have set the initital cutoff as 0.5 to have some reference for comparison. We will further find the optimal cutoff value.</b>"
   ]
  },
  {
   "cell_type": "code",
   "execution_count": null,
   "metadata": {},
   "outputs": [],
   "source": []
  },
  {
   "cell_type": "markdown",
   "metadata": {},
   "source": [
    "## 11. Model Evaluation"
   ]
  },
  {
   "cell_type": "code",
   "execution_count": 689,
   "metadata": {},
   "outputs": [
    {
     "name": "stdout",
     "output_type": "stream",
     "text": [
      "[[3290  321]\n",
      " [ 586 1298]]\n"
     ]
    }
   ],
   "source": [
    "from sklearn import metrics\n",
    "\n",
    "# To get confusion matrix\n",
    "\n",
    "confusion = metrics.confusion_matrix(y_train_pred_final.Converted, y_train_pred_final.Predicted)\n",
    "print(confusion)"
   ]
  },
  {
   "cell_type": "markdown",
   "metadata": {},
   "source": [
    "|| Not Converted | Converted | \n",
    "| --- | --- | --- |\n",
    "| Not Converted | 3290  | 321 |\n",
    "| Converted | 586     | 1298 |"
   ]
  },
  {
   "cell_type": "markdown",
   "metadata": {},
   "source": [
    "### 11.1 Accuracy"
   ]
  },
  {
   "cell_type": "code",
   "execution_count": 690,
   "metadata": {},
   "outputs": [
    {
     "data": {
      "text/plain": [
       "83.4940855323021"
      ]
     },
     "execution_count": 690,
     "metadata": {},
     "output_type": "execute_result"
    }
   ],
   "source": [
    "# Checking overall accuracy\n",
    "\n",
    "acc = metrics.accuracy_score(y_train_pred_final.Converted, y_train_pred_final.Predicted)\n",
    "acc*100"
   ]
  },
  {
   "cell_type": "markdown",
   "metadata": {},
   "source": [
    "We have 83% accuracy. However, accuracy by itself is not a good enough metric for our Business Problem. We are more concerned with how many leads we correctly identified as 'Converted' because we do not want to miss out any of the hot leads. To analyse this, we can use other metrics such as Recall and Precision."
   ]
  },
  {
   "cell_type": "code",
   "execution_count": 691,
   "metadata": {},
   "outputs": [],
   "source": [
    "# Define different variables\n",
    "\n",
    "TP = confusion[1,1] # True Positives\n",
    "TN = confusion[0,0] # True Negatives\n",
    "FP = confusion[0,1] # False Positives\n",
    "FN = confusion[1,0] # False Negatives"
   ]
  },
  {
   "cell_type": "markdown",
   "metadata": {},
   "source": [
    "### 11.2 Sensitivity (True Positive Rate/Recall)\n",
    "Tells us what proportion of converted leads were correctly classified. "
   ]
  },
  {
   "cell_type": "code",
   "execution_count": 692,
   "metadata": {},
   "outputs": [
    {
     "data": {
      "text/plain": [
       "0.6889596602972399"
      ]
     },
     "execution_count": 692,
     "metadata": {},
     "output_type": "execute_result"
    }
   ],
   "source": [
    "# Calculation\n",
    "\n",
    "(TP/(TP+FN))"
   ]
  },
  {
   "cell_type": "markdown",
   "metadata": {},
   "source": [
    "### 11.3 False Positive Rate\n",
    "Tells us what proportion of not converted leads that were incorrectly classified as converted."
   ]
  },
  {
   "cell_type": "code",
   "execution_count": 693,
   "metadata": {},
   "outputs": [
    {
     "data": {
      "text/plain": [
       "0.08889504292439768"
      ]
     },
     "execution_count": 693,
     "metadata": {},
     "output_type": "execute_result"
    }
   ],
   "source": [
    "# Calculation\n",
    "\n",
    "(FP/(TN+FP))"
   ]
  },
  {
   "cell_type": "markdown",
   "metadata": {},
   "source": [
    "### 11.4 Specificity (True Negative Rate)\n",
    "Probability that the leads that did not convert were predicted as not converted."
   ]
  },
  {
   "cell_type": "code",
   "execution_count": 694,
   "metadata": {},
   "outputs": [
    {
     "data": {
      "text/plain": [
       "0.9111049570756024"
      ]
     },
     "execution_count": 694,
     "metadata": {},
     "output_type": "execute_result"
    }
   ],
   "source": [
    "# Calculation\n",
    "\n",
    "(TN/(TN+FP))"
   ]
  },
  {
   "cell_type": "markdown",
   "metadata": {},
   "source": [
    "### 11.5 Precision (Positive Predicted Value)\n",
    "Probabilty that a predicted Conversion is an actual Conversion."
   ]
  },
  {
   "cell_type": "code",
   "execution_count": 695,
   "metadata": {},
   "outputs": [
    {
     "data": {
      "text/plain": [
       "0.8017294626312539"
      ]
     },
     "execution_count": 695,
     "metadata": {},
     "output_type": "execute_result"
    }
   ],
   "source": [
    "# Calculation\n",
    "\n",
    "(TP/(TP+FP))"
   ]
  },
  {
   "cell_type": "markdown",
   "metadata": {},
   "source": [
    "### 11.6 Negative Predicted Value\n",
    "Probability that a predicted not conversion is actually a not conversion"
   ]
  },
  {
   "cell_type": "code",
   "execution_count": 696,
   "metadata": {},
   "outputs": [
    {
     "data": {
      "text/plain": [
       "0.848813209494324"
      ]
     },
     "execution_count": 696,
     "metadata": {},
     "output_type": "execute_result"
    }
   ],
   "source": [
    "# Calculation\n",
    "\n",
    "(TN / (TN+ FN))"
   ]
  },
  {
   "cell_type": "markdown",
   "metadata": {},
   "source": [
    "#### Inference:\n",
    "Our current model has a decent Recall/Sensitivity of 0.69 and Precision of 0.80. However, we can plot the ROC curve and check whether we can obtain better results by selecting the optimal cutoff value."
   ]
  },
  {
   "cell_type": "markdown",
   "metadata": {},
   "source": [
    "## 12. Plotting ROC Curve\n",
    "An ROC curve demonstrates several things:\n",
    "\n",
    "- It shows the tradeoff between sensitivity and specificity (any increase in sensitivity will be accompanied by a decrease in specificity).\n",
    "- The closer the curve follows the left-hand border and then the top border of the ROC space, the more accurate the test.\n",
    "- The closer the curve comes to the 45-degree diagonal of the ROC space, the less accurate the test."
   ]
  },
  {
   "cell_type": "code",
   "execution_count": 697,
   "metadata": {},
   "outputs": [],
   "source": [
    "def draw_roc( actual, probs ):\n",
    "    fpr, tpr, thresholds = metrics.roc_curve( actual, probs,\n",
    "                                              drop_intermediate = False )\n",
    "    auc_score = metrics.roc_auc_score( actual, probs )\n",
    "    plt.figure(figsize=(5, 5))\n",
    "    plt.plot( fpr, tpr, label='ROC curve (area = %0.2f)' % auc_score )\n",
    "    plt.plot([0, 1], [0, 1], 'k--')\n",
    "    plt.xlim([0.0, 1.0])\n",
    "    plt.ylim([0.0, 1.05])\n",
    "    plt.xlabel('False Positive Rate or [1 - True Negative Rate]')\n",
    "    plt.ylabel('True Positive Rate')\n",
    "    plt.title('Receiver operating characteristic example')\n",
    "    plt.legend(loc=\"lower right\")\n",
    "    plt.show()\n",
    "\n",
    "    return None"
   ]
  },
  {
   "cell_type": "code",
   "execution_count": 698,
   "metadata": {},
   "outputs": [],
   "source": [
    "fpr, tpr, thresholds = metrics.roc_curve( y_train_pred_final.Converted, y_train_pred_final['Converted Prob'], drop_intermediate = False )"
   ]
  },
  {
   "cell_type": "code",
   "execution_count": 699,
   "metadata": {},
   "outputs": [
    {
     "data": {
      "image/png": "[encoded data removed]",
      "text/plain": [
       "<Figure size 360x360 with 1 Axes>"
      ]
     },
     "metadata": {
      "needs_background": "light"
     },
     "output_type": "display_data"
    }
   ],
   "source": [
    "# Plot\n",
    "\n",
    "draw_roc(y_train_pred_final.Converted, y_train_pred_final['Converted Prob'])"
   ]
  },
  {
   "cell_type": "markdown",
   "metadata": {},
   "source": [
    "The area under the curve is 0.90. An excellent model has AUC near to the 1 which means it has a good measure of separability. A poor model has an AUC near 0 which means it has the worst measure of separability."
   ]
  },
  {
   "cell_type": "markdown",
   "metadata": {},
   "source": [
    "## 13. Finding Optimal Cutoff point\n",
    "Optimal cutoff probability is that prob where we get balanced sensitivity and specificity"
   ]
  },
  {
   "cell_type": "code",
   "execution_count": 700,
   "metadata": {},
   "outputs": [
    {
     "data": {
      "text/html": [
       "<div>\n",
       "<style scoped>\n",
       "    .dataframe tbody tr th:only-of-type {\n",
       "        vertical-align: middle;\n",
       "    }\n",
       "\n",
       "    .dataframe tbody tr th {\n",
       "        vertical-align: top;\n",
       "    }\n",
       "\n",
       "    .dataframe thead th {\n",
       "        text-align: right;\n",
       "    }\n",
       "</style>\n",
       "<table border=\"1\" class=\"dataframe\">\n",
       "  <thead>\n",
       "    <tr style=\"text-align: right;\">\n",
       "      <th></th>\n",
       "      <th>Converted</th>\n",
       "      <th>Converted Prob</th>\n",
       "      <th>Prospect ID</th>\n",
       "      <th>Predicted</th>\n",
       "      <th>0.0</th>\n",
       "      <th>0.1</th>\n",
       "      <th>0.2</th>\n",
       "      <th>0.3</th>\n",
       "      <th>0.4</th>\n",
       "      <th>0.5</th>\n",
       "      <th>0.6</th>\n",
       "      <th>0.7</th>\n",
       "      <th>0.8</th>\n",
       "      <th>0.9</th>\n",
       "    </tr>\n",
       "  </thead>\n",
       "  <tbody>\n",
       "    <tr>\n",
       "      <th>0</th>\n",
       "      <td>0</td>\n",
       "      <td>0.137539</td>\n",
       "      <td>1681</td>\n",
       "      <td>0</td>\n",
       "      <td>1</td>\n",
       "      <td>1</td>\n",
       "      <td>0</td>\n",
       "      <td>0</td>\n",
       "      <td>0</td>\n",
       "      <td>0</td>\n",
       "      <td>0</td>\n",
       "      <td>0</td>\n",
       "      <td>0</td>\n",
       "      <td>0</td>\n",
       "    </tr>\n",
       "    <tr>\n",
       "      <th>1</th>\n",
       "      <td>1</td>\n",
       "      <td>0.815598</td>\n",
       "      <td>7851</td>\n",
       "      <td>1</td>\n",
       "      <td>1</td>\n",
       "      <td>1</td>\n",
       "      <td>1</td>\n",
       "      <td>1</td>\n",
       "      <td>1</td>\n",
       "      <td>1</td>\n",
       "      <td>1</td>\n",
       "      <td>1</td>\n",
       "      <td>1</td>\n",
       "      <td>0</td>\n",
       "    </tr>\n",
       "    <tr>\n",
       "      <th>2</th>\n",
       "      <td>0</td>\n",
       "      <td>0.101587</td>\n",
       "      <td>2209</td>\n",
       "      <td>0</td>\n",
       "      <td>1</td>\n",
       "      <td>1</td>\n",
       "      <td>0</td>\n",
       "      <td>0</td>\n",
       "      <td>0</td>\n",
       "      <td>0</td>\n",
       "      <td>0</td>\n",
       "      <td>0</td>\n",
       "      <td>0</td>\n",
       "      <td>0</td>\n",
       "    </tr>\n",
       "    <tr>\n",
       "      <th>3</th>\n",
       "      <td>1</td>\n",
       "      <td>0.989118</td>\n",
       "      <td>8077</td>\n",
       "      <td>1</td>\n",
       "      <td>1</td>\n",
       "      <td>1</td>\n",
       "      <td>1</td>\n",
       "      <td>1</td>\n",
       "      <td>1</td>\n",
       "      <td>1</td>\n",
       "      <td>1</td>\n",
       "      <td>1</td>\n",
       "      <td>1</td>\n",
       "      <td>1</td>\n",
       "    </tr>\n",
       "    <tr>\n",
       "      <th>4</th>\n",
       "      <td>0</td>\n",
       "      <td>0.211671</td>\n",
       "      <td>7255</td>\n",
       "      <td>0</td>\n",
       "      <td>1</td>\n",
       "      <td>1</td>\n",
       "      <td>1</td>\n",
       "      <td>0</td>\n",
       "      <td>0</td>\n",
       "      <td>0</td>\n",
       "      <td>0</td>\n",
       "      <td>0</td>\n",
       "      <td>0</td>\n",
       "      <td>0</td>\n",
       "    </tr>\n",
       "  </tbody>\n",
       "</table>\n",
       "</div>"
      ],
      "text/plain": [
       "   Converted  Converted Prob  Prospect ID  Predicted  0.0  0.1  0.2  0.3  0.4  \\\n",
       "0          0        0.137539         1681          0    1    1    0    0    0   \n",
       "1          1        0.815598         7851          1    1    1    1    1    1   \n",
       "2          0        0.101587         2209          0    1    1    0    0    0   \n",
       "3          1        0.989118         8077          1    1    1    1    1    1   \n",
       "4          0        0.211671         7255          0    1    1    1    0    0   \n",
       "\n",
       "   0.5  0.6  0.7  0.8  0.9  \n",
       "0    0    0    0    0    0  \n",
       "1    1    1    1    1    0  \n",
       "2    0    0    0    0    0  \n",
       "3    1    1    1    1    1  \n",
       "4    0    0    0    0    0  "
      ]
     },
     "execution_count": 700,
     "metadata": {},
     "output_type": "execute_result"
    }
   ],
   "source": [
    "# Let's create columns with different probability cutoffs \n",
    "\n",
    "numbers = [float(x)/10 for x in range(10)]\n",
    "for i in numbers:\n",
    "    y_train_pred_final[i]= y_train_pred_final['Converted Prob'].map(lambda x: 1 if x > i else 0)\n",
    "y_train_pred_final.head()"
   ]
  },
  {
   "cell_type": "code",
   "execution_count": 701,
   "metadata": {},
   "outputs": [
    {
     "name": "stdout",
     "output_type": "stream",
     "text": [
      "     prob  accuracy     sensi     speci\n",
      "0.0   0.0  0.342857  1.000000  0.000000\n",
      "0.1   0.1  0.676251  0.962314  0.527001\n",
      "0.2   0.2  0.766333  0.914544  0.689006\n",
      "0.3   0.3  0.822748  0.827495  0.820271\n",
      "0.4   0.4  0.838217  0.782909  0.867073\n",
      "0.5   0.5  0.834941  0.688960  0.911105\n",
      "0.6   0.6  0.827298  0.621550  0.934644\n",
      "0.7   0.7  0.816015  0.546178  0.956799\n",
      "0.8   0.8  0.789445  0.440552  0.971476\n",
      "0.9   0.9  0.747771  0.285032  0.989200\n"
     ]
    }
   ],
   "source": [
    "# Now let's calculate accuracy sensitivity and specificity for various probability cutoffs.\n",
    "\n",
    "cutoff_df = pd.DataFrame( columns = ['prob','accuracy','sensi','speci'])\n",
    "from sklearn.metrics import confusion_matrix\n",
    "\n",
    "# TP = confusion[1,1] # true positive \n",
    "# TN = confusion[0,0] # true negatives\n",
    "# FP = confusion[0,1] # false positives\n",
    "# FN = confusion[1,0] # false negatives\n",
    "\n",
    "num = [0.0,0.1,0.2,0.3,0.4,0.5,0.6,0.7,0.8,0.9]\n",
    "for i in num:\n",
    "    cm1 = metrics.confusion_matrix(y_train_pred_final.Converted, y_train_pred_final[i] )\n",
    "    total1=sum(sum(cm1))\n",
    "    accuracy = (cm1[0,0]+cm1[1,1])/total1\n",
    "    \n",
    "    speci = cm1[0,0]/(cm1[0,0]+cm1[0,1])\n",
    "    sensi = cm1[1,1]/(cm1[1,0]+cm1[1,1])\n",
    "    cutoff_df.loc[i] =[ i ,accuracy,sensi,speci]\n",
    "print(cutoff_df)"
   ]
  },
  {
   "cell_type": "code",
   "execution_count": 702,
   "metadata": {},
   "outputs": [
    {
     "data": {
      "image/png": "[encoded data removed]",
      "text/plain": [
       "<Figure size 432x288 with 1 Axes>"
      ]
     },
     "metadata": {
      "needs_background": "light"
     },
     "output_type": "display_data"
    }
   ],
   "source": [
    "# Let's plot accuracy sensitivity and specificity for various probabilities.\n",
    "\n",
    "cutoff_df.plot.line(x='prob', y=['accuracy','sensi','speci'])\n",
    "plt.grid()\n",
    "plt.show()"
   ]
  },
  {
   "cell_type": "markdown",
   "metadata": {},
   "source": [
    "##### Inference\n",
    "\n",
    "From the curve, <b>`0.3`</b> is the optimum point to take it as a cutoff point."
   ]
  },
  {
   "cell_type": "code",
   "execution_count": 703,
   "metadata": {},
   "outputs": [
    {
     "data": {
      "text/html": [
       "<div>\n",
       "<style scoped>\n",
       "    .dataframe tbody tr th:only-of-type {\n",
       "        vertical-align: middle;\n",
       "    }\n",
       "\n",
       "    .dataframe tbody tr th {\n",
       "        vertical-align: top;\n",
       "    }\n",
       "\n",
       "    .dataframe thead th {\n",
       "        text-align: right;\n",
       "    }\n",
       "</style>\n",
       "<table border=\"1\" class=\"dataframe\">\n",
       "  <thead>\n",
       "    <tr style=\"text-align: right;\">\n",
       "      <th></th>\n",
       "      <th>Converted</th>\n",
       "      <th>Converted Prob</th>\n",
       "      <th>Prospect ID</th>\n",
       "      <th>Predicted</th>\n",
       "      <th>0.0</th>\n",
       "      <th>0.1</th>\n",
       "      <th>0.2</th>\n",
       "      <th>0.3</th>\n",
       "      <th>0.4</th>\n",
       "      <th>0.5</th>\n",
       "      <th>0.6</th>\n",
       "      <th>0.7</th>\n",
       "      <th>0.8</th>\n",
       "      <th>0.9</th>\n",
       "      <th>Final Predicted</th>\n",
       "    </tr>\n",
       "  </thead>\n",
       "  <tbody>\n",
       "    <tr>\n",
       "      <th>0</th>\n",
       "      <td>0</td>\n",
       "      <td>0.137539</td>\n",
       "      <td>1681</td>\n",
       "      <td>0</td>\n",
       "      <td>1</td>\n",
       "      <td>1</td>\n",
       "      <td>0</td>\n",
       "      <td>0</td>\n",
       "      <td>0</td>\n",
       "      <td>0</td>\n",
       "      <td>0</td>\n",
       "      <td>0</td>\n",
       "      <td>0</td>\n",
       "      <td>0</td>\n",
       "      <td>0</td>\n",
       "    </tr>\n",
       "    <tr>\n",
       "      <th>1</th>\n",
       "      <td>1</td>\n",
       "      <td>0.815598</td>\n",
       "      <td>7851</td>\n",
       "      <td>1</td>\n",
       "      <td>1</td>\n",
       "      <td>1</td>\n",
       "      <td>1</td>\n",
       "      <td>1</td>\n",
       "      <td>1</td>\n",
       "      <td>1</td>\n",
       "      <td>1</td>\n",
       "      <td>1</td>\n",
       "      <td>1</td>\n",
       "      <td>0</td>\n",
       "      <td>1</td>\n",
       "    </tr>\n",
       "    <tr>\n",
       "      <th>2</th>\n",
       "      <td>0</td>\n",
       "      <td>0.101587</td>\n",
       "      <td>2209</td>\n",
       "      <td>0</td>\n",
       "      <td>1</td>\n",
       "      <td>1</td>\n",
       "      <td>0</td>\n",
       "      <td>0</td>\n",
       "      <td>0</td>\n",
       "      <td>0</td>\n",
       "      <td>0</td>\n",
       "      <td>0</td>\n",
       "      <td>0</td>\n",
       "      <td>0</td>\n",
       "      <td>0</td>\n",
       "    </tr>\n",
       "    <tr>\n",
       "      <th>3</th>\n",
       "      <td>1</td>\n",
       "      <td>0.989118</td>\n",
       "      <td>8077</td>\n",
       "      <td>1</td>\n",
       "      <td>1</td>\n",
       "      <td>1</td>\n",
       "      <td>1</td>\n",
       "      <td>1</td>\n",
       "      <td>1</td>\n",
       "      <td>1</td>\n",
       "      <td>1</td>\n",
       "      <td>1</td>\n",
       "      <td>1</td>\n",
       "      <td>1</td>\n",
       "      <td>1</td>\n",
       "    </tr>\n",
       "    <tr>\n",
       "      <th>4</th>\n",
       "      <td>0</td>\n",
       "      <td>0.211671</td>\n",
       "      <td>7255</td>\n",
       "      <td>0</td>\n",
       "      <td>1</td>\n",
       "      <td>1</td>\n",
       "      <td>1</td>\n",
       "      <td>0</td>\n",
       "      <td>0</td>\n",
       "      <td>0</td>\n",
       "      <td>0</td>\n",
       "      <td>0</td>\n",
       "      <td>0</td>\n",
       "      <td>0</td>\n",
       "      <td>0</td>\n",
       "    </tr>\n",
       "  </tbody>\n",
       "</table>\n",
       "</div>"
      ],
      "text/plain": [
       "   Converted  Converted Prob  Prospect ID  Predicted  0.0  0.1  0.2  0.3  0.4  \\\n",
       "0          0        0.137539         1681          0    1    1    0    0    0   \n",
       "1          1        0.815598         7851          1    1    1    1    1    1   \n",
       "2          0        0.101587         2209          0    1    1    0    0    0   \n",
       "3          1        0.989118         8077          1    1    1    1    1    1   \n",
       "4          0        0.211671         7255          0    1    1    1    0    0   \n",
       "\n",
       "   0.5  0.6  0.7  0.8  0.9  Final Predicted  \n",
       "0    0    0    0    0    0                0  \n",
       "1    1    1    1    1    0                1  \n",
       "2    0    0    0    0    0                0  \n",
       "3    1    1    1    1    1                1  \n",
       "4    0    0    0    0    0                0  "
      ]
     },
     "execution_count": 703,
     "metadata": {},
     "output_type": "execute_result"
    }
   ],
   "source": [
    "# Prediction based on new cutoff point\n",
    "\n",
    "y_train_pred_final['Final Predicted'] = y_train_pred_final['Converted Prob'].map(lambda x: 1 if x>0.3 else 0)\n",
    "y_train_pred_final.head()"
   ]
  },
  {
   "cell_type": "code",
   "execution_count": null,
   "metadata": {},
   "outputs": [],
   "source": []
  },
  {
   "cell_type": "markdown",
   "metadata": {},
   "source": [
    "## 14. Re-evaluating The Model"
   ]
  },
  {
   "cell_type": "code",
   "execution_count": 704,
   "metadata": {},
   "outputs": [
    {
     "name": "stdout",
     "output_type": "stream",
     "text": [
      "[[2962  649]\n",
      " [ 325 1559]]\n"
     ]
    }
   ],
   "source": [
    "# To get confusion matrix\n",
    "\n",
    "confusion1 = metrics.confusion_matrix(y_train_pred_final.Converted, y_train_pred_final['Final Predicted'])\n",
    "print(confusion1)"
   ]
  },
  {
   "cell_type": "code",
   "execution_count": 705,
   "metadata": {},
   "outputs": [],
   "source": [
    "TP = confusion1[1,1] # true positive \n",
    "TN = confusion1[0,0] # true negatives\n",
    "FP = confusion1[0,1] # false positives\n",
    "FN = confusion1[1,0] # false negatives"
   ]
  },
  {
   "cell_type": "markdown",
   "metadata": {},
   "source": [
    "### 14.1 Accuracy"
   ]
  },
  {
   "cell_type": "code",
   "execution_count": 706,
   "metadata": {},
   "outputs": [
    {
     "data": {
      "text/plain": [
       "0.8227479526842584"
      ]
     },
     "execution_count": 706,
     "metadata": {},
     "output_type": "execute_result"
    }
   ],
   "source": [
    "# Calculation\n",
    "\n",
    "acc = metrics.accuracy_score(y_train_pred_final.Converted, y_train_pred_final['Final Predicted'])\n",
    "acc"
   ]
  },
  {
   "cell_type": "markdown",
   "metadata": {},
   "source": [
    "### 14.2 Sensitivity (True Positive Rate)"
   ]
  },
  {
   "cell_type": "code",
   "execution_count": 707,
   "metadata": {},
   "outputs": [
    {
     "data": {
      "text/plain": [
       "0.8274946921443737"
      ]
     },
     "execution_count": 707,
     "metadata": {},
     "output_type": "execute_result"
    }
   ],
   "source": [
    "# Calculation\n",
    "\n",
    "(TP/(TP+FN))"
   ]
  },
  {
   "cell_type": "markdown",
   "metadata": {},
   "source": [
    "### 14.3 Specificity"
   ]
  },
  {
   "cell_type": "code",
   "execution_count": 708,
   "metadata": {},
   "outputs": [
    {
     "data": {
      "text/plain": [
       "0.8202713929659374"
      ]
     },
     "execution_count": 708,
     "metadata": {},
     "output_type": "execute_result"
    }
   ],
   "source": [
    "# Calculation\n",
    "\n",
    "(TN/(TN+FP))"
   ]
  },
  {
   "cell_type": "markdown",
   "metadata": {},
   "source": [
    "### 14.4 False Positive Rate"
   ]
  },
  {
   "cell_type": "code",
   "execution_count": 709,
   "metadata": {},
   "outputs": [
    {
     "data": {
      "text/plain": [
       "0.1797286070340626"
      ]
     },
     "execution_count": 709,
     "metadata": {},
     "output_type": "execute_result"
    }
   ],
   "source": [
    "# Calculation\n",
    "\n",
    "(FP/(TN+FP))"
   ]
  },
  {
   "cell_type": "markdown",
   "metadata": {},
   "source": [
    "### 14.5 Precision "
   ]
  },
  {
   "cell_type": "code",
   "execution_count": 710,
   "metadata": {},
   "outputs": [
    {
     "data": {
      "text/plain": [
       "0.7060688405797102"
      ]
     },
     "execution_count": 710,
     "metadata": {},
     "output_type": "execute_result"
    }
   ],
   "source": [
    "# Calculation\n",
    "\n",
    "from sklearn.metrics import precision_score, recall_score\n",
    "\n",
    "precision_score(y_train_pred_final.Converted , y_train_pred_final['Final Predicted'])"
   ]
  },
  {
   "cell_type": "markdown",
   "metadata": {},
   "source": [
    "### 14.6 Recall"
   ]
  },
  {
   "cell_type": "code",
   "execution_count": 711,
   "metadata": {},
   "outputs": [
    {
     "data": {
      "text/plain": [
       "0.8274946921443737"
      ]
     },
     "execution_count": 711,
     "metadata": {},
     "output_type": "execute_result"
    }
   ],
   "source": [
    "# Calculation\n",
    "\n",
    "recall_score(y_train_pred_final.Converted , y_train_pred_final['Final Predicted'])"
   ]
  },
  {
   "cell_type": "markdown",
   "metadata": {},
   "source": [
    "##### Inference\n",
    "\n",
    "- The new model with the optimal cutoff has a higher sensitivity of 0.82 as compared to the former's 0.69\n",
    "- The precision for the new model is lower as compared to the former. "
   ]
  },
  {
   "cell_type": "code",
   "execution_count": null,
   "metadata": {},
   "outputs": [],
   "source": []
  },
  {
   "cell_type": "markdown",
   "metadata": {},
   "source": [
    "## 15. Precision and Recall Tradeoff"
   ]
  },
  {
   "cell_type": "code",
   "execution_count": 712,
   "metadata": {},
   "outputs": [],
   "source": [
    "# Importing required packages\n",
    "\n",
    "from sklearn.metrics import precision_recall_curve"
   ]
  },
  {
   "cell_type": "code",
   "execution_count": 713,
   "metadata": {},
   "outputs": [
    {
     "data": {
      "image/png": "[encoded data removed]",
      "text/plain": [
       "<Figure size 432x288 with 1 Axes>"
      ]
     },
     "metadata": {
      "needs_background": "light"
     },
     "output_type": "display_data"
    }
   ],
   "source": [
    "\n",
    "\n",
    "p, r, thresholds = precision_recall_curve(y_train_pred_final.Converted, y_train_pred_final['Converted Prob'])\n",
    "plt.plot(thresholds, p[:-1], \"g-\")\n",
    "plt.plot(thresholds, r[:-1], \"r-\")\n",
    "plt.show()"
   ]
  },
  {
   "cell_type": "code",
   "execution_count": null,
   "metadata": {},
   "outputs": [],
   "source": []
  },
  {
   "cell_type": "markdown",
   "metadata": {},
   "source": [
    "## 16. Making Predictions on the Test Set"
   ]
  },
  {
   "cell_type": "code",
   "execution_count": 714,
   "metadata": {},
   "outputs": [
    {
     "data": {
      "text/html": [
       "<div>\n",
       "<style scoped>\n",
       "    .dataframe tbody tr th:only-of-type {\n",
       "        vertical-align: middle;\n",
       "    }\n",
       "\n",
       "    .dataframe tbody tr th {\n",
       "        vertical-align: top;\n",
       "    }\n",
       "\n",
       "    .dataframe thead th {\n",
       "        text-align: right;\n",
       "    }\n",
       "</style>\n",
       "<table border=\"1\" class=\"dataframe\">\n",
       "  <thead>\n",
       "    <tr style=\"text-align: right;\">\n",
       "      <th></th>\n",
       "      <th>Do Not Email</th>\n",
       "      <th>Do Not Call</th>\n",
       "      <th>TotalVisits</th>\n",
       "      <th>Total Time Spent on Website</th>\n",
       "      <th>Page Views Per Visit</th>\n",
       "      <th>A free copy of Mastering The Interview</th>\n",
       "      <th>Lead Origin_Landing Page Submission</th>\n",
       "      <th>Lead Origin_Lead Add Form</th>\n",
       "      <th>Lead Origin_Lead Import</th>\n",
       "      <th>Lead Source_Direct Traffic</th>\n",
       "      <th>...</th>\n",
       "      <th>Specialization_Travel and Tourism</th>\n",
       "      <th>Lead Quality_Low in Relevance</th>\n",
       "      <th>Lead Quality_Might be</th>\n",
       "      <th>Lead Quality_Not Sure</th>\n",
       "      <th>Lead Quality_Worst</th>\n",
       "      <th>City_Other Cities</th>\n",
       "      <th>City_Other Cities of Maharashtra</th>\n",
       "      <th>City_Other Metro Cities</th>\n",
       "      <th>City_Thane &amp; Outskirts</th>\n",
       "      <th>City_Tier II Cities</th>\n",
       "    </tr>\n",
       "  </thead>\n",
       "  <tbody>\n",
       "    <tr>\n",
       "      <th>8723</th>\n",
       "      <td>0</td>\n",
       "      <td>0</td>\n",
       "      <td>2.0</td>\n",
       "      <td>228</td>\n",
       "      <td>2.0</td>\n",
       "      <td>0</td>\n",
       "      <td>0</td>\n",
       "      <td>0</td>\n",
       "      <td>0</td>\n",
       "      <td>0</td>\n",
       "      <td>...</td>\n",
       "      <td>0</td>\n",
       "      <td>0</td>\n",
       "      <td>0</td>\n",
       "      <td>1</td>\n",
       "      <td>0</td>\n",
       "      <td>0</td>\n",
       "      <td>0</td>\n",
       "      <td>0</td>\n",
       "      <td>0</td>\n",
       "      <td>0</td>\n",
       "    </tr>\n",
       "    <tr>\n",
       "      <th>7546</th>\n",
       "      <td>0</td>\n",
       "      <td>0</td>\n",
       "      <td>9.0</td>\n",
       "      <td>846</td>\n",
       "      <td>9.0</td>\n",
       "      <td>1</td>\n",
       "      <td>1</td>\n",
       "      <td>0</td>\n",
       "      <td>0</td>\n",
       "      <td>0</td>\n",
       "      <td>...</td>\n",
       "      <td>0</td>\n",
       "      <td>0</td>\n",
       "      <td>0</td>\n",
       "      <td>0</td>\n",
       "      <td>0</td>\n",
       "      <td>0</td>\n",
       "      <td>0</td>\n",
       "      <td>0</td>\n",
       "      <td>1</td>\n",
       "      <td>0</td>\n",
       "    </tr>\n",
       "    <tr>\n",
       "      <th>3853</th>\n",
       "      <td>0</td>\n",
       "      <td>0</td>\n",
       "      <td>2.0</td>\n",
       "      <td>334</td>\n",
       "      <td>2.0</td>\n",
       "      <td>0</td>\n",
       "      <td>1</td>\n",
       "      <td>0</td>\n",
       "      <td>0</td>\n",
       "      <td>1</td>\n",
       "      <td>...</td>\n",
       "      <td>0</td>\n",
       "      <td>0</td>\n",
       "      <td>0</td>\n",
       "      <td>1</td>\n",
       "      <td>0</td>\n",
       "      <td>0</td>\n",
       "      <td>0</td>\n",
       "      <td>1</td>\n",
       "      <td>0</td>\n",
       "      <td>0</td>\n",
       "    </tr>\n",
       "    <tr>\n",
       "      <th>4305</th>\n",
       "      <td>0</td>\n",
       "      <td>0</td>\n",
       "      <td>6.0</td>\n",
       "      <td>373</td>\n",
       "      <td>6.0</td>\n",
       "      <td>0</td>\n",
       "      <td>1</td>\n",
       "      <td>0</td>\n",
       "      <td>0</td>\n",
       "      <td>0</td>\n",
       "      <td>...</td>\n",
       "      <td>0</td>\n",
       "      <td>0</td>\n",
       "      <td>0</td>\n",
       "      <td>1</td>\n",
       "      <td>0</td>\n",
       "      <td>0</td>\n",
       "      <td>0</td>\n",
       "      <td>0</td>\n",
       "      <td>0</td>\n",
       "      <td>0</td>\n",
       "    </tr>\n",
       "    <tr>\n",
       "      <th>8749</th>\n",
       "      <td>0</td>\n",
       "      <td>0</td>\n",
       "      <td>1.0</td>\n",
       "      <td>145</td>\n",
       "      <td>1.0</td>\n",
       "      <td>1</td>\n",
       "      <td>0</td>\n",
       "      <td>1</td>\n",
       "      <td>0</td>\n",
       "      <td>0</td>\n",
       "      <td>...</td>\n",
       "      <td>0</td>\n",
       "      <td>0</td>\n",
       "      <td>0</td>\n",
       "      <td>0</td>\n",
       "      <td>0</td>\n",
       "      <td>0</td>\n",
       "      <td>0</td>\n",
       "      <td>0</td>\n",
       "      <td>0</td>\n",
       "      <td>0</td>\n",
       "    </tr>\n",
       "  </tbody>\n",
       "</table>\n",
       "<p>5 rows × 60 columns</p>\n",
       "</div>"
      ],
      "text/plain": [
       "      Do Not Email  Do Not Call  TotalVisits  Total Time Spent on Website  \\\n",
       "8723             0            0          2.0                          228   \n",
       "7546             0            0          9.0                          846   \n",
       "3853             0            0          2.0                          334   \n",
       "4305             0            0          6.0                          373   \n",
       "8749             0            0          1.0                          145   \n",
       "\n",
       "      Page Views Per Visit  A free copy of Mastering The Interview  \\\n",
       "8723                   2.0                                       0   \n",
       "7546                   9.0                                       1   \n",
       "3853                   2.0                                       0   \n",
       "4305                   6.0                                       0   \n",
       "8749                   1.0                                       1   \n",
       "\n",
       "      Lead Origin_Landing Page Submission  Lead Origin_Lead Add Form  \\\n",
       "8723                                    0                          0   \n",
       "7546                                    1                          0   \n",
       "3853                                    1                          0   \n",
       "4305                                    1                          0   \n",
       "8749                                    0                          1   \n",
       "\n",
       "      Lead Origin_Lead Import  Lead Source_Direct Traffic  ...  \\\n",
       "8723                        0                           0  ...   \n",
       "7546                        0                           0  ...   \n",
       "3853                        0                           1  ...   \n",
       "4305                        0                           0  ...   \n",
       "8749                        0                           0  ...   \n",
       "\n",
       "      Specialization_Travel and Tourism  Lead Quality_Low in Relevance  \\\n",
       "8723                                  0                              0   \n",
       "7546                                  0                              0   \n",
       "3853                                  0                              0   \n",
       "4305                                  0                              0   \n",
       "8749                                  0                              0   \n",
       "\n",
       "      Lead Quality_Might be  Lead Quality_Not Sure  Lead Quality_Worst  \\\n",
       "8723                      0                      1                   0   \n",
       "7546                      0                      0                   0   \n",
       "3853                      0                      1                   0   \n",
       "4305                      0                      1                   0   \n",
       "8749                      0                      0                   0   \n",
       "\n",
       "      City_Other Cities  City_Other Cities of Maharashtra  \\\n",
       "8723                  0                                 0   \n",
       "7546                  0                                 0   \n",
       "3853                  0                                 0   \n",
       "4305                  0                                 0   \n",
       "8749                  0                                 0   \n",
       "\n",
       "      City_Other Metro Cities  City_Thane & Outskirts  City_Tier II Cities  \n",
       "8723                        0                       0                    0  \n",
       "7546                        0                       1                    0  \n",
       "3853                        1                       0                    0  \n",
       "4305                        0                       0                    0  \n",
       "8749                        0                       0                    0  \n",
       "\n",
       "[5 rows x 60 columns]"
      ]
     },
     "execution_count": 714,
     "metadata": {},
     "output_type": "execute_result"
    }
   ],
   "source": [
    "# Checking X_test\n",
    "\n",
    "X_test.head()"
   ]
  },
  {
   "cell_type": "code",
   "execution_count": 715,
   "metadata": {},
   "outputs": [
    {
     "data": {
      "text/html": [
       "<div>\n",
       "<style scoped>\n",
       "    .dataframe tbody tr th:only-of-type {\n",
       "        vertical-align: middle;\n",
       "    }\n",
       "\n",
       "    .dataframe tbody tr th {\n",
       "        vertical-align: top;\n",
       "    }\n",
       "\n",
       "    .dataframe thead th {\n",
       "        text-align: right;\n",
       "    }\n",
       "</style>\n",
       "<table border=\"1\" class=\"dataframe\">\n",
       "  <thead>\n",
       "    <tr style=\"text-align: right;\">\n",
       "      <th></th>\n",
       "      <th>TotalVisits</th>\n",
       "      <th>Total Time Spent on Website</th>\n",
       "      <th>Page Views Per Visit</th>\n",
       "    </tr>\n",
       "  </thead>\n",
       "  <tbody>\n",
       "    <tr>\n",
       "      <th>8723</th>\n",
       "      <td>-0.316512</td>\n",
       "      <td>-0.291045</td>\n",
       "      <td>-0.085701</td>\n",
       "    </tr>\n",
       "    <tr>\n",
       "      <th>7546</th>\n",
       "      <td>2.519416</td>\n",
       "      <td>1.202483</td>\n",
       "      <td>3.516164</td>\n",
       "    </tr>\n",
       "    <tr>\n",
       "      <th>3853</th>\n",
       "      <td>-0.316512</td>\n",
       "      <td>-0.034874</td>\n",
       "      <td>-0.085701</td>\n",
       "    </tr>\n",
       "    <tr>\n",
       "      <th>4305</th>\n",
       "      <td>1.304018</td>\n",
       "      <td>0.059378</td>\n",
       "      <td>1.972507</td>\n",
       "    </tr>\n",
       "    <tr>\n",
       "      <th>8749</th>\n",
       "      <td>-0.721645</td>\n",
       "      <td>-0.491632</td>\n",
       "      <td>-0.600253</td>\n",
       "    </tr>\n",
       "    <tr>\n",
       "      <th>...</th>\n",
       "      <td>...</td>\n",
       "      <td>...</td>\n",
       "      <td>...</td>\n",
       "    </tr>\n",
       "    <tr>\n",
       "      <th>4110</th>\n",
       "      <td>-1.126777</td>\n",
       "      <td>-0.842055</td>\n",
       "      <td>-1.114806</td>\n",
       "    </tr>\n",
       "    <tr>\n",
       "      <th>4887</th>\n",
       "      <td>0.088620</td>\n",
       "      <td>0.264799</td>\n",
       "      <td>0.428851</td>\n",
       "    </tr>\n",
       "    <tr>\n",
       "      <th>6773</th>\n",
       "      <td>-1.126777</td>\n",
       "      <td>-0.842055</td>\n",
       "      <td>-1.114806</td>\n",
       "    </tr>\n",
       "    <tr>\n",
       "      <th>4204</th>\n",
       "      <td>1.709151</td>\n",
       "      <td>-0.677719</td>\n",
       "      <td>2.487060</td>\n",
       "    </tr>\n",
       "    <tr>\n",
       "      <th>5658</th>\n",
       "      <td>-1.126777</td>\n",
       "      <td>-0.842055</td>\n",
       "      <td>-1.114806</td>\n",
       "    </tr>\n",
       "  </tbody>\n",
       "</table>\n",
       "<p>2356 rows × 3 columns</p>\n",
       "</div>"
      ],
      "text/plain": [
       "      TotalVisits  Total Time Spent on Website  Page Views Per Visit\n",
       "8723    -0.316512                    -0.291045             -0.085701\n",
       "7546     2.519416                     1.202483              3.516164\n",
       "3853    -0.316512                    -0.034874             -0.085701\n",
       "4305     1.304018                     0.059378              1.972507\n",
       "8749    -0.721645                    -0.491632             -0.600253\n",
       "...           ...                          ...                   ...\n",
       "4110    -1.126777                    -0.842055             -1.114806\n",
       "4887     0.088620                     0.264799              0.428851\n",
       "6773    -1.126777                    -0.842055             -1.114806\n",
       "4204     1.709151                    -0.677719              2.487060\n",
       "5658    -1.126777                    -0.842055             -1.114806\n",
       "\n",
       "[2356 rows x 3 columns]"
      ]
     },
     "execution_count": 715,
     "metadata": {},
     "output_type": "execute_result"
    }
   ],
   "source": [
    "# Transform X_test\n",
    "\n",
    "X_test[['TotalVisits','Total Time Spent on Website','Page Views Per Visit']] = scaler.transform(X_test[['TotalVisits','Total Time Spent on Website','Page Views Per Visit']])\n",
    "X_test[['TotalVisits','Total Time Spent on Website','Page Views Per Visit']]"
   ]
  },
  {
   "cell_type": "code",
   "execution_count": 716,
   "metadata": {},
   "outputs": [
    {
     "data": {
      "text/html": [
       "<div>\n",
       "<style scoped>\n",
       "    .dataframe tbody tr th:only-of-type {\n",
       "        vertical-align: middle;\n",
       "    }\n",
       "\n",
       "    .dataframe tbody tr th {\n",
       "        vertical-align: top;\n",
       "    }\n",
       "\n",
       "    .dataframe thead th {\n",
       "        text-align: right;\n",
       "    }\n",
       "</style>\n",
       "<table border=\"1\" class=\"dataframe\">\n",
       "  <thead>\n",
       "    <tr style=\"text-align: right;\">\n",
       "      <th></th>\n",
       "      <th>Do Not Email</th>\n",
       "      <th>Total Time Spent on Website</th>\n",
       "      <th>Lead Origin_Landing Page Submission</th>\n",
       "      <th>Lead Origin_Lead Add Form</th>\n",
       "      <th>Lead Source_Olark Chat</th>\n",
       "      <th>Lead Source_Welingak Website</th>\n",
       "      <th>Last Activity_Email Opened</th>\n",
       "      <th>Last Activity_Olark Chat Conversation</th>\n",
       "      <th>Last Activity_SMS Sent</th>\n",
       "      <th>Specialization_Others</th>\n",
       "      <th>Lead Quality_Low in Relevance</th>\n",
       "      <th>Lead Quality_Might be</th>\n",
       "      <th>Lead Quality_Worst</th>\n",
       "    </tr>\n",
       "  </thead>\n",
       "  <tbody>\n",
       "    <tr>\n",
       "      <th>8723</th>\n",
       "      <td>0</td>\n",
       "      <td>-0.291045</td>\n",
       "      <td>0</td>\n",
       "      <td>0</td>\n",
       "      <td>0</td>\n",
       "      <td>0</td>\n",
       "      <td>1</td>\n",
       "      <td>0</td>\n",
       "      <td>0</td>\n",
       "      <td>1</td>\n",
       "      <td>0</td>\n",
       "      <td>0</td>\n",
       "      <td>0</td>\n",
       "    </tr>\n",
       "    <tr>\n",
       "      <th>7546</th>\n",
       "      <td>0</td>\n",
       "      <td>1.202483</td>\n",
       "      <td>1</td>\n",
       "      <td>0</td>\n",
       "      <td>0</td>\n",
       "      <td>0</td>\n",
       "      <td>0</td>\n",
       "      <td>0</td>\n",
       "      <td>1</td>\n",
       "      <td>0</td>\n",
       "      <td>0</td>\n",
       "      <td>0</td>\n",
       "      <td>0</td>\n",
       "    </tr>\n",
       "    <tr>\n",
       "      <th>3853</th>\n",
       "      <td>0</td>\n",
       "      <td>-0.034874</td>\n",
       "      <td>1</td>\n",
       "      <td>0</td>\n",
       "      <td>0</td>\n",
       "      <td>0</td>\n",
       "      <td>1</td>\n",
       "      <td>0</td>\n",
       "      <td>0</td>\n",
       "      <td>0</td>\n",
       "      <td>0</td>\n",
       "      <td>0</td>\n",
       "      <td>0</td>\n",
       "    </tr>\n",
       "    <tr>\n",
       "      <th>4305</th>\n",
       "      <td>0</td>\n",
       "      <td>0.059378</td>\n",
       "      <td>1</td>\n",
       "      <td>0</td>\n",
       "      <td>0</td>\n",
       "      <td>0</td>\n",
       "      <td>0</td>\n",
       "      <td>0</td>\n",
       "      <td>1</td>\n",
       "      <td>0</td>\n",
       "      <td>0</td>\n",
       "      <td>0</td>\n",
       "      <td>0</td>\n",
       "    </tr>\n",
       "    <tr>\n",
       "      <th>8749</th>\n",
       "      <td>0</td>\n",
       "      <td>-0.491632</td>\n",
       "      <td>0</td>\n",
       "      <td>1</td>\n",
       "      <td>0</td>\n",
       "      <td>0</td>\n",
       "      <td>1</td>\n",
       "      <td>0</td>\n",
       "      <td>0</td>\n",
       "      <td>0</td>\n",
       "      <td>0</td>\n",
       "      <td>0</td>\n",
       "      <td>0</td>\n",
       "    </tr>\n",
       "  </tbody>\n",
       "</table>\n",
       "</div>"
      ],
      "text/plain": [
       "      Do Not Email  Total Time Spent on Website  \\\n",
       "8723             0                    -0.291045   \n",
       "7546             0                     1.202483   \n",
       "3853             0                    -0.034874   \n",
       "4305             0                     0.059378   \n",
       "8749             0                    -0.491632   \n",
       "\n",
       "      Lead Origin_Landing Page Submission  Lead Origin_Lead Add Form  \\\n",
       "8723                                    0                          0   \n",
       "7546                                    1                          0   \n",
       "3853                                    1                          0   \n",
       "4305                                    1                          0   \n",
       "8749                                    0                          1   \n",
       "\n",
       "      Lead Source_Olark Chat  Lead Source_Welingak Website  \\\n",
       "8723                       0                             0   \n",
       "7546                       0                             0   \n",
       "3853                       0                             0   \n",
       "4305                       0                             0   \n",
       "8749                       0                             0   \n",
       "\n",
       "      Last Activity_Email Opened  Last Activity_Olark Chat Conversation  \\\n",
       "8723                           1                                      0   \n",
       "7546                           0                                      0   \n",
       "3853                           1                                      0   \n",
       "4305                           0                                      0   \n",
       "8749                           1                                      0   \n",
       "\n",
       "      Last Activity_SMS Sent  Specialization_Others  \\\n",
       "8723                       0                      1   \n",
       "7546                       1                      0   \n",
       "3853                       0                      0   \n",
       "4305                       1                      0   \n",
       "8749                       0                      0   \n",
       "\n",
       "      Lead Quality_Low in Relevance  Lead Quality_Might be  Lead Quality_Worst  \n",
       "8723                              0                      0                   0  \n",
       "7546                              0                      0                   0  \n",
       "3853                              0                      0                   0  \n",
       "4305                              0                      0                   0  \n",
       "8749                              0                      0                   0  "
      ]
     },
     "execution_count": 716,
     "metadata": {},
     "output_type": "execute_result"
    }
   ],
   "source": [
    "# Selecting only the features from our Model\n",
    "\n",
    "cols = X_train7.columns.tolist()\n",
    "X_test = X_test[cols]\n",
    "X_test.head()"
   ]
  },
  {
   "cell_type": "code",
   "execution_count": 717,
   "metadata": {},
   "outputs": [
    {
     "data": {
      "text/html": [
       "<div>\n",
       "<style scoped>\n",
       "    .dataframe tbody tr th:only-of-type {\n",
       "        vertical-align: middle;\n",
       "    }\n",
       "\n",
       "    .dataframe tbody tr th {\n",
       "        vertical-align: top;\n",
       "    }\n",
       "\n",
       "    .dataframe thead th {\n",
       "        text-align: right;\n",
       "    }\n",
       "</style>\n",
       "<table border=\"1\" class=\"dataframe\">\n",
       "  <thead>\n",
       "    <tr style=\"text-align: right;\">\n",
       "      <th></th>\n",
       "      <th>const</th>\n",
       "      <th>Do Not Email</th>\n",
       "      <th>Total Time Spent on Website</th>\n",
       "      <th>Lead Origin_Landing Page Submission</th>\n",
       "      <th>Lead Origin_Lead Add Form</th>\n",
       "      <th>Lead Source_Olark Chat</th>\n",
       "      <th>Lead Source_Welingak Website</th>\n",
       "      <th>Last Activity_Email Opened</th>\n",
       "      <th>Last Activity_Olark Chat Conversation</th>\n",
       "      <th>Last Activity_SMS Sent</th>\n",
       "      <th>Specialization_Others</th>\n",
       "      <th>Lead Quality_Low in Relevance</th>\n",
       "      <th>Lead Quality_Might be</th>\n",
       "      <th>Lead Quality_Worst</th>\n",
       "    </tr>\n",
       "  </thead>\n",
       "  <tbody>\n",
       "    <tr>\n",
       "      <th>8723</th>\n",
       "      <td>1.0</td>\n",
       "      <td>0</td>\n",
       "      <td>-0.291045</td>\n",
       "      <td>0</td>\n",
       "      <td>0</td>\n",
       "      <td>0</td>\n",
       "      <td>0</td>\n",
       "      <td>1</td>\n",
       "      <td>0</td>\n",
       "      <td>0</td>\n",
       "      <td>1</td>\n",
       "      <td>0</td>\n",
       "      <td>0</td>\n",
       "      <td>0</td>\n",
       "    </tr>\n",
       "    <tr>\n",
       "      <th>7546</th>\n",
       "      <td>1.0</td>\n",
       "      <td>0</td>\n",
       "      <td>1.202483</td>\n",
       "      <td>1</td>\n",
       "      <td>0</td>\n",
       "      <td>0</td>\n",
       "      <td>0</td>\n",
       "      <td>0</td>\n",
       "      <td>0</td>\n",
       "      <td>1</td>\n",
       "      <td>0</td>\n",
       "      <td>0</td>\n",
       "      <td>0</td>\n",
       "      <td>0</td>\n",
       "    </tr>\n",
       "    <tr>\n",
       "      <th>3853</th>\n",
       "      <td>1.0</td>\n",
       "      <td>0</td>\n",
       "      <td>-0.034874</td>\n",
       "      <td>1</td>\n",
       "      <td>0</td>\n",
       "      <td>0</td>\n",
       "      <td>0</td>\n",
       "      <td>1</td>\n",
       "      <td>0</td>\n",
       "      <td>0</td>\n",
       "      <td>0</td>\n",
       "      <td>0</td>\n",
       "      <td>0</td>\n",
       "      <td>0</td>\n",
       "    </tr>\n",
       "    <tr>\n",
       "      <th>4305</th>\n",
       "      <td>1.0</td>\n",
       "      <td>0</td>\n",
       "      <td>0.059378</td>\n",
       "      <td>1</td>\n",
       "      <td>0</td>\n",
       "      <td>0</td>\n",
       "      <td>0</td>\n",
       "      <td>0</td>\n",
       "      <td>0</td>\n",
       "      <td>1</td>\n",
       "      <td>0</td>\n",
       "      <td>0</td>\n",
       "      <td>0</td>\n",
       "      <td>0</td>\n",
       "    </tr>\n",
       "    <tr>\n",
       "      <th>8749</th>\n",
       "      <td>1.0</td>\n",
       "      <td>0</td>\n",
       "      <td>-0.491632</td>\n",
       "      <td>0</td>\n",
       "      <td>1</td>\n",
       "      <td>0</td>\n",
       "      <td>0</td>\n",
       "      <td>1</td>\n",
       "      <td>0</td>\n",
       "      <td>0</td>\n",
       "      <td>0</td>\n",
       "      <td>0</td>\n",
       "      <td>0</td>\n",
       "      <td>0</td>\n",
       "    </tr>\n",
       "  </tbody>\n",
       "</table>\n",
       "</div>"
      ],
      "text/plain": [
       "      const  Do Not Email  Total Time Spent on Website  \\\n",
       "8723    1.0             0                    -0.291045   \n",
       "7546    1.0             0                     1.202483   \n",
       "3853    1.0             0                    -0.034874   \n",
       "4305    1.0             0                     0.059378   \n",
       "8749    1.0             0                    -0.491632   \n",
       "\n",
       "      Lead Origin_Landing Page Submission  Lead Origin_Lead Add Form  \\\n",
       "8723                                    0                          0   \n",
       "7546                                    1                          0   \n",
       "3853                                    1                          0   \n",
       "4305                                    1                          0   \n",
       "8749                                    0                          1   \n",
       "\n",
       "      Lead Source_Olark Chat  Lead Source_Welingak Website  \\\n",
       "8723                       0                             0   \n",
       "7546                       0                             0   \n",
       "3853                       0                             0   \n",
       "4305                       0                             0   \n",
       "8749                       0                             0   \n",
       "\n",
       "      Last Activity_Email Opened  Last Activity_Olark Chat Conversation  \\\n",
       "8723                           1                                      0   \n",
       "7546                           0                                      0   \n",
       "3853                           1                                      0   \n",
       "4305                           0                                      0   \n",
       "8749                           1                                      0   \n",
       "\n",
       "      Last Activity_SMS Sent  Specialization_Others  \\\n",
       "8723                       0                      1   \n",
       "7546                       1                      0   \n",
       "3853                       0                      0   \n",
       "4305                       1                      0   \n",
       "8749                       0                      0   \n",
       "\n",
       "      Lead Quality_Low in Relevance  Lead Quality_Might be  Lead Quality_Worst  \n",
       "8723                              0                      0                   0  \n",
       "7546                              0                      0                   0  \n",
       "3853                              0                      0                   0  \n",
       "4305                              0                      0                   0  \n",
       "8749                              0                      0                   0  "
      ]
     },
     "execution_count": 717,
     "metadata": {},
     "output_type": "execute_result"
    }
   ],
   "source": [
    "# Adding a constant to X_test to get X_test_sm\n",
    "\n",
    "X_test_sm = sm.add_constant(X_test)\n",
    "X_test_sm.head()"
   ]
  },
  {
   "cell_type": "code",
   "execution_count": 718,
   "metadata": {},
   "outputs": [
    {
     "data": {
      "text/plain": [
       "8723    0.103973\n",
       "7546    0.628310\n",
       "3853    0.127844\n",
       "4305    0.335637\n",
       "8749    0.897145\n",
       "1060    0.455838\n",
       "90      0.062352\n",
       "8389    0.044331\n",
       "8902    0.985576\n",
       "6322    0.130848\n",
       "dtype: float64"
      ]
     },
     "execution_count": 718,
     "metadata": {},
     "output_type": "execute_result"
    }
   ],
   "source": [
    "# Making predictions on the test set\n",
    "\n",
    "y_test_pred = res.predict(X_test_sm)\n",
    "y_test_pred[:10]"
   ]
  },
  {
   "cell_type": "code",
   "execution_count": 719,
   "metadata": {},
   "outputs": [
    {
     "data": {
      "text/html": [
       "<div>\n",
       "<style scoped>\n",
       "    .dataframe tbody tr th:only-of-type {\n",
       "        vertical-align: middle;\n",
       "    }\n",
       "\n",
       "    .dataframe tbody tr th {\n",
       "        vertical-align: top;\n",
       "    }\n",
       "\n",
       "    .dataframe thead th {\n",
       "        text-align: right;\n",
       "    }\n",
       "</style>\n",
       "<table border=\"1\" class=\"dataframe\">\n",
       "  <thead>\n",
       "    <tr style=\"text-align: right;\">\n",
       "      <th></th>\n",
       "      <th>0</th>\n",
       "    </tr>\n",
       "  </thead>\n",
       "  <tbody>\n",
       "    <tr>\n",
       "      <th>8723</th>\n",
       "      <td>0.103973</td>\n",
       "    </tr>\n",
       "    <tr>\n",
       "      <th>7546</th>\n",
       "      <td>0.628310</td>\n",
       "    </tr>\n",
       "    <tr>\n",
       "      <th>3853</th>\n",
       "      <td>0.127844</td>\n",
       "    </tr>\n",
       "    <tr>\n",
       "      <th>4305</th>\n",
       "      <td>0.335637</td>\n",
       "    </tr>\n",
       "    <tr>\n",
       "      <th>8749</th>\n",
       "      <td>0.897145</td>\n",
       "    </tr>\n",
       "  </tbody>\n",
       "</table>\n",
       "</div>"
      ],
      "text/plain": [
       "             0\n",
       "8723  0.103973\n",
       "7546  0.628310\n",
       "3853  0.127844\n",
       "4305  0.335637\n",
       "8749  0.897145"
      ]
     },
     "execution_count": 719,
     "metadata": {},
     "output_type": "execute_result"
    }
   ],
   "source": [
    "# y_test_pred is an array. Converting it to a dataframe.\n",
    "\n",
    "y_test_pred_df = pd.DataFrame(y_test_pred)\n",
    "y_test_pred_df.head()"
   ]
  },
  {
   "cell_type": "code",
   "execution_count": 720,
   "metadata": {},
   "outputs": [
    {
     "data": {
      "text/plain": [
       "8723    0\n",
       "7546    1\n",
       "3853    0\n",
       "4305    1\n",
       "8749    1\n",
       "Name: Converted, dtype: int64"
      ]
     },
     "execution_count": 720,
     "metadata": {},
     "output_type": "execute_result"
    }
   ],
   "source": [
    "# Checking y_test\n",
    "\n",
    "y_test.head()"
   ]
  },
  {
   "cell_type": "code",
   "execution_count": 721,
   "metadata": {},
   "outputs": [
    {
     "data": {
      "text/html": [
       "<div>\n",
       "<style scoped>\n",
       "    .dataframe tbody tr th:only-of-type {\n",
       "        vertical-align: middle;\n",
       "    }\n",
       "\n",
       "    .dataframe tbody tr th {\n",
       "        vertical-align: top;\n",
       "    }\n",
       "\n",
       "    .dataframe thead th {\n",
       "        text-align: right;\n",
       "    }\n",
       "</style>\n",
       "<table border=\"1\" class=\"dataframe\">\n",
       "  <thead>\n",
       "    <tr style=\"text-align: right;\">\n",
       "      <th></th>\n",
       "      <th>Converted</th>\n",
       "    </tr>\n",
       "  </thead>\n",
       "  <tbody>\n",
       "    <tr>\n",
       "      <th>8723</th>\n",
       "      <td>0</td>\n",
       "    </tr>\n",
       "    <tr>\n",
       "      <th>7546</th>\n",
       "      <td>1</td>\n",
       "    </tr>\n",
       "    <tr>\n",
       "      <th>3853</th>\n",
       "      <td>0</td>\n",
       "    </tr>\n",
       "    <tr>\n",
       "      <th>4305</th>\n",
       "      <td>1</td>\n",
       "    </tr>\n",
       "    <tr>\n",
       "      <th>8749</th>\n",
       "      <td>1</td>\n",
       "    </tr>\n",
       "  </tbody>\n",
       "</table>\n",
       "</div>"
      ],
      "text/plain": [
       "      Converted\n",
       "8723          0\n",
       "7546          1\n",
       "3853          0\n",
       "4305          1\n",
       "8749          1"
      ]
     },
     "execution_count": 721,
     "metadata": {},
     "output_type": "execute_result"
    }
   ],
   "source": [
    "# Converting y_test to dataframe\n",
    "\n",
    "y_test_df = pd.DataFrame(y_test)\n",
    "y_test_df.head()"
   ]
  },
  {
   "cell_type": "code",
   "execution_count": 722,
   "metadata": {},
   "outputs": [
    {
     "data": {
      "text/html": [
       "<div>\n",
       "<style scoped>\n",
       "    .dataframe tbody tr th:only-of-type {\n",
       "        vertical-align: middle;\n",
       "    }\n",
       "\n",
       "    .dataframe tbody tr th {\n",
       "        vertical-align: top;\n",
       "    }\n",
       "\n",
       "    .dataframe thead th {\n",
       "        text-align: right;\n",
       "    }\n",
       "</style>\n",
       "<table border=\"1\" class=\"dataframe\">\n",
       "  <thead>\n",
       "    <tr style=\"text-align: right;\">\n",
       "      <th></th>\n",
       "      <th>Converted</th>\n",
       "      <th>Prospect ID</th>\n",
       "    </tr>\n",
       "  </thead>\n",
       "  <tbody>\n",
       "    <tr>\n",
       "      <th>8723</th>\n",
       "      <td>0</td>\n",
       "      <td>8723</td>\n",
       "    </tr>\n",
       "    <tr>\n",
       "      <th>7546</th>\n",
       "      <td>1</td>\n",
       "      <td>7546</td>\n",
       "    </tr>\n",
       "    <tr>\n",
       "      <th>3853</th>\n",
       "      <td>0</td>\n",
       "      <td>3853</td>\n",
       "    </tr>\n",
       "    <tr>\n",
       "      <th>4305</th>\n",
       "      <td>1</td>\n",
       "      <td>4305</td>\n",
       "    </tr>\n",
       "    <tr>\n",
       "      <th>8749</th>\n",
       "      <td>1</td>\n",
       "      <td>8749</td>\n",
       "    </tr>\n",
       "  </tbody>\n",
       "</table>\n",
       "</div>"
      ],
      "text/plain": [
       "      Converted  Prospect ID\n",
       "8723          0         8723\n",
       "7546          1         7546\n",
       "3853          0         3853\n",
       "4305          1         4305\n",
       "8749          1         8749"
      ]
     },
     "execution_count": 722,
     "metadata": {},
     "output_type": "execute_result"
    }
   ],
   "source": [
    "# Adding Prospect ID to index\n",
    "\n",
    "y_test_df['Prospect ID'] = y_test_df.index\n",
    "y_test_df.head()"
   ]
  },
  {
   "cell_type": "code",
   "execution_count": 723,
   "metadata": {},
   "outputs": [],
   "source": [
    "# Removing index for both dataframes to append them side by side \n",
    "\n",
    "y_test_pred_df.reset_index(drop=True, inplace=True)\n",
    "y_test_df.reset_index(drop=True, inplace=True)"
   ]
  },
  {
   "cell_type": "code",
   "execution_count": 724,
   "metadata": {},
   "outputs": [],
   "source": [
    "# Appending y_test_df and y_test_pred_df\n",
    "\n",
    "y_pred_final = pd.concat([y_test_df, y_test_pred_df], axis=1)\n",
    "                         "
   ]
  },
  {
   "cell_type": "code",
   "execution_count": 725,
   "metadata": {},
   "outputs": [
    {
     "data": {
      "text/html": [
       "<div>\n",
       "<style scoped>\n",
       "    .dataframe tbody tr th:only-of-type {\n",
       "        vertical-align: middle;\n",
       "    }\n",
       "\n",
       "    .dataframe tbody tr th {\n",
       "        vertical-align: top;\n",
       "    }\n",
       "\n",
       "    .dataframe thead th {\n",
       "        text-align: right;\n",
       "    }\n",
       "</style>\n",
       "<table border=\"1\" class=\"dataframe\">\n",
       "  <thead>\n",
       "    <tr style=\"text-align: right;\">\n",
       "      <th></th>\n",
       "      <th>Converted</th>\n",
       "      <th>Prospect ID</th>\n",
       "      <th>0</th>\n",
       "    </tr>\n",
       "  </thead>\n",
       "  <tbody>\n",
       "    <tr>\n",
       "      <th>0</th>\n",
       "      <td>0</td>\n",
       "      <td>8723</td>\n",
       "      <td>0.103973</td>\n",
       "    </tr>\n",
       "    <tr>\n",
       "      <th>1</th>\n",
       "      <td>1</td>\n",
       "      <td>7546</td>\n",
       "      <td>0.628310</td>\n",
       "    </tr>\n",
       "    <tr>\n",
       "      <th>2</th>\n",
       "      <td>0</td>\n",
       "      <td>3853</td>\n",
       "      <td>0.127844</td>\n",
       "    </tr>\n",
       "    <tr>\n",
       "      <th>3</th>\n",
       "      <td>1</td>\n",
       "      <td>4305</td>\n",
       "      <td>0.335637</td>\n",
       "    </tr>\n",
       "    <tr>\n",
       "      <th>4</th>\n",
       "      <td>1</td>\n",
       "      <td>8749</td>\n",
       "      <td>0.897145</td>\n",
       "    </tr>\n",
       "  </tbody>\n",
       "</table>\n",
       "</div>"
      ],
      "text/plain": [
       "   Converted  Prospect ID         0\n",
       "0          0         8723  0.103973\n",
       "1          1         7546  0.628310\n",
       "2          0         3853  0.127844\n",
       "3          1         4305  0.335637\n",
       "4          1         8749  0.897145"
      ]
     },
     "execution_count": 725,
     "metadata": {},
     "output_type": "execute_result"
    }
   ],
   "source": [
    "# Check\n",
    "\n",
    "y_pred_final.head()"
   ]
  },
  {
   "cell_type": "code",
   "execution_count": 726,
   "metadata": {},
   "outputs": [
    {
     "data": {
      "text/html": [
       "<div>\n",
       "<style scoped>\n",
       "    .dataframe tbody tr th:only-of-type {\n",
       "        vertical-align: middle;\n",
       "    }\n",
       "\n",
       "    .dataframe tbody tr th {\n",
       "        vertical-align: top;\n",
       "    }\n",
       "\n",
       "    .dataframe thead th {\n",
       "        text-align: right;\n",
       "    }\n",
       "</style>\n",
       "<table border=\"1\" class=\"dataframe\">\n",
       "  <thead>\n",
       "    <tr style=\"text-align: right;\">\n",
       "      <th></th>\n",
       "      <th>Converted</th>\n",
       "      <th>Prospect ID</th>\n",
       "      <th>Converted Prob</th>\n",
       "    </tr>\n",
       "  </thead>\n",
       "  <tbody>\n",
       "    <tr>\n",
       "      <th>0</th>\n",
       "      <td>0</td>\n",
       "      <td>8723</td>\n",
       "      <td>0.103973</td>\n",
       "    </tr>\n",
       "    <tr>\n",
       "      <th>1</th>\n",
       "      <td>1</td>\n",
       "      <td>7546</td>\n",
       "      <td>0.628310</td>\n",
       "    </tr>\n",
       "    <tr>\n",
       "      <th>2</th>\n",
       "      <td>0</td>\n",
       "      <td>3853</td>\n",
       "      <td>0.127844</td>\n",
       "    </tr>\n",
       "    <tr>\n",
       "      <th>3</th>\n",
       "      <td>1</td>\n",
       "      <td>4305</td>\n",
       "      <td>0.335637</td>\n",
       "    </tr>\n",
       "    <tr>\n",
       "      <th>4</th>\n",
       "      <td>1</td>\n",
       "      <td>8749</td>\n",
       "      <td>0.897145</td>\n",
       "    </tr>\n",
       "  </tbody>\n",
       "</table>\n",
       "</div>"
      ],
      "text/plain": [
       "   Converted  Prospect ID  Converted Prob\n",
       "0          0         8723        0.103973\n",
       "1          1         7546        0.628310\n",
       "2          0         3853        0.127844\n",
       "3          1         4305        0.335637\n",
       "4          1         8749        0.897145"
      ]
     },
     "execution_count": 726,
     "metadata": {},
     "output_type": "execute_result"
    }
   ],
   "source": [
    "# Renaming the column \n",
    "\n",
    "y_pred_final= y_pred_final.rename(columns={ 0 : 'Converted Prob'})\n",
    "y_pred_final.head()"
   ]
  },
  {
   "cell_type": "code",
   "execution_count": null,
   "metadata": {},
   "outputs": [],
   "source": []
  },
  {
   "cell_type": "code",
   "execution_count": 727,
   "metadata": {},
   "outputs": [
    {
     "data": {
      "text/html": [
       "<div>\n",
       "<style scoped>\n",
       "    .dataframe tbody tr th:only-of-type {\n",
       "        vertical-align: middle;\n",
       "    }\n",
       "\n",
       "    .dataframe tbody tr th {\n",
       "        vertical-align: top;\n",
       "    }\n",
       "\n",
       "    .dataframe thead th {\n",
       "        text-align: right;\n",
       "    }\n",
       "</style>\n",
       "<table border=\"1\" class=\"dataframe\">\n",
       "  <thead>\n",
       "    <tr style=\"text-align: right;\">\n",
       "      <th></th>\n",
       "      <th>Converted</th>\n",
       "      <th>Prospect ID</th>\n",
       "      <th>Converted Prob</th>\n",
       "      <th>Final Predicted</th>\n",
       "    </tr>\n",
       "  </thead>\n",
       "  <tbody>\n",
       "    <tr>\n",
       "      <th>0</th>\n",
       "      <td>0</td>\n",
       "      <td>8723</td>\n",
       "      <td>0.103973</td>\n",
       "      <td>0</td>\n",
       "    </tr>\n",
       "    <tr>\n",
       "      <th>1</th>\n",
       "      <td>1</td>\n",
       "      <td>7546</td>\n",
       "      <td>0.628310</td>\n",
       "      <td>1</td>\n",
       "    </tr>\n",
       "    <tr>\n",
       "      <th>2</th>\n",
       "      <td>0</td>\n",
       "      <td>3853</td>\n",
       "      <td>0.127844</td>\n",
       "      <td>0</td>\n",
       "    </tr>\n",
       "    <tr>\n",
       "      <th>3</th>\n",
       "      <td>1</td>\n",
       "      <td>4305</td>\n",
       "      <td>0.335637</td>\n",
       "      <td>1</td>\n",
       "    </tr>\n",
       "    <tr>\n",
       "      <th>4</th>\n",
       "      <td>1</td>\n",
       "      <td>8749</td>\n",
       "      <td>0.897145</td>\n",
       "      <td>1</td>\n",
       "    </tr>\n",
       "  </tbody>\n",
       "</table>\n",
       "</div>"
      ],
      "text/plain": [
       "   Converted  Prospect ID  Converted Prob  Final Predicted\n",
       "0          0         8723        0.103973                0\n",
       "1          1         7546        0.628310                1\n",
       "2          0         3853        0.127844                0\n",
       "3          1         4305        0.335637                1\n",
       "4          1         8749        0.897145                1"
      ]
     },
     "execution_count": 727,
     "metadata": {},
     "output_type": "execute_result"
    }
   ],
   "source": [
    "# Making final prediciton\n",
    "\n",
    "y_pred_final['Final Predicted'] = y_pred_final['Converted Prob'].map(lambda x: 1 if x > 0.3 else 0)\n",
    "y_pred_final.head()"
   ]
  },
  {
   "cell_type": "code",
   "execution_count": null,
   "metadata": {},
   "outputs": [],
   "source": []
  },
  {
   "cell_type": "markdown",
   "metadata": {},
   "source": [
    "## 17. Evaluation"
   ]
  },
  {
   "cell_type": "markdown",
   "metadata": {},
   "source": [
    "### 17.1 Accuracy"
   ]
  },
  {
   "cell_type": "code",
   "execution_count": 735,
   "metadata": {},
   "outputs": [
    {
     "data": {
      "text/plain": [
       "0.8208828522920204"
      ]
     },
     "execution_count": 735,
     "metadata": {},
     "output_type": "execute_result"
    }
   ],
   "source": [
    "# Calculation\n",
    "\n",
    "metrics.accuracy_score(y_pred_final.Converted, y_pred_final['Final Predicted'])"
   ]
  },
  {
   "cell_type": "code",
   "execution_count": 729,
   "metadata": {},
   "outputs": [
    {
     "data": {
      "text/plain": [
       "array([[1266,  291],\n",
       "       [ 131,  668]], dtype=int64)"
      ]
     },
     "execution_count": 729,
     "metadata": {},
     "output_type": "execute_result"
    }
   ],
   "source": [
    "# Confusion Matrix\n",
    "\n",
    "confusion_final = metrics.confusion_matrix(y_pred_final.Converted, y_pred_final['Final Predicted'])\n",
    "confusion_final"
   ]
  },
  {
   "cell_type": "code",
   "execution_count": 730,
   "metadata": {},
   "outputs": [],
   "source": [
    "TP = confusion_final[1,1] # true positive \n",
    "TN = confusion_final[0,0] # true negatives\n",
    "FP = confusion_final[0,1] # false positives\n",
    "FN = confusion_final[1,0] # false negatives"
   ]
  },
  {
   "cell_type": "markdown",
   "metadata": {},
   "source": [
    "### 17.2 Sensitivity"
   ]
  },
  {
   "cell_type": "code",
   "execution_count": 731,
   "metadata": {},
   "outputs": [
    {
     "data": {
      "text/plain": [
       "83.60450563204004"
      ]
     },
     "execution_count": 731,
     "metadata": {},
     "output_type": "execute_result"
    }
   ],
   "source": [
    "# Calculation\n",
    "\n",
    "(TP/(TP+FN))*100"
   ]
  },
  {
   "cell_type": "markdown",
   "metadata": {},
   "source": [
    "### 17.3 Specificity"
   ]
  },
  {
   "cell_type": "code",
   "execution_count": 732,
   "metadata": {},
   "outputs": [
    {
     "data": {
      "text/plain": [
       "81.31021194605009"
      ]
     },
     "execution_count": 732,
     "metadata": {},
     "output_type": "execute_result"
    }
   ],
   "source": [
    "# Calculation\n",
    "\n",
    "(TN/(TN+FP))*100"
   ]
  },
  {
   "cell_type": "markdown",
   "metadata": {},
   "source": [
    "### 17.4 Precision"
   ]
  },
  {
   "cell_type": "code",
   "execution_count": 737,
   "metadata": {},
   "outputs": [
    {
     "data": {
      "text/plain": [
       "0.6965589155370178"
      ]
     },
     "execution_count": 737,
     "metadata": {},
     "output_type": "execute_result"
    }
   ],
   "source": [
    "# Calculation\n",
    "\n",
    "precision_score(y_pred_final.Converted , y_pred_final['Final Predicted'])"
   ]
  },
  {
   "cell_type": "markdown",
   "metadata": {},
   "source": [
    "### 17.5 Recall"
   ]
  },
  {
   "cell_type": "code",
   "execution_count": 738,
   "metadata": {},
   "outputs": [
    {
     "data": {
      "text/plain": [
       "0.8360450563204005"
      ]
     },
     "execution_count": 738,
     "metadata": {},
     "output_type": "execute_result"
    }
   ],
   "source": [
    "# Calculation\n",
    "\n",
    "recall_score(y_pred_final.Converted , y_pred_final['Final Predicted'])"
   ]
  },
  {
   "cell_type": "markdown",
   "metadata": {},
   "source": [
    "## 18. Assigning Lead Score"
   ]
  },
  {
   "cell_type": "code",
   "execution_count": 733,
   "metadata": {},
   "outputs": [
    {
     "data": {
      "text/html": [
       "<div>\n",
       "<style scoped>\n",
       "    .dataframe tbody tr th:only-of-type {\n",
       "        vertical-align: middle;\n",
       "    }\n",
       "\n",
       "    .dataframe tbody tr th {\n",
       "        vertical-align: top;\n",
       "    }\n",
       "\n",
       "    .dataframe thead th {\n",
       "        text-align: right;\n",
       "    }\n",
       "</style>\n",
       "<table border=\"1\" class=\"dataframe\">\n",
       "  <thead>\n",
       "    <tr style=\"text-align: right;\">\n",
       "      <th></th>\n",
       "      <th>Converted</th>\n",
       "      <th>Converted Prob</th>\n",
       "      <th>Prospect ID</th>\n",
       "      <th>Predicted</th>\n",
       "      <th>0.0</th>\n",
       "      <th>0.1</th>\n",
       "      <th>0.2</th>\n",
       "      <th>0.3</th>\n",
       "      <th>0.4</th>\n",
       "      <th>0.5</th>\n",
       "      <th>0.6</th>\n",
       "      <th>0.7</th>\n",
       "      <th>0.8</th>\n",
       "      <th>0.9</th>\n",
       "      <th>Final Predicted</th>\n",
       "      <th>Lead_Score</th>\n",
       "    </tr>\n",
       "  </thead>\n",
       "  <tbody>\n",
       "    <tr>\n",
       "      <th>0</th>\n",
       "      <td>0</td>\n",
       "      <td>0.137539</td>\n",
       "      <td>1681</td>\n",
       "      <td>0</td>\n",
       "      <td>1</td>\n",
       "      <td>1</td>\n",
       "      <td>0</td>\n",
       "      <td>0</td>\n",
       "      <td>0</td>\n",
       "      <td>0</td>\n",
       "      <td>0</td>\n",
       "      <td>0</td>\n",
       "      <td>0</td>\n",
       "      <td>0</td>\n",
       "      <td>0</td>\n",
       "      <td>14</td>\n",
       "    </tr>\n",
       "    <tr>\n",
       "      <th>1</th>\n",
       "      <td>1</td>\n",
       "      <td>0.815598</td>\n",
       "      <td>7851</td>\n",
       "      <td>1</td>\n",
       "      <td>1</td>\n",
       "      <td>1</td>\n",
       "      <td>1</td>\n",
       "      <td>1</td>\n",
       "      <td>1</td>\n",
       "      <td>1</td>\n",
       "      <td>1</td>\n",
       "      <td>1</td>\n",
       "      <td>1</td>\n",
       "      <td>0</td>\n",
       "      <td>1</td>\n",
       "      <td>82</td>\n",
       "    </tr>\n",
       "    <tr>\n",
       "      <th>2</th>\n",
       "      <td>0</td>\n",
       "      <td>0.101587</td>\n",
       "      <td>2209</td>\n",
       "      <td>0</td>\n",
       "      <td>1</td>\n",
       "      <td>1</td>\n",
       "      <td>0</td>\n",
       "      <td>0</td>\n",
       "      <td>0</td>\n",
       "      <td>0</td>\n",
       "      <td>0</td>\n",
       "      <td>0</td>\n",
       "      <td>0</td>\n",
       "      <td>0</td>\n",
       "      <td>0</td>\n",
       "      <td>10</td>\n",
       "    </tr>\n",
       "    <tr>\n",
       "      <th>3</th>\n",
       "      <td>1</td>\n",
       "      <td>0.989118</td>\n",
       "      <td>8077</td>\n",
       "      <td>1</td>\n",
       "      <td>1</td>\n",
       "      <td>1</td>\n",
       "      <td>1</td>\n",
       "      <td>1</td>\n",
       "      <td>1</td>\n",
       "      <td>1</td>\n",
       "      <td>1</td>\n",
       "      <td>1</td>\n",
       "      <td>1</td>\n",
       "      <td>1</td>\n",
       "      <td>1</td>\n",
       "      <td>99</td>\n",
       "    </tr>\n",
       "    <tr>\n",
       "      <th>4</th>\n",
       "      <td>0</td>\n",
       "      <td>0.211671</td>\n",
       "      <td>7255</td>\n",
       "      <td>0</td>\n",
       "      <td>1</td>\n",
       "      <td>1</td>\n",
       "      <td>1</td>\n",
       "      <td>0</td>\n",
       "      <td>0</td>\n",
       "      <td>0</td>\n",
       "      <td>0</td>\n",
       "      <td>0</td>\n",
       "      <td>0</td>\n",
       "      <td>0</td>\n",
       "      <td>0</td>\n",
       "      <td>21</td>\n",
       "    </tr>\n",
       "  </tbody>\n",
       "</table>\n",
       "</div>"
      ],
      "text/plain": [
       "   Converted  Converted Prob  Prospect ID  Predicted  0.0  0.1  0.2  0.3  0.4  \\\n",
       "0          0        0.137539         1681          0    1    1    0    0    0   \n",
       "1          1        0.815598         7851          1    1    1    1    1    1   \n",
       "2          0        0.101587         2209          0    1    1    0    0    0   \n",
       "3          1        0.989118         8077          1    1    1    1    1    1   \n",
       "4          0        0.211671         7255          0    1    1    1    0    0   \n",
       "\n",
       "   0.5  0.6  0.7  0.8  0.9  Final Predicted  Lead_Score  \n",
       "0    0    0    0    0    0                0          14  \n",
       "1    1    1    1    1    0                1          82  \n",
       "2    0    0    0    0    0                0          10  \n",
       "3    1    1    1    1    1                1          99  \n",
       "4    0    0    0    0    0                0          21  "
      ]
     },
     "execution_count": 733,
     "metadata": {},
     "output_type": "execute_result"
    }
   ],
   "source": [
    "y_train_pred_final['Lead_Score'] = y_train_pred_final['Converted Prob'].map( lambda x: round(x*100))\n",
    "y_train_pred_final.head()"
   ]
  },
  {
   "cell_type": "code",
   "execution_count": null,
   "metadata": {},
   "outputs": [],
   "source": []
  },
  {
   "cell_type": "markdown",
   "metadata": {},
   "source": [
    "## 19. Conclusion"
   ]
  },
  {
   "cell_type": "markdown",
   "metadata": {},
   "source": [
    "### Important Variables"
   ]
  },
  {
   "cell_type": "code",
   "execution_count": 734,
   "metadata": {},
   "outputs": [
    {
     "data": {
      "text/html": [
       "<table class=\"simpletable\">\n",
       "<caption>Generalized Linear Model Regression Results</caption>\n",
       "<tr>\n",
       "  <th>Dep. Variable:</th>       <td>Converted</td>    <th>  No. Observations:  </th>  <td>  5495</td> \n",
       "</tr>\n",
       "<tr>\n",
       "  <th>Model:</th>                  <td>GLM</td>       <th>  Df Residuals:      </th>  <td>  5481</td> \n",
       "</tr>\n",
       "<tr>\n",
       "  <th>Model Family:</th>        <td>Binomial</td>     <th>  Df Model:          </th>  <td>    13</td> \n",
       "</tr>\n",
       "<tr>\n",
       "  <th>Link Function:</th>         <td>logit</td>      <th>  Scale:             </th> <td>  1.0000</td>\n",
       "</tr>\n",
       "<tr>\n",
       "  <th>Method:</th>                <td>IRLS</td>       <th>  Log-Likelihood:    </th> <td> -2048.3</td>\n",
       "</tr>\n",
       "<tr>\n",
       "  <th>Date:</th>            <td>Wed, 14 Jul 2021</td> <th>  Deviance:          </th> <td>  4096.5</td>\n",
       "</tr>\n",
       "<tr>\n",
       "  <th>Time:</th>                <td>18:13:01</td>     <th>  Pearson chi2:      </th> <td>5.96e+03</td>\n",
       "</tr>\n",
       "<tr>\n",
       "  <th>No. Iterations:</th>          <td>7</td>        <th>                     </th>     <td> </td>   \n",
       "</tr>\n",
       "<tr>\n",
       "  <th>Covariance Type:</th>     <td>nonrobust</td>    <th>                     </th>     <td> </td>   \n",
       "</tr>\n",
       "</table>\n",
       "<table class=\"simpletable\">\n",
       "<tr>\n",
       "                    <td></td>                       <th>coef</th>     <th>std err</th>      <th>z</th>      <th>P>|z|</th>  <th>[0.025</th>    <th>0.975]</th>  \n",
       "</tr>\n",
       "<tr>\n",
       "  <th>const</th>                                 <td>   -1.2955</td> <td>    0.168</td> <td>   -7.692</td> <td> 0.000</td> <td>   -1.626</td> <td>   -0.965</td>\n",
       "</tr>\n",
       "<tr>\n",
       "  <th>Do Not Email</th>                          <td>   -1.2769</td> <td>    0.205</td> <td>   -6.217</td> <td> 0.000</td> <td>   -1.679</td> <td>   -0.874</td>\n",
       "</tr>\n",
       "<tr>\n",
       "  <th>Total Time Spent on Website</th>           <td>    1.0566</td> <td>    0.045</td> <td>   23.429</td> <td> 0.000</td> <td>    0.968</td> <td>    1.145</td>\n",
       "</tr>\n",
       "<tr>\n",
       "  <th>Lead Origin_Landing Page Submission</th>   <td>   -1.1088</td> <td>    0.147</td> <td>   -7.529</td> <td> 0.000</td> <td>   -1.397</td> <td>   -0.820</td>\n",
       "</tr>\n",
       "<tr>\n",
       "  <th>Lead Origin_Lead Add Form</th>             <td>    3.4599</td> <td>    0.256</td> <td>   13.496</td> <td> 0.000</td> <td>    2.957</td> <td>    3.962</td>\n",
       "</tr>\n",
       "<tr>\n",
       "  <th>Lead Source_Olark Chat</th>                <td>    1.4211</td> <td>    0.137</td> <td>   10.363</td> <td> 0.000</td> <td>    1.152</td> <td>    1.690</td>\n",
       "</tr>\n",
       "<tr>\n",
       "  <th>Lead Source_Welingak Website</th>          <td>    2.4621</td> <td>    0.765</td> <td>    3.220</td> <td> 0.001</td> <td>    0.963</td> <td>    3.961</td>\n",
       "</tr>\n",
       "<tr>\n",
       "  <th>Last Activity_Email Opened</th>            <td>    0.5210</td> <td>    0.119</td> <td>    4.381</td> <td> 0.000</td> <td>    0.288</td> <td>    0.754</td>\n",
       "</tr>\n",
       "<tr>\n",
       "  <th>Last Activity_Olark Chat Conversation</th> <td>   -0.9825</td> <td>    0.205</td> <td>   -4.798</td> <td> 0.000</td> <td>   -1.384</td> <td>   -0.581</td>\n",
       "</tr>\n",
       "<tr>\n",
       "  <th>Last Activity_SMS Sent</th>                <td>    1.6588</td> <td>    0.121</td> <td>   13.685</td> <td> 0.000</td> <td>    1.421</td> <td>    1.896</td>\n",
       "</tr>\n",
       "<tr>\n",
       "  <th>Specialization_Others</th>                 <td>   -1.0718</td> <td>    0.141</td> <td>   -7.619</td> <td> 0.000</td> <td>   -1.348</td> <td>   -0.796</td>\n",
       "</tr>\n",
       "<tr>\n",
       "  <th>Lead Quality_Low in Relevance</th>         <td>    2.2295</td> <td>    0.165</td> <td>   13.524</td> <td> 0.000</td> <td>    1.906</td> <td>    2.553</td>\n",
       "</tr>\n",
       "<tr>\n",
       "  <th>Lead Quality_Might be</th>                 <td>    1.5762</td> <td>    0.110</td> <td>   14.376</td> <td> 0.000</td> <td>    1.361</td> <td>    1.791</td>\n",
       "</tr>\n",
       "<tr>\n",
       "  <th>Lead Quality_Worst</th>                    <td>   -2.3558</td> <td>    0.399</td> <td>   -5.903</td> <td> 0.000</td> <td>   -3.138</td> <td>   -1.574</td>\n",
       "</tr>\n",
       "</table>"
      ],
      "text/plain": [
       "<class 'statsmodels.iolib.summary.Summary'>\n",
       "\"\"\"\n",
       "                 Generalized Linear Model Regression Results                  \n",
       "==============================================================================\n",
       "Dep. Variable:              Converted   No. Observations:                 5495\n",
       "Model:                            GLM   Df Residuals:                     5481\n",
       "Model Family:                Binomial   Df Model:                           13\n",
       "Link Function:                  logit   Scale:                          1.0000\n",
       "Method:                          IRLS   Log-Likelihood:                -2048.3\n",
       "Date:                Wed, 14 Jul 2021   Deviance:                       4096.5\n",
       "Time:                        18:13:01   Pearson chi2:                 5.96e+03\n",
       "No. Iterations:                     7                                         \n",
       "Covariance Type:            nonrobust                                         \n",
       "=========================================================================================================\n",
       "                                            coef    std err          z      P>|z|      [0.025      0.975]\n",
       "---------------------------------------------------------------------------------------------------------\n",
       "const                                    -1.2955      0.168     -7.692      0.000      -1.626      -0.965\n",
       "Do Not Email                             -1.2769      0.205     -6.217      0.000      -1.679      -0.874\n",
       "Total Time Spent on Website               1.0566      0.045     23.429      0.000       0.968       1.145\n",
       "Lead Origin_Landing Page Submission      -1.1088      0.147     -7.529      0.000      -1.397      -0.820\n",
       "Lead Origin_Lead Add Form                 3.4599      0.256     13.496      0.000       2.957       3.962\n",
       "Lead Source_Olark Chat                    1.4211      0.137     10.363      0.000       1.152       1.690\n",
       "Lead Source_Welingak Website              2.4621      0.765      3.220      0.001       0.963       3.961\n",
       "Last Activity_Email Opened                0.5210      0.119      4.381      0.000       0.288       0.754\n",
       "Last Activity_Olark Chat Conversation    -0.9825      0.205     -4.798      0.000      -1.384      -0.581\n",
       "Last Activity_SMS Sent                    1.6588      0.121     13.685      0.000       1.421       1.896\n",
       "Specialization_Others                    -1.0718      0.141     -7.619      0.000      -1.348      -0.796\n",
       "Lead Quality_Low in Relevance             2.2295      0.165     13.524      0.000       1.906       2.553\n",
       "Lead Quality_Might be                     1.5762      0.110     14.376      0.000       1.361       1.791\n",
       "Lead Quality_Worst                       -2.3558      0.399     -5.903      0.000      -3.138      -1.574\n",
       "=========================================================================================================\n",
       "\"\"\""
      ]
     },
     "execution_count": 734,
     "metadata": {},
     "output_type": "execute_result"
    }
   ],
   "source": [
    "# Features and their coeffecients\n",
    "\n",
    "res.summary()"
   ]
  },
  {
   "cell_type": "markdown",
   "metadata": {},
   "source": [
    "The variables that matter the most when selecting hot leads are the following:\n",
    "- The lead origin being the Lead Add Form has a positive influence on the Lead Score\n",
    "- The lead source being the Welingak Website has a positive influence on the Lead Score\n",
    "- The lead quality being low in relevance has a positive influence on the Lead Score\n",
    "- The last activity of the lead being sending an sms has a positive influence on the Lead Score\n",
    "<br> <br>\n",
    "- The lead quality being worst has a negative influence on the Lead Score\n",
    "- The lead opting out of Emails has a negative influence on the Lead Score\n",
    "- The lead origin being the Landing Page Submission has a negative influence on the Lead Score "
   ]
  },
  {
   "cell_type": "code",
   "execution_count": null,
   "metadata": {},
   "outputs": [],
   "source": []
  }
 ],
 "metadata": {
  "kernelspec": {
   "display_name": "Python 3",
   "language": "python",
   "name": "python3"
  },
  "language_info": {
   "codemirror_mode": {
    "name": "ipython",
    "version": 3
   },
   "file_extension": ".py",
   "mimetype": "text/x-python",
   "name": "python",
   "nbconvert_exporter": "python",
   "pygments_lexer": "ipython3",
   "version": "3.8.5"
  }
 },
 "nbformat": 4,
 "nbformat_minor": 4
}
